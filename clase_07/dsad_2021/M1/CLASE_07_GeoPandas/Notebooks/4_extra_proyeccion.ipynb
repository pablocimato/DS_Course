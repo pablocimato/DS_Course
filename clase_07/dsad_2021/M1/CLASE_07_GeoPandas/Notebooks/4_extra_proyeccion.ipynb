{
 "cells": [
  {
   "cell_type": "code",
   "execution_count": null,
   "metadata": {
    "slideshow": {
     "slide_type": "skip"
    }
   },
   "outputs": [],
   "source": [
    "import pandas as pd\n",
    "import geopandas as gpd\n",
    "import matplotlib.pyplot as plt\n",
    "import descartes\n",
    "import pyproj"
   ]
  },
  {
   "cell_type": "markdown",
   "metadata": {
    "slideshow": {
     "slide_type": "slide"
    }
   },
   "source": [
    "---\n",
    "\n",
    "<img src='../../../common/logo_DH.png' align='left' width=35%/>"
   ]
  },
  {
   "cell_type": "markdown",
   "metadata": {
    "slideshow": {
     "slide_type": "slide"
    },
    "toc-hr-collapsed": false
   },
   "source": [
    "\n",
    "# GeoPandas\n"
   ]
  },
  {
   "cell_type": "markdown",
   "metadata": {
    "slideshow": {
     "slide_type": "slide"
    }
   },
   "source": [
    "<a id=\"section_toc\"></a> \n",
    "## Tabla de Contenidos\n",
    "\n",
    "[Intro](#section_intro)\n",
    "\n",
    "[CRS](#section_crs)\n",
    "\n",
    "[Análisis de las proyecciones](#section_analisis)\n",
    "\n",
    "[Reproyección](#section_reproyeccion)\n",
    "\n",
    "---\n"
   ]
  },
  {
   "cell_type": "markdown",
   "metadata": {
    "slideshow": {
     "slide_type": "slide"
    },
    "toc-hr-collapsed": false
   },
   "source": [
    "\n",
    "## Proyección\n"
   ]
  },
  {
   "cell_type": "markdown",
   "metadata": {
    "slideshow": {
     "slide_type": "slide"
    }
   },
   "source": [
    "<a id=\"section_intro\"></a> \n",
    "###  Intro\n",
    "[volver a TOC](#section_toc)\n",
    "\n",
    "Como vimos anteriormente, cada figura geométrica en Geopandas representa un objeto que requiere de un *sistema de coordenadas* que lo relacione con un lugar específico de la Tierra. Si bien el sistema más comun es el que usa latitud y longitud para indicar la posición del objeto, existen muchos otros.\n",
    "\n",
    "Las **proyecciones** intentan representar la superficie de la tierra o una porción de la tierra en una hoja plana de papel o en la pantalla de una computadora. Luego, un *sistema de referencia de coordenadas (CRS)* define, con la ayuda de coordenadas, cómo se relaciona ese mapa *bidimensional* proyectado con lugares reales de la tierra. \n",
    "\n",
    "En otras palabras, el **Sistema de Referencia de Coordenadas (Coordinate Reference System en inglés) (CRS)** le indica a Python el lugar geográfico real donde se encuentra los objetos representados por las formas geométricas.\n",
    "\n",
    "Por otra parte, es importante que todos los objetos se expresen con el mismo CRS, para que las operaciones entre ellos se pueda realizar. Como algunas veces no ocurre eso, tenemos que realizar una **reproyección** de algunos objetos, es decir, cambiarlos de sistema de coordenadas, para unificar el CRS de todos los objetos.\n",
    "\n",
    "Se utilizan diferentes proyecciones cartográficas según el tipo de mapa que se desea crear, ya que existen determinadas proyecciones que se adaptan mejor a unos usos concretos que a otros, a unas zonas u otras. Por ejemplo, una proyección que representa con exactitud la forma de los continentes distorsiona, por el contrario, sus tamaños relativos. Hay que recordar que toda proyección es una representación de la realidad."
   ]
  },
  {
   "cell_type": "markdown",
   "metadata": {
    "slideshow": {
     "slide_type": "slide"
    }
   },
   "source": [
    "<a id=\"section_crs\"></a> \n",
    "###  CRS\n",
    "[volver a TOC](#section_toc)\n",
    "\n",
    "Existen numerosos CRS, según las variadas necesidades de geolocalización.\n",
    "\n",
    "Los CRS se identifican por un código llamado **EPSG**. Por ejemplo, el sistema de coordenadas que usa latitud y longitud es el CRS WGS 84, el cual se representa con el EPSG 4326.\n",
    "\n",
    "Para ver la lista actualizada de EPSG ir a https://epsg.org/home.html \n",
    "\n",
    "Ejemplos de CRS:\n",
    "\n",
    "- WGS 84. \n",
    "\n",
    "Usa la latitud y la longitud. La explicación se encuentra en la notebook \"1_datos_geoespaciales\".\n",
    "\n",
    "<div>\n",
    "    <div class = \"mapa\">\n",
    "        <img src='img/M1_Clase_07_1_008_Latitud_Longitud.PNG' alt=\"Latitud y Longitud\" width=50% height=40%>\n",
    "        <p><i>Latitud y Longitud</i></pEsfera terrestre dividida en franjas de 6 grados\n",
    "    </div>\n",
    "</div> \n",
    "      \n",
    "- UTM. Universal Transverse Mercator.\n",
    "    \n",
    "Se representa con un mapa rectangular. Quizá recordemos los mapas que usabamos en la escuela secundaria para representar el planeta.\n",
    "Esta proyección \"aplana\" la esfera terrestre, y la divide en 60 zonas de norte a sur, cada una de 6 grados.\n",
    "Luego, para identificar un lugar, se necesita un número para la ubicación norte-sur, otro para la posición este-oeste (ambos positivos), y la zona a la que pertenece.\n",
    "    \n",
    "Es util para mapear areas pequeñas.\n",
    "\n",
    "<div>\n",
    "    <div class = \"mapa\">\n",
    "        <img src='img/M1_Clase_07_4_001_UTM.PNG' alt=\"Esfera terrestre dividida en franjas de 6 grados\" width=25% height=40%>\n",
    "        <p><i>Esfera terrestre dividida en franjas de 6 grados</i></p>\n",
    "    </div>\n",
    "</div>\n",
    "\n",
    "<div>\n",
    "    <div class = \"mapa\">\n",
    "        <img src='img/M1_Clase_07_4_002_UTM.PNG' alt=\"Mapa rectangular\" width=25% height=40%>\n",
    "        <p><i>Mapa rectangular</i></p>\n",
    "    </div>\n",
    "</div>\n",
    "\n",
    "<div>\n",
    "    <div class = \"mapa\">\n",
    "        <img src='img/M1_Clase_07_4_003_UTM.PNG' alt=\"Coordenadas de Lima, con CRS WGS 84 y UTM\" width=35% height=80%>\n",
    "        <p><i>Coordenadas de Lima, con CRS WGS 84 y UTM</i></p>\n",
    "        <p><i><a href=\"https://www.latlong.net/lat-long-utm.html\" target=\"_blank\">https://www.latlong.net/lat-long-utm.html</a></i></p>        \n",
    "    </div>\n",
    "</div>"
   ]
  },
  {
   "cell_type": "markdown",
   "metadata": {},
   "source": [
    "<a id=\"section_analisis\"></a> \n",
    "###  Análisis de las proyecciones\n",
    "[volver a TOC](#section_toc)\n",
    "\n",
    "Cuando usamos Geopandas, su estructuras de datos GeoSeries y GeoDataFrame deben contener al menos una columna que indique, mediante una forma geométrica, su posición geoespacial.\n",
    "\n",
    "Pero en muchos archivos disponibles, los datos geoespaciales de los objetos se expresan con dos campos numéricos. Uno para la latitud y otro para la longitud."
   ]
  },
  {
   "cell_type": "code",
   "execution_count": null,
   "metadata": {},
   "outputs": [],
   "source": [
    "df_comisarias = pd.read_csv(\"../Data/comisarias.csv\")\n",
    "df_comisarias.head()"
   ]
  },
  {
   "cell_type": "markdown",
   "metadata": {},
   "source": [
    "Primero debemos transformar los datos numéricos en una nueva columna que identifique a una forma geométrica. Recordemos que la columna se llama por default *geometry*.\n",
    "\n",
    "En este caso, se transforma la localización de las comisarias en un *punto*."
   ]
  },
  {
   "cell_type": "code",
   "execution_count": null,
   "metadata": {},
   "outputs": [],
   "source": [
    "geo_comisarias = gpd.GeoDataFrame(df_comisarias\n",
    "                , geometry=gpd.points_from_xy(df_comisarias.X, df_comisarias.Y))\n",
    "geo_comisarias.head()"
   ]
  },
  {
   "cell_type": "markdown",
   "metadata": {},
   "source": [
    "Cuando buscamos el CRS usado en el punto, no aparece nada. Porque solo transformamos los numeros X e Y, en las coordenadas de la figura.\n",
    "\n",
    "Tenemos que indicar cual es el CRS explicitamente, con el método *crs*"
   ]
  },
  {
   "cell_type": "code",
   "execution_count": null,
   "metadata": {},
   "outputs": [],
   "source": [
    "geo_comisarias.crs"
   ]
  },
  {
   "cell_type": "code",
   "execution_count": null,
   "metadata": {},
   "outputs": [],
   "source": [
    "geo_comisarias.crs = {'init' :'epsg:4326'}"
   ]
  },
  {
   "cell_type": "code",
   "execution_count": null,
   "metadata": {},
   "outputs": [],
   "source": [
    " geo_comisarias.crs"
   ]
  },
  {
   "cell_type": "markdown",
   "metadata": {},
   "source": [
    "<a id=\"section_reproyeccion\"></a> \n",
    "###  Reproyección\n",
    "[volver a TOC](#section_toc)\n",
    "\n",
    "A veces, necesitamos cambiar el CRS que estamos usando, para transformar las coordenadas.\n",
    "\n",
    "Vamos a llevar a las coordenadas que disponen las comisarias, WGS 84, por latitud y longitud (EPSG=4326), a unas coordenadas por UTM (EPSG=32733)."
   ]
  },
  {
   "cell_type": "code",
   "execution_count": null,
   "metadata": {},
   "outputs": [],
   "source": [
    " geo_comisarias.crs"
   ]
  },
  {
   "cell_type": "code",
   "execution_count": null,
   "metadata": {},
   "outputs": [],
   "source": [
    "geo_comisarias.head()"
   ]
  },
  {
   "cell_type": "code",
   "execution_count": null,
   "metadata": {},
   "outputs": [],
   "source": [
    "geo_comisarias = geo_comisarias.to_crs(epsg = 32733)\n",
    "# este comando tira un warning. Es un problema de Geopandas al usar la libreria pyproj."
   ]
  },
  {
   "cell_type": "code",
   "execution_count": null,
   "metadata": {},
   "outputs": [],
   "source": [
    "geo_comisarias.head()"
   ]
  },
  {
   "cell_type": "code",
   "execution_count": null,
   "metadata": {},
   "outputs": [],
   "source": [
    "geo_comisarias.crs"
   ]
  },
  {
   "cell_type": "markdown",
   "metadata": {
    "slideshow": {
     "slide_type": "slide"
    }
   },
   "source": [
    "---\n",
    "\n",
    "### Referencias\n",
    "\n",
    "Tipos de CRS\n",
    "\n",
    "https://epsg.org/home.html\n",
    "\n",
    "CRS - Coordinate Reference Systems\n",
    "\n",
    "https://docs.qgis.org/2.8/en/docs/gentle_gis_introduction/coordinate_reference_systems.html\n",
    "\n",
    "UTM - Universal Trasverse Mercator\n",
    "\n",
    "https://gisgeography.com/utm-universal-transverse-mercator-projection/"
   ]
  }
 ],
 "metadata": {
  "kernelspec": {
   "display_name": "Python 3",
   "language": "python",
   "name": "python3"
  },
  "language_info": {
   "codemirror_mode": {
    "name": "ipython",
    "version": 3
   },
   "file_extension": ".py",
   "mimetype": "text/x-python",
   "name": "python",
   "nbconvert_exporter": "python",
   "pygments_lexer": "ipython3",
   "version": "3.7.9"
  }
 },
 "nbformat": 4,
 "nbformat_minor": 4
}
