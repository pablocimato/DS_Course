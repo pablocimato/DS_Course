{
 "cells": [
  {
   "cell_type": "markdown",
   "metadata": {},
   "source": [
    "---\n",
    "\n",
    "<img src='../../../common/logo_DH.png' align='left' width=35%/>\n"
   ]
  },
  {
   "cell_type": "markdown",
   "metadata": {},
   "source": [
    "## CheckPoint GeoPandas"
   ]
  },
  {
   "cell_type": "markdown",
   "metadata": {},
   "source": [
    "## Datasets\n",
    "\n",
    "En la práctica de la clase de hoy usaremos un **conjunto de propiedades** que tienen a la venta la inmobiliaria Properati: https://www.properati.com.ar/. Lo interesante es que a los datos clásicos de la propiedad (valor, superficie, barrio, tipo de propiedad), le agrega la posición geoespacial mediante su latitud y longitud.\n",
    "\n",
    "Por otra parte, vamos a considerar a las **estaciones de subte**, donde tambien figuran el nombre y la línea a la que pertenece, y además, obviamente, sus datos geoposicionales."
   ]
  },
  {
   "cell_type": "markdown",
   "metadata": {},
   "source": [
    "## Ejercicio\n",
    "\n",
    "Comenzamos leyendo los dos datasets en un *dataframe*, y lo transformamos en un *GeoDataFrame*. Es el tipo de datos que requiere GeoPandas para realizar operaciones con datos geoespaciales.\n",
    "\n",
    "Luego vamos a *calcular la distancia* de cada propiedad al obelisco de Buenos Aires, y se registrará en una nueva columna. Haremos un cálculo para ver si existe alguna relacion entre esta distancia y el precio de la propiedad.\n",
    "\n",
    "Finalmente *trazaremos una línea geométrica* con todas las estaciones de subte de una línea, y la graficaremos sobre la ciudad.\n",
    "\n",
    "Alla vamos!"
   ]
  },
  {
   "cell_type": "markdown",
   "metadata": {},
   "source": [
    "---\n",
    "\n",
    "Importamos las bibliotecas que vamos a necesitar:"
   ]
  },
  {
   "cell_type": "code",
   "execution_count": 48,
   "metadata": {},
   "outputs": [],
   "source": [
    "import pandas as pd\n",
    "import geopandas as gpd\n",
    "import matplotlib.pyplot as plt\n",
    "\n",
    "import shapely # genera las figuras geometricas\n",
    "import descartes # relaciona shapely con matplotlib\n",
    "import pyproj # proyecciones. Transformar coordenadas"
   ]
  },
  {
   "cell_type": "markdown",
   "metadata": {},
   "source": [
    "---\n",
    "\n",
    "### Parte 1 - Archivo de propiedades"
   ]
  },
  {
   "cell_type": "markdown",
   "metadata": {},
   "source": [
    "Vamos a leer los datos del archivo /M1/CLASE_07/Data/properati_caba.csv en un `DataFrame` de pandas con el método `read_csv`. Lo llamaremos df_prop. \n",
    "\n",
    "*Nota:* los datos vienen separados por tabs. Se debe usar el parámetro <code>sep='\\t'</code>\n",
    "\n",
    "Ayuda:\n",
    "https://pandas.pydata.org/pandas-docs/stable/reference/api/pandas.read_csv.html"
   ]
  },
  {
   "cell_type": "code",
   "execution_count": 49,
   "metadata": {},
   "outputs": [
    {
     "data": {
      "text/html": [
       "<div>\n",
       "<style scoped>\n",
       "    .dataframe tbody tr th:only-of-type {\n",
       "        vertical-align: middle;\n",
       "    }\n",
       "\n",
       "    .dataframe tbody tr th {\n",
       "        vertical-align: top;\n",
       "    }\n",
       "\n",
       "    .dataframe thead th {\n",
       "        text-align: right;\n",
       "    }\n",
       "</style>\n",
       "<table border=\"1\" class=\"dataframe\">\n",
       "  <thead>\n",
       "    <tr style=\"text-align: right;\">\n",
       "      <th></th>\n",
       "      <th>property_type</th>\n",
       "      <th>place_name</th>\n",
       "      <th>country_name</th>\n",
       "      <th>state_name</th>\n",
       "      <th>lat</th>\n",
       "      <th>lon</th>\n",
       "      <th>price</th>\n",
       "      <th>currency</th>\n",
       "      <th>surface_total_in_m2</th>\n",
       "    </tr>\n",
       "  </thead>\n",
       "  <tbody>\n",
       "    <tr>\n",
       "      <th>15268</th>\n",
       "      <td>apartment</td>\n",
       "      <td>Barracas</td>\n",
       "      <td>Argentina</td>\n",
       "      <td>Capital Federal</td>\n",
       "      <td>-34.631639</td>\n",
       "      <td>-58.370392</td>\n",
       "      <td>88000.0</td>\n",
       "      <td>USD</td>\n",
       "      <td>48.0</td>\n",
       "    </tr>\n",
       "    <tr>\n",
       "      <th>13964</th>\n",
       "      <td>apartment</td>\n",
       "      <td>Recoleta</td>\n",
       "      <td>Argentina</td>\n",
       "      <td>Capital Federal</td>\n",
       "      <td>-34.595803</td>\n",
       "      <td>-58.386943</td>\n",
       "      <td>98600.0</td>\n",
       "      <td>USD</td>\n",
       "      <td>72.0</td>\n",
       "    </tr>\n",
       "    <tr>\n",
       "      <th>143</th>\n",
       "      <td>apartment</td>\n",
       "      <td>Boedo</td>\n",
       "      <td>Argentina</td>\n",
       "      <td>Capital Federal</td>\n",
       "      <td>-34.615914</td>\n",
       "      <td>-58.415859</td>\n",
       "      <td>289000.0</td>\n",
       "      <td>USD</td>\n",
       "      <td>228.0</td>\n",
       "    </tr>\n",
       "    <tr>\n",
       "      <th>1961</th>\n",
       "      <td>apartment</td>\n",
       "      <td>Palermo</td>\n",
       "      <td>Argentina</td>\n",
       "      <td>Capital Federal</td>\n",
       "      <td>-34.578719</td>\n",
       "      <td>-58.427162</td>\n",
       "      <td>102000.0</td>\n",
       "      <td>USD</td>\n",
       "      <td>41.0</td>\n",
       "    </tr>\n",
       "    <tr>\n",
       "      <th>16068</th>\n",
       "      <td>apartment</td>\n",
       "      <td>Monserrat</td>\n",
       "      <td>Argentina</td>\n",
       "      <td>Capital Federal</td>\n",
       "      <td>-34.619792</td>\n",
       "      <td>-58.381338</td>\n",
       "      <td>95100.0</td>\n",
       "      <td>USD</td>\n",
       "      <td>47.0</td>\n",
       "    </tr>\n",
       "  </tbody>\n",
       "</table>\n",
       "</div>"
      ],
      "text/plain": [
       "      property_type place_name country_name       state_name        lat   \n",
       "15268     apartment   Barracas    Argentina  Capital Federal -34.631639  \\\n",
       "13964     apartment   Recoleta    Argentina  Capital Federal -34.595803   \n",
       "143       apartment      Boedo    Argentina  Capital Federal -34.615914   \n",
       "1961      apartment    Palermo    Argentina  Capital Federal -34.578719   \n",
       "16068     apartment  Monserrat    Argentina  Capital Federal -34.619792   \n",
       "\n",
       "             lon     price currency  surface_total_in_m2  \n",
       "15268 -58.370392   88000.0      USD                 48.0  \n",
       "13964 -58.386943   98600.0      USD                 72.0  \n",
       "143   -58.415859  289000.0      USD                228.0  \n",
       "1961  -58.427162  102000.0      USD                 41.0  \n",
       "16068 -58.381338   95100.0      USD                 47.0  "
      ]
     },
     "execution_count": 49,
     "metadata": {},
     "output_type": "execute_result"
    }
   ],
   "source": [
    "data_location = \"../Data/properati_caba.csv\"\n",
    "\n",
    "df_prop = pd.read_csv(data_location, sep='\\t')\n",
    "df_prop.sample(5)"
   ]
  },
  {
   "cell_type": "markdown",
   "metadata": {},
   "source": [
    "#### Tomamos una muestra de 5 elementos"
   ]
  },
  {
   "cell_type": "markdown",
   "metadata": {},
   "source": [
    "Las columnas del dataset son:\n",
    "\n",
    "- property_type. Tipo de propiedad. Categórico.\n",
    "- place_name. Barrio de Buenos Aires. Categórico.\n",
    "- country_name. Pais. Fijo 'Argentina'.\n",
    "- state_name. Provincia. Fijo 'Capital Federal'.\n",
    "- lat. Latitud de la posición geoespacial del inmueble.\n",
    "- lon. Longitud de la posición geoespacial del inmueble.\n",
    "- price. Valor de la propiedad.\n",
    "- currency. Moneda usada para el valor de la propiedad.\n",
    "- surface_total_in_m2. Area del inmueble."
   ]
  },
  {
   "cell_type": "code",
   "execution_count": null,
   "metadata": {},
   "outputs": [],
   "source": []
  },
  {
   "cell_type": "markdown",
   "metadata": {},
   "source": [
    "#### Transformar el DataFrame en un GeoDataFrame\n",
    "\n",
    "Para generar un GeoDataFrame, necesitamos agregar a las columnas del DataFrame una nueva columna que contenga una forma geométrica. Es este caso, un *punto*, el cual se genera a partir de la *latitud* y la *longitud*.\n",
    "\n",
    "Es recomendable que la nueva columna se llame *geometry*.\n",
    "\n",
    "El método `gpd.points_from_xy` define el tipo *punto*, ingresando primero la **longitud** y luego la **latitud**.\n",
    "\n",
    "Ayuda:\n",
    "https://geopandas.org/reference/geopandas.points_from_xy.html"
   ]
  },
  {
   "cell_type": "code",
   "execution_count": 50,
   "metadata": {
    "colab": {
     "base_uri": "https://localhost:8080/",
     "height": 289
    },
    "colab_type": "code",
    "executionInfo": {
     "elapsed": 830,
     "status": "ok",
     "timestamp": 1567641541793,
     "user": {
      "displayName": "Julián Ansaldo",
      "photoUrl": "https://lh3.googleusercontent.com/a-/AAuE7mCQI0iy6sTR9TfuLMfXZ90XCqxfdAQtMEcBkjfs1w=s64",
      "userId": "10643095115217147090"
     },
     "user_tz": 180
    },
    "id": "vRpX0jS6G_x5",
    "outputId": "178eafb8-17f3-4205-fcbe-9368fbd51efa",
    "slideshow": {
     "slide_type": "fragment"
    }
   },
   "outputs": [
    {
     "data": {
      "text/plain": [
       "<GeometryArray>\n",
       "[<POINT (-58.509 -34.662)>, <POINT (-58.523 -34.652)>,\n",
       "  <POINT (-58.443 -34.56)>,  <POINT (-58.443 -34.56)>,\n",
       " <POINT (-58.502 -34.652)>, <POINT (-58.406 -34.581)>,\n",
       " <POINT (-58.412 -34.591)>, <POINT (-58.474 -34.635)>,\n",
       " <POINT (-58.422 -34.622)>, <POINT (-58.423 -34.571)>,\n",
       " ...\n",
       " <POINT (-58.415 -34.596)>, <POINT (-58.428 -34.593)>,\n",
       " <POINT (-58.399 -34.597)>, <POINT (-58.433 -34.637)>,\n",
       " <POINT (-58.398 -34.591)>, <POINT (-58.403 -34.599)>,\n",
       " <POINT (-58.397 -34.587)>, <POINT (-58.443 -34.564)>,\n",
       " <POINT (-58.443 -34.564)>, <POINT (-58.476 -34.571)>]\n",
       "Length: 17223, dtype: geometry"
      ]
     },
     "execution_count": 50,
     "metadata": {},
     "output_type": "execute_result"
    }
   ],
   "source": [
    "geometria = gpd.points_from_xy(df_prop.lon, df_prop.lat)\n",
    "geometria"
   ]
  },
  {
   "cell_type": "code",
   "execution_count": 51,
   "metadata": {},
   "outputs": [
    {
     "data": {
      "text/plain": [
       "<GeometryArray>\n",
       "[<POINT (-58.509 -34.662)>, <POINT (-58.523 -34.652)>]\n",
       "Length: 2, dtype: geometry"
      ]
     },
     "execution_count": 51,
     "metadata": {},
     "output_type": "execute_result"
    }
   ],
   "source": [
    "geometria[0:2]"
   ]
  },
  {
   "cell_type": "code",
   "execution_count": 52,
   "metadata": {
    "colab": {
     "base_uri": "https://localhost:8080/",
     "height": 289
    },
    "colab_type": "code",
    "executionInfo": {
     "elapsed": 830,
     "status": "ok",
     "timestamp": 1567641541793,
     "user": {
      "displayName": "Julián Ansaldo",
      "photoUrl": "https://lh3.googleusercontent.com/a-/AAuE7mCQI0iy6sTR9TfuLMfXZ90XCqxfdAQtMEcBkjfs1w=s64",
      "userId": "10643095115217147090"
     },
     "user_tz": 180
    },
    "id": "vRpX0jS6G_x5",
    "outputId": "178eafb8-17f3-4205-fcbe-9368fbd51efa",
    "slideshow": {
     "slide_type": "fragment"
    }
   },
   "outputs": [
    {
     "data": {
      "text/html": [
       "<div>\n",
       "<style scoped>\n",
       "    .dataframe tbody tr th:only-of-type {\n",
       "        vertical-align: middle;\n",
       "    }\n",
       "\n",
       "    .dataframe tbody tr th {\n",
       "        vertical-align: top;\n",
       "    }\n",
       "\n",
       "    .dataframe thead th {\n",
       "        text-align: right;\n",
       "    }\n",
       "</style>\n",
       "<table border=\"1\" class=\"dataframe\">\n",
       "  <thead>\n",
       "    <tr style=\"text-align: right;\">\n",
       "      <th></th>\n",
       "      <th>property_type</th>\n",
       "      <th>place_name</th>\n",
       "      <th>country_name</th>\n",
       "      <th>state_name</th>\n",
       "      <th>lat</th>\n",
       "      <th>lon</th>\n",
       "      <th>price</th>\n",
       "      <th>currency</th>\n",
       "      <th>surface_total_in_m2</th>\n",
       "      <th>geometry</th>\n",
       "    </tr>\n",
       "  </thead>\n",
       "  <tbody>\n",
       "    <tr>\n",
       "      <th>4376</th>\n",
       "      <td>apartment</td>\n",
       "      <td>Recoleta</td>\n",
       "      <td>Argentina</td>\n",
       "      <td>Capital Federal</td>\n",
       "      <td>-34.597106</td>\n",
       "      <td>-58.392557</td>\n",
       "      <td>624860.0</td>\n",
       "      <td>USD</td>\n",
       "      <td>171.0</td>\n",
       "      <td>POINT (-58.39256 -34.59711)</td>\n",
       "    </tr>\n",
       "    <tr>\n",
       "      <th>4607</th>\n",
       "      <td>apartment</td>\n",
       "      <td>Caballito</td>\n",
       "      <td>Argentina</td>\n",
       "      <td>Capital Federal</td>\n",
       "      <td>-34.615887</td>\n",
       "      <td>-58.439563</td>\n",
       "      <td>184000.0</td>\n",
       "      <td>USD</td>\n",
       "      <td>64.0</td>\n",
       "      <td>POINT (-58.43956 -34.61589)</td>\n",
       "    </tr>\n",
       "    <tr>\n",
       "      <th>3480</th>\n",
       "      <td>apartment</td>\n",
       "      <td>Balvanera</td>\n",
       "      <td>Argentina</td>\n",
       "      <td>Capital Federal</td>\n",
       "      <td>-34.613673</td>\n",
       "      <td>-58.406655</td>\n",
       "      <td>74000.0</td>\n",
       "      <td>USD</td>\n",
       "      <td>43.0</td>\n",
       "      <td>POINT (-58.40665 -34.61367)</td>\n",
       "    </tr>\n",
       "  </tbody>\n",
       "</table>\n",
       "</div>"
      ],
      "text/plain": [
       "     property_type place_name country_name       state_name        lat   \n",
       "4376     apartment   Recoleta    Argentina  Capital Federal -34.597106  \\\n",
       "4607     apartment  Caballito    Argentina  Capital Federal -34.615887   \n",
       "3480     apartment  Balvanera    Argentina  Capital Federal -34.613673   \n",
       "\n",
       "            lon     price currency  surface_total_in_m2   \n",
       "4376 -58.392557  624860.0      USD                171.0  \\\n",
       "4607 -58.439563  184000.0      USD                 64.0   \n",
       "3480 -58.406655   74000.0      USD                 43.0   \n",
       "\n",
       "                         geometry  \n",
       "4376  POINT (-58.39256 -34.59711)  \n",
       "4607  POINT (-58.43956 -34.61589)  \n",
       "3480  POINT (-58.40665 -34.61367)  "
      ]
     },
     "execution_count": 52,
     "metadata": {},
     "output_type": "execute_result"
    }
   ],
   "source": [
    "geo_prop = gpd.GeoDataFrame(df_prop,geometry=geometria)\n",
    "geo_prop.sample(3)"
   ]
  },
  {
   "cell_type": "code",
   "execution_count": 53,
   "metadata": {},
   "outputs": [
    {
     "data": {
      "text/plain": [
       "geopandas.geodataframe.GeoDataFrame"
      ]
     },
     "execution_count": 53,
     "metadata": {},
     "output_type": "execute_result"
    }
   ],
   "source": [
    "type(geo_prop)"
   ]
  },
  {
   "cell_type": "code",
   "execution_count": 54,
   "metadata": {
    "colab": {
     "base_uri": "https://localhost:8080/",
     "height": 289
    },
    "colab_type": "code",
    "executionInfo": {
     "elapsed": 830,
     "status": "ok",
     "timestamp": 1567641541793,
     "user": {
      "displayName": "Julián Ansaldo",
      "photoUrl": "https://lh3.googleusercontent.com/a-/AAuE7mCQI0iy6sTR9TfuLMfXZ90XCqxfdAQtMEcBkjfs1w=s64",
      "userId": "10643095115217147090"
     },
     "user_tz": 180
    },
    "id": "vRpX0jS6G_x5",
    "outputId": "178eafb8-17f3-4205-fcbe-9368fbd51efa",
    "slideshow": {
     "slide_type": "fragment"
    }
   },
   "outputs": [
    {
     "data": {
      "text/html": [
       "<div>\n",
       "<style scoped>\n",
       "    .dataframe tbody tr th:only-of-type {\n",
       "        vertical-align: middle;\n",
       "    }\n",
       "\n",
       "    .dataframe tbody tr th {\n",
       "        vertical-align: top;\n",
       "    }\n",
       "\n",
       "    .dataframe thead th {\n",
       "        text-align: right;\n",
       "    }\n",
       "</style>\n",
       "<table border=\"1\" class=\"dataframe\">\n",
       "  <thead>\n",
       "    <tr style=\"text-align: right;\">\n",
       "      <th></th>\n",
       "      <th>geometry</th>\n",
       "      <th>lat</th>\n",
       "      <th>lon</th>\n",
       "      <th>property_type</th>\n",
       "      <th>place_name</th>\n",
       "    </tr>\n",
       "  </thead>\n",
       "  <tbody>\n",
       "    <tr>\n",
       "      <th>0</th>\n",
       "      <td>POINT (-58.50884 -34.66182)</td>\n",
       "      <td>-34.661824</td>\n",
       "      <td>-58.508839</td>\n",
       "      <td>PH</td>\n",
       "      <td>Mataderos</td>\n",
       "    </tr>\n",
       "    <tr>\n",
       "      <th>1</th>\n",
       "      <td>POINT (-58.52298 -34.65226)</td>\n",
       "      <td>-34.652262</td>\n",
       "      <td>-58.522982</td>\n",
       "      <td>apartment</td>\n",
       "      <td>Mataderos</td>\n",
       "    </tr>\n",
       "    <tr>\n",
       "      <th>2</th>\n",
       "      <td>POINT (-58.44336 -34.55987)</td>\n",
       "      <td>-34.559873</td>\n",
       "      <td>-58.443362</td>\n",
       "      <td>apartment</td>\n",
       "      <td>Belgrano</td>\n",
       "    </tr>\n",
       "    <tr>\n",
       "      <th>3</th>\n",
       "      <td>POINT (-58.44336 -34.55987)</td>\n",
       "      <td>-34.559873</td>\n",
       "      <td>-58.443362</td>\n",
       "      <td>apartment</td>\n",
       "      <td>Belgrano</td>\n",
       "    </tr>\n",
       "    <tr>\n",
       "      <th>4</th>\n",
       "      <td>POINT (-58.50162 -34.65236)</td>\n",
       "      <td>-34.652356</td>\n",
       "      <td>-58.501624</td>\n",
       "      <td>PH</td>\n",
       "      <td>Mataderos</td>\n",
       "    </tr>\n",
       "  </tbody>\n",
       "</table>\n",
       "</div>"
      ],
      "text/plain": [
       "                      geometry        lat        lon property_type place_name\n",
       "0  POINT (-58.50884 -34.66182) -34.661824 -58.508839            PH  Mataderos\n",
       "1  POINT (-58.52298 -34.65226) -34.652262 -58.522982     apartment  Mataderos\n",
       "2  POINT (-58.44336 -34.55987) -34.559873 -58.443362     apartment   Belgrano\n",
       "3  POINT (-58.44336 -34.55987) -34.559873 -58.443362     apartment   Belgrano\n",
       "4  POINT (-58.50162 -34.65236) -34.652356 -58.501624            PH  Mataderos"
      ]
     },
     "execution_count": 54,
     "metadata": {},
     "output_type": "execute_result"
    }
   ],
   "source": [
    "geo_prop.loc[:4, ['geometry', 'lat', 'lon','property_type','place_name']]"
   ]
  },
  {
   "cell_type": "markdown",
   "metadata": {},
   "source": [
    "---\n",
    "\n",
    "### Parte 2 - Archivo de estaciones de subte"
   ]
  },
  {
   "cell_type": "markdown",
   "metadata": {},
   "source": [
    "Vamos a leer los datos del archivo /M1/CLASE_07/Data/estaciones-de-subte.csv en un `DataFrame` de pandas con el método `read_csv`. Lo llamaremos df_subte.\n",
    "\n",
    "*Nota:* los datos vienen separados por comas. Se debe usar el parámetro <code>sep=','</code>"
   ]
  },
  {
   "cell_type": "code",
   "execution_count": 55,
   "metadata": {},
   "outputs": [
    {
     "data": {
      "text/html": [
       "<div>\n",
       "<style scoped>\n",
       "    .dataframe tbody tr th:only-of-type {\n",
       "        vertical-align: middle;\n",
       "    }\n",
       "\n",
       "    .dataframe tbody tr th {\n",
       "        vertical-align: top;\n",
       "    }\n",
       "\n",
       "    .dataframe thead th {\n",
       "        text-align: right;\n",
       "    }\n",
       "</style>\n",
       "<table border=\"1\" class=\"dataframe\">\n",
       "  <thead>\n",
       "    <tr style=\"text-align: right;\">\n",
       "      <th></th>\n",
       "      <th>long</th>\n",
       "      <th>lat</th>\n",
       "      <th>id</th>\n",
       "      <th>estacion</th>\n",
       "      <th>linea</th>\n",
       "    </tr>\n",
       "  </thead>\n",
       "  <tbody>\n",
       "    <tr>\n",
       "      <th>0</th>\n",
       "      <td>-58.398928</td>\n",
       "      <td>-34.635750</td>\n",
       "      <td>1.0</td>\n",
       "      <td>CASEROS</td>\n",
       "      <td>H</td>\n",
       "    </tr>\n",
       "    <tr>\n",
       "      <th>1</th>\n",
       "      <td>-58.400970</td>\n",
       "      <td>-34.629376</td>\n",
       "      <td>2.0</td>\n",
       "      <td>INCLAN - MEZQUITA AL AHMAD</td>\n",
       "      <td>H</td>\n",
       "    </tr>\n",
       "    <tr>\n",
       "      <th>2</th>\n",
       "      <td>-58.402323</td>\n",
       "      <td>-34.623092</td>\n",
       "      <td>3.0</td>\n",
       "      <td>HUMBERTO 1Â°</td>\n",
       "      <td>H</td>\n",
       "    </tr>\n",
       "  </tbody>\n",
       "</table>\n",
       "</div>"
      ],
      "text/plain": [
       "        long        lat   id                    estacion linea\n",
       "0 -58.398928 -34.635750  1.0                     CASEROS     H\n",
       "1 -58.400970 -34.629376  2.0  INCLAN - MEZQUITA AL AHMAD     H\n",
       "2 -58.402323 -34.623092  3.0                HUMBERTO 1Â°     H"
      ]
     },
     "execution_count": 55,
     "metadata": {},
     "output_type": "execute_result"
    }
   ],
   "source": [
    "data_location = \"../Data/estaciones-de-subte.csv\"\n",
    "\n",
    "estaciones_subte = pd.read_csv(data_location, sep=',', encoding=\"latin\")\n",
    "estaciones_subte.head(3)"
   ]
  },
  {
   "cell_type": "markdown",
   "metadata": {},
   "source": [
    "#### Consultamos los primeros 10 registros"
   ]
  },
  {
   "cell_type": "markdown",
   "metadata": {},
   "source": [
    "Las columnas del dataset son:\n",
    "\n",
    "- long. Longitud de la posición geoespacial de la estación de subte.\n",
    "- lat. Latitud de la posición geoespacial de la estación de subte.\n",
    "- id. Número secuencial.\n",
    "- estacion. Nombre de la estación de subte.\n",
    "- linea. Línea de subte a la que pertenece la estación. Categórico."
   ]
  },
  {
   "cell_type": "code",
   "execution_count": null,
   "metadata": {},
   "outputs": [],
   "source": []
  },
  {
   "cell_type": "markdown",
   "metadata": {},
   "source": [
    "#### Transformar el DataFrame en un GeoDataFrame\n",
    "\n",
    "Para generar un GeoDataFrame, necesitamos agregar a las columnas del DataFrame una nueva columna que contenga una forma geométrica. Es este caso, un *punto*, el cual se genera a partir de la *latitud* y la *longitud*.\n",
    "\n",
    "Es recomendable que la nueva columna se llame *geometry*.\n",
    "\n",
    "El método `gpd.points_from_xy` define el tipo *punto*, ingresando primero la **longitud** y luego la **latitud**."
   ]
  },
  {
   "cell_type": "code",
   "execution_count": null,
   "metadata": {
    "colab": {
     "base_uri": "https://localhost:8080/",
     "height": 289
    },
    "colab_type": "code",
    "executionInfo": {
     "elapsed": 830,
     "status": "ok",
     "timestamp": 1567641541793,
     "user": {
      "displayName": "Julián Ansaldo",
      "photoUrl": "https://lh3.googleusercontent.com/a-/AAuE7mCQI0iy6sTR9TfuLMfXZ90XCqxfdAQtMEcBkjfs1w=s64",
      "userId": "10643095115217147090"
     },
     "user_tz": 180
    },
    "id": "vRpX0jS6G_x5",
    "outputId": "178eafb8-17f3-4205-fcbe-9368fbd51efa",
    "slideshow": {
     "slide_type": "fragment"
    }
   },
   "outputs": [],
   "source": []
  },
  {
   "cell_type": "code",
   "execution_count": 56,
   "metadata": {
    "colab": {
     "base_uri": "https://localhost:8080/",
     "height": 289
    },
    "colab_type": "code",
    "executionInfo": {
     "elapsed": 830,
     "status": "ok",
     "timestamp": 1567641541793,
     "user": {
      "displayName": "Julián Ansaldo",
      "photoUrl": "https://lh3.googleusercontent.com/a-/AAuE7mCQI0iy6sTR9TfuLMfXZ90XCqxfdAQtMEcBkjfs1w=s64",
      "userId": "10643095115217147090"
     },
     "user_tz": 180
    },
    "id": "vRpX0jS6G_x5",
    "outputId": "178eafb8-17f3-4205-fcbe-9368fbd51efa",
    "slideshow": {
     "slide_type": "fragment"
    }
   },
   "outputs": [
    {
     "data": {
      "text/html": [
       "<div>\n",
       "<style scoped>\n",
       "    .dataframe tbody tr th:only-of-type {\n",
       "        vertical-align: middle;\n",
       "    }\n",
       "\n",
       "    .dataframe tbody tr th {\n",
       "        vertical-align: top;\n",
       "    }\n",
       "\n",
       "    .dataframe thead th {\n",
       "        text-align: right;\n",
       "    }\n",
       "</style>\n",
       "<table border=\"1\" class=\"dataframe\">\n",
       "  <thead>\n",
       "    <tr style=\"text-align: right;\">\n",
       "      <th></th>\n",
       "      <th>long</th>\n",
       "      <th>lat</th>\n",
       "      <th>id</th>\n",
       "      <th>estacion</th>\n",
       "      <th>linea</th>\n",
       "      <th>geometry</th>\n",
       "    </tr>\n",
       "  </thead>\n",
       "  <tbody>\n",
       "    <tr>\n",
       "      <th>0</th>\n",
       "      <td>-58.398928</td>\n",
       "      <td>-34.635750</td>\n",
       "      <td>1.0</td>\n",
       "      <td>CASEROS</td>\n",
       "      <td>H</td>\n",
       "      <td>POINT (-58.39893 -34.63575)</td>\n",
       "    </tr>\n",
       "    <tr>\n",
       "      <th>1</th>\n",
       "      <td>-58.400970</td>\n",
       "      <td>-34.629376</td>\n",
       "      <td>2.0</td>\n",
       "      <td>INCLAN - MEZQUITA AL AHMAD</td>\n",
       "      <td>H</td>\n",
       "      <td>POINT (-58.40097 -34.62938)</td>\n",
       "    </tr>\n",
       "    <tr>\n",
       "      <th>2</th>\n",
       "      <td>-58.402323</td>\n",
       "      <td>-34.623092</td>\n",
       "      <td>3.0</td>\n",
       "      <td>HUMBERTO 1Â°</td>\n",
       "      <td>H</td>\n",
       "      <td>POINT (-58.40232 -34.62309)</td>\n",
       "    </tr>\n",
       "    <tr>\n",
       "      <th>3</th>\n",
       "      <td>-58.404732</td>\n",
       "      <td>-34.615242</td>\n",
       "      <td>4.0</td>\n",
       "      <td>VENEZUELA</td>\n",
       "      <td>H</td>\n",
       "      <td>POINT (-58.40473 -34.61524)</td>\n",
       "    </tr>\n",
       "    <tr>\n",
       "      <th>4</th>\n",
       "      <td>-58.406036</td>\n",
       "      <td>-34.608935</td>\n",
       "      <td>5.0</td>\n",
       "      <td>ONCE - 30 DE DICIEMBRE</td>\n",
       "      <td>H</td>\n",
       "      <td>POINT (-58.40604 -34.60894)</td>\n",
       "    </tr>\n",
       "    <tr>\n",
       "      <th>...</th>\n",
       "      <td>...</td>\n",
       "      <td>...</td>\n",
       "      <td>...</td>\n",
       "      <td>...</td>\n",
       "      <td>...</td>\n",
       "      <td>...</td>\n",
       "    </tr>\n",
       "    <tr>\n",
       "      <th>85</th>\n",
       "      <td>-58.402376</td>\n",
       "      <td>-34.594525</td>\n",
       "      <td>86.0</td>\n",
       "      <td>SANTA FE - CARLOS JAUREGUI</td>\n",
       "      <td>H</td>\n",
       "      <td>POINT (-58.40238 -34.59453)</td>\n",
       "    </tr>\n",
       "    <tr>\n",
       "      <th>86</th>\n",
       "      <td>-58.391019</td>\n",
       "      <td>-34.583036</td>\n",
       "      <td>87.0</td>\n",
       "      <td>FACULTAD DE DERECHO - JULIETA LANTERI</td>\n",
       "      <td>H</td>\n",
       "      <td>POINT (-58.39102 -34.58304)</td>\n",
       "    </tr>\n",
       "    <tr>\n",
       "      <th>87</th>\n",
       "      <td>-58.375850</td>\n",
       "      <td>-34.592114</td>\n",
       "      <td>90.0</td>\n",
       "      <td>RETIRO</td>\n",
       "      <td>E</td>\n",
       "      <td>POINT (-58.37585 -34.59211)</td>\n",
       "    </tr>\n",
       "    <tr>\n",
       "      <th>88</th>\n",
       "      <td>-58.371700</td>\n",
       "      <td>-34.596597</td>\n",
       "      <td>89.0</td>\n",
       "      <td>CATALINAS</td>\n",
       "      <td>E</td>\n",
       "      <td>POINT (-58.37170 -34.59660)</td>\n",
       "    </tr>\n",
       "    <tr>\n",
       "      <th>89</th>\n",
       "      <td>-58.370413</td>\n",
       "      <td>-34.603014</td>\n",
       "      <td>88.0</td>\n",
       "      <td>CORREO CENTRAL</td>\n",
       "      <td>E</td>\n",
       "      <td>POINT (-58.37041 -34.60301)</td>\n",
       "    </tr>\n",
       "  </tbody>\n",
       "</table>\n",
       "<p>90 rows × 6 columns</p>\n",
       "</div>"
      ],
      "text/plain": [
       "         long        lat    id                               estacion linea   \n",
       "0  -58.398928 -34.635750   1.0                                CASEROS     H  \\\n",
       "1  -58.400970 -34.629376   2.0             INCLAN - MEZQUITA AL AHMAD     H   \n",
       "2  -58.402323 -34.623092   3.0                           HUMBERTO 1Â°     H   \n",
       "3  -58.404732 -34.615242   4.0                              VENEZUELA     H   \n",
       "4  -58.406036 -34.608935   5.0                 ONCE - 30 DE DICIEMBRE     H   \n",
       "..        ...        ...   ...                                    ...   ...   \n",
       "85 -58.402376 -34.594525  86.0             SANTA FE - CARLOS JAUREGUI     H   \n",
       "86 -58.391019 -34.583036  87.0  FACULTAD DE DERECHO - JULIETA LANTERI     H   \n",
       "87 -58.375850 -34.592114  90.0                                 RETIRO     E   \n",
       "88 -58.371700 -34.596597  89.0                              CATALINAS     E   \n",
       "89 -58.370413 -34.603014  88.0                         CORREO CENTRAL     E   \n",
       "\n",
       "                       geometry  \n",
       "0   POINT (-58.39893 -34.63575)  \n",
       "1   POINT (-58.40097 -34.62938)  \n",
       "2   POINT (-58.40232 -34.62309)  \n",
       "3   POINT (-58.40473 -34.61524)  \n",
       "4   POINT (-58.40604 -34.60894)  \n",
       "..                          ...  \n",
       "85  POINT (-58.40238 -34.59453)  \n",
       "86  POINT (-58.39102 -34.58304)  \n",
       "87  POINT (-58.37585 -34.59211)  \n",
       "88  POINT (-58.37170 -34.59660)  \n",
       "89  POINT (-58.37041 -34.60301)  \n",
       "\n",
       "[90 rows x 6 columns]"
      ]
     },
     "execution_count": 56,
     "metadata": {},
     "output_type": "execute_result"
    }
   ],
   "source": [
    "geo_subte = gpd.GeoDataFrame(estaciones_subte, geometry=gpd.points_from_xy(estaciones_subte.long, estaciones_subte.lat))\n",
    "geo_subte"
   ]
  },
  {
   "cell_type": "code",
   "execution_count": 57,
   "metadata": {},
   "outputs": [
    {
     "data": {
      "text/plain": [
       "geopandas.geodataframe.GeoDataFrame"
      ]
     },
     "execution_count": 57,
     "metadata": {},
     "output_type": "execute_result"
    }
   ],
   "source": [
    "type(geo_subte)"
   ]
  },
  {
   "cell_type": "markdown",
   "metadata": {},
   "source": [
    "---\n",
    "\n",
    "### Parte 3 - Cálculo de la distancia\n",
    "\n",
    "Vamos a calcular la **distancia de cada propiedad al obelisco de Buenos Aires**, y la registramos en una nueva columna."
   ]
  },
  {
   "cell_type": "markdown",
   "metadata": {},
   "source": [
    "Primero necesitamos representar el lugar geográfico del Obelisco de Buenos Aires. Lo hacemos mediante la forma geométrica *Punto*, y las coordenadas del lugar. "
   ]
  },
  {
   "cell_type": "code",
   "execution_count": 58,
   "metadata": {},
   "outputs": [],
   "source": [
    "from shapely.geometry import Point\n",
    "\n",
    "punto_obelisco_p = Point(-58.381555,-34.605425)"
   ]
  },
  {
   "cell_type": "code",
   "execution_count": 59,
   "metadata": {},
   "outputs": [
    {
     "data": {
      "text/plain": [
       "shapely.geometry.point.Point"
      ]
     },
     "execution_count": 59,
     "metadata": {},
     "output_type": "execute_result"
    }
   ],
   "source": [
    "type(punto_obelisco_p)"
   ]
  },
  {
   "cell_type": "markdown",
   "metadata": {},
   "source": [
    "Pero el método que calcula la distancia entre dos puntos, <code>geopy.distance.geodesic</code>, necesita representar el lugar geográfico del Obelisco de Buenos Aires mediante una *tupla*."
   ]
  },
  {
   "cell_type": "code",
   "execution_count": 60,
   "metadata": {},
   "outputs": [],
   "source": [
    "punto_obelisco = (-58.381555,-34.605425)"
   ]
  },
  {
   "cell_type": "code",
   "execution_count": 61,
   "metadata": {},
   "outputs": [
    {
     "data": {
      "text/html": [
       "<div>\n",
       "<style scoped>\n",
       "    .dataframe tbody tr th:only-of-type {\n",
       "        vertical-align: middle;\n",
       "    }\n",
       "\n",
       "    .dataframe tbody tr th {\n",
       "        vertical-align: top;\n",
       "    }\n",
       "\n",
       "    .dataframe thead th {\n",
       "        text-align: right;\n",
       "    }\n",
       "</style>\n",
       "<table border=\"1\" class=\"dataframe\">\n",
       "  <thead>\n",
       "    <tr style=\"text-align: right;\">\n",
       "      <th></th>\n",
       "      <th>property_type</th>\n",
       "      <th>place_name</th>\n",
       "      <th>country_name</th>\n",
       "      <th>state_name</th>\n",
       "      <th>lat</th>\n",
       "      <th>lon</th>\n",
       "      <th>price</th>\n",
       "      <th>currency</th>\n",
       "      <th>surface_total_in_m2</th>\n",
       "      <th>geometry</th>\n",
       "    </tr>\n",
       "  </thead>\n",
       "  <tbody>\n",
       "    <tr>\n",
       "      <th>0</th>\n",
       "      <td>PH</td>\n",
       "      <td>Mataderos</td>\n",
       "      <td>Argentina</td>\n",
       "      <td>Capital Federal</td>\n",
       "      <td>-34.661824</td>\n",
       "      <td>-58.508839</td>\n",
       "      <td>62000.0</td>\n",
       "      <td>USD</td>\n",
       "      <td>55.0</td>\n",
       "      <td>POINT (-58.50884 -34.66182)</td>\n",
       "    </tr>\n",
       "    <tr>\n",
       "      <th>1</th>\n",
       "      <td>apartment</td>\n",
       "      <td>Mataderos</td>\n",
       "      <td>Argentina</td>\n",
       "      <td>Capital Federal</td>\n",
       "      <td>-34.652262</td>\n",
       "      <td>-58.522982</td>\n",
       "      <td>72000.0</td>\n",
       "      <td>USD</td>\n",
       "      <td>55.0</td>\n",
       "      <td>POINT (-58.52298 -34.65226)</td>\n",
       "    </tr>\n",
       "    <tr>\n",
       "      <th>2</th>\n",
       "      <td>apartment</td>\n",
       "      <td>Belgrano</td>\n",
       "      <td>Argentina</td>\n",
       "      <td>Capital Federal</td>\n",
       "      <td>-34.559873</td>\n",
       "      <td>-58.443362</td>\n",
       "      <td>138000.0</td>\n",
       "      <td>USD</td>\n",
       "      <td>45.0</td>\n",
       "      <td>POINT (-58.44336 -34.55987)</td>\n",
       "    </tr>\n",
       "  </tbody>\n",
       "</table>\n",
       "</div>"
      ],
      "text/plain": [
       "  property_type place_name country_name       state_name        lat   \n",
       "0            PH  Mataderos    Argentina  Capital Federal -34.661824  \\\n",
       "1     apartment  Mataderos    Argentina  Capital Federal -34.652262   \n",
       "2     apartment   Belgrano    Argentina  Capital Federal -34.559873   \n",
       "\n",
       "         lon     price currency  surface_total_in_m2   \n",
       "0 -58.508839   62000.0      USD                 55.0  \\\n",
       "1 -58.522982   72000.0      USD                 55.0   \n",
       "2 -58.443362  138000.0      USD                 45.0   \n",
       "\n",
       "                      geometry  \n",
       "0  POINT (-58.50884 -34.66182)  \n",
       "1  POINT (-58.52298 -34.65226)  \n",
       "2  POINT (-58.44336 -34.55987)  "
      ]
     },
     "execution_count": 61,
     "metadata": {},
     "output_type": "execute_result"
    }
   ],
   "source": [
    "type(punto_obelisco)\n",
    "geo_prop.head(3)"
   ]
  },
  {
   "cell_type": "markdown",
   "metadata": {},
   "source": [
    "Ahora podemos agregar la nueva columna con la distancia entre el punto del obelisco y el punto de cada propiedad (en metros). La llamaremos *distancia_obelisco*. \n",
    "\n",
    "Se debe generar **una iteración** sobre el indice de geo_prop:\n",
    "\n",
    "Ayuda:\n",
    "<code>\n",
    "for i in geo_prop.index:\n",
    "    geo_prop.loc[i, 'distancia_obelisco'] = calculo distancia entre obelisco y cada propiedad.</code>\n",
    "    \n",
    "El cálculo se realiza con el método <code>geopy.distance.geodesic</code>, el cual se explica en la notebook 3_geopandas_operaciones.\n",
    "\n",
    "Ademas con la sentencia <code>geo_prop.loc[i,'geometry'].x</code> obtenemos la coordenada longitud de la distancia.\n",
    "\n",
    "Debe terminar con <code>.meters</code> para indicar la distancia en metros\n",
    "\n",
    "Ver https://geopy.readthedocs.io/en/stable/#module-geopy.distance"
   ]
  },
  {
   "cell_type": "code",
   "execution_count": 64,
   "metadata": {},
   "outputs": [],
   "source": [
    "import geopy.distance\n",
    "\n",
    "\"\"\"for i in geo_prop.index:\n",
    "    geo_prop.loc[i, 'distancia_obelisco'] = geopy.distance.geodesic(\n",
    "        punto_obelisco, (geo_prop.loc[i, 'geometry'].x ,geo_prop.loc[i, 'geometry'].y)).meters\"\"\"\n",
    "\n",
    "def calcular_distancia(row, punto_referencia):\n",
    "    distancia = geopy.distance.geodesic(punto_referencia, (row['geometry'].x, row['geometry'].y)).meters\n",
    "    return distancia\n",
    "\n",
    "geo_prop['distancia_obelisco'] = geo_prop.apply(calcular_distancia, punto_referencia=punto_obelisco, axis=1)\n",
    "\n"
   ]
  },
  {
   "cell_type": "code",
   "execution_count": 65,
   "metadata": {},
   "outputs": [
    {
     "data": {
      "text/html": [
       "<div>\n",
       "<style scoped>\n",
       "    .dataframe tbody tr th:only-of-type {\n",
       "        vertical-align: middle;\n",
       "    }\n",
       "\n",
       "    .dataframe tbody tr th {\n",
       "        vertical-align: top;\n",
       "    }\n",
       "\n",
       "    .dataframe thead th {\n",
       "        text-align: right;\n",
       "    }\n",
       "</style>\n",
       "<table border=\"1\" class=\"dataframe\">\n",
       "  <thead>\n",
       "    <tr style=\"text-align: right;\">\n",
       "      <th></th>\n",
       "      <th>distancia_obelisco</th>\n",
       "      <th>geometry</th>\n",
       "      <th>lat</th>\n",
       "      <th>lon</th>\n",
       "      <th>property_type</th>\n",
       "      <th>place_name</th>\n",
       "    </tr>\n",
       "  </thead>\n",
       "  <tbody>\n",
       "    <tr>\n",
       "      <th>0</th>\n",
       "      <td>14555.078219</td>\n",
       "      <td>POINT (-58.50884 -34.66182)</td>\n",
       "      <td>-34.661824</td>\n",
       "      <td>-58.508839</td>\n",
       "      <td>PH</td>\n",
       "      <td>Mataderos</td>\n",
       "    </tr>\n",
       "    <tr>\n",
       "      <th>1</th>\n",
       "      <td>15988.570648</td>\n",
       "      <td>POINT (-58.52298 -34.65226)</td>\n",
       "      <td>-34.652262</td>\n",
       "      <td>-58.522982</td>\n",
       "      <td>apartment</td>\n",
       "      <td>Mataderos</td>\n",
       "    </tr>\n",
       "    <tr>\n",
       "      <th>2</th>\n",
       "      <td>7381.316759</td>\n",
       "      <td>POINT (-58.44336 -34.55987)</td>\n",
       "      <td>-34.559873</td>\n",
       "      <td>-58.443362</td>\n",
       "      <td>apartment</td>\n",
       "      <td>Belgrano</td>\n",
       "    </tr>\n",
       "    <tr>\n",
       "      <th>3</th>\n",
       "      <td>7381.316759</td>\n",
       "      <td>POINT (-58.44336 -34.55987)</td>\n",
       "      <td>-34.559873</td>\n",
       "      <td>-58.443362</td>\n",
       "      <td>apartment</td>\n",
       "      <td>Belgrano</td>\n",
       "    </tr>\n",
       "    <tr>\n",
       "      <th>4</th>\n",
       "      <td>13651.907067</td>\n",
       "      <td>POINT (-58.50162 -34.65236)</td>\n",
       "      <td>-34.652356</td>\n",
       "      <td>-58.501624</td>\n",
       "      <td>PH</td>\n",
       "      <td>Mataderos</td>\n",
       "    </tr>\n",
       "  </tbody>\n",
       "</table>\n",
       "</div>"
      ],
      "text/plain": [
       "   distancia_obelisco                     geometry        lat        lon   \n",
       "0        14555.078219  POINT (-58.50884 -34.66182) -34.661824 -58.508839  \\\n",
       "1        15988.570648  POINT (-58.52298 -34.65226) -34.652262 -58.522982   \n",
       "2         7381.316759  POINT (-58.44336 -34.55987) -34.559873 -58.443362   \n",
       "3         7381.316759  POINT (-58.44336 -34.55987) -34.559873 -58.443362   \n",
       "4        13651.907067  POINT (-58.50162 -34.65236) -34.652356 -58.501624   \n",
       "\n",
       "  property_type place_name  \n",
       "0            PH  Mataderos  \n",
       "1     apartment  Mataderos  \n",
       "2     apartment   Belgrano  \n",
       "3     apartment   Belgrano  \n",
       "4            PH  Mataderos  "
      ]
     },
     "execution_count": 65,
     "metadata": {},
     "output_type": "execute_result"
    }
   ],
   "source": [
    "geo_prop.loc[:4, ['distancia_obelisco','geometry', 'lat', 'lon','property_type','place_name']]"
   ]
  },
  {
   "cell_type": "markdown",
   "metadata": {},
   "source": [
    "Es interesante encontrar **valores extremos** en la distancia calculada (llamados *outliers*). Nos pueden distorsionar los calculos estadísticos.\n",
    "\n",
    "Para ello vamos a ordenar el GeoDataFrame geo_prop por la columna *distancia_obelisco* en forma descendente. Y ver si en los primeros valores encontramos distancia que muestren un valor extremo respecto a los demás."
   ]
  },
  {
   "cell_type": "code",
   "execution_count": 67,
   "metadata": {},
   "outputs": [
    {
     "data": {
      "text/html": [
       "<div>\n",
       "<style scoped>\n",
       "    .dataframe tbody tr th:only-of-type {\n",
       "        vertical-align: middle;\n",
       "    }\n",
       "\n",
       "    .dataframe tbody tr th {\n",
       "        vertical-align: top;\n",
       "    }\n",
       "\n",
       "    .dataframe thead th {\n",
       "        text-align: right;\n",
       "    }\n",
       "</style>\n",
       "<table border=\"1\" class=\"dataframe\">\n",
       "  <thead>\n",
       "    <tr style=\"text-align: right;\">\n",
       "      <th></th>\n",
       "      <th>property_type</th>\n",
       "      <th>place_name</th>\n",
       "      <th>country_name</th>\n",
       "      <th>state_name</th>\n",
       "      <th>lat</th>\n",
       "      <th>lon</th>\n",
       "      <th>price</th>\n",
       "      <th>currency</th>\n",
       "      <th>surface_total_in_m2</th>\n",
       "      <th>geometry</th>\n",
       "      <th>distancia_obelisco</th>\n",
       "    </tr>\n",
       "  </thead>\n",
       "  <tbody>\n",
       "    <tr>\n",
       "      <th>4202</th>\n",
       "      <td>apartment</td>\n",
       "      <td>Mataderos</td>\n",
       "      <td>Argentina</td>\n",
       "      <td>Capital Federal</td>\n",
       "      <td>-38.416097</td>\n",
       "      <td>-63.616672</td>\n",
       "      <td>45000.0</td>\n",
       "      <td>USD</td>\n",
       "      <td>70.0</td>\n",
       "      <td>POINT (-63.61667 -38.41610)</td>\n",
       "      <td>618443.386395</td>\n",
       "    </tr>\n",
       "    <tr>\n",
       "      <th>3689</th>\n",
       "      <td>apartment</td>\n",
       "      <td>Belgrano</td>\n",
       "      <td>Argentina</td>\n",
       "      <td>Capital Federal</td>\n",
       "      <td>-34.578678</td>\n",
       "      <td>-58.544722</td>\n",
       "      <td>85000.0</td>\n",
       "      <td>USD</td>\n",
       "      <td>38.0</td>\n",
       "      <td>POINT (-58.54472 -34.57868)</td>\n",
       "      <td>18241.418749</td>\n",
       "    </tr>\n",
       "    <tr>\n",
       "      <th>10749</th>\n",
       "      <td>apartment</td>\n",
       "      <td>Almagro</td>\n",
       "      <td>Argentina</td>\n",
       "      <td>Capital Federal</td>\n",
       "      <td>-34.558634</td>\n",
       "      <td>-58.542461</td>\n",
       "      <td>250000.0</td>\n",
       "      <td>USD</td>\n",
       "      <td>107.0</td>\n",
       "      <td>POINT (-58.54246 -34.55863)</td>\n",
       "      <td>18129.491894</td>\n",
       "    </tr>\n",
       "  </tbody>\n",
       "</table>\n",
       "</div>"
      ],
      "text/plain": [
       "      property_type place_name country_name       state_name        lat   \n",
       "4202      apartment  Mataderos    Argentina  Capital Federal -38.416097  \\\n",
       "3689      apartment   Belgrano    Argentina  Capital Federal -34.578678   \n",
       "10749     apartment    Almagro    Argentina  Capital Federal -34.558634   \n",
       "\n",
       "             lon     price currency  surface_total_in_m2   \n",
       "4202  -63.616672   45000.0      USD                 70.0  \\\n",
       "3689  -58.544722   85000.0      USD                 38.0   \n",
       "10749 -58.542461  250000.0      USD                107.0   \n",
       "\n",
       "                          geometry  distancia_obelisco  \n",
       "4202   POINT (-63.61667 -38.41610)       618443.386395  \n",
       "3689   POINT (-58.54472 -34.57868)        18241.418749  \n",
       "10749  POINT (-58.54246 -34.55863)        18129.491894  "
      ]
     },
     "execution_count": 67,
     "metadata": {},
     "output_type": "execute_result"
    }
   ],
   "source": [
    "geo_prop.sort_values(by=\"distancia_obelisco\", ascending=False).head(3)"
   ]
  },
  {
   "cell_type": "markdown",
   "metadata": {},
   "source": [
    "El primer registro tiene una distancia incorrecta, que se genera a partir del dato erróneo de las coordenadas. Mejor eliminarlo.\n",
    "\n",
    "Para ello, buscamos las propiedades que tienen una distancia_obelisco mayor a 19000 y las eliminamos:\n",
    "\n",
    "- Buscamos los valores del índice que representan a esas propiedades: "
   ]
  },
  {
   "cell_type": "code",
   "execution_count": 71,
   "metadata": {},
   "outputs": [
    {
     "data": {
      "text/plain": [
       "pandas.core.indexes.base.Index"
      ]
     },
     "execution_count": 71,
     "metadata": {},
     "output_type": "execute_result"
    }
   ],
   "source": [
    "indice = geo_prop[geo_prop.distancia_obelisco > 19000].index\n",
    "\n",
    "type(indice)"
   ]
  },
  {
   "cell_type": "markdown",
   "metadata": {},
   "source": [
    "- Con el método drop eliminamos esas filas\n",
    "\n",
    "<code>geo_prop.drop(              ,inplace=True)</code>"
   ]
  },
  {
   "cell_type": "code",
   "execution_count": 73,
   "metadata": {},
   "outputs": [],
   "source": [
    "geo_prop.drop(indice, inplace=True)"
   ]
  },
  {
   "cell_type": "markdown",
   "metadata": {},
   "source": [
    "Verificamos ordenando nuevamente por la distancia_obelisco en forma descendente."
   ]
  },
  {
   "cell_type": "code",
   "execution_count": 74,
   "metadata": {},
   "outputs": [
    {
     "data": {
      "text/html": [
       "<div>\n",
       "<style scoped>\n",
       "    .dataframe tbody tr th:only-of-type {\n",
       "        vertical-align: middle;\n",
       "    }\n",
       "\n",
       "    .dataframe tbody tr th {\n",
       "        vertical-align: top;\n",
       "    }\n",
       "\n",
       "    .dataframe thead th {\n",
       "        text-align: right;\n",
       "    }\n",
       "</style>\n",
       "<table border=\"1\" class=\"dataframe\">\n",
       "  <thead>\n",
       "    <tr style=\"text-align: right;\">\n",
       "      <th></th>\n",
       "      <th>property_type</th>\n",
       "      <th>place_name</th>\n",
       "      <th>country_name</th>\n",
       "      <th>state_name</th>\n",
       "      <th>lat</th>\n",
       "      <th>lon</th>\n",
       "      <th>price</th>\n",
       "      <th>currency</th>\n",
       "      <th>surface_total_in_m2</th>\n",
       "      <th>geometry</th>\n",
       "      <th>distancia_obelisco</th>\n",
       "    </tr>\n",
       "  </thead>\n",
       "  <tbody>\n",
       "    <tr>\n",
       "      <th>3689</th>\n",
       "      <td>apartment</td>\n",
       "      <td>Belgrano</td>\n",
       "      <td>Argentina</td>\n",
       "      <td>Capital Federal</td>\n",
       "      <td>-34.578678</td>\n",
       "      <td>-58.544722</td>\n",
       "      <td>85000.0</td>\n",
       "      <td>USD</td>\n",
       "      <td>38.0</td>\n",
       "      <td>POINT (-58.54472 -34.57868)</td>\n",
       "      <td>18241.418749</td>\n",
       "    </tr>\n",
       "    <tr>\n",
       "      <th>10557</th>\n",
       "      <td>apartment</td>\n",
       "      <td>Palermo</td>\n",
       "      <td>Argentina</td>\n",
       "      <td>Capital Federal</td>\n",
       "      <td>-34.558634</td>\n",
       "      <td>-58.542461</td>\n",
       "      <td>250000.0</td>\n",
       "      <td>USD</td>\n",
       "      <td>107.0</td>\n",
       "      <td>POINT (-58.54246 -34.55863)</td>\n",
       "      <td>18129.491894</td>\n",
       "    </tr>\n",
       "    <tr>\n",
       "      <th>10749</th>\n",
       "      <td>apartment</td>\n",
       "      <td>Almagro</td>\n",
       "      <td>Argentina</td>\n",
       "      <td>Capital Federal</td>\n",
       "      <td>-34.558634</td>\n",
       "      <td>-58.542461</td>\n",
       "      <td>250000.0</td>\n",
       "      <td>USD</td>\n",
       "      <td>107.0</td>\n",
       "      <td>POINT (-58.54246 -34.55863)</td>\n",
       "      <td>18129.491894</td>\n",
       "    </tr>\n",
       "  </tbody>\n",
       "</table>\n",
       "</div>"
      ],
      "text/plain": [
       "      property_type place_name country_name       state_name        lat   \n",
       "3689      apartment   Belgrano    Argentina  Capital Federal -34.578678  \\\n",
       "10557     apartment    Palermo    Argentina  Capital Federal -34.558634   \n",
       "10749     apartment    Almagro    Argentina  Capital Federal -34.558634   \n",
       "\n",
       "             lon     price currency  surface_total_in_m2   \n",
       "3689  -58.544722   85000.0      USD                 38.0  \\\n",
       "10557 -58.542461  250000.0      USD                107.0   \n",
       "10749 -58.542461  250000.0      USD                107.0   \n",
       "\n",
       "                          geometry  distancia_obelisco  \n",
       "3689   POINT (-58.54472 -34.57868)        18241.418749  \n",
       "10557  POINT (-58.54246 -34.55863)        18129.491894  \n",
       "10749  POINT (-58.54246 -34.55863)        18129.491894  "
      ]
     },
     "execution_count": 74,
     "metadata": {},
     "output_type": "execute_result"
    }
   ],
   "source": [
    "geo_prop.sort_values(by=\"distancia_obelisco\", ascending=False).head(3)"
   ]
  },
  {
   "cell_type": "markdown",
   "metadata": {},
   "source": [
    "Y ahora podemos hacer un histograma sobre las distancias."
   ]
  },
  {
   "cell_type": "code",
   "execution_count": 75,
   "metadata": {},
   "outputs": [
    {
     "data": {
      "image/png": "[encoded data removed]",
      "text/plain": [
       "<Figure size 640x480 with 1 Axes>"
      ]
     },
     "metadata": {},
     "output_type": "display_data"
    },
    {
     "data": {
      "text/plain": [
       "<Figure size 640x480 with 0 Axes>"
      ]
     },
     "metadata": {},
     "output_type": "display_data"
    }
   ],
   "source": [
    "plt.title('Distancia al Obelisco')\n",
    "plt.hist(geo_prop[\"distancia_obelisco\"], bins=20, alpha=1, edgecolor = 'black',  linewidth=1)\n",
    "plt.grid(True)\n",
    "plt.show()\n",
    "plt.clf()"
   ]
  },
  {
   "cell_type": "markdown",
   "metadata": {},
   "source": [
    "---\n",
    "\n",
    "### Parte 4 - Línea que una a las estaciones de subte\n",
    "\n",
    "Vamos a hacer una línea geométrica con las estaciones de subte de la línea H y graficarla sobre la ciudad.\n",
    "\n",
    "<div>\n",
    "    <div class = \"mapa\">\n",
    "        <img src='img/M1_Clase_07_1_desafio.jpg' alt=\"Elementos geométricos\" width=80% height=90%>\n",
    "    </div>\n",
    "</div>"
   ]
  },
  {
   "cell_type": "markdown",
   "metadata": {},
   "source": [
    "Miramos los primeros registros del GeoDataFrame geo_subte"
   ]
  },
  {
   "cell_type": "code",
   "execution_count": 76,
   "metadata": {},
   "outputs": [
    {
     "data": {
      "text/html": [
       "<div>\n",
       "<style scoped>\n",
       "    .dataframe tbody tr th:only-of-type {\n",
       "        vertical-align: middle;\n",
       "    }\n",
       "\n",
       "    .dataframe tbody tr th {\n",
       "        vertical-align: top;\n",
       "    }\n",
       "\n",
       "    .dataframe thead th {\n",
       "        text-align: right;\n",
       "    }\n",
       "</style>\n",
       "<table border=\"1\" class=\"dataframe\">\n",
       "  <thead>\n",
       "    <tr style=\"text-align: right;\">\n",
       "      <th></th>\n",
       "      <th>long</th>\n",
       "      <th>lat</th>\n",
       "      <th>id</th>\n",
       "      <th>estacion</th>\n",
       "      <th>linea</th>\n",
       "      <th>geometry</th>\n",
       "    </tr>\n",
       "  </thead>\n",
       "  <tbody>\n",
       "    <tr>\n",
       "      <th>0</th>\n",
       "      <td>-58.398928</td>\n",
       "      <td>-34.635750</td>\n",
       "      <td>1.0</td>\n",
       "      <td>CASEROS</td>\n",
       "      <td>H</td>\n",
       "      <td>POINT (-58.39893 -34.63575)</td>\n",
       "    </tr>\n",
       "    <tr>\n",
       "      <th>1</th>\n",
       "      <td>-58.400970</td>\n",
       "      <td>-34.629376</td>\n",
       "      <td>2.0</td>\n",
       "      <td>INCLAN - MEZQUITA AL AHMAD</td>\n",
       "      <td>H</td>\n",
       "      <td>POINT (-58.40097 -34.62938)</td>\n",
       "    </tr>\n",
       "    <tr>\n",
       "      <th>2</th>\n",
       "      <td>-58.402323</td>\n",
       "      <td>-34.623092</td>\n",
       "      <td>3.0</td>\n",
       "      <td>HUMBERTO 1Â°</td>\n",
       "      <td>H</td>\n",
       "      <td>POINT (-58.40232 -34.62309)</td>\n",
       "    </tr>\n",
       "    <tr>\n",
       "      <th>3</th>\n",
       "      <td>-58.404732</td>\n",
       "      <td>-34.615242</td>\n",
       "      <td>4.0</td>\n",
       "      <td>VENEZUELA</td>\n",
       "      <td>H</td>\n",
       "      <td>POINT (-58.40473 -34.61524)</td>\n",
       "    </tr>\n",
       "    <tr>\n",
       "      <th>4</th>\n",
       "      <td>-58.406036</td>\n",
       "      <td>-34.608935</td>\n",
       "      <td>5.0</td>\n",
       "      <td>ONCE - 30 DE DICIEMBRE</td>\n",
       "      <td>H</td>\n",
       "      <td>POINT (-58.40604 -34.60894)</td>\n",
       "    </tr>\n",
       "  </tbody>\n",
       "</table>\n",
       "</div>"
      ],
      "text/plain": [
       "        long        lat   id                    estacion linea   \n",
       "0 -58.398928 -34.635750  1.0                     CASEROS     H  \\\n",
       "1 -58.400970 -34.629376  2.0  INCLAN - MEZQUITA AL AHMAD     H   \n",
       "2 -58.402323 -34.623092  3.0                HUMBERTO 1Â°     H   \n",
       "3 -58.404732 -34.615242  4.0                   VENEZUELA     H   \n",
       "4 -58.406036 -34.608935  5.0      ONCE - 30 DE DICIEMBRE     H   \n",
       "\n",
       "                      geometry  \n",
       "0  POINT (-58.39893 -34.63575)  \n",
       "1  POINT (-58.40097 -34.62938)  \n",
       "2  POINT (-58.40232 -34.62309)  \n",
       "3  POINT (-58.40473 -34.61524)  \n",
       "4  POINT (-58.40604 -34.60894)  "
      ]
     },
     "execution_count": 76,
     "metadata": {},
     "output_type": "execute_result"
    }
   ],
   "source": [
    "geo_subte.head(5)"
   ]
  },
  {
   "cell_type": "markdown",
   "metadata": {},
   "source": [
    "Primero seleccionemos solo las estaciones de la linea H, y guardamos la selección en la variable geo_subte_h."
   ]
  },
  {
   "cell_type": "code",
   "execution_count": 83,
   "metadata": {},
   "outputs": [
    {
     "data": {
      "text/html": [
       "<div>\n",
       "<style scoped>\n",
       "    .dataframe tbody tr th:only-of-type {\n",
       "        vertical-align: middle;\n",
       "    }\n",
       "\n",
       "    .dataframe tbody tr th {\n",
       "        vertical-align: top;\n",
       "    }\n",
       "\n",
       "    .dataframe thead th {\n",
       "        text-align: right;\n",
       "    }\n",
       "</style>\n",
       "<table border=\"1\" class=\"dataframe\">\n",
       "  <thead>\n",
       "    <tr style=\"text-align: right;\">\n",
       "      <th></th>\n",
       "      <th>long</th>\n",
       "      <th>lat</th>\n",
       "      <th>id</th>\n",
       "      <th>estacion</th>\n",
       "      <th>linea</th>\n",
       "      <th>geometry</th>\n",
       "    </tr>\n",
       "  </thead>\n",
       "  <tbody>\n",
       "    <tr>\n",
       "      <th>0</th>\n",
       "      <td>-58.398928</td>\n",
       "      <td>-34.635750</td>\n",
       "      <td>1.0</td>\n",
       "      <td>CASEROS</td>\n",
       "      <td>H</td>\n",
       "      <td>POINT (-58.39893 -34.63575)</td>\n",
       "    </tr>\n",
       "    <tr>\n",
       "      <th>1</th>\n",
       "      <td>-58.400970</td>\n",
       "      <td>-34.629376</td>\n",
       "      <td>2.0</td>\n",
       "      <td>INCLAN - MEZQUITA AL AHMAD</td>\n",
       "      <td>H</td>\n",
       "      <td>POINT (-58.40097 -34.62938)</td>\n",
       "    </tr>\n",
       "    <tr>\n",
       "      <th>2</th>\n",
       "      <td>-58.402323</td>\n",
       "      <td>-34.623092</td>\n",
       "      <td>3.0</td>\n",
       "      <td>HUMBERTO 1Â°</td>\n",
       "      <td>H</td>\n",
       "      <td>POINT (-58.40232 -34.62309)</td>\n",
       "    </tr>\n",
       "    <tr>\n",
       "      <th>3</th>\n",
       "      <td>-58.404732</td>\n",
       "      <td>-34.615242</td>\n",
       "      <td>4.0</td>\n",
       "      <td>VENEZUELA</td>\n",
       "      <td>H</td>\n",
       "      <td>POINT (-58.40473 -34.61524)</td>\n",
       "    </tr>\n",
       "    <tr>\n",
       "      <th>4</th>\n",
       "      <td>-58.406036</td>\n",
       "      <td>-34.608935</td>\n",
       "      <td>5.0</td>\n",
       "      <td>ONCE - 30 DE DICIEMBRE</td>\n",
       "      <td>H</td>\n",
       "      <td>POINT (-58.40604 -34.60894)</td>\n",
       "    </tr>\n",
       "    <tr>\n",
       "      <th>76</th>\n",
       "      <td>-58.405450</td>\n",
       "      <td>-34.604490</td>\n",
       "      <td>77.0</td>\n",
       "      <td>CORRIENTES</td>\n",
       "      <td>H</td>\n",
       "      <td>POINT (-58.40545 -34.60449)</td>\n",
       "    </tr>\n",
       "    <tr>\n",
       "      <th>77</th>\n",
       "      <td>-58.405795</td>\n",
       "      <td>-34.638406</td>\n",
       "      <td>78.0</td>\n",
       "      <td>PARQUE PATRICIOS</td>\n",
       "      <td>H</td>\n",
       "      <td>POINT (-58.40579 -34.63841)</td>\n",
       "    </tr>\n",
       "    <tr>\n",
       "      <th>78</th>\n",
       "      <td>-58.412385</td>\n",
       "      <td>-34.641269</td>\n",
       "      <td>79.0</td>\n",
       "      <td>HOSPITALES</td>\n",
       "      <td>H</td>\n",
       "      <td>POINT (-58.41239 -34.64127)</td>\n",
       "    </tr>\n",
       "    <tr>\n",
       "      <th>83</th>\n",
       "      <td>-58.403721</td>\n",
       "      <td>-34.598455</td>\n",
       "      <td>84.0</td>\n",
       "      <td>CÃRDOBA</td>\n",
       "      <td>H</td>\n",
       "      <td>POINT (-58.40372 -34.59846)</td>\n",
       "    </tr>\n",
       "    <tr>\n",
       "      <th>84</th>\n",
       "      <td>-58.397216</td>\n",
       "      <td>-34.587462</td>\n",
       "      <td>85.0</td>\n",
       "      <td>LAS HERAS</td>\n",
       "      <td>H</td>\n",
       "      <td>POINT (-58.39722 -34.58746)</td>\n",
       "    </tr>\n",
       "    <tr>\n",
       "      <th>85</th>\n",
       "      <td>-58.402376</td>\n",
       "      <td>-34.594525</td>\n",
       "      <td>86.0</td>\n",
       "      <td>SANTA FE - CARLOS JAUREGUI</td>\n",
       "      <td>H</td>\n",
       "      <td>POINT (-58.40238 -34.59453)</td>\n",
       "    </tr>\n",
       "    <tr>\n",
       "      <th>86</th>\n",
       "      <td>-58.391019</td>\n",
       "      <td>-34.583036</td>\n",
       "      <td>87.0</td>\n",
       "      <td>FACULTAD DE DERECHO - JULIETA LANTERI</td>\n",
       "      <td>H</td>\n",
       "      <td>POINT (-58.39102 -34.58304)</td>\n",
       "    </tr>\n",
       "  </tbody>\n",
       "</table>\n",
       "</div>"
      ],
      "text/plain": [
       "         long        lat    id                               estacion linea   \n",
       "0  -58.398928 -34.635750   1.0                                CASEROS     H  \\\n",
       "1  -58.400970 -34.629376   2.0             INCLAN - MEZQUITA AL AHMAD     H   \n",
       "2  -58.402323 -34.623092   3.0                           HUMBERTO 1Â°     H   \n",
       "3  -58.404732 -34.615242   4.0                              VENEZUELA     H   \n",
       "4  -58.406036 -34.608935   5.0                 ONCE - 30 DE DICIEMBRE     H   \n",
       "76 -58.405450 -34.604490  77.0                             CORRIENTES     H   \n",
       "77 -58.405795 -34.638406  78.0                       PARQUE PATRICIOS     H   \n",
       "78 -58.412385 -34.641269  79.0                             HOSPITALES     H   \n",
       "83 -58.403721 -34.598455  84.0                               CÃRDOBA     H   \n",
       "84 -58.397216 -34.587462  85.0                              LAS HERAS     H   \n",
       "85 -58.402376 -34.594525  86.0             SANTA FE - CARLOS JAUREGUI     H   \n",
       "86 -58.391019 -34.583036  87.0  FACULTAD DE DERECHO - JULIETA LANTERI     H   \n",
       "\n",
       "                       geometry  \n",
       "0   POINT (-58.39893 -34.63575)  \n",
       "1   POINT (-58.40097 -34.62938)  \n",
       "2   POINT (-58.40232 -34.62309)  \n",
       "3   POINT (-58.40473 -34.61524)  \n",
       "4   POINT (-58.40604 -34.60894)  \n",
       "76  POINT (-58.40545 -34.60449)  \n",
       "77  POINT (-58.40579 -34.63841)  \n",
       "78  POINT (-58.41239 -34.64127)  \n",
       "83  POINT (-58.40372 -34.59846)  \n",
       "84  POINT (-58.39722 -34.58746)  \n",
       "85  POINT (-58.40238 -34.59453)  \n",
       "86  POINT (-58.39102 -34.58304)  "
      ]
     },
     "execution_count": 83,
     "metadata": {},
     "output_type": "execute_result"
    }
   ],
   "source": [
    "geo_subte_h = geo_subte.loc[geo_subte.linea == \"H\"]\n",
    "geo_subte_h"
   ]
  },
  {
   "cell_type": "code",
   "execution_count": null,
   "metadata": {},
   "outputs": [],
   "source": [
    "geo_subte_h"
   ]
  },
  {
   "cell_type": "markdown",
   "metadata": {},
   "source": [
    "Como muestra el dibujo, la línea corre de Norte a Sur (o Sur a Norte). Como las estaciones deben estar alineadas para que salga bien la línea, podemos usar la columna lat para ordenarlas; lat es la latitud de cada estación.\n",
    "\n",
    "Ayuda: considerar sort_values con by\n",
    "https://pandas.pydata.org/pandas-docs/stable/reference/api/pandas.DataFrame.sort_values.html"
   ]
  },
  {
   "cell_type": "code",
   "execution_count": 85,
   "metadata": {},
   "outputs": [],
   "source": [
    "geo_subte_h = geo_subte_h.sort_values(ascending= True, by=\"lat\")"
   ]
  },
  {
   "cell_type": "code",
   "execution_count": 86,
   "metadata": {},
   "outputs": [
    {
     "data": {
      "text/html": [
       "<div>\n",
       "<style scoped>\n",
       "    .dataframe tbody tr th:only-of-type {\n",
       "        vertical-align: middle;\n",
       "    }\n",
       "\n",
       "    .dataframe tbody tr th {\n",
       "        vertical-align: top;\n",
       "    }\n",
       "\n",
       "    .dataframe thead th {\n",
       "        text-align: right;\n",
       "    }\n",
       "</style>\n",
       "<table border=\"1\" class=\"dataframe\">\n",
       "  <thead>\n",
       "    <tr style=\"text-align: right;\">\n",
       "      <th></th>\n",
       "      <th>long</th>\n",
       "      <th>lat</th>\n",
       "      <th>id</th>\n",
       "      <th>estacion</th>\n",
       "      <th>linea</th>\n",
       "      <th>geometry</th>\n",
       "    </tr>\n",
       "  </thead>\n",
       "  <tbody>\n",
       "    <tr>\n",
       "      <th>78</th>\n",
       "      <td>-58.412385</td>\n",
       "      <td>-34.641269</td>\n",
       "      <td>79.0</td>\n",
       "      <td>HOSPITALES</td>\n",
       "      <td>H</td>\n",
       "      <td>POINT (-58.41239 -34.64127)</td>\n",
       "    </tr>\n",
       "    <tr>\n",
       "      <th>77</th>\n",
       "      <td>-58.405795</td>\n",
       "      <td>-34.638406</td>\n",
       "      <td>78.0</td>\n",
       "      <td>PARQUE PATRICIOS</td>\n",
       "      <td>H</td>\n",
       "      <td>POINT (-58.40579 -34.63841)</td>\n",
       "    </tr>\n",
       "    <tr>\n",
       "      <th>0</th>\n",
       "      <td>-58.398928</td>\n",
       "      <td>-34.635750</td>\n",
       "      <td>1.0</td>\n",
       "      <td>CASEROS</td>\n",
       "      <td>H</td>\n",
       "      <td>POINT (-58.39893 -34.63575)</td>\n",
       "    </tr>\n",
       "    <tr>\n",
       "      <th>1</th>\n",
       "      <td>-58.400970</td>\n",
       "      <td>-34.629376</td>\n",
       "      <td>2.0</td>\n",
       "      <td>INCLAN - MEZQUITA AL AHMAD</td>\n",
       "      <td>H</td>\n",
       "      <td>POINT (-58.40097 -34.62938)</td>\n",
       "    </tr>\n",
       "    <tr>\n",
       "      <th>2</th>\n",
       "      <td>-58.402323</td>\n",
       "      <td>-34.623092</td>\n",
       "      <td>3.0</td>\n",
       "      <td>HUMBERTO 1Â°</td>\n",
       "      <td>H</td>\n",
       "      <td>POINT (-58.40232 -34.62309)</td>\n",
       "    </tr>\n",
       "    <tr>\n",
       "      <th>3</th>\n",
       "      <td>-58.404732</td>\n",
       "      <td>-34.615242</td>\n",
       "      <td>4.0</td>\n",
       "      <td>VENEZUELA</td>\n",
       "      <td>H</td>\n",
       "      <td>POINT (-58.40473 -34.61524)</td>\n",
       "    </tr>\n",
       "    <tr>\n",
       "      <th>4</th>\n",
       "      <td>-58.406036</td>\n",
       "      <td>-34.608935</td>\n",
       "      <td>5.0</td>\n",
       "      <td>ONCE - 30 DE DICIEMBRE</td>\n",
       "      <td>H</td>\n",
       "      <td>POINT (-58.40604 -34.60894)</td>\n",
       "    </tr>\n",
       "    <tr>\n",
       "      <th>76</th>\n",
       "      <td>-58.405450</td>\n",
       "      <td>-34.604490</td>\n",
       "      <td>77.0</td>\n",
       "      <td>CORRIENTES</td>\n",
       "      <td>H</td>\n",
       "      <td>POINT (-58.40545 -34.60449)</td>\n",
       "    </tr>\n",
       "    <tr>\n",
       "      <th>83</th>\n",
       "      <td>-58.403721</td>\n",
       "      <td>-34.598455</td>\n",
       "      <td>84.0</td>\n",
       "      <td>CÃRDOBA</td>\n",
       "      <td>H</td>\n",
       "      <td>POINT (-58.40372 -34.59846)</td>\n",
       "    </tr>\n",
       "    <tr>\n",
       "      <th>85</th>\n",
       "      <td>-58.402376</td>\n",
       "      <td>-34.594525</td>\n",
       "      <td>86.0</td>\n",
       "      <td>SANTA FE - CARLOS JAUREGUI</td>\n",
       "      <td>H</td>\n",
       "      <td>POINT (-58.40238 -34.59453)</td>\n",
       "    </tr>\n",
       "    <tr>\n",
       "      <th>84</th>\n",
       "      <td>-58.397216</td>\n",
       "      <td>-34.587462</td>\n",
       "      <td>85.0</td>\n",
       "      <td>LAS HERAS</td>\n",
       "      <td>H</td>\n",
       "      <td>POINT (-58.39722 -34.58746)</td>\n",
       "    </tr>\n",
       "    <tr>\n",
       "      <th>86</th>\n",
       "      <td>-58.391019</td>\n",
       "      <td>-34.583036</td>\n",
       "      <td>87.0</td>\n",
       "      <td>FACULTAD DE DERECHO - JULIETA LANTERI</td>\n",
       "      <td>H</td>\n",
       "      <td>POINT (-58.39102 -34.58304)</td>\n",
       "    </tr>\n",
       "  </tbody>\n",
       "</table>\n",
       "</div>"
      ],
      "text/plain": [
       "         long        lat    id                               estacion linea   \n",
       "78 -58.412385 -34.641269  79.0                             HOSPITALES     H  \\\n",
       "77 -58.405795 -34.638406  78.0                       PARQUE PATRICIOS     H   \n",
       "0  -58.398928 -34.635750   1.0                                CASEROS     H   \n",
       "1  -58.400970 -34.629376   2.0             INCLAN - MEZQUITA AL AHMAD     H   \n",
       "2  -58.402323 -34.623092   3.0                           HUMBERTO 1Â°     H   \n",
       "3  -58.404732 -34.615242   4.0                              VENEZUELA     H   \n",
       "4  -58.406036 -34.608935   5.0                 ONCE - 30 DE DICIEMBRE     H   \n",
       "76 -58.405450 -34.604490  77.0                             CORRIENTES     H   \n",
       "83 -58.403721 -34.598455  84.0                               CÃRDOBA     H   \n",
       "85 -58.402376 -34.594525  86.0             SANTA FE - CARLOS JAUREGUI     H   \n",
       "84 -58.397216 -34.587462  85.0                              LAS HERAS     H   \n",
       "86 -58.391019 -34.583036  87.0  FACULTAD DE DERECHO - JULIETA LANTERI     H   \n",
       "\n",
       "                       geometry  \n",
       "78  POINT (-58.41239 -34.64127)  \n",
       "77  POINT (-58.40579 -34.63841)  \n",
       "0   POINT (-58.39893 -34.63575)  \n",
       "1   POINT (-58.40097 -34.62938)  \n",
       "2   POINT (-58.40232 -34.62309)  \n",
       "3   POINT (-58.40473 -34.61524)  \n",
       "4   POINT (-58.40604 -34.60894)  \n",
       "76  POINT (-58.40545 -34.60449)  \n",
       "83  POINT (-58.40372 -34.59846)  \n",
       "85  POINT (-58.40238 -34.59453)  \n",
       "84  POINT (-58.39722 -34.58746)  \n",
       "86  POINT (-58.39102 -34.58304)  "
      ]
     },
     "execution_count": 86,
     "metadata": {},
     "output_type": "execute_result"
    }
   ],
   "source": [
    "geo_subte_h"
   ]
  },
  {
   "cell_type": "markdown",
   "metadata": {},
   "source": [
    "Para simplificar la codificación, solo nos quedaremos con los datos geográficos de cada estación.\n",
    "\n",
    "Generamos una *GeoSeries* con la columna geometry de geo_subte_h. Y la llamamos geo_subte_h_geometry."
   ]
  },
  {
   "cell_type": "code",
   "execution_count": 92,
   "metadata": {},
   "outputs": [],
   "source": [
    "geo_subte_h_geometry = geo_subte_h[\"geometry\"]"
   ]
  },
  {
   "cell_type": "code",
   "execution_count": 93,
   "metadata": {},
   "outputs": [
    {
     "data": {
      "text/plain": [
       "geopandas.geoseries.GeoSeries"
      ]
     },
     "execution_count": 93,
     "metadata": {},
     "output_type": "execute_result"
    }
   ],
   "source": [
    "type(geo_subte_h_geometry)"
   ]
  },
  {
   "cell_type": "markdown",
   "metadata": {},
   "source": [
    "Ahora creamos las líneas que unen a las estaciones de subte. \n",
    "\n",
    "Cada línea se forma con **dos puntos**. Por lo tanto, tenemos que tomar el primer y segundo punto de la Geoserie, y aplicarles el método <code>LineString</code>. Luego seguimos con el segundo y el tercero, y así siguiendo."
   ]
  },
  {
   "cell_type": "markdown",
   "metadata": {},
   "source": [
    "*Primero creamos una lista donde guardaremos cada linea.* La llamamos linea_h. Debe tener una longitud igual a la cantidad de estaciones menos 1, es decir longitud 11."
   ]
  },
  {
   "cell_type": "code",
   "execution_count": 90,
   "metadata": {},
   "outputs": [],
   "source": [
    "longitud_linea = len(geo_subte_h_geometry)-1\n",
    "linea_h = list(range(longitud_linea))"
   ]
  },
  {
   "cell_type": "code",
   "execution_count": 91,
   "metadata": {},
   "outputs": [
    {
     "data": {
      "text/plain": [
       "11"
      ]
     },
     "execution_count": 91,
     "metadata": {},
     "output_type": "execute_result"
    }
   ],
   "source": [
    "len(linea_h)"
   ]
  },
  {
   "cell_type": "markdown",
   "metadata": {},
   "source": [
    "Ahora podemos crear las líneas y guardarlas en la lista.\n",
    "\n",
    "Se debe generar **una iteración** para recorrer la GeoSerie *geo_subte_h_geometry*.\n",
    "\n",
    "Ayuda:\n",
    "<code>\n",
    "for i in range(longitud_linea): \n",
    "    linea_h[i] = creo la linea entre el elemento i y el elemento i+1\n",
    "</code> \n",
    "    \n",
    "El cálculo se realiza con el método <code>LineString</code> de la libreria shapely, el cual se explica en la notebook 3_geopandas_operaciones."
   ]
  },
  {
   "cell_type": "code",
   "execution_count": 94,
   "metadata": {},
   "outputs": [],
   "source": [
    "from shapely.geometry import LineString\n",
    "\n",
    "for i in range(longitud_linea): \n",
    "    linea_h[i] = LineString([geo_subte_h_geometry.iloc[i], geo_subte_h_geometry.iloc[i+1]])"
   ]
  },
  {
   "cell_type": "code",
   "execution_count": 95,
   "metadata": {},
   "outputs": [
    {
     "data": {
      "text/plain": [
       "[<LINESTRING (-58.412 -34.641, -58.406 -34.638)>,\n",
       " <LINESTRING (-58.406 -34.638, -58.399 -34.636)>,\n",
       " <LINESTRING (-58.399 -34.636, -58.401 -34.629)>,\n",
       " <LINESTRING (-58.401 -34.629, -58.402 -34.623)>,\n",
       " <LINESTRING (-58.402 -34.623, -58.405 -34.615)>,\n",
       " <LINESTRING (-58.405 -34.615, -58.406 -34.609)>,\n",
       " <LINESTRING (-58.406 -34.609, -58.405 -34.604)>,\n",
       " <LINESTRING (-58.405 -34.604, -58.404 -34.598)>,\n",
       " <LINESTRING (-58.404 -34.598, -58.402 -34.595)>,\n",
       " <LINESTRING (-58.402 -34.595, -58.397 -34.587)>,\n",
       " <LINESTRING (-58.397 -34.587, -58.391 -34.583)>]"
      ]
     },
     "execution_count": 95,
     "metadata": {},
     "output_type": "execute_result"
    }
   ],
   "source": [
    "linea_h"
   ]
  },
  {
   "cell_type": "markdown",
   "metadata": {},
   "source": [
    "---\n",
    "\n",
    "Ahora vamos a graficar las líneas sobre un mapa con los barrios de Buenos Aires.\n",
    "\n",
    "Vamos a leer los datos del archivo /M1/CLASE_07/Data/barrios.csv en un `DataFrame` de pandas con el método `read_csv`. Lo llamaremos df_barrios."
   ]
  },
  {
   "cell_type": "code",
   "execution_count": 96,
   "metadata": {},
   "outputs": [],
   "source": [
    "df_barrios = pd.read_csv(\"../Data/barrios.csv\", encoding=\"latin\")"
   ]
  },
  {
   "cell_type": "code",
   "execution_count": 97,
   "metadata": {},
   "outputs": [
    {
     "data": {
      "text/html": [
       "<div>\n",
       "<style scoped>\n",
       "    .dataframe tbody tr th:only-of-type {\n",
       "        vertical-align: middle;\n",
       "    }\n",
       "\n",
       "    .dataframe tbody tr th {\n",
       "        vertical-align: top;\n",
       "    }\n",
       "\n",
       "    .dataframe thead th {\n",
       "        text-align: right;\n",
       "    }\n",
       "</style>\n",
       "<table border=\"1\" class=\"dataframe\">\n",
       "  <thead>\n",
       "    <tr style=\"text-align: right;\">\n",
       "      <th></th>\n",
       "      <th>WKT</th>\n",
       "      <th>BARRIO</th>\n",
       "      <th>COMUNA</th>\n",
       "      <th>PERIMETRO</th>\n",
       "      <th>AREA</th>\n",
       "    </tr>\n",
       "  </thead>\n",
       "  <tbody>\n",
       "    <tr>\n",
       "      <th>0</th>\n",
       "      <td>POLYGON ((-58.4528200492791 -34.5959886570639,...</td>\n",
       "      <td>CHACARITA</td>\n",
       "      <td>15.0</td>\n",
       "      <td>7725.695228</td>\n",
       "      <td>3.118101e+06</td>\n",
       "    </tr>\n",
       "    <tr>\n",
       "      <th>1</th>\n",
       "      <td>POLYGON ((-58.4655768128541 -34.5965577078058,...</td>\n",
       "      <td>PATERNAL</td>\n",
       "      <td>15.0</td>\n",
       "      <td>7087.513295</td>\n",
       "      <td>2.229829e+06</td>\n",
       "    </tr>\n",
       "    <tr>\n",
       "      <th>2</th>\n",
       "      <td>POLYGON ((-58.4237529813037 -34.5978273383243,...</td>\n",
       "      <td>VILLA CRESPO</td>\n",
       "      <td>15.0</td>\n",
       "      <td>8132.699348</td>\n",
       "      <td>3.613584e+06</td>\n",
       "    </tr>\n",
       "  </tbody>\n",
       "</table>\n",
       "</div>"
      ],
      "text/plain": [
       "                                                 WKT        BARRIO  COMUNA   \n",
       "0  POLYGON ((-58.4528200492791 -34.5959886570639,...     CHACARITA    15.0  \\\n",
       "1  POLYGON ((-58.4655768128541 -34.5965577078058,...      PATERNAL    15.0   \n",
       "2  POLYGON ((-58.4237529813037 -34.5978273383243,...  VILLA CRESPO    15.0   \n",
       "\n",
       "     PERIMETRO          AREA  \n",
       "0  7725.695228  3.118101e+06  \n",
       "1  7087.513295  2.229829e+06  \n",
       "2  8132.699348  3.613584e+06  "
      ]
     },
     "execution_count": 97,
     "metadata": {},
     "output_type": "execute_result"
    }
   ],
   "source": [
    "df_barrios.head(3)"
   ]
  },
  {
   "cell_type": "code",
   "execution_count": 101,
   "metadata": {},
   "outputs": [
    {
     "data": {
      "text/plain": [
       "WKT           object\n",
       "BARRIO        object\n",
       "COMUNA       float64\n",
       "PERIMETRO    float64\n",
       "AREA         float64\n",
       "dtype: object"
      ]
     },
     "execution_count": 101,
     "metadata": {},
     "output_type": "execute_result"
    }
   ],
   "source": [
    "type(df_barrios)\n",
    "df_barrios.dtypes"
   ]
  },
  {
   "cell_type": "markdown",
   "metadata": {},
   "source": [
    "---\n",
    "\n",
    "Y luego generamos un GeoDataFrame de los barrios a partir del Dataframe. En este caso, la columna WKT ya contiene una forma geométrica **polígono** que representa el contorno de cada barrio. Pero en un formato WKT, que no permite generar un GeoDataFrame. Por lo tanto, lo tenemos que convertir a un formato *geometry*."
   ]
  },
  {
   "cell_type": "code",
   "execution_count": 99,
   "metadata": {},
   "outputs": [],
   "source": [
    "import shapely.wkt\n",
    "\n",
    "df_barrios[\"WKT\"] = df_barrios[\"WKT\"].apply(shapely.wkt.loads) \n",
    "geo_barrios = gpd.GeoDataFrame(df_barrios, geometry='WKT')"
   ]
  },
  {
   "cell_type": "code",
   "execution_count": 100,
   "metadata": {},
   "outputs": [
    {
     "data": {
      "text/plain": [
       "WKT          geometry\n",
       "BARRIO         object\n",
       "COMUNA        float64\n",
       "PERIMETRO     float64\n",
       "AREA          float64\n",
       "dtype: object"
      ]
     },
     "execution_count": 100,
     "metadata": {},
     "output_type": "execute_result"
    }
   ],
   "source": [
    "geo_barrios.dtypes"
   ]
  },
  {
   "cell_type": "markdown",
   "metadata": {},
   "source": [
    "Por otra parte, necesitamos para graficar las líneas generar una GeoSerie donde cada elemento se compone de dos puntos y la línea entre ellos."
   ]
  },
  {
   "cell_type": "code",
   "execution_count": 102,
   "metadata": {},
   "outputs": [],
   "source": [
    "linea_h_geo = list(range(longitud_linea))\n",
    "\n",
    "for i in range(longitud_linea): \n",
    "    linea_h_geo[i] = gpd.GeoSeries([geo_subte_h_geometry.iloc[i], geo_subte_h_geometry.iloc[i+1], linea_h[i]])"
   ]
  },
  {
   "cell_type": "code",
   "execution_count": 103,
   "metadata": {},
   "outputs": [
    {
     "data": {
      "text/plain": [
       "[0                          POINT (-58.41239 -34.64127)\n",
       " 1                          POINT (-58.40579 -34.63841)\n",
       " 2    LINESTRING (-58.41239 -34.64127, -58.40579 -34...\n",
       " dtype: geometry,\n",
       " 0                          POINT (-58.40579 -34.63841)\n",
       " 1                          POINT (-58.39893 -34.63575)\n",
       " 2    LINESTRING (-58.40579 -34.63841, -58.39893 -34...\n",
       " dtype: geometry]"
      ]
     },
     "execution_count": 103,
     "metadata": {},
     "output_type": "execute_result"
    }
   ],
   "source": [
    "linea_h_geo[:2]"
   ]
  },
  {
   "cell_type": "markdown",
   "metadata": {},
   "source": [
    "Con el método plot generamos el gráfico:"
   ]
  },
  {
   "cell_type": "code",
   "execution_count": 104,
   "metadata": {},
   "outputs": [
    {
     "data": {
      "image/png": "[encoded data removed]",
      "text/plain": [
       "<Figure size 640x480 with 1 Axes>"
      ]
     },
     "metadata": {},
     "output_type": "display_data"
    }
   ],
   "source": [
    "fig, ax = plt.subplots()\n",
    "ax.set_aspect('equal')\n",
    "geo_barrios.plot(ax=ax, color='white', edgecolor='black')\n",
    "\n",
    "for i in range(len(geo_subte_h_geometry)-2): \n",
    "    linea_h_geo[i].plot(ax=ax, color='red')\n",
    "\n",
    "plt.show();"
   ]
  },
  {
   "cell_type": "code",
   "execution_count": null,
   "metadata": {},
   "outputs": [],
   "source": []
  }
 ],
 "metadata": {
  "kernelspec": {
   "display_name": "dhdsblend2021_geopandas",
   "language": "python",
   "name": "python3"
  },
  "language_info": {
   "codemirror_mode": {
    "name": "ipython",
    "version": 3
   },
   "file_extension": ".py",
   "mimetype": "text/x-python",
   "name": "python",
   "nbconvert_exporter": "python",
   "pygments_lexer": "ipython3",
   "version": "3.11.3"
  },
  "vscode": {
   "interpreter": {
    "hash": "c2b671a8d90a676c3e8791353f41ac2d147b353d4ccccc77bd75638703e93f4d"
   }
  }
 },
 "nbformat": 4,
 "nbformat_minor": 4
}
