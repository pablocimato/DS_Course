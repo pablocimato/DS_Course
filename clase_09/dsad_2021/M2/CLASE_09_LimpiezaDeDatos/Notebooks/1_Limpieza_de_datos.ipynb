{
 "cells": [
  {
   "cell_type": "code",
   "execution_count": 1,
   "metadata": {},
   "outputs": [],
   "source": [
    "# initial setup\n",
    "# %run \"../../../common/0_notebooks_base_setup.py\"\n"
   ]
  },
  {
   "cell_type": "code",
   "execution_count": 2,
   "metadata": {},
   "outputs": [],
   "source": [
    "import test.test_1_limpieza as test_1_limpieza\n"
   ]
  },
  {
   "cell_type": "markdown",
   "metadata": {},
   "source": [
    "---\n",
    "\n",
    "<img src='../../../common/logo_DH.png' align='left' width=35%/>\n"
   ]
  },
  {
   "cell_type": "markdown",
   "metadata": {},
   "source": [
    "# Limpieza de Datos\n"
   ]
  },
  {
   "cell_type": "markdown",
   "metadata": {},
   "source": [
    "<a id=\"section_toc\"></a> \n",
    "## Tabla de Contenidos\n",
    "\n",
    "[Intro](#section_intro)\n",
    "\n",
    "[Dataset](#section_dataset)\n",
    "\n",
    "[Detección de valores faltantes](#section_deteccion_faltantes)\n",
    "\n",
    "Estrategias\n",
    "  \n",
    "$\\hspace{.5cm}$[Drop](#section_drop)\n",
    "  \n",
    "$\\hspace{.5cm}$[Imputación](#section_imputacion)\n",
    "\n"
   ]
  },
  {
   "cell_type": "markdown",
   "metadata": {},
   "source": [
    "<a id=\"section_intro\"></a> \n",
    "## Intro\n",
    "\n",
    "[volver a TOC](#section_toc)\n",
    "\n",
    "La limpieza es un paso necesario en todo proyecto de datos. \n",
    "\n",
    "Podemos resumir el proceso de limpieza de datos en las siguientes cinco tareas:\n",
    "\n",
    "**1. Resolver problemas de formato y asignar tipos de datos correctos.**\n",
    "\n",
    "Por ejemplo, cuando al pasar de CSV a Pandas una fecha no se importa correctamente como puede ser el caso de un campo fecha donde se importa 20090609231247 en lugar de 2009-06-09 23:12:47.\n",
    "\n",
    "El formato en que se encuentran los datos determina qué operaciones pueden realizarse sobre ellos.\n",
    "\n",
    "**2. Estandarizar categorías.**\n",
    "\n",
    "Cuando los datos se recolectaron con un sisstema que no tiene valores tipificadaos, valores que representan la misma categoría pueden estar expresados de forma distinta. Por ejemplo: Arg, AR, Argentina\n",
    "\n",
    "**3. Corregir valores erróneos.**\n",
    "\n",
    "Por ejemplo: un valor numérico o inválido para describir el género; o una edad representada por un número negativo o mucho mayor que 100.\n",
    "\n",
    "**4. Completar datos faltantes.**\n",
    "\n",
    "Los datasets del mundo real suelen venir con datos faltantes que responden a información que se perdió o nunca se recolectó. Existen varias técnicas para completar datos faltantes. Al proceso de completar datos faltantes se lo llama \"imputación\".\n",
    "\n",
    "**5. Organizar el dataset.**\n",
    "\n",
    "Es importante estructurar las filas y columnas de la forma más conveniente. Para hacerlo se pueden aplicar las reglas del \"tidy data\".\n",
    "\n",
    "\n"
   ]
  },
  {
   "cell_type": "markdown",
   "metadata": {},
   "source": [
    "<a id=\"section_dataset\"></a> \n",
    "## Dataset\n",
    "\n",
    "[volver a TOC](#section_toc)\n",
    "\n",
    "https://www.kaggle.com/dansbecker/melbourne-housing-snapshot\n",
    "\n",
    "El dataset que usaremos en esta parte, del 2017, está construido con los datos que se publicaron cada semana en https://www.domain.com.au/ \n",
    "\n",
    "Los datos incluyen dirección, tipo de inmueble, barrio, método de venta, habitaciones, precio, agente inmobiliario, fecha de venta y distancia a CBD (Central Business District).\n",
    "\n",
    "Los campos que incluye son:\n",
    "\n",
    "**Rooms**: cantidad de habitaciones\n",
    "\n",
    "**Price**: precio en dolares\n",
    "\n",
    "**Method**: S - property sold; SP - property sold prior; PI - property passed in; PN - sold prior not disclosed; SN - sold not disclosed; NB - no bid; VB - vendor bid; W - withdrawn prior to auction; SA - sold after auction; SS - sold after auction price not disclosed. N/A - price or highest bid not available.\n",
    "\n",
    "**Type**: br - bedroom(s); h - house,cottage,villa, semi,terrace; u - unit, duplex; t - townhouse; dev site - development site; o res - other residential.\n",
    "\n",
    "**SellerG**: agente inmobiliario\n",
    "\n",
    "**Date**: fecha de venta\n",
    "\n",
    "**Distance**: distancia a CBD\n",
    "\n",
    "**Regionname**: región (West, North West, North, North east …etc)\n",
    "\n",
    "**Propertycount**: cantidad de inmuebles que existen en ese suburbio.\n",
    "\n",
    "**Bedroom2** : Scraped # habitaciones (de distintas fuentes)\n",
    "\n",
    "**Bathroom**: cantidad de baños\n",
    "\n",
    "**Car**: cantidad de carspots\n",
    "\n",
    "**Landsize**: superficie\n",
    "\n",
    "**BuildingArea**: tamaño del edificio\n",
    "\n",
    "**CouncilArea**: municipio\n"
   ]
  },
  {
   "cell_type": "markdown",
   "metadata": {},
   "source": [
    "Leemos los datos desde el archivo csv"
   ]
  },
  {
   "cell_type": "code",
   "execution_count": 3,
   "metadata": {},
   "outputs": [
    {
     "data": {
      "text/html": [
       "<div>\n",
       "<style scoped>\n",
       "    .dataframe tbody tr th:only-of-type {\n",
       "        vertical-align: middle;\n",
       "    }\n",
       "\n",
       "    .dataframe tbody tr th {\n",
       "        vertical-align: top;\n",
       "    }\n",
       "\n",
       "    .dataframe thead th {\n",
       "        text-align: right;\n",
       "    }\n",
       "</style>\n",
       "<table border=\"1\" class=\"dataframe\">\n",
       "  <thead>\n",
       "    <tr style=\"text-align: right;\">\n",
       "      <th></th>\n",
       "      <th>Suburb</th>\n",
       "      <th>Address</th>\n",
       "      <th>Rooms</th>\n",
       "      <th>Type</th>\n",
       "      <th>Price</th>\n",
       "      <th>Method</th>\n",
       "      <th>SellerG</th>\n",
       "      <th>Date</th>\n",
       "      <th>Distance</th>\n",
       "      <th>Postcode</th>\n",
       "      <th>...</th>\n",
       "      <th>Bathroom</th>\n",
       "      <th>Car</th>\n",
       "      <th>Landsize</th>\n",
       "      <th>BuildingArea</th>\n",
       "      <th>YearBuilt</th>\n",
       "      <th>CouncilArea</th>\n",
       "      <th>Lattitude</th>\n",
       "      <th>Longtitude</th>\n",
       "      <th>Regionname</th>\n",
       "      <th>Propertycount</th>\n",
       "    </tr>\n",
       "  </thead>\n",
       "  <tbody>\n",
       "    <tr>\n",
       "      <th>0</th>\n",
       "      <td>Abbotsford</td>\n",
       "      <td>85 Turner St</td>\n",
       "      <td>2</td>\n",
       "      <td>h</td>\n",
       "      <td>1480000.0</td>\n",
       "      <td>S</td>\n",
       "      <td>Biggin</td>\n",
       "      <td>3/12/2016</td>\n",
       "      <td>2.5</td>\n",
       "      <td>3067.0</td>\n",
       "      <td>...</td>\n",
       "      <td>1.0</td>\n",
       "      <td>1.0</td>\n",
       "      <td>202.0</td>\n",
       "      <td>NaN</td>\n",
       "      <td>NaN</td>\n",
       "      <td>Yarra</td>\n",
       "      <td>-37.7996</td>\n",
       "      <td>144.9984</td>\n",
       "      <td>Northern Metropolitan</td>\n",
       "      <td>4019.0</td>\n",
       "    </tr>\n",
       "    <tr>\n",
       "      <th>1</th>\n",
       "      <td>Abbotsford</td>\n",
       "      <td>25 Bloomburg St</td>\n",
       "      <td>2</td>\n",
       "      <td>h</td>\n",
       "      <td>1035000.0</td>\n",
       "      <td>S</td>\n",
       "      <td>Biggin</td>\n",
       "      <td>4/02/2016</td>\n",
       "      <td>2.5</td>\n",
       "      <td>3067.0</td>\n",
       "      <td>...</td>\n",
       "      <td>1.0</td>\n",
       "      <td>0.0</td>\n",
       "      <td>156.0</td>\n",
       "      <td>79.0</td>\n",
       "      <td>1900.0</td>\n",
       "      <td>Yarra</td>\n",
       "      <td>-37.8079</td>\n",
       "      <td>144.9934</td>\n",
       "      <td>Northern Metropolitan</td>\n",
       "      <td>4019.0</td>\n",
       "    </tr>\n",
       "    <tr>\n",
       "      <th>2</th>\n",
       "      <td>Abbotsford</td>\n",
       "      <td>5 Charles St</td>\n",
       "      <td>3</td>\n",
       "      <td>h</td>\n",
       "      <td>1465000.0</td>\n",
       "      <td>SP</td>\n",
       "      <td>Biggin</td>\n",
       "      <td>4/03/2017</td>\n",
       "      <td>2.5</td>\n",
       "      <td>3067.0</td>\n",
       "      <td>...</td>\n",
       "      <td>2.0</td>\n",
       "      <td>0.0</td>\n",
       "      <td>134.0</td>\n",
       "      <td>150.0</td>\n",
       "      <td>1900.0</td>\n",
       "      <td>Yarra</td>\n",
       "      <td>-37.8093</td>\n",
       "      <td>144.9944</td>\n",
       "      <td>Northern Metropolitan</td>\n",
       "      <td>4019.0</td>\n",
       "    </tr>\n",
       "  </tbody>\n",
       "</table>\n",
       "<p>3 rows × 21 columns</p>\n",
       "</div>"
      ],
      "text/plain": [
       "       Suburb          Address  Rooms Type      Price Method SellerG  \\\n",
       "0  Abbotsford     85 Turner St      2    h  1480000.0      S  Biggin   \n",
       "1  Abbotsford  25 Bloomburg St      2    h  1035000.0      S  Biggin   \n",
       "2  Abbotsford     5 Charles St      3    h  1465000.0     SP  Biggin   \n",
       "\n",
       "        Date  Distance  Postcode  ...  Bathroom  Car  Landsize  BuildingArea  \\\n",
       "0  3/12/2016       2.5    3067.0  ...       1.0  1.0     202.0           NaN   \n",
       "1  4/02/2016       2.5    3067.0  ...       1.0  0.0     156.0          79.0   \n",
       "2  4/03/2017       2.5    3067.0  ...       2.0  0.0     134.0         150.0   \n",
       "\n",
       "   YearBuilt  CouncilArea Lattitude  Longtitude             Regionname  \\\n",
       "0        NaN        Yarra  -37.7996    144.9984  Northern Metropolitan   \n",
       "1     1900.0        Yarra  -37.8079    144.9934  Northern Metropolitan   \n",
       "2     1900.0        Yarra  -37.8093    144.9944  Northern Metropolitan   \n",
       "\n",
       "  Propertycount  \n",
       "0        4019.0  \n",
       "1        4019.0  \n",
       "2        4019.0  \n",
       "\n",
       "[3 rows x 21 columns]"
      ]
     },
     "execution_count": 3,
     "metadata": {},
     "output_type": "execute_result"
    }
   ],
   "source": [
    "import pandas as pd\n",
    "\n",
    "# local\n",
    "data_location = \"../Data/melb_data.csv\"\n",
    "\n",
    "data = pd.read_csv(data_location)\n",
    "\n",
    "data.head(3)"
   ]
  },
  {
   "cell_type": "markdown",
   "metadata": {},
   "source": [
    "<a id=\"section_deteccion_faltantes\"></a> \n",
    "## Detección de valores faltantes\n",
    "\n",
    "[volver a TOC](#section_toc)\n",
    "\n",
    "Comenzaremos detectando qué registros tienen valores nulos, y luego vamos a contar cuántos nulos hay en cada columna.\n",
    "\n",
    "Para eso usaremos el método `isnull` que nos devuelve otro `DataFrame` donde cada elemento es `True` o `False` dependiendo si ese elemento en el objeto DataFrame original es o no null.\n",
    "\n",
    "https://pandas.pydata.org/pandas-docs/stable/reference/api/pandas.DataFrame.isnull.html"
   ]
  },
  {
   "cell_type": "code",
   "execution_count": 4,
   "metadata": {},
   "outputs": [
    {
     "name": "stdout",
     "output_type": "stream",
     "text": [
      "   Suburb  Address  Rooms   Type  Price  Method  SellerG   Date  Distance  \\\n",
      "0   False    False  False  False  False   False    False  False     False   \n",
      "1   False    False  False  False  False   False    False  False     False   \n",
      "2   False    False  False  False  False   False    False  False     False   \n",
      "\n",
      "   Postcode  ...  Bathroom    Car  Landsize  BuildingArea  YearBuilt  \\\n",
      "0     False  ...     False  False     False          True       True   \n",
      "1     False  ...     False  False     False         False      False   \n",
      "2     False  ...     False  False     False         False      False   \n",
      "\n",
      "   CouncilArea  Lattitude  Longtitude  Regionname  Propertycount  \n",
      "0        False      False       False       False          False  \n",
      "1        False      False       False       False          False  \n",
      "2        False      False       False       False          False  \n",
      "\n",
      "[3 rows x 21 columns]\n"
     ]
    }
   ],
   "source": [
    "is_null_result = data.isnull()\n",
    "print(is_null_result.head(3))"
   ]
  },
  {
   "cell_type": "markdown",
   "metadata": {},
   "source": [
    "Otra forma es usando el método `notnull`\n",
    "\n",
    "https://pandas.pydata.org/pandas-docs/stable/reference/api/pandas.DataFrame.notnull.html"
   ]
  },
  {
   "cell_type": "code",
   "execution_count": 5,
   "metadata": {},
   "outputs": [
    {
     "name": "stdout",
     "output_type": "stream",
     "text": [
      "   Suburb  Address  Rooms  Type  Price  Method  SellerG  Date  Distance  \\\n",
      "0    True     True   True  True   True    True     True  True      True   \n",
      "1    True     True   True  True   True    True     True  True      True   \n",
      "2    True     True   True  True   True    True     True  True      True   \n",
      "\n",
      "   Postcode  ...  Bathroom   Car  Landsize  BuildingArea  YearBuilt  \\\n",
      "0      True  ...      True  True      True         False      False   \n",
      "1      True  ...      True  True      True          True       True   \n",
      "2      True  ...      True  True      True          True       True   \n",
      "\n",
      "   CouncilArea  Lattitude  Longtitude  Regionname  Propertycount  \n",
      "0         True       True        True        True           True  \n",
      "1         True       True        True        True           True  \n",
      "2         True       True        True        True           True  \n",
      "\n",
      "[3 rows x 21 columns]\n"
     ]
    }
   ],
   "source": [
    "is_notnull_result = data.notnull()\n",
    "print(is_notnull_result.head(3))"
   ]
  },
  {
   "cell_type": "markdown",
   "metadata": {},
   "source": [
    "<div id=\"caja1\" style=\"float:left;width: 100%;\">\n",
    "  <div style=\"float:left;width: 15%;\"><img src=\"../../../common/icons/haciendo_foco.png\" style=\"align:left\"/> </div>\n",
    "  <div style=\"float:left;width: 85%;\"><label>\n",
    "Observen, para cada elemento, la relación entre los valores en cada objeto DataFrame resultado (is_null_result y is_notnull_result).</label></div>\n",
    "</div>"
   ]
  },
  {
   "cell_type": "markdown",
   "metadata": {},
   "source": [
    "Para ver cuántos nulos hay en cada columna usaremos `sum` sobre el `DataFrame` resultado de `isnull`"
   ]
  },
  {
   "cell_type": "code",
   "execution_count": 6,
   "metadata": {},
   "outputs": [
    {
     "name": "stdout",
     "output_type": "stream",
     "text": [
      "Suburb              0\n",
      "Address             0\n",
      "Rooms               0\n",
      "Type                0\n",
      "Price               0\n",
      "Method              0\n",
      "SellerG             0\n",
      "Date                0\n",
      "Distance            0\n",
      "Postcode            0\n",
      "Bedroom2            0\n",
      "Bathroom            0\n",
      "Car                62\n",
      "Landsize            0\n",
      "BuildingArea     6450\n",
      "YearBuilt        5375\n",
      "CouncilArea      1369\n",
      "Lattitude           0\n",
      "Longtitude          0\n",
      "Regionname          0\n",
      "Propertycount       0\n",
      "dtype: int64\n"
     ]
    }
   ],
   "source": [
    "cant_nulls = is_null_result.sum()\n",
    "print(cant_nulls)"
   ]
  },
  {
   "cell_type": "markdown",
   "metadata": {},
   "source": [
    "Vemos que sólo cuatro campos tienen valores faltantes: Car, BuildingArea, YearBuilt, CouncilArea"
   ]
  },
  {
   "cell_type": "markdown",
   "metadata": {},
   "source": [
    "<div id=\"caja2\" style=\"float:left;width: 100%;\">\n",
    "  <div style=\"float:left;width: 15%;\"><img src=\"../../../common/icons/ponete_a_prueba.png\" style=\"align:left\"/> </div>\n",
    "  <div style=\"float:left;width: 85%;\"><label>\n",
    "      ¿Cómo vemos cuántos elementos <b>no nulos tenemos en cada columna</b> del objeto DataFrame?\n",
    "</label></div>\n",
    "</div>"
   ]
  },
  {
   "cell_type": "code",
   "execution_count": 7,
   "metadata": {},
   "outputs": [
    {
     "name": "stdout",
     "output_type": "stream",
     "text": [
      "Suburb           13580\n",
      "Address          13580\n",
      "Rooms            13580\n",
      "Type             13580\n",
      "Price            13580\n",
      "Method           13580\n",
      "SellerG          13580\n",
      "Date             13580\n",
      "Distance         13580\n",
      "Postcode         13580\n",
      "Bedroom2         13580\n",
      "Bathroom         13580\n",
      "Car              13518\n",
      "Landsize         13580\n",
      "BuildingArea      7130\n",
      "YearBuilt         8205\n",
      "CouncilArea      12211\n",
      "Lattitude        13580\n",
      "Longtitude       13580\n",
      "Regionname       13580\n",
      "Propertycount    13580\n",
      "dtype: int64\n"
     ]
    },
    {
     "data": {
      "text/plain": [
       "'Muy bien!!'"
      ]
     },
     "execution_count": 7,
     "metadata": {},
     "output_type": "execute_result"
    }
   ],
   "source": [
    "def not_null_column_count(data):    \n",
    "    # cambiar aquí:\n",
    "    # o data.count()\n",
    "    result = data.notnull().sum()\n",
    "    print(result)\n",
    "    return(result)\n",
    "\n",
    "# data es el objeto DataFrame que leimos:\n",
    "resultado = not_null_column_count(data)\n",
    "test_1_limpieza.test_not_null_column_count(data, resultado)"
   ]
  },
  {
   "cell_type": "markdown",
   "metadata": {},
   "source": [
    "<div id=\"caja3\" style=\"float:left;width: 100%;\">\n",
    "  <div style=\"float:left;width: 15%;\"><img src=\"../../../common/icons/ponete_a_prueba.png\" style=\"align:left\"/> </div>\n",
    "  <div style=\"float:left;width: 85%;\"><label>\n",
    "¿Cómo vemos cuántos elementos <b>no nulos tenemos en cada fila</b> del objeto DataFrame?\n",
    "<br/>\n",
    "Ayuda: Ver el argumento axis en la  <a href=\"https://pandas.pydata.org/pandas-docs/stable/reference/api/pandas.DataFrame.sum.html\">documentación</a>\n",
    "</label></div>\n",
    "\n",
    "</div>"
   ]
  },
  {
   "cell_type": "code",
   "execution_count": 8,
   "metadata": {},
   "outputs": [
    {
     "name": "stdout",
     "output_type": "stream",
     "text": [
      "(13580,)\n",
      "(13580, 21)\n"
     ]
    },
    {
     "data": {
      "text/plain": [
       "'Muy bien!!'"
      ]
     },
     "execution_count": 8,
     "metadata": {},
     "output_type": "execute_result"
    }
   ],
   "source": [
    "def not_null_row_count(data):    \n",
    "    # cambiar aquí:\n",
    "    result = data.notnull().sum(axis=1)\n",
    "    print(result.shape)\n",
    "    print(data.shape)\n",
    "    return(result)\n",
    "\n",
    "# data es el objeto DataFrame que leimos:\n",
    "resultado = not_null_row_count(data)\n",
    "test_1_limpieza.test_not_null_row_count(data, resultado)"
   ]
  },
  {
   "cell_type": "markdown",
   "metadata": {},
   "source": [
    "\n",
    "<a id=\"section_drop\"></a> \n",
    "## Drop\n",
    "\n",
    "[volver a TOC](#section_toc)\n",
    "\n",
    "Una vez que detectamos los datos faltantes de nuestro DataFrame, debemos decidir qué hacer con ellos.\n",
    "\n",
    "Una forma de proceder consiste en eliminar los registros o los campos que presentan algún dato faltante:\n",
    "\n",
    "* Ventaja: fácil implementación\n",
    "* Desventaja: pérdida importante de información, posibles sesgos en los estimadores de los parámetros.\n",
    "\n",
    "Este método **asume que la falta de respuesta se generó de forma aleatoria**, y por lo general ésto no sucede. \n",
    "\n",
    "Si los datos que faltan son pocos y al azar, entonces este método es el ideal.\n",
    "\n",
    "\n",
    "Algunas de las opciones son:\n",
    "\n",
    "* Eliminar todas las columnas que tengan algún valor faltante\n",
    "\n",
    "* Eliminar todas las filas que tengan algún valor faltante\n",
    "\n",
    "* Eliminar todas las columnas que tengan todos los registros con valor faltante\n",
    "\n",
    "* Eliminar todas las filas que tengan todos los campos con valor faltante\n",
    "\n",
    "* Eliminar todas las columnas que tengan una cantidad de registros con valor (no nulos) menor a un umbral (threshold) \n",
    "\n",
    "* Eliminar todas las filas que tengan una cantidad de campos con valor (no nulos) menor a un umbral (threshold) \n",
    "\n",
    "(Otras estrategias que veremos un poco más adelante son la imputación de valores faltantes.)\n",
    "\n",
    "El método que vamos a usar para todas las opciones acá listadas es `dropna`\n",
    "\n",
    "https://pandas.pydata.org/pandas-docs/stable/reference/api/pandas.DataFrame.dropna.html\n"
   ]
  },
  {
   "cell_type": "markdown",
   "metadata": {},
   "source": [
    "### Eliminar todas las columnas que tengan algún valor faltante"
   ]
  },
  {
   "cell_type": "code",
   "execution_count": 9,
   "metadata": {},
   "outputs": [
    {
     "name": "stdout",
     "output_type": "stream",
     "text": [
      "(13580, 21)\n",
      "(13580, 17)\n"
     ]
    }
   ],
   "source": [
    "data_columnas_completas = data.dropna(axis = 1)\n",
    "print(data.shape)\n",
    "print(data_columnas_completas.shape)"
   ]
  },
  {
   "cell_type": "markdown",
   "metadata": {},
   "source": [
    "### Eliminar todas las filas que tengan algún valor faltante"
   ]
  },
  {
   "cell_type": "code",
   "execution_count": 10,
   "metadata": {},
   "outputs": [
    {
     "name": "stdout",
     "output_type": "stream",
     "text": [
      "(13580, 21)\n",
      "(6196, 21)\n"
     ]
    }
   ],
   "source": [
    "data_filas_completas = data.dropna()\n",
    "print(data.shape)\n",
    "print(data_filas_completas.shape)"
   ]
  },
  {
   "cell_type": "markdown",
   "metadata": {},
   "source": [
    "es equivalente a "
   ]
  },
  {
   "cell_type": "code",
   "execution_count": 11,
   "metadata": {},
   "outputs": [
    {
     "name": "stdout",
     "output_type": "stream",
     "text": [
      "(13580, 21)\n",
      "(6196, 21)\n"
     ]
    }
   ],
   "source": [
    "data_filas_completas = data.dropna(axis = 0)\n",
    "print(data.shape)\n",
    "print(data_filas_completas.shape)"
   ]
  },
  {
   "cell_type": "markdown",
   "metadata": {},
   "source": [
    "<div id=\"caja4\" style=\"float:left;width: 100%;\">\n",
    "  <div style=\"float:left;width: 15%;\"><img src=\"../../../common/icons/haciendo_foco.png\" style=\"align:left\"/> </div>\n",
    "  <div style=\"float:left;width: 85%;\"><label>Observemos que por default dropna me devuelve un objeto DataFrame nuevo, no modifica el original.\n",
    "<br /> Si el argumento inplace tiene valor True, devuelve None y sí modifica el objeto DataFrame original.\n",
    "</label></div>\n",
    "</div>\n"
   ]
  },
  {
   "cell_type": "markdown",
   "metadata": {},
   "source": [
    "### Eliminar todas las columnas que tengan todos los registros con valor faltante"
   ]
  },
  {
   "cell_type": "code",
   "execution_count": 12,
   "metadata": {},
   "outputs": [
    {
     "name": "stdout",
     "output_type": "stream",
     "text": [
      "(13580, 21)\n",
      "(13580, 21)\n"
     ]
    }
   ],
   "source": [
    "data_clean_empty_col = data.dropna(axis = 1, how= 'all')\n",
    "print(data.shape)\n",
    "print(data_clean_empty_col.shape)"
   ]
  },
  {
   "cell_type": "markdown",
   "metadata": {},
   "source": [
    "### Eliminar todas las filas que tengan todos los campos con valor faltante"
   ]
  },
  {
   "cell_type": "code",
   "execution_count": 13,
   "metadata": {},
   "outputs": [
    {
     "name": "stdout",
     "output_type": "stream",
     "text": [
      "(13580, 21)\n",
      "(13580, 21)\n"
     ]
    }
   ],
   "source": [
    "data_clean_empty_row = data.dropna(axis = 0, how= 'all')\n",
    "print(data.shape)\n",
    "print(data_clean_empty_row.shape)"
   ]
  },
  {
   "cell_type": "markdown",
   "metadata": {},
   "source": [
    "### Eliminar todas las columnas que tengan una cantidad de registros con valor (no nulos) menor a un umbral (threshold)"
   ]
  },
  {
   "cell_type": "code",
   "execution_count": 14,
   "metadata": {},
   "outputs": [
    {
     "name": "stdout",
     "output_type": "stream",
     "text": [
      "(13580, 21)\n",
      "(13580, 18)\n"
     ]
    }
   ],
   "source": [
    "# quiero que como maximo haya 100 nulos por columna:\n",
    "umbral= 13480\n",
    "data_clean_col_with_many_null = data.dropna(axis = 1, thresh=umbral)\n",
    "print(data.shape)\n",
    "print(data_clean_col_with_many_null.shape)"
   ]
  },
  {
   "cell_type": "markdown",
   "metadata": {},
   "source": [
    "### Eliminar todas las filas que tengan una cantidad de campos con valor (no nulos) menor a un umbral (threshold)"
   ]
  },
  {
   "cell_type": "code",
   "execution_count": 15,
   "metadata": {},
   "outputs": [
    {
     "name": "stdout",
     "output_type": "stream",
     "text": [
      "(13580, 21)\n",
      "(13550, 21)\n"
     ]
    }
   ],
   "source": [
    "# quiero que como maximo haya 3 columnsa en null por registro:\n",
    "umbral = 18\n",
    "data_clean_row_with_many_null = data.dropna(axis = 0, thresh=umbral)\n",
    "print(data.shape)\n",
    "print(data_clean_row_with_many_null.shape)\n"
   ]
  },
  {
   "cell_type": "markdown",
   "metadata": {},
   "source": [
    "<div id=\"caja5\" style=\"float:left;width: 100%;\">\n",
    "  <div style=\"float:left;width: 15%;\"><img src=\"../../../common/icons/ponete_a_prueba.png\" style=\"align:left\"/> </div>\n",
    "  <div style=\"float:left;width: 85%;\"><label>\n",
    "      Queremos ahora eliminar las columnas del objeto data que tienen al menos 40% de los registros en null.\n",
    "<br />       Escribamos una función que reciba como parámetros el DataFrame y el valor del porcentaje expresado como un número entre 0 y 1 y nos devuelva el DataFrame \"limpio\".\n",
    "</label></div>\n",
    "</div>"
   ]
  },
  {
   "cell_type": "code",
   "execution_count": 16,
   "metadata": {},
   "outputs": [
    {
     "data": {
      "text/plain": [
       "(13580, 21)"
      ]
     },
     "execution_count": 16,
     "metadata": {},
     "output_type": "execute_result"
    }
   ],
   "source": [
    "data.isnull().sum()\n",
    "data.shape"
   ]
  },
  {
   "cell_type": "code",
   "execution_count": 17,
   "metadata": {},
   "outputs": [
    {
     "data": {
      "text/plain": [
       "'Muy bien!!'"
      ]
     },
     "execution_count": 17,
     "metadata": {},
     "output_type": "execute_result"
    }
   ],
   "source": [
    "def drop_columns_umbral(data, umbral):\n",
    "    # cambiar aquí\n",
    "    thresh=int(len(data)*(1-umbral))\n",
    "    result = data.dropna(axis=1, thresh=thresh)\n",
    "    return(result)\n",
    "\n",
    "umbral = 0.4\n",
    "# data es el objeto DataFrame que leimos:\n",
    "resultado = drop_columns_umbral(data, umbral)\n",
    "test_1_limpieza.test_drop_columns_umbral(data, umbral, resultado)\n",
    " "
   ]
  },
  {
   "cell_type": "markdown",
   "metadata": {},
   "source": [
    "<a id=\"section_imputacion\"></a> \n",
    "\n",
    "## Imputación de valores faltantes\n",
    "\n",
    "[volver a TOC](#section_toc)\n",
    "\n",
    "\n",
    "### Métodos de imputación\n",
    "\n",
    "#### Imputación Simple:\n",
    "\n",
    "Consiste en asignar un valor por cada dato faltante a partir de la propia variable o las demás variables para lograr una base de datos completa.\n",
    "\n",
    "\n",
    "#### Imputación Múltiple:\n",
    "\n",
    "A cada valor faltante se le asigna un grupo de m valores, generando m bases de datos completas. En cada una de las m bases de datos se estiman los parámetros de interés y luego se combinan los resultados obtenidos.\n",
    "\n",
    "#### Imputación por Media\n",
    "\n",
    "Se puede completar los valores faltantes reemplazandolos por la media de la serie o por la media condicionada a determinada categoría. \n",
    "\n",
    "Por ejemplo, dado un valor de estatura faltante para una mujer, reemplazarlo por la media de las mujeres. \n",
    "\n",
    "Este enfoque tiene ventajas y desventajas:\n",
    "\n",
    "* Ventajas: Es simple y, para algunas distribuciones de datos, es muy probable acercarme al verdadero valor del dato faltante\n",
    "* Desventajas:\n",
    "Reduzco artificialmente la variabilidad y la aleatoriedad de los datos, lo cual me puede llevar a conclusiones equivocadas. Si existía correlación entre esta variable y otras, ese valor puede verse afectado.\n",
    "\n",
    "#### Imputación Hot Deck\n",
    "\n",
    "Consiste en completar con un dato existente de la muestra, siguiendo algún criterio. Pueden ser aleatorios (se elige un elemento al azar), secuencial (se completa con el valor inmediatamente anterior o posterior) o vecino más cercano.\n",
    "\n",
    "#### Imputación por Regresión\n",
    "\n",
    "Se emplean modelos de regresión para estimar el dato que falta a partir de las demás variables del dataset. \n",
    "\n",
    "\n",
    "---"
   ]
  },
  {
   "cell_type": "markdown",
   "metadata": {},
   "source": [
    "`pandas` provee métodos para imputación de valores faltantes.\n",
    "\n",
    "El método `fillna`, permite varios tipos de imputación que puede especificarse en el parámetro \"method\"\n",
    "\n",
    "https://pandas.pydata.org/pandas-docs/stable/reference/api/pandas.DataFrame.fillna.html\n",
    "\n",
    "* Completar los datos con valores definidos por fuera del dataset (method = None). \n",
    "\n",
    "* Completar los datos faltantes con el valor anterior o el siguiente (ideal para series de tiempo) (method = ffill) o (method = bfill)\n",
    "\n",
    "* Completar por la media, moda o la mediana. data.fillna(data.mean())\n",
    "\n",
    "Vemos en la documentación los valores que puede tomar el parámetro `method`:\n",
    "\n",
    "pad / ffill: propagan la última observación válida, completando hasta la siguiente observación válida\n",
    "\n",
    "backfill / bfill: usa la siguiente observación válida para completar el dato faltante\n",
    "\n",
    "\n",
    "\n",
    "\n"
   ]
  },
  {
   "cell_type": "markdown",
   "metadata": {},
   "source": [
    "Más arriba vimos que los campos con datos faltantes son:\n",
    "* Car:                62\n",
    "* BuildingArea:     6450\n",
    "* YearBuilt:        5375\n",
    "* CouncilArea:      1369\n",
    "\n",
    "Y vamos a intentar imputar estos valores faltantes.\n",
    "\n",
    "Antes de eso vamos a ver qué valores tomas esos campos, y usar algunas de las cosas que vimos en las prácticas de estadística descriptiva y probabilidades.\n",
    "\n",
    "A continuación tenemos el código que usaremos para graficar histogramas y distribuciones:"
   ]
  },
  {
   "cell_type": "code",
   "execution_count": 18,
   "metadata": {},
   "outputs": [],
   "source": [
    "import seaborn as sns\n",
    "def count_plotter(data, label, labelsize=12):    \n",
    "    sns.set(rc={\"figure.figsize\": (10, 7), \n",
    "                \"xtick.labelsize\": labelsize})\n",
    "    sns.set_style(\"white\")    \n",
    "    data_count = sns.countplot(x=data)\n",
    "    data_count.set_title('Histograma de ' + label + '\\n', fontsize=16)\n",
    "\n",
    "    \n",
    "#def distribution_plotter(data, label, bins=None):    \n",
    "def distribution_plotter(data, label, bin_width=200):    \n",
    "    sns.set(rc={\"figure.figsize\": (10, 7)})\n",
    "    sns.set_style(\"white\")    \n",
    "    #dist = sns.distplot(data, bins= bins, hist_kws={'alpha':0.2}, kde_kws={'linewidth':5})\n",
    "    dist = sns.histplot(data, \n",
    "                        stat = 'density', kde = True, \n",
    "                        line_kws = {'linewidth':5}, \n",
    "                        binwidth = bin_width)        \n",
    "    dist.set_title('Distribucion de ' + label + '\\n', fontsize=16)    \n",
    "    \n"
   ]
  },
  {
   "cell_type": "markdown",
   "metadata": {},
   "source": [
    "#### Car\n",
    "\n",
    "Vamos a ver que forma toman los valores del campo Car:"
   ]
  },
  {
   "cell_type": "code",
   "execution_count": 36,
   "metadata": {},
   "outputs": [
    {
     "data": {
      "image/png": "[encoded data removed]",
      "text/plain": [
       "<Figure size 1000x700 with 1 Axes>"
      ]
     },
     "metadata": {},
     "output_type": "display_data"
    }
   ],
   "source": [
    "count_plotter(data.Car, \"Car\")\n"
   ]
  },
  {
   "cell_type": "markdown",
   "metadata": {},
   "source": [
    "También podemos verlo con el método `value_counts` que ya conocemos:"
   ]
  },
  {
   "cell_type": "code",
   "execution_count": 20,
   "metadata": {},
   "outputs": [
    {
     "data": {
      "text/plain": [
       "2.0     5591\n",
       "1.0     5509\n",
       "0.0     1026\n",
       "3.0      748\n",
       "4.0      506\n",
       "5.0       63\n",
       "6.0       54\n",
       "8.0        9\n",
       "7.0        8\n",
       "10.0       3\n",
       "9.0        1\n",
       "Name: Car, dtype: int64"
      ]
     },
     "execution_count": 20,
     "metadata": {},
     "output_type": "execute_result"
    }
   ],
   "source": [
    "pd.value_counts(data.Car)"
   ]
  },
  {
   "cell_type": "markdown",
   "metadata": {},
   "source": [
    "Vemos que los valores más probables para el campo Car son 1 y 2. \n",
    "\n",
    "Vamos a imputar los valores faltantes de este campo de dos formas diferentes:\n",
    "* La primera, asignamos un 2 a todos los faltantes en Car\n",
    "* La segunda, asignamos al 45% de los valores faltantes valor 1, y al resto valor 2\n",
    "\n",
    "Y para terminar verificamos que lo hicimos correctamente"
   ]
  },
  {
   "cell_type": "markdown",
   "metadata": {},
   "source": [
    "##### Asignamos un 2 a todos los valores faltantes de Car\n",
    "\n",
    "Contamos cuantos 2 y cuántos null hay en Car:"
   ]
  },
  {
   "cell_type": "code",
   "execution_count": 21,
   "metadata": {},
   "outputs": [
    {
     "name": "stdout",
     "output_type": "stream",
     "text": [
      "5591\n",
      "---\n",
      "62\n"
     ]
    }
   ],
   "source": [
    "data_car_2_mask = data.Car == 2\n",
    "data_car_2_count = data_car_2_mask.sum()\n",
    "print(data_car_2_count)\n",
    "print(\"---\")\n",
    "data_car_null_mask = data.Car.isnull()\n",
    "data_car_null_count = data_car_null_mask.sum()\n",
    "print(data_car_null_count)"
   ]
  },
  {
   "cell_type": "markdown",
   "metadata": {},
   "source": [
    "Rellenamos:"
   ]
  },
  {
   "cell_type": "code",
   "execution_count": 22,
   "metadata": {},
   "outputs": [],
   "source": [
    "data_car_2_fill = data.Car.fillna(2)\n",
    "# inventamos una columna nueva para no modificar los datos originales y \n",
    "# que nos sirva para el siguiente ejercicio sin volver a leer los datos:\n",
    "data[\"Car_fill\"] = data_car_2_fill"
   ]
  },
  {
   "cell_type": "markdown",
   "metadata": {},
   "source": [
    "Volvemos a contar:"
   ]
  },
  {
   "cell_type": "code",
   "execution_count": 23,
   "metadata": {},
   "outputs": [
    {
     "name": "stdout",
     "output_type": "stream",
     "text": [
      "5653\n",
      "---\n",
      "0\n"
     ]
    }
   ],
   "source": [
    "data_car_2_mask = data.Car_fill == 2\n",
    "data_car_2_count = data_car_2_mask.sum()\n",
    "print(data_car_2_count)\n",
    "print(\"---\")\n",
    "data_car_null_mask = data.Car_fill.isnull()\n",
    "data_car_null_count = data_car_null_mask.sum()\n",
    "print(data_car_null_count)"
   ]
  },
  {
   "cell_type": "markdown",
   "metadata": {},
   "source": [
    "Tiene que haber 5591 + 62 = 5653, lo hicimos bien!! :)"
   ]
  },
  {
   "cell_type": "markdown",
   "metadata": {},
   "source": [
    "##### Asignamos al 45% de los valores faltantes valor 1, y al resto valor 2\n",
    "\n",
    "https://pandas.pydata.org/pandas-docs/stable/reference/api/pandas.Index.difference.html\n",
    "\n",
    "Antes de empezar, contemos cuántos registros tenemos con valor de Car:\n",
    "* null\n",
    "* 1\n",
    "* 2"
   ]
  },
  {
   "cell_type": "code",
   "execution_count": 24,
   "metadata": {},
   "outputs": [
    {
     "name": "stdout",
     "output_type": "stream",
     "text": [
      "62\n",
      "5509\n",
      "5591\n"
     ]
    }
   ],
   "source": [
    "cant_car_null = data.Car.isnull().sum()\n",
    "print(cant_car_null)\n",
    "\n",
    "car_one_mask = data.Car == 1\n",
    "cant_car_1 = car_one_mask.sum()\n",
    "print(cant_car_1)\n",
    "\n",
    "car_two_mask = data.Car == 2\n",
    "cant_car_2 = car_two_mask.sum()\n",
    "print(cant_car_2)\n"
   ]
  },
  {
   "cell_type": "code",
   "execution_count": 25,
   "metadata": {},
   "outputs": [
    {
     "name": "stdout",
     "output_type": "stream",
     "text": [
      "62\n",
      "28\n",
      "34\n"
     ]
    }
   ],
   "source": [
    "# los registros que son null en Car:\n",
    "data_car_null_mask = data.Car.isnull()\n",
    "data_car_null = data.loc[data_car_null_mask, :]\n",
    "print(data_car_null.shape[0])\n",
    "\n",
    "# una muestra del 45% de los registros calculados en el paso anterior:\n",
    "data_car_null_mask_sample_1 = data_car_null.sample(frac = 0.45)\n",
    "\n",
    "# los índices de ese 45%\n",
    "data_car_null_ones_index = data_car_null_mask_sample_1.index\n",
    "print(len(data_car_null_ones_index))\n",
    "\n",
    "# los que van a ser rellenados con valor 2 son todos los que no fueron seleccionados en el paso anterior:\n",
    "data_car_null_twos_index = data_car_null.index.difference(data_car_null_ones_index)\n",
    "print(len(data_car_null_twos_index))\n"
   ]
  },
  {
   "cell_type": "markdown",
   "metadata": {},
   "source": [
    "Ahora que tenemos los index que nos sirven, asignamos los valores correspondientes a los registros seleccionados:"
   ]
  },
  {
   "cell_type": "code",
   "execution_count": 26,
   "metadata": {},
   "outputs": [],
   "source": [
    "data.loc[data_car_null_ones_index, \"Car\"] = 1\n",
    "data.loc[data_car_null_twos_index, \"Car\"] = 2"
   ]
  },
  {
   "cell_type": "markdown",
   "metadata": {},
   "source": [
    "Inicialmente teníamos:\n",
    "* 62 valores nulos, de los cuales 28 tomaron valor 1 y 34 tomaron valor 2;\n",
    "* 5509 registros con valor 1;\n",
    "* 5591 registros con valor 2\n",
    "\n",
    "Deberíamos tener ahora:\n",
    "* 0 valores nulos;\n",
    "* 5509 + 28 = 5537 registros con valor 1;\n",
    "* 5591 + 34 = 5625 registros con valor 2\n",
    "\n",
    "Contemos cuántos tenemos ahora, a ver si hicimos las cosas bien:"
   ]
  },
  {
   "cell_type": "code",
   "execution_count": 27,
   "metadata": {},
   "outputs": [
    {
     "name": "stdout",
     "output_type": "stream",
     "text": [
      "0\n",
      "5537\n",
      "5625\n"
     ]
    }
   ],
   "source": [
    "cant_car_null = data.Car.isnull().sum()\n",
    "print(cant_car_null)\n",
    "\n",
    "car_one_mask = data.Car == 1\n",
    "cant_car_1 = car_one_mask.sum()\n",
    "print(cant_car_1)\n",
    "\n",
    "car_two_mask = data.Car == 2\n",
    "cant_car_2 = car_two_mask.sum()\n",
    "print(cant_car_2)\n"
   ]
  },
  {
   "cell_type": "markdown",
   "metadata": {},
   "source": [
    "Y coinciden con los valores esperados, excelente! :)"
   ]
  },
  {
   "cell_type": "markdown",
   "metadata": {},
   "source": [
    "<div id=\"caja6\" style=\"float:left;width: 100%;\">\n",
    "  <div style=\"float:left;width: 15%;\"><img src=\"../../../common/icons/para_seguir_pensando.png\" style=\"align:left\"/> </div>\n",
    "  <div style=\"float:left;width: 85%;\"><label>\n",
    "      ¿Por qué hicimos sample una sóla vez?  <br />\n",
    "      ¿Por qué no hicimos data_car_null.sample(frac = 0.45) seguido de data_car_null.sample(frac = 0.55)?  <br />\n",
    "      ¿Si lo hicieramos obtendríamos el mismo resultado? <br />\n",
    "      Si no se imaginan la respuesta, pueden probarlo y tratar de entender la salida.\n",
    "      </label></div>\n",
    "</div>"
   ]
  },
  {
   "cell_type": "markdown",
   "metadata": {},
   "source": [
    "#### BuildingArea\n",
    "\n",
    "Vemos que este campo tiene una proporción de nulos alta (6450 / 13580 que es aprox. 48% )"
   ]
  },
  {
   "cell_type": "code",
   "execution_count": 28,
   "metadata": {},
   "outputs": [
    {
     "data": {
      "image/png": "[encoded data removed]",
      "text/plain": [
       "<Figure size 1000x700 with 1 Axes>"
      ]
     },
     "metadata": {},
     "output_type": "display_data"
    }
   ],
   "source": [
    "#distribution_plotter_warn(data.BuildingArea, \"BuildingArea\")\n",
    "distribution_plotter(data.BuildingArea, \"BuildingArea\", bin_width=500)"
   ]
  },
  {
   "cell_type": "markdown",
   "metadata": {},
   "source": [
    "Vemos que hay muchos outliers, ¿qué forma toma la distribución si nos quedamos sólo con valores menor a 1000?\n",
    "\n",
    "Usemos para eso boolean indexing:"
   ]
  },
  {
   "cell_type": "code",
   "execution_count": 29,
   "metadata": {},
   "outputs": [
    {
     "data": {
      "image/png": "[encoded data removed]",
      "text/plain": [
       "<Figure size 1000x700 with 1 Axes>"
      ]
     },
     "metadata": {},
     "output_type": "display_data"
    }
   ],
   "source": [
    "data_building_area_lt_1000_mask = data.BuildingArea < 1000\n",
    "data_building_area_lt_1000 = data.loc[data_building_area_lt_1000_mask, :]\n",
    "#distribution_plotter_warn(data_building_area_lt_1000.BuildingArea, \"BuildingArea lt 1000\")\n",
    "distribution_plotter(data_building_area_lt_1000.BuildingArea, \"BuildingArea lt 1000\", bin_width = 15)"
   ]
  },
  {
   "cell_type": "code",
   "execution_count": 30,
   "metadata": {},
   "outputs": [
    {
     "name": "stdout",
     "output_type": "stream",
     "text": [
      "143.32860765234483\n",
      "(7122, 22)\n",
      "126.0\n",
      "83.01166687168542\n",
      "----\n",
      "151.96764988779805\n",
      "(13580, 22)\n",
      "126.0\n",
      "541.0145376263513\n"
     ]
    }
   ],
   "source": [
    "print(data_building_area_lt_1000.BuildingArea.mean())\n",
    "print(data_building_area_lt_1000.shape)\n",
    "print(data_building_area_lt_1000.BuildingArea.median())\n",
    "print(data_building_area_lt_1000.BuildingArea.std())\n",
    "print(\"----\")\n",
    "print(data.BuildingArea.mean())\n",
    "print(data.shape)\n",
    "print(data.BuildingArea.median())\n",
    "print(data.BuildingArea.std())\n"
   ]
  },
  {
   "cell_type": "markdown",
   "metadata": {},
   "source": [
    "Podemos pensar en imputar los valores faltantes con el valor de la media o la mediana del dataset completo o del dataset reducido que usamos en el último plot, pero la proporción de nulos es muy alta en ese campo y el rango de valores muy amplio como para considerar buena esa imputación. Por lo tanto, vamos a eliminar esa columna.\n",
    "\n",
    "Antes de pasar al siguiente campo, veamos cómo cambiarían los valores que calculamos arriba si imputáramos con la media los valores faltantes de ese campo:"
   ]
  },
  {
   "cell_type": "code",
   "execution_count": 31,
   "metadata": {},
   "outputs": [
    {
     "name": "stdout",
     "output_type": "stream",
     "text": [
      "151.983015\n",
      "(13580, 22)\n",
      "152.0\n",
      "392.00296216756965\n"
     ]
    }
   ],
   "source": [
    "media = 152\n",
    "\n",
    "data_fill = data.BuildingArea.fillna(media)\n",
    "\n",
    "#piso los datos originales:\n",
    "data.BuildingArea = data_fill\n",
    "\n",
    "print(data.BuildingArea.mean())\n",
    "print(data.shape)\n",
    "print(data.BuildingArea.median())\n",
    "print(data.BuildingArea.std())\n"
   ]
  },
  {
   "cell_type": "markdown",
   "metadata": {},
   "source": [
    "Y vemos que modificamos mucho la dispersión de estos datos, de forma que no representan la naturaleza inicial de estos datos."
   ]
  },
  {
   "cell_type": "markdown",
   "metadata": {},
   "source": [
    "#### YearBuilt"
   ]
  },
  {
   "cell_type": "code",
   "execution_count": 32,
   "metadata": {},
   "outputs": [
    {
     "data": {
      "image/png": "[encoded data removed]",
      "text/plain": [
       "<Figure size 1000x700 with 1 Axes>"
      ]
     },
     "metadata": {},
     "output_type": "display_data"
    }
   ],
   "source": [
    "count_plotter(data.YearBuilt, \"YearBuilt\",0)"
   ]
  },
  {
   "cell_type": "markdown",
   "metadata": {},
   "source": [
    "Este caso es muy parecido al anterior, un porcentaje alto de nulos y mucha dispersión en los valores, por lo tanto no vamos a completar los datos faltantes en esa columna."
   ]
  },
  {
   "cell_type": "code",
   "execution_count": 33,
   "metadata": {},
   "outputs": [
    {
     "data": {
      "image/png": "[encoded data removed]",
      "text/plain": [
       "<Figure size 1000x700 with 1 Axes>"
      ]
     },
     "metadata": {},
     "output_type": "display_data"
    }
   ],
   "source": [
    "count_plotter(data.CouncilArea, \"CouncilArea\", 0)"
   ]
  },
  {
   "cell_type": "code",
   "execution_count": 34,
   "metadata": {},
   "outputs": [
    {
     "data": {
      "text/plain": [
       "Moreland             1163\n",
       "Boroondara           1160\n",
       "Moonee Valley         997\n",
       "Darebin               934\n",
       "Glen Eira             848\n",
       "Stonnington           719\n",
       "Maribyrnong           692\n",
       "Yarra                 647\n",
       "Port Phillip          628\n",
       "Banyule               594\n",
       "Bayside               489\n",
       "Melbourne             470\n",
       "Hobsons Bay           434\n",
       "Brimbank              424\n",
       "Monash                333\n",
       "Manningham            311\n",
       "Whitehorse            304\n",
       "Kingston              207\n",
       "Whittlesea            167\n",
       "Hume                  164\n",
       "Wyndham                86\n",
       "Maroondah              80\n",
       "Knox                   80\n",
       "Melton                 66\n",
       "Frankston              53\n",
       "Greater Dandenong      52\n",
       "Casey                  38\n",
       "Nillumbik              36\n",
       "Yarra Ranges           18\n",
       "Cardinia                8\n",
       "Macedon Ranges          7\n",
       "Unavailable             1\n",
       "Moorabool               1\n",
       "Name: CouncilArea, dtype: int64"
      ]
     },
     "execution_count": 34,
     "metadata": {},
     "output_type": "execute_result"
    }
   ],
   "source": [
    "pd.value_counts(data.CouncilArea)"
   ]
  },
  {
   "cell_type": "markdown",
   "metadata": {},
   "source": [
    "<div id=\"caja6\" style=\"float:left;width: 100%;\">\n",
    "  <div style=\"float:left;width: 15%;\"><img src=\"../../../common/icons/ponete_a_prueba.png\" style=\"align:left\"/> </div>\n",
    "  <div style=\"float:left;width: 85%;\"><label>\n",
    "¿Qué harían con este campo (CouncilArea)?\n",
    "</label></div>\n",
    "</div>"
   ]
  }
 ],
 "metadata": {
  "kernelspec": {
   "display_name": "dhdsblend2021",
   "language": "python",
   "name": "python3"
  },
  "language_info": {
   "codemirror_mode": {
    "name": "ipython",
    "version": 3
   },
   "file_extension": ".py",
   "mimetype": "text/x-python",
   "name": "python",
   "nbconvert_exporter": "python",
   "pygments_lexer": "ipython3",
   "version": "3.8.16"
  },
  "vscode": {
   "interpreter": {
    "hash": "de22a6b93463c192227e418448a2028fa3d1082ec71dbf04efd1cbc3553d81af"
   }
  }
 },
 "nbformat": 4,
 "nbformat_minor": 4
}
