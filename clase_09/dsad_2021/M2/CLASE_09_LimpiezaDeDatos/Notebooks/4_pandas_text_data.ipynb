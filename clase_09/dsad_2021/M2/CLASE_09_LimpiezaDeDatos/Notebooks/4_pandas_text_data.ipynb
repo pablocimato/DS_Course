{
 "cells": [
  {
   "cell_type": "code",
   "execution_count": 1,
   "id": "mighty-experiment",
   "metadata": {},
   "outputs": [],
   "source": [
    "# initial setup\n",
    "# %run \"../../../common/0_notebooks_base_setup.py\"\n"
   ]
  },
  {
   "cell_type": "markdown",
   "id": "mighty-kruger",
   "metadata": {},
   "source": [
    "---\n",
    "\n",
    "<img src='../../../common/logo_DH.png' align='left' width=35%/>\n"
   ]
  },
  {
   "cell_type": "markdown",
   "id": "certain-struggle",
   "metadata": {},
   "source": [
    "# Operaciones en datos de texto con Pandas"
   ]
  },
  {
   "cell_type": "markdown",
   "id": "periodic-drama",
   "metadata": {},
   "source": [
    "<a id=\"section_intro\"></a> \n",
    "## Intro\n",
    "\n",
    "A continuación presentamos funciones que resultan útiles para trabajar con datos de tipo cadena de caracteres (string) en objetos de tipo DataFrame o Series\n",
    "    \n",
    "    "
   ]
  },
  {
   "cell_type": "markdown",
   "id": "buried-beaver",
   "metadata": {},
   "source": [
    "<a id=\"section_dataset\"></a> \n",
    "## Dataset\n",
    "\n",
    "Para mostrar ejemplos de uso de los métodos presentados usaremos las columnas Suburb, Address, SellerG, CouncilArea, Regionname del dataset \"melbourne housing snapshot\"\n",
    "    \n",
    "https://www.kaggle.com/dansbecker/melbourne-housing-snapshot\n",
    "\n",
    "    "
   ]
  },
  {
   "cell_type": "markdown",
   "id": "acute-threshold",
   "metadata": {},
   "source": [
    "### Trabajando con datos de tipo texto\n",
    "\n",
    "Series e Index proveen un conjunto de métodos de procesamiento de cadenas de caracteres que facilita la operación en cada elemento de una instancia. \n",
    "\n",
    "Tal vez lo más importante es que estos métodos excluyen automáticamente los valores faltantes NA. \n",
    "\n",
    "Se accede a ellos a través del atributo ```.str``` y generalmente tienen nombres que coinciden con los métodos sobre strings que ya conocemos."
   ]
  },
  {
   "cell_type": "code",
   "execution_count": 2,
   "id": "emerging-activation",
   "metadata": {},
   "outputs": [
    {
     "data": {
      "text/html": [
       "<div>\n",
       "<style scoped>\n",
       "    .dataframe tbody tr th:only-of-type {\n",
       "        vertical-align: middle;\n",
       "    }\n",
       "\n",
       "    .dataframe tbody tr th {\n",
       "        vertical-align: top;\n",
       "    }\n",
       "\n",
       "    .dataframe thead th {\n",
       "        text-align: right;\n",
       "    }\n",
       "</style>\n",
       "<table border=\"1\" class=\"dataframe\">\n",
       "  <thead>\n",
       "    <tr style=\"text-align: right;\">\n",
       "      <th></th>\n",
       "      <th>Suburb</th>\n",
       "      <th>Address</th>\n",
       "      <th>SellerG</th>\n",
       "      <th>CouncilArea</th>\n",
       "      <th>Regionname</th>\n",
       "    </tr>\n",
       "  </thead>\n",
       "  <tbody>\n",
       "    <tr>\n",
       "      <th>0</th>\n",
       "      <td>Abbotsford</td>\n",
       "      <td>85 Turner St</td>\n",
       "      <td>Biggin</td>\n",
       "      <td>Yarra</td>\n",
       "      <td>Northern Metropolitan</td>\n",
       "    </tr>\n",
       "    <tr>\n",
       "      <th>1</th>\n",
       "      <td>Abbotsford</td>\n",
       "      <td>25 Bloomburg St</td>\n",
       "      <td>Biggin</td>\n",
       "      <td>Yarra</td>\n",
       "      <td>Northern Metropolitan</td>\n",
       "    </tr>\n",
       "    <tr>\n",
       "      <th>2</th>\n",
       "      <td>Abbotsford</td>\n",
       "      <td>5 Charles St</td>\n",
       "      <td>Biggin</td>\n",
       "      <td>Yarra</td>\n",
       "      <td>Northern Metropolitan</td>\n",
       "    </tr>\n",
       "  </tbody>\n",
       "</table>\n",
       "</div>"
      ],
      "text/plain": [
       "       Suburb          Address SellerG CouncilArea             Regionname\n",
       "0  Abbotsford     85 Turner St  Biggin       Yarra  Northern Metropolitan\n",
       "1  Abbotsford  25 Bloomburg St  Biggin       Yarra  Northern Metropolitan\n",
       "2  Abbotsford     5 Charles St  Biggin       Yarra  Northern Metropolitan"
      ]
     },
     "execution_count": 2,
     "metadata": {},
     "output_type": "execute_result"
    }
   ],
   "source": [
    "import pandas as pd\n",
    "\n",
    "# local\n",
    "data_location = \"../Data/melb_data.csv\"\n",
    "\n",
    "raw_data = pd.read_csv(data_location)\n",
    "\n",
    "columns = ['Suburb', 'Address', 'SellerG', 'CouncilArea', 'Regionname']\n",
    "\n",
    "data = raw_data[columns]\n",
    "\n",
    "data.head(3)"
   ]
  },
  {
   "cell_type": "markdown",
   "id": "close-boring",
   "metadata": {},
   "source": [
    "Veamos que todas los datos de tipo cadena de caracteres son representados como ```object```:"
   ]
  },
  {
   "cell_type": "code",
   "execution_count": 3,
   "id": "statistical-shaft",
   "metadata": {},
   "outputs": [
    {
     "data": {
      "text/plain": [
       "Suburb         object\n",
       "Address        object\n",
       "SellerG        object\n",
       "CouncilArea    object\n",
       "Regionname     object\n",
       "dtype: object"
      ]
     },
     "execution_count": 3,
     "metadata": {},
     "output_type": "execute_result"
    }
   ],
   "source": [
    "data.dtypes"
   ]
  },
  {
   "cell_type": "markdown",
   "id": "temporal-juice",
   "metadata": {},
   "source": [
    "Si queremos convertir esas columnas al tipo string usamos el método ```astype```"
   ]
  },
  {
   "cell_type": "code",
   "execution_count": 4,
   "id": "desperate-heath",
   "metadata": {},
   "outputs": [],
   "source": [
    "data_text = data.astype(\"string\")"
   ]
  },
  {
   "cell_type": "code",
   "execution_count": 5,
   "id": "promotional-service",
   "metadata": {},
   "outputs": [
    {
     "data": {
      "text/plain": [
       "Suburb         string\n",
       "Address        string\n",
       "SellerG        string\n",
       "CouncilArea    string\n",
       "Regionname     string\n",
       "dtype: object"
      ]
     },
     "execution_count": 5,
     "metadata": {},
     "output_type": "execute_result"
    }
   ],
   "source": [
    "data_text.dtypes"
   ]
  },
  {
   "cell_type": "markdown",
   "id": "specialized-intellectual",
   "metadata": {},
   "source": [
    "<a id=\"section_string\"></a> \n",
    "\n",
    "## Algunos métodos de la clase string\n",
    "\n",
    "[volver a TOC](#section_toc)\n",
    "\n",
    "\n",
    "https://docs.python.org/3/library/string.html\n",
    "\n",
    "A continuación presentamos algunos métodos sobre string que son muy usados en data wrangling, aplicados en funciones lambda.\n"
   ]
  },
  {
   "cell_type": "markdown",
   "id": "jewish-battery",
   "metadata": {},
   "source": [
    "### `split`\n",
    "\n",
    "Devuelve una lista de palabras en un string separadas por el delimitador pasado como parámetro\n",
    "\n",
    "https://docs.python.org/3/library/stdtypes.html#str.split"
   ]
  },
  {
   "cell_type": "code",
   "execution_count": 6,
   "id": "strange-rental",
   "metadata": {},
   "outputs": [
    {
     "data": {
      "text/plain": [
       "['a', 'b', '  guido', ' asjd', ' kle', ' askl']"
      ]
     },
     "execution_count": 6,
     "metadata": {},
     "output_type": "execute_result"
    }
   ],
   "source": [
    "cadena = 'a,b,  guido, asjd, kle, askl'\n",
    "separador = ','\n",
    "cadena_en_partes = cadena.split(separador)\n",
    "cadena_en_partes "
   ]
  },
  {
   "cell_type": "markdown",
   "id": "caring-hampshire",
   "metadata": {},
   "source": [
    "### `strip`\n",
    "\n",
    "Devuelve una copia de un string, eliminando del comienzo y fin de la cadena los caracteres pasados como parámetro. Si no especificamos el valor del argumento, elimina espacios.\n",
    "\n",
    "https://docs.python.org/3/library/stdtypes.html#str.strip"
   ]
  },
  {
   "cell_type": "code",
   "execution_count": 7,
   "id": "lesser-nightmare",
   "metadata": {},
   "outputs": [
    {
     "name": "stdout",
     "output_type": "stream",
     "text": [
      "Este es el primer ejemplo....wow!!!\n",
      "Este es el segundo ejemplo....wow!!!\n",
      "    0000000Este es el segundo ejemplo....wow!!!\n"
     ]
    }
   ],
   "source": [
    "texto = \"   Este es el primer ejemplo....wow!!!   \";\n",
    "texto_sin_espacios = texto.strip()\n",
    "print(texto_sin_espacios)\n",
    "\n",
    "texto1 = \"0000000Este es el segundo ejemplo....wow!!!0000000\";\n",
    "texto1_sin_ceros = texto1.strip('0')\n",
    "print(texto1_sin_ceros)\n",
    "\n",
    "texto2 = \"    0000000Este es el segundo ejemplo....wow!!!0000000\";\n",
    "texto2_sin_ceros = texto2.strip('0')\n",
    "print(texto2_sin_ceros)\n"
   ]
  },
  {
   "cell_type": "markdown",
   "id": "central-break",
   "metadata": {},
   "source": [
    "Observemos que en texto2 no eliminó los espacios iniciales, sólo el caracter establecido en el argumento."
   ]
  },
  {
   "cell_type": "markdown",
   "id": "private-blues",
   "metadata": {},
   "source": [
    "### `find`\n",
    "\n",
    "Devuelve el mínimo índice donde encontramos como substring el valor pasado como parámetro.\n",
    "\n",
    "Si no lo encuentra devuelve -1\n",
    "\n",
    "https://docs.python.org/3/library/stdtypes.html#str.find"
   ]
  },
  {
   "cell_type": "code",
   "execution_count": 8,
   "id": "gorgeous-document",
   "metadata": {},
   "outputs": [
    {
     "data": {
      "text/plain": [
       "'a,b,  guido, asjd, kle, askl'"
      ]
     },
     "execution_count": 8,
     "metadata": {},
     "output_type": "execute_result"
    }
   ],
   "source": [
    "cadena"
   ]
  },
  {
   "cell_type": "code",
   "execution_count": 9,
   "id": "velvet-sally",
   "metadata": {},
   "outputs": [
    {
     "data": {
      "text/plain": [
       "-1"
      ]
     },
     "execution_count": 9,
     "metadata": {},
     "output_type": "execute_result"
    }
   ],
   "source": [
    "cadena.find(':')"
   ]
  },
  {
   "cell_type": "code",
   "execution_count": 10,
   "id": "infrared-study",
   "metadata": {},
   "outputs": [
    {
     "data": {
      "text/plain": [
       "13"
      ]
     },
     "execution_count": 10,
     "metadata": {},
     "output_type": "execute_result"
    }
   ],
   "source": [
    "cadena.find('as')"
   ]
  },
  {
   "cell_type": "code",
   "execution_count": 11,
   "id": "modern-council",
   "metadata": {},
   "outputs": [
    {
     "data": {
      "text/plain": [
       "13"
      ]
     },
     "execution_count": 11,
     "metadata": {},
     "output_type": "execute_result"
    }
   ],
   "source": [
    "cadena.find('asj')"
   ]
  },
  {
   "cell_type": "code",
   "execution_count": 12,
   "id": "limited-topic",
   "metadata": {},
   "outputs": [
    {
     "data": {
      "text/plain": [
       "-1"
      ]
     },
     "execution_count": 12,
     "metadata": {},
     "output_type": "execute_result"
    }
   ],
   "source": [
    "cadena.find('asp')"
   ]
  },
  {
   "cell_type": "markdown",
   "id": "secure-abuse",
   "metadata": {},
   "source": [
    "Observemos que devuelve el índice del comienzo del string buscado"
   ]
  },
  {
   "cell_type": "markdown",
   "id": "prostate-crossing",
   "metadata": {},
   "source": [
    "### `index`\n",
    "\n",
    "Es similar a find pero devuelve una excepción de tip `ValueError` cuando no encuentra el valor buscado\n",
    "\n",
    "https://docs.python.org/3/library/stdtypes.html#str.index"
   ]
  },
  {
   "cell_type": "code",
   "execution_count": 13,
   "id": "reflected-preparation",
   "metadata": {},
   "outputs": [
    {
     "data": {
      "text/plain": [
       "1"
      ]
     },
     "execution_count": 13,
     "metadata": {},
     "output_type": "execute_result"
    }
   ],
   "source": [
    "cadena.index(',')"
   ]
  },
  {
   "cell_type": "code",
   "execution_count": 14,
   "id": "combined-nightlife",
   "metadata": {},
   "outputs": [
    {
     "ename": "ValueError",
     "evalue": "substring not found",
     "output_type": "error",
     "traceback": [
      "\u001b[0;31m---------------------------------------------------------------------------\u001b[0m",
      "\u001b[0;31mValueError\u001b[0m                                Traceback (most recent call last)",
      "Cell \u001b[0;32mIn[14], line 1\u001b[0m\n\u001b[0;32m----> 1\u001b[0m cadena\u001b[39m.\u001b[39;49mindex(\u001b[39m'\u001b[39;49m\u001b[39m:\u001b[39;49m\u001b[39m'\u001b[39;49m)\n",
      "\u001b[0;31mValueError\u001b[0m: substring not found"
     ]
    }
   ],
   "source": [
    "cadena.index(':')"
   ]
  },
  {
   "cell_type": "markdown",
   "id": "domestic-polls",
   "metadata": {},
   "source": [
    "### `count`\n",
    "\n",
    "Devuelve la cantidad de apariciones del valor pasado como parámetro\n",
    "\n",
    "https://docs.python.org/3/library/stdtypes.html#str.count"
   ]
  },
  {
   "cell_type": "code",
   "execution_count": null,
   "id": "ordinary-preference",
   "metadata": {},
   "outputs": [
    {
     "data": {
      "text/plain": [
       "5"
      ]
     },
     "execution_count": 15,
     "metadata": {},
     "output_type": "execute_result"
    }
   ],
   "source": [
    "cadena.count(',')"
   ]
  },
  {
   "cell_type": "code",
   "execution_count": null,
   "id": "ultimate-alert",
   "metadata": {},
   "outputs": [
    {
     "data": {
      "text/plain": [
       "2"
      ]
     },
     "execution_count": 16,
     "metadata": {},
     "output_type": "execute_result"
    }
   ],
   "source": [
    "cadena.count('as')"
   ]
  },
  {
   "cell_type": "markdown",
   "id": "local-eligibility",
   "metadata": {},
   "source": [
    "### `replace`\n",
    "\n",
    "Devuelve una copia del string con todas las ocurrencias del primer argumento reemplazadas por el segundo argumento\n",
    "\n",
    "https://docs.python.org/3/library/stdtypes.html#str.replace"
   ]
  },
  {
   "cell_type": "code",
   "execution_count": null,
   "id": "respective-flooring",
   "metadata": {},
   "outputs": [
    {
     "data": {
      "text/plain": [
       "'a;b;  guido; asjd; kle; askl'"
      ]
     },
     "execution_count": 17,
     "metadata": {},
     "output_type": "execute_result"
    }
   ],
   "source": [
    "cadena_punto_y_coma = cadena.replace(',', ';')\n",
    "cadena_punto_y_coma"
   ]
  },
  {
   "cell_type": "code",
   "execution_count": null,
   "id": "positive-interference",
   "metadata": {},
   "outputs": [
    {
     "data": {
      "text/plain": [
       "'a,b,  guido, qwjd, kle, qwkl'"
      ]
     },
     "execution_count": 18,
     "metadata": {},
     "output_type": "execute_result"
    }
   ],
   "source": [
    "cadena_qw = cadena.replace('as', 'qw')\n",
    "cadena_qw"
   ]
  },
  {
   "cell_type": "markdown",
   "id": "historic-underground",
   "metadata": {},
   "source": [
    "## Text Data con `pandas`"
   ]
  },
  {
   "cell_type": "markdown",
   "id": "fabulous-working",
   "metadata": {},
   "source": [
    "#### ```lower``` ```upper``` ```len```\n",
    "\n",
    "* lower: pasa a minúsculas cada uno de los caracteres de una cadena\n",
    "\n",
    "* upper: pasa a mayúsculas cada uno de los caracteres de una cadena\n",
    "\n",
    "* len: devuelve la longitud de la cadena de caracteres"
   ]
  },
  {
   "cell_type": "code",
   "execution_count": null,
   "id": "turned-cartoon",
   "metadata": {},
   "outputs": [
    {
     "data": {
      "text/plain": [
       "0           abbotsford\n",
       "1           abbotsford\n",
       "2           abbotsford\n",
       "3           abbotsford\n",
       "4           abbotsford\n",
       "             ...      \n",
       "13575    wheelers hill\n",
       "13576     williamstown\n",
       "13577     williamstown\n",
       "13578     williamstown\n",
       "13579       yarraville\n",
       "Name: Suburb, Length: 13580, dtype: object"
      ]
     },
     "execution_count": 19,
     "metadata": {},
     "output_type": "execute_result"
    }
   ],
   "source": [
    "data.Suburb.str.lower()"
   ]
  },
  {
   "cell_type": "code",
   "execution_count": null,
   "id": "graphic-cursor",
   "metadata": {},
   "outputs": [
    {
     "data": {
      "text/plain": [
       "0           ABBOTSFORD\n",
       "1           ABBOTSFORD\n",
       "2           ABBOTSFORD\n",
       "3           ABBOTSFORD\n",
       "4           ABBOTSFORD\n",
       "             ...      \n",
       "13575    WHEELERS HILL\n",
       "13576     WILLIAMSTOWN\n",
       "13577     WILLIAMSTOWN\n",
       "13578     WILLIAMSTOWN\n",
       "13579       YARRAVILLE\n",
       "Name: Suburb, Length: 13580, dtype: object"
      ]
     },
     "execution_count": 20,
     "metadata": {},
     "output_type": "execute_result"
    }
   ],
   "source": [
    "data.Suburb.str.upper()"
   ]
  },
  {
   "cell_type": "code",
   "execution_count": null,
   "id": "crucial-verse",
   "metadata": {},
   "outputs": [
    {
     "data": {
      "text/plain": [
       "0        10\n",
       "1        10\n",
       "2        10\n",
       "3        10\n",
       "4        10\n",
       "         ..\n",
       "13575    13\n",
       "13576    12\n",
       "13577    12\n",
       "13578    12\n",
       "13579    10\n",
       "Name: Suburb, Length: 13580, dtype: int64"
      ]
     },
     "execution_count": 21,
     "metadata": {},
     "output_type": "execute_result"
    }
   ],
   "source": [
    "data.Suburb.str.len()"
   ]
  },
  {
   "cell_type": "markdown",
   "id": "opponent-reunion",
   "metadata": {},
   "source": [
    "**Observemos que estas operaciones respetan el tipo de datos original de la columna del DataFrame o Series.**\n",
    "\n",
    "Entonces, \n",
    "\n",
    "* si Suburb es de tipo object, str.upper() devuelve object\n",
    "\n",
    "* si Suburb es de tipo string, str.upper() devuelve string\n",
    "\n"
   ]
  },
  {
   "cell_type": "code",
   "execution_count": null,
   "id": "continuous-found",
   "metadata": {},
   "outputs": [
    {
     "name": "stdout",
     "output_type": "stream",
     "text": [
      "string\n"
     ]
    },
    {
     "data": {
      "text/plain": [
       "0           abbotsford\n",
       "1           abbotsford\n",
       "2           abbotsford\n",
       "3           abbotsford\n",
       "4           abbotsford\n",
       "             ...      \n",
       "13575    wheelers hill\n",
       "13576     williamstown\n",
       "13577     williamstown\n",
       "13578     williamstown\n",
       "13579       yarraville\n",
       "Name: Suburb, Length: 13580, dtype: string"
      ]
     },
     "execution_count": 22,
     "metadata": {},
     "output_type": "execute_result"
    }
   ],
   "source": [
    "print(data_text.Suburb.str.lower().dtype)\n",
    "data_text.Suburb.str.lower()"
   ]
  },
  {
   "cell_type": "markdown",
   "id": "violent-turkish",
   "metadata": {},
   "source": [
    "#### ```strip``` ```lstrip``` ```rstrip```\n",
    "\n",
    "* strip: borra los espacios que rodean a una cadena de caracteres\n",
    "\n",
    "* lstrip: borra los espacios a izquierda en una cadena de caracteres\n",
    "\n",
    "* rstrip: borra los espacios a derecha en una cadena de caracteres\n"
   ]
  },
  {
   "cell_type": "code",
   "execution_count": null,
   "id": "honey-treasure",
   "metadata": {},
   "outputs": [],
   "source": [
    "names = pd.Series([\" jack\", \"jill \", \" jesse \", \"frank\"])"
   ]
  },
  {
   "cell_type": "code",
   "execution_count": null,
   "id": "furnished-norwegian",
   "metadata": {},
   "outputs": [
    {
     "data": {
      "text/plain": [
       "0     jack\n",
       "1     jill\n",
       "2    jesse\n",
       "3    frank\n",
       "dtype: object"
      ]
     },
     "execution_count": 24,
     "metadata": {},
     "output_type": "execute_result"
    }
   ],
   "source": [
    "names.str.strip()"
   ]
  },
  {
   "cell_type": "code",
   "execution_count": null,
   "id": "honest-compression",
   "metadata": {},
   "outputs": [
    {
     "data": {
      "text/plain": [
       "0      jack\n",
       "1     jill \n",
       "2    jesse \n",
       "3     frank\n",
       "dtype: object"
      ]
     },
     "execution_count": 25,
     "metadata": {},
     "output_type": "execute_result"
    }
   ],
   "source": [
    "names.str.lstrip()"
   ]
  },
  {
   "cell_type": "code",
   "execution_count": null,
   "id": "dimensional-folder",
   "metadata": {},
   "outputs": [
    {
     "data": {
      "text/plain": [
       "0      jack\n",
       "1      jill\n",
       "2     jesse\n",
       "3     frank\n",
       "dtype: object"
      ]
     },
     "execution_count": 26,
     "metadata": {},
     "output_type": "execute_result"
    }
   ],
   "source": [
    "names.str.rstrip()"
   ]
  },
  {
   "cell_type": "markdown",
   "id": "radio-ireland",
   "metadata": {},
   "source": [
    "#### ```split``` ```replace```\n",
    "\n",
    "* split: devuelve un array donde cada elemento es una subcadena de la original, separada por el caracter especificado\n",
    "\n",
    "* replace:  devuelve una cadena de caracteres donde el primer parámetro es reemplazado por el segundo. Acepta expresiones regulares para definir el patrón a reemplazar.\n"
   ]
  },
  {
   "cell_type": "code",
   "execution_count": null,
   "id": "wound-knowing",
   "metadata": {},
   "outputs": [
    {
     "data": {
      "text/plain": [
       "0             Northern Metropolitan\n",
       "1             Northern Metropolitan\n",
       "2             Northern Metropolitan\n",
       "3             Northern Metropolitan\n",
       "4             Northern Metropolitan\n",
       "                    ...            \n",
       "13575    South-Eastern Metropolitan\n",
       "13576          Western Metropolitan\n",
       "13577          Western Metropolitan\n",
       "13578          Western Metropolitan\n",
       "13579          Western Metropolitan\n",
       "Name: Regionname, Length: 13580, dtype: object"
      ]
     },
     "execution_count": 27,
     "metadata": {},
     "output_type": "execute_result"
    }
   ],
   "source": [
    "data.Regionname"
   ]
  },
  {
   "cell_type": "code",
   "execution_count": null,
   "id": "homeless-assist",
   "metadata": {},
   "outputs": [
    {
     "data": {
      "text/plain": [
       "0             [Northern, Metropolitan]\n",
       "1             [Northern, Metropolitan]\n",
       "2             [Northern, Metropolitan]\n",
       "3             [Northern, Metropolitan]\n",
       "4             [Northern, Metropolitan]\n",
       "                     ...              \n",
       "13575    [South-Eastern, Metropolitan]\n",
       "13576          [Western, Metropolitan]\n",
       "13577          [Western, Metropolitan]\n",
       "13578          [Western, Metropolitan]\n",
       "13579          [Western, Metropolitan]\n",
       "Name: Regionname, Length: 13580, dtype: object"
      ]
     },
     "execution_count": 28,
     "metadata": {},
     "output_type": "execute_result"
    }
   ],
   "source": [
    "data.Regionname.str.split(\" \")"
   ]
  },
  {
   "cell_type": "code",
   "execution_count": null,
   "id": "ambient-platform",
   "metadata": {},
   "outputs": [
    {
     "data": {
      "text/plain": [
       "0             Northern\n",
       "1             Northern\n",
       "2             Northern\n",
       "3             Northern\n",
       "4             Northern\n",
       "             ...      \n",
       "13575    South-Eastern\n",
       "13576          Western\n",
       "13577          Western\n",
       "13578          Western\n",
       "13579          Western\n",
       "Name: Regionname, Length: 13580, dtype: object"
      ]
     },
     "execution_count": 29,
     "metadata": {},
     "output_type": "execute_result"
    }
   ],
   "source": [
    "data.Regionname.str.split(\" \").str.get(0)"
   ]
  },
  {
   "cell_type": "code",
   "execution_count": null,
   "id": "broke-pontiac",
   "metadata": {},
   "outputs": [
    {
     "data": {
      "text/plain": [
       "0        Metropolitan\n",
       "1        Metropolitan\n",
       "2        Metropolitan\n",
       "3        Metropolitan\n",
       "4        Metropolitan\n",
       "             ...     \n",
       "13575    Metropolitan\n",
       "13576    Metropolitan\n",
       "13577    Metropolitan\n",
       "13578    Metropolitan\n",
       "13579    Metropolitan\n",
       "Name: Regionname, Length: 13580, dtype: object"
      ]
     },
     "execution_count": 30,
     "metadata": {},
     "output_type": "execute_result"
    }
   ],
   "source": [
    "data.Regionname.str.split(\" \").str.get(1)"
   ]
  },
  {
   "cell_type": "code",
   "execution_count": null,
   "id": "native-nudist",
   "metadata": {},
   "outputs": [
    {
     "data": {
      "text/plain": [
       "0                   N  Metropolitan\n",
       "1                   N  Metropolitan\n",
       "2                   N  Metropolitan\n",
       "3                   N  Metropolitan\n",
       "4                   N  Metropolitan\n",
       "                    ...            \n",
       "13575    South-Eastern Metropolitan\n",
       "13576          Western Metropolitan\n",
       "13577          Western Metropolitan\n",
       "13578          Western Metropolitan\n",
       "13579          Western Metropolitan\n",
       "Name: Regionname, Length: 13580, dtype: object"
      ]
     },
     "execution_count": 31,
     "metadata": {},
     "output_type": "execute_result"
    }
   ],
   "source": [
    "data.Regionname.str.replace(\"Northern\", \"N \", case=False, regex=False)"
   ]
  },
  {
   "cell_type": "code",
   "execution_count": null,
   "id": "premier-attachment",
   "metadata": {},
   "outputs": [
    {
     "data": {
      "text/plain": [
       "0             Nort... Metropolitan\n",
       "1             Nort... Metropolitan\n",
       "2             Nort... Metropolitan\n",
       "3             Nort... Metropolitan\n",
       "4             Nort... Metropolitan\n",
       "                   ...            \n",
       "13575    South-Eas... Metropolitan\n",
       "13576          Wes... Metropolitan\n",
       "13577          Wes... Metropolitan\n",
       "13578          Wes... Metropolitan\n",
       "13579          Wes... Metropolitan\n",
       "Name: Regionname, Length: 13580, dtype: object"
      ]
     },
     "execution_count": 32,
     "metadata": {},
     "output_type": "execute_result"
    }
   ],
   "source": [
    "data.Regionname.str.replace(\".ern \", \"... \", case=False, regex=True)"
   ]
  },
  {
   "cell_type": "markdown",
   "id": "surprised-convert",
   "metadata": {},
   "source": [
    "#### ```extract```\n",
    "\n",
    "extract: devuelve una DataFrame o una Series con las subcadenas que cumplen con el patón especificado. \n",
    "\n",
    "Cuando ```expand = True```, devuelve un DataFrame\n",
    "\n",
    "Cuando ```expand = False```, devuelve una Series"
   ]
  },
  {
   "cell_type": "code",
   "execution_count": null,
   "id": "hungarian-prospect",
   "metadata": {},
   "outputs": [
    {
     "data": {
      "text/html": [
       "<div>\n",
       "<style scoped>\n",
       "    .dataframe tbody tr th:only-of-type {\n",
       "        vertical-align: middle;\n",
       "    }\n",
       "\n",
       "    .dataframe tbody tr th {\n",
       "        vertical-align: top;\n",
       "    }\n",
       "\n",
       "    .dataframe thead th {\n",
       "        text-align: right;\n",
       "    }\n",
       "</style>\n",
       "<table border=\"1\" class=\"dataframe\">\n",
       "  <thead>\n",
       "    <tr style=\"text-align: right;\">\n",
       "      <th></th>\n",
       "      <th>0</th>\n",
       "    </tr>\n",
       "  </thead>\n",
       "  <tbody>\n",
       "    <tr>\n",
       "      <th>0</th>\n",
       "      <td>North</td>\n",
       "    </tr>\n",
       "    <tr>\n",
       "      <th>1</th>\n",
       "      <td>North</td>\n",
       "    </tr>\n",
       "    <tr>\n",
       "      <th>2</th>\n",
       "      <td>North</td>\n",
       "    </tr>\n",
       "    <tr>\n",
       "      <th>3</th>\n",
       "      <td>North</td>\n",
       "    </tr>\n",
       "    <tr>\n",
       "      <th>4</th>\n",
       "      <td>North</td>\n",
       "    </tr>\n",
       "    <tr>\n",
       "      <th>...</th>\n",
       "      <td>...</td>\n",
       "    </tr>\n",
       "    <tr>\n",
       "      <th>13575</th>\n",
       "      <td>South-East</td>\n",
       "    </tr>\n",
       "    <tr>\n",
       "      <th>13576</th>\n",
       "      <td>West</td>\n",
       "    </tr>\n",
       "    <tr>\n",
       "      <th>13577</th>\n",
       "      <td>West</td>\n",
       "    </tr>\n",
       "    <tr>\n",
       "      <th>13578</th>\n",
       "      <td>West</td>\n",
       "    </tr>\n",
       "    <tr>\n",
       "      <th>13579</th>\n",
       "      <td>West</td>\n",
       "    </tr>\n",
       "  </tbody>\n",
       "</table>\n",
       "<p>13580 rows × 1 columns</p>\n",
       "</div>"
      ],
      "text/plain": [
       "                0\n",
       "0           North\n",
       "1           North\n",
       "2           North\n",
       "3           North\n",
       "4           North\n",
       "...           ...\n",
       "13575  South-East\n",
       "13576        West\n",
       "13577        West\n",
       "13578        West\n",
       "13579        West\n",
       "\n",
       "[13580 rows x 1 columns]"
      ]
     },
     "execution_count": 33,
     "metadata": {},
     "output_type": "execute_result"
    }
   ],
   "source": [
    "data.Regionname.str.extract(\"(.*)ern \")"
   ]
  },
  {
   "cell_type": "code",
   "execution_count": null,
   "id": "processed-inside",
   "metadata": {},
   "outputs": [
    {
     "data": {
      "text/plain": [
       "pandas.core.frame.DataFrame"
      ]
     },
     "execution_count": 34,
     "metadata": {},
     "output_type": "execute_result"
    }
   ],
   "source": [
    "type(data.Regionname.str.extract(\"(.*)ern \", expand = True))"
   ]
  },
  {
   "cell_type": "code",
   "execution_count": null,
   "id": "greatest-glance",
   "metadata": {},
   "outputs": [
    {
     "data": {
      "text/html": [
       "<div>\n",
       "<style scoped>\n",
       "    .dataframe tbody tr th:only-of-type {\n",
       "        vertical-align: middle;\n",
       "    }\n",
       "\n",
       "    .dataframe tbody tr th {\n",
       "        vertical-align: top;\n",
       "    }\n",
       "\n",
       "    .dataframe thead th {\n",
       "        text-align: right;\n",
       "    }\n",
       "</style>\n",
       "<table border=\"1\" class=\"dataframe\">\n",
       "  <thead>\n",
       "    <tr style=\"text-align: right;\">\n",
       "      <th></th>\n",
       "      <th>0</th>\n",
       "    </tr>\n",
       "  </thead>\n",
       "  <tbody>\n",
       "    <tr>\n",
       "      <th>0</th>\n",
       "      <td>North</td>\n",
       "    </tr>\n",
       "    <tr>\n",
       "      <th>1</th>\n",
       "      <td>North</td>\n",
       "    </tr>\n",
       "    <tr>\n",
       "      <th>2</th>\n",
       "      <td>North</td>\n",
       "    </tr>\n",
       "    <tr>\n",
       "      <th>3</th>\n",
       "      <td>North</td>\n",
       "    </tr>\n",
       "    <tr>\n",
       "      <th>4</th>\n",
       "      <td>North</td>\n",
       "    </tr>\n",
       "    <tr>\n",
       "      <th>...</th>\n",
       "      <td>...</td>\n",
       "    </tr>\n",
       "    <tr>\n",
       "      <th>13575</th>\n",
       "      <td>South-East</td>\n",
       "    </tr>\n",
       "    <tr>\n",
       "      <th>13576</th>\n",
       "      <td>West</td>\n",
       "    </tr>\n",
       "    <tr>\n",
       "      <th>13577</th>\n",
       "      <td>West</td>\n",
       "    </tr>\n",
       "    <tr>\n",
       "      <th>13578</th>\n",
       "      <td>West</td>\n",
       "    </tr>\n",
       "    <tr>\n",
       "      <th>13579</th>\n",
       "      <td>West</td>\n",
       "    </tr>\n",
       "  </tbody>\n",
       "</table>\n",
       "<p>13580 rows × 1 columns</p>\n",
       "</div>"
      ],
      "text/plain": [
       "                0\n",
       "0           North\n",
       "1           North\n",
       "2           North\n",
       "3           North\n",
       "4           North\n",
       "...           ...\n",
       "13575  South-East\n",
       "13576        West\n",
       "13577        West\n",
       "13578        West\n",
       "13579        West\n",
       "\n",
       "[13580 rows x 1 columns]"
      ]
     },
     "execution_count": 35,
     "metadata": {},
     "output_type": "execute_result"
    }
   ],
   "source": [
    "data.Regionname.str.extract(\"(.*)ern \", expand = True)"
   ]
  },
  {
   "cell_type": "code",
   "execution_count": null,
   "id": "early-namibia",
   "metadata": {},
   "outputs": [
    {
     "data": {
      "text/plain": [
       "pandas.core.series.Series"
      ]
     },
     "execution_count": 36,
     "metadata": {},
     "output_type": "execute_result"
    }
   ],
   "source": [
    "type(data.Regionname.str.extract(\"(.*)ern \", expand = False))"
   ]
  },
  {
   "cell_type": "code",
   "execution_count": null,
   "id": "embedded-circle",
   "metadata": {},
   "outputs": [
    {
     "data": {
      "text/plain": [
       "0             North\n",
       "1             North\n",
       "2             North\n",
       "3             North\n",
       "4             North\n",
       "            ...    \n",
       "13575    South-East\n",
       "13576          West\n",
       "13577          West\n",
       "13578          West\n",
       "13579          West\n",
       "Name: Regionname, Length: 13580, dtype: object"
      ]
     },
     "execution_count": 37,
     "metadata": {},
     "output_type": "execute_result"
    }
   ],
   "source": [
    "data.Regionname.str.extract(\"(.*)ern \", expand = False)"
   ]
  },
  {
   "cell_type": "markdown",
   "id": "blocked-loading",
   "metadata": {},
   "source": [
    "## Referencias\n",
    "\n",
    "Python for Data Analysis. Wes McKinney. Cap 12\n",
    "\n",
    "\n",
    "https://docs.python.org/3/library/string.html\n",
    "\n",
    "Text Data\n",
    "\n",
    "https://pandas.pydata.org/pandas-docs/stable/user_guide/text.html\n",
    "\n",
    "\n",
    "Missing Data\n",
    "\n",
    "https://pandas.pydata.org/pandas-docs/stable/user_guide/missing_data.html"
   ]
  }
 ],
 "metadata": {
  "kernelspec": {
   "display_name": "dhdsblend2021",
   "language": "python",
   "name": "python3"
  },
  "language_info": {
   "codemirror_mode": {
    "name": "ipython",
    "version": 3
   },
   "file_extension": ".py",
   "mimetype": "text/x-python",
   "name": "python",
   "nbconvert_exporter": "python",
   "pygments_lexer": "ipython3",
   "version": "3.8.16"
  },
  "vscode": {
   "interpreter": {
    "hash": "de22a6b93463c192227e418448a2028fa3d1082ec71dbf04efd1cbc3553d81af"
   }
  }
 },
 "nbformat": 4,
 "nbformat_minor": 5
}
