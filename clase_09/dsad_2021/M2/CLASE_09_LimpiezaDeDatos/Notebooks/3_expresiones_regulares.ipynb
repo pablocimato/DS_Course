{
 "cells": [
  {
   "cell_type": "code",
   "execution_count": 1,
   "metadata": {},
   "outputs": [
    {
     "name": "stdout",
     "output_type": "stream",
     "text": [
      "/media/paulati/Nuevo vol/paula/dh/2021/dsad_2021/common\n",
      "default checking\n",
      "Running command `conda list`... ok\n",
      "jupyterlab=2.2.6 already installed\n",
      "pandas=1.1.5 already installed\n",
      "bokeh=2.2.3 already installed\n",
      "seaborn=0.11.0 already installed\n",
      "matplotlib=3.3.2 already installed\n",
      "ipywidgets=7.5.1 already installed\n",
      "pytest=6.2.1 already installed\n",
      "chardet=4.0.0 already installed\n",
      "psutil=5.7.2 already installed\n",
      "scipy=1.5.2 already installed\n",
      "statsmodels=0.12.1 already installed\n",
      "scikit-learn=0.23.2 already installed\n",
      "xlrd=2.0.1 already installed\n",
      "Running command `conda install --yes nltk=3.5.0`... ok\n",
      "Collecting package metadata (current_repodata.json): ...working... done\n",
      "Solving environment: ...working... done\n",
      "\n",
      "# All requested packages already installed.\n",
      "\n",
      "\n",
      "unidecode=1.1.1 already installed\n",
      "pydotplus=2.0.2 already installed\n",
      "pandas-datareader=0.9.0 already installed\n",
      "flask=1.1.2 already installed\n"
     ]
    }
   ],
   "source": [
    "# initial setup\n",
    "# %run \"../../../common/0_notebooks_base_setup.py\"\n"
   ]
  },
  {
   "cell_type": "markdown",
   "metadata": {},
   "source": [
    "---\n",
    "\n",
    "<img src='../../../common/logo_DH.png' align='left' width=35%/>\n"
   ]
  },
  {
   "cell_type": "markdown",
   "metadata": {},
   "source": [
    "# Expresiones Regulares"
   ]
  },
  {
   "cell_type": "markdown",
   "metadata": {},
   "source": [
    "<a id=\"section_toc\"></a> \n",
    "## Tabla de Contenidos\n",
    "\n",
    "[Intro](#section_intro)\n",
    "\n",
    "$\\hspace{.5cm}$[Sintaxis](#section_sintaxis)\n",
    "\n",
    "[Módulo `re`](#section_re)\n",
    "\n",
    "$\\hspace{.5cm}$[Split](#section_split)\n",
    "\n",
    "$\\hspace{.5cm}$[Pattern matching](#section_pattern_matching)\n",
    "\n",
    "$\\hspace{.5cm}$[Sustitución](#section_sub)\n",
    "\n",
    "$\\hspace{.5cm}$[Ejemplos](#section_ejemplos)\n",
    "\n",
    "[Referencias](#section_referencias)\n"
   ]
  },
  {
   "cell_type": "markdown",
   "metadata": {},
   "source": [
    "<a id=\"section_intro\"></a> \n",
    "## Intro\n",
    "\n",
    "[volver a TOC](#section_toc)\n",
    "\n",
    "Una expresión regular es una secuencia de caracteres que define un **patrón** de búsqueda de texto. \n",
    "\n",
    "Las expresiones regulares constituyen un lenguaje muy flexible que sirve para identificar y extraer información de un cuerpo de texto.\n",
    "\n",
    "Una sola expresión, comúnmente llamada regex, es una cadena de caracteres construida de acuerdo a la sintaxis del lenguaje de expresiones regulares. \n",
    "\n",
    "El módulo `re` de Python es responsable de aplicar expresiones regulares a cadenas de caracteres.\n",
    "\n",
    "Las funciones del módulo `re` se agupan en tres categorías:\n",
    "\n",
    "* Split: divide una cadena de caracteres, usando el patrón definido por la expresión regular como separador.\n",
    "\n",
    "* Pattern maching: extrae, de una cadena de caracteres, las subcadenas definidas por el patrón de la expresión regular\n",
    "\n",
    "* Sustitución: reemplaza la cadena de caracteres definida por la expresión regular por otra\n",
    "\n",
    "\n",
    "<a id=\"section_sintaxis\"></a> \n",
    "### Sintaxis en expresiones regulares en Python\n",
    "\n",
    "[volver a TOC](#section_toc)\n",
    "\n",
    "#### Metacaracteres\n",
    "\n",
    "    .  símbolo que indica cualquier caracter con excepción de nueva línea (\\n)\n",
    "    ^  símbolo que indica comienzo\n",
    "    $  símbolo que indica fin\n",
    "    \\  símbolo que escapa caracteres reservados\n",
    "    |  o lógico \n",
    "    \\d símbolo que indica cualquier dígito del 0 al 9\n",
    "    \\w símbolo que indica cualquier caracter alfanumérico (A-Z, a-z, 0-9 y _)\n",
    "    \\s símbolo que indica cualquier espacio en blanco (espacio, tabulado, nueva línea, etc.)\n",
    "    \\D símbolo que indica cualquier caracter que no sea dígito\n",
    "    \\W símbolo que indica cualquier caracter que no sea alfanumérico\n",
    "    \\S símbolo que indica cualquier caracter que no sea espacio en blanco\n",
    "\n",
    "        \n",
    "#### Cuantificadores\n",
    "\n",
    "    *  símbolo que indica cero o más ocurrencias\n",
    "    +  símbolo que indica una o más ocurrencias\n",
    "    ?  símbolo que indica optativo (puede estar o no)\n",
    "    {m}  donde m es un número entero, indica exactamente m repeticiones \n",
    "    {m,n}  donde m y n son números enteros, indica al menos m repeticiones y como máximo n repeticiones\n",
    "\n",
    "#### Opciones \n",
    "\n",
    "    [abc]  indica un caracter perteneciente al conjunto de valores posibles especificado entre corchetes\n",
    "    [a-z]  indica un caracter perteneciente al intervalo de valores posibles especificado entre corchetes\n",
    "\n",
    "#### Grupos \n",
    "    ( )  define un grupo\n",
    "    (?P<group_name> ) define un grupo etiquetado\n",
    "    \n",
    "#### Ejemplos de sintaxis:\n",
    "\n",
    "`\\d+` encuentra números de un dígito o más\n",
    "\n",
    "`.*` encuentra cadenas de caracteres de cualquier longitud, incluso vacías.\n",
    "\n",
    "`\\w{2,6}` encuentra un conjunto de caracteres alfanuméricos con una longitud que va de 2 a 6 caracteres\n",
    "\n",
    "`[a-zA-Z]` encuentra lo mismo que `[a-zA-Z]{1}` que es cualquier caracter entre a y z minúscula o A y Z mayúscula\n",
    "\n",
    "`[a-zA-Z]+` encuentra cadenas de caracteres con letras entre a y z y A y Z de longitud al menos 1\n",
    "\n",
    "`(\\d\\d\\d\\d)` encuentra lo mismo que `\\d{4}` que son cadenas de cuatro dígitos\n",
    "\n",
    "`(?P<num>\\d\\d\\d\\d)` encuentra  cadenas de cuatro dígitos y etiqueta a ese grupo como \"num\"\n",
    "\n",
    "---\n",
    "\n",
    "\n",
    "![Image](img/regex_methods.PNG)\n"
   ]
  },
  {
   "cell_type": "markdown",
   "metadata": {},
   "source": [
    "\n",
    "<div id=\"caja1\" style=\"float:left;width: 100%;\">\n",
    "  <div style=\"float:left;width: 15%;\"><img src=\"../../../common/icons/haciendo_foco.png\" style=\"align:left\"/> </div>\n",
    "  <div style=\"float:left;width: 85%;\"><label>Vamos a crear objetos regex con `re.compile` porque es mucho más eficiente su ejecución cuando aplicamos la misma expresión a muchas cadenas de caracteres.</label></div>\n",
    "</div>\n"
   ]
  },
  {
   "cell_type": "markdown",
   "metadata": {},
   "source": [
    "<a id=\"section_re\"></a> \n",
    "## Módulo `re`\n",
    "\n",
    "[volver a TOC](#section_toc)\n",
    "\n",
    "https://docs.python.org/3/library/re.html\n",
    "\n",
    "Este módulo provee operaciones de búsqueda, sustitución y split con expresiones regulares\n"
   ]
  },
  {
   "cell_type": "markdown",
   "metadata": {},
   "source": [
    "<a id=\"section_split\"></a> \n",
    "### Split\n",
    "\n",
    "[volver a TOC](#section_toc)\n",
    "\n",
    "Dividimos una cadena de caracteres (la variable texto), usando el patrón definido en la expresión regular como separador.\n",
    "\n",
    "Obtenemos como resultado la lista de partes que componen la variable texto.\n",
    "\n",
    "De link de referencia de sintaxis vemos que\n",
    "\n",
    "*\\s: Returns a match where the string contains a white space character*"
   ]
  },
  {
   "cell_type": "code",
   "execution_count": 2,
   "metadata": {},
   "outputs": [
    {
     "data": {
      "text/plain": [
       "['foo', 'bar', 'bas', 'qux']"
      ]
     },
     "execution_count": 2,
     "metadata": {},
     "output_type": "execute_result"
    }
   ],
   "source": [
    "import re\n",
    "\n",
    "patron = \"\\s+\"\n",
    "\n",
    "regex = re.compile(patron, flags = re.IGNORECASE)\n",
    "\n",
    "texto = \"foo      bar \\t bas \\tqux\"\n",
    "regex.split(texto)\n"
   ]
  },
  {
   "cell_type": "markdown",
   "metadata": {},
   "source": [
    "<a id=\"section_pattern_matching\"></a> \n",
    "### Pattern matching\n",
    "\n",
    "[volver a TOC](#section_toc)\n",
    "\n",
    "\n",
    "Si en lugar de separar la variable texto, queremos extraer todas las subcadenas que verifiquen el patrón de la expresión regular: "
   ]
  },
  {
   "cell_type": "code",
   "execution_count": 3,
   "metadata": {},
   "outputs": [
    {
     "data": {
      "text/plain": [
       "['      ', ' \\t ', ' \\t']"
      ]
     },
     "execution_count": 3,
     "metadata": {},
     "output_type": "execute_result"
    }
   ],
   "source": [
    "regex.findall(texto)"
   ]
  },
  {
   "cell_type": "markdown",
   "metadata": {},
   "source": [
    "Si buscamos sólo el primer match del patrón de la expresión regular:"
   ]
  },
  {
   "cell_type": "code",
   "execution_count": 4,
   "metadata": {},
   "outputs": [
    {
     "data": {
      "text/plain": [
       "<re.Match object; span=(3, 9), match='      '>"
      ]
     },
     "execution_count": 4,
     "metadata": {},
     "output_type": "execute_result"
    }
   ],
   "source": [
    "regex.search(texto)"
   ]
  },
  {
   "cell_type": "markdown",
   "metadata": {},
   "source": [
    "match sólo busca al comienzo del string:"
   ]
  },
  {
   "cell_type": "code",
   "execution_count": 5,
   "metadata": {},
   "outputs": [
    {
     "name": "stdout",
     "output_type": "stream",
     "text": [
      "None\n"
     ]
    }
   ],
   "source": [
    "result = regex.match(texto)\n",
    "print(result)"
   ]
  },
  {
   "cell_type": "code",
   "execution_count": 6,
   "metadata": {},
   "outputs": [
    {
     "name": "stdout",
     "output_type": "stream",
     "text": [
      "<re.Match object; span=(0, 3), match='   '>\n"
     ]
    }
   ],
   "source": [
    "texto_2 = '   ' + texto\n",
    "result = regex.match(texto_2)\n",
    "print(result)"
   ]
  },
  {
   "cell_type": "markdown",
   "metadata": {},
   "source": [
    "<div id=\"caja2\" style=\"float:left;width: 100%;\">\n",
    "  <div style=\"float:left;width: 15%;\"><img src=\"../../../common/icons/haciendo_foco.png\" style=\"align:left\"/> </div>\n",
    "  <div style=\"float:left;width: 85%;\"><label>\n",
    "match y search funcionan de forma similar a findall. <br/> \n",
    "Mientras que findall devuelve todos los match en una cadena de caracteres, search devuelve sólo el primero, y match sólo lo encuentra si está al comienzo de la cadena.\n",
    "</label></div>\n",
    "</div>\n"
   ]
  },
  {
   "cell_type": "markdown",
   "metadata": {},
   "source": [
    "<a id=\"section_sub\"></a> \n",
    "### Sustitución\n",
    "\n",
    "[volver a TOC](#section_toc)\n",
    "\n",
    "\n",
    "\n",
    "Ahora queremos reemplazar todas las subcadenas que verifican el patón de la expresión regular por la cadena \" [espacios] \""
   ]
  },
  {
   "cell_type": "code",
   "execution_count": 7,
   "metadata": {},
   "outputs": [
    {
     "data": {
      "text/plain": [
       "'foo [espacios] bar [espacios] bas [espacios] qux'"
      ]
     },
     "execution_count": 7,
     "metadata": {},
     "output_type": "execute_result"
    }
   ],
   "source": [
    "regex.sub(' [espacios] ', texto)"
   ]
  },
  {
   "cell_type": "markdown",
   "metadata": {},
   "source": [
    "<a id=\"section_ejemplos\"></a> \n",
    "### Ejemplos\n",
    "\n",
    "[volver a TOC](#section_toc)\n",
    "\n",
    "\n",
    "\n",
    "Usando en dataset de porpiedades de Melbourne, el campo Address, vamos a extraer el número y el nombre de la calle sin el sufijo 'St'\n"
   ]
  },
  {
   "cell_type": "markdown",
   "metadata": {},
   "source": [
    "Leemos los datos:    "
   ]
  },
  {
   "cell_type": "code",
   "execution_count": 8,
   "metadata": {},
   "outputs": [
    {
     "data": {
      "text/html": [
       "<div>\n",
       "<style scoped>\n",
       "    .dataframe tbody tr th:only-of-type {\n",
       "        vertical-align: middle;\n",
       "    }\n",
       "\n",
       "    .dataframe tbody tr th {\n",
       "        vertical-align: top;\n",
       "    }\n",
       "\n",
       "    .dataframe thead th {\n",
       "        text-align: right;\n",
       "    }\n",
       "</style>\n",
       "<table border=\"1\" class=\"dataframe\">\n",
       "  <thead>\n",
       "    <tr style=\"text-align: right;\">\n",
       "      <th></th>\n",
       "      <th>Suburb</th>\n",
       "      <th>Address</th>\n",
       "      <th>Rooms</th>\n",
       "      <th>Type</th>\n",
       "      <th>Price</th>\n",
       "      <th>Method</th>\n",
       "      <th>SellerG</th>\n",
       "      <th>Date</th>\n",
       "      <th>Distance</th>\n",
       "      <th>Postcode</th>\n",
       "      <th>...</th>\n",
       "      <th>Bathroom</th>\n",
       "      <th>Car</th>\n",
       "      <th>Landsize</th>\n",
       "      <th>BuildingArea</th>\n",
       "      <th>YearBuilt</th>\n",
       "      <th>CouncilArea</th>\n",
       "      <th>Lattitude</th>\n",
       "      <th>Longtitude</th>\n",
       "      <th>Regionname</th>\n",
       "      <th>Propertycount</th>\n",
       "    </tr>\n",
       "  </thead>\n",
       "  <tbody>\n",
       "    <tr>\n",
       "      <th>0</th>\n",
       "      <td>Abbotsford</td>\n",
       "      <td>85 Turner St</td>\n",
       "      <td>2</td>\n",
       "      <td>h</td>\n",
       "      <td>1480000.0</td>\n",
       "      <td>S</td>\n",
       "      <td>Biggin</td>\n",
       "      <td>3/12/2016</td>\n",
       "      <td>2.5</td>\n",
       "      <td>3067.0</td>\n",
       "      <td>...</td>\n",
       "      <td>1.0</td>\n",
       "      <td>1.0</td>\n",
       "      <td>202.0</td>\n",
       "      <td>NaN</td>\n",
       "      <td>NaN</td>\n",
       "      <td>Yarra</td>\n",
       "      <td>-37.7996</td>\n",
       "      <td>144.9984</td>\n",
       "      <td>Northern Metropolitan</td>\n",
       "      <td>4019.0</td>\n",
       "    </tr>\n",
       "    <tr>\n",
       "      <th>1</th>\n",
       "      <td>Abbotsford</td>\n",
       "      <td>25 Bloomburg St</td>\n",
       "      <td>2</td>\n",
       "      <td>h</td>\n",
       "      <td>1035000.0</td>\n",
       "      <td>S</td>\n",
       "      <td>Biggin</td>\n",
       "      <td>4/02/2016</td>\n",
       "      <td>2.5</td>\n",
       "      <td>3067.0</td>\n",
       "      <td>...</td>\n",
       "      <td>1.0</td>\n",
       "      <td>0.0</td>\n",
       "      <td>156.0</td>\n",
       "      <td>79.0</td>\n",
       "      <td>1900.0</td>\n",
       "      <td>Yarra</td>\n",
       "      <td>-37.8079</td>\n",
       "      <td>144.9934</td>\n",
       "      <td>Northern Metropolitan</td>\n",
       "      <td>4019.0</td>\n",
       "    </tr>\n",
       "    <tr>\n",
       "      <th>2</th>\n",
       "      <td>Abbotsford</td>\n",
       "      <td>5 Charles St</td>\n",
       "      <td>3</td>\n",
       "      <td>h</td>\n",
       "      <td>1465000.0</td>\n",
       "      <td>SP</td>\n",
       "      <td>Biggin</td>\n",
       "      <td>4/03/2017</td>\n",
       "      <td>2.5</td>\n",
       "      <td>3067.0</td>\n",
       "      <td>...</td>\n",
       "      <td>2.0</td>\n",
       "      <td>0.0</td>\n",
       "      <td>134.0</td>\n",
       "      <td>150.0</td>\n",
       "      <td>1900.0</td>\n",
       "      <td>Yarra</td>\n",
       "      <td>-37.8093</td>\n",
       "      <td>144.9944</td>\n",
       "      <td>Northern Metropolitan</td>\n",
       "      <td>4019.0</td>\n",
       "    </tr>\n",
       "    <tr>\n",
       "      <th>3</th>\n",
       "      <td>Abbotsford</td>\n",
       "      <td>40 Federation La</td>\n",
       "      <td>3</td>\n",
       "      <td>h</td>\n",
       "      <td>850000.0</td>\n",
       "      <td>PI</td>\n",
       "      <td>Biggin</td>\n",
       "      <td>4/03/2017</td>\n",
       "      <td>2.5</td>\n",
       "      <td>3067.0</td>\n",
       "      <td>...</td>\n",
       "      <td>2.0</td>\n",
       "      <td>1.0</td>\n",
       "      <td>94.0</td>\n",
       "      <td>NaN</td>\n",
       "      <td>NaN</td>\n",
       "      <td>Yarra</td>\n",
       "      <td>-37.7969</td>\n",
       "      <td>144.9969</td>\n",
       "      <td>Northern Metropolitan</td>\n",
       "      <td>4019.0</td>\n",
       "    </tr>\n",
       "    <tr>\n",
       "      <th>4</th>\n",
       "      <td>Abbotsford</td>\n",
       "      <td>55a Park St</td>\n",
       "      <td>4</td>\n",
       "      <td>h</td>\n",
       "      <td>1600000.0</td>\n",
       "      <td>VB</td>\n",
       "      <td>Nelson</td>\n",
       "      <td>4/06/2016</td>\n",
       "      <td>2.5</td>\n",
       "      <td>3067.0</td>\n",
       "      <td>...</td>\n",
       "      <td>1.0</td>\n",
       "      <td>2.0</td>\n",
       "      <td>120.0</td>\n",
       "      <td>142.0</td>\n",
       "      <td>2014.0</td>\n",
       "      <td>Yarra</td>\n",
       "      <td>-37.8072</td>\n",
       "      <td>144.9941</td>\n",
       "      <td>Northern Metropolitan</td>\n",
       "      <td>4019.0</td>\n",
       "    </tr>\n",
       "  </tbody>\n",
       "</table>\n",
       "<p>5 rows × 21 columns</p>\n",
       "</div>"
      ],
      "text/plain": [
       "       Suburb           Address  Rooms Type      Price Method SellerG  \\\n",
       "0  Abbotsford      85 Turner St      2    h  1480000.0      S  Biggin   \n",
       "1  Abbotsford   25 Bloomburg St      2    h  1035000.0      S  Biggin   \n",
       "2  Abbotsford      5 Charles St      3    h  1465000.0     SP  Biggin   \n",
       "3  Abbotsford  40 Federation La      3    h   850000.0     PI  Biggin   \n",
       "4  Abbotsford       55a Park St      4    h  1600000.0     VB  Nelson   \n",
       "\n",
       "        Date  Distance  Postcode  ...  Bathroom  Car  Landsize  BuildingArea  \\\n",
       "0  3/12/2016       2.5    3067.0  ...       1.0  1.0     202.0           NaN   \n",
       "1  4/02/2016       2.5    3067.0  ...       1.0  0.0     156.0          79.0   \n",
       "2  4/03/2017       2.5    3067.0  ...       2.0  0.0     134.0         150.0   \n",
       "3  4/03/2017       2.5    3067.0  ...       2.0  1.0      94.0           NaN   \n",
       "4  4/06/2016       2.5    3067.0  ...       1.0  2.0     120.0         142.0   \n",
       "\n",
       "   YearBuilt  CouncilArea Lattitude  Longtitude             Regionname  \\\n",
       "0        NaN        Yarra  -37.7996    144.9984  Northern Metropolitan   \n",
       "1     1900.0        Yarra  -37.8079    144.9934  Northern Metropolitan   \n",
       "2     1900.0        Yarra  -37.8093    144.9944  Northern Metropolitan   \n",
       "3        NaN        Yarra  -37.7969    144.9969  Northern Metropolitan   \n",
       "4     2014.0        Yarra  -37.8072    144.9941  Northern Metropolitan   \n",
       "\n",
       "  Propertycount  \n",
       "0        4019.0  \n",
       "1        4019.0  \n",
       "2        4019.0  \n",
       "3        4019.0  \n",
       "4        4019.0  \n",
       "\n",
       "[5 rows x 21 columns]"
      ]
     },
     "execution_count": 8,
     "metadata": {},
     "output_type": "execute_result"
    }
   ],
   "source": [
    "import pandas as pd \n",
    "\n",
    "# local\n",
    "data_location = \"../Data/melb_data.csv\"\n",
    "# colab\n",
    "# data_location = \"\"\n",
    "\n",
    "data = pd.read_csv(data_location)\n",
    "\n",
    "data.head(5)"
   ]
  },
  {
   "cell_type": "markdown",
   "metadata": {},
   "source": [
    "La expresión regular para el número de la dirección es, cualquier dígito (\\d) una o más veces (+)\n",
    "\n",
    "Como queremos extraerlo, vamos a usar alguna de las funciones de pattern matching, en este caso `re.findall`\n",
    "\n",
    "Y como tenemos que evaluarlo sobre cada elemento de la series `data.Address` vamos a usar `apply`"
   ]
  },
  {
   "cell_type": "code",
   "execution_count": 9,
   "metadata": {},
   "outputs": [],
   "source": [
    "patron_num = \"\\d+\"\n",
    "patron_num_regex = re.compile(patron_num)"
   ]
  },
  {
   "cell_type": "code",
   "execution_count": 10,
   "metadata": {},
   "outputs": [
    {
     "name": "stdout",
     "output_type": "stream",
     "text": [
      "<class 'pandas.core.series.Series'>\n",
      "0        [85]\n",
      "1        [25]\n",
      "2         [5]\n",
      "3        [40]\n",
      "4        [55]\n",
      "         ... \n",
      "13575    [12]\n",
      "13576    [77]\n",
      "13577    [83]\n",
      "13578    [96]\n",
      "13579     [6]\n",
      "Name: Address, Length: 13580, dtype: object\n"
     ]
    }
   ],
   "source": [
    "address_series = data.Address\n",
    "resultado = address_series.apply(lambda x: patron_num_regex.findall(x))\n",
    "print(type(resultado))\n",
    "print(resultado)"
   ]
  },
  {
   "cell_type": "markdown",
   "metadata": {},
   "source": [
    "Obsevemos que:\n",
    "\n",
    "* El resultado es una instancia de Series.\n",
    "\n",
    "* Cada uno de sus elementos es una lista de longitud igual a la cantidad de números que haya en el valor del campo Address de cada registro (porque findall devuelve todos los match que encuentra)\n"
   ]
  },
  {
   "cell_type": "markdown",
   "metadata": {},
   "source": [
    "Si usamos search obtenemos sólo el primero:"
   ]
  },
  {
   "cell_type": "code",
   "execution_count": 11,
   "metadata": {},
   "outputs": [
    {
     "name": "stdout",
     "output_type": "stream",
     "text": [
      "<class 'pandas.core.series.Series'>\n",
      "0        <re.Match object; span=(0, 2), match='85'>\n",
      "1        <re.Match object; span=(0, 2), match='25'>\n",
      "2         <re.Match object; span=(0, 1), match='5'>\n",
      "3        <re.Match object; span=(0, 2), match='40'>\n",
      "4        <re.Match object; span=(0, 2), match='55'>\n",
      "                            ...                    \n",
      "13575    <re.Match object; span=(0, 2), match='12'>\n",
      "13576    <re.Match object; span=(0, 2), match='77'>\n",
      "13577    <re.Match object; span=(0, 2), match='83'>\n",
      "13578    <re.Match object; span=(0, 2), match='96'>\n",
      "13579     <re.Match object; span=(0, 1), match='6'>\n",
      "Name: Address, Length: 13580, dtype: object\n"
     ]
    }
   ],
   "source": [
    "address_series = data.Address\n",
    "resultado = address_series.apply(lambda x: patron_num_regex.search(x))\n",
    "print(type(resultado))\n",
    "print(resultado)"
   ]
  },
  {
   "cell_type": "markdown",
   "metadata": {},
   "source": [
    "Obsevemos que:\n",
    "\n",
    "* El resultado es una instancia de Series.\n",
    "\n",
    "* Cada uno de sus elementos es un objeto de tipo Match, que corresponde al primer número encontrado para cada registro en ese campo\n",
    "https://docs.python.org/3/library/re.html#match-objects"
   ]
  },
  {
   "cell_type": "markdown",
   "metadata": {},
   "source": [
    "Para extraer el valor del número a partir del objeto Match podemos usar `group` o `[ ]`:"
   ]
  },
  {
   "cell_type": "code",
   "execution_count": 12,
   "metadata": {},
   "outputs": [
    {
     "data": {
      "text/plain": [
       "0        85\n",
       "1        25\n",
       "2         5\n",
       "3        40\n",
       "4        55\n",
       "         ..\n",
       "13575    12\n",
       "13576    77\n",
       "13577    83\n",
       "13578    96\n",
       "13579     6\n",
       "Name: Address, Length: 13580, dtype: object"
      ]
     },
     "execution_count": 12,
     "metadata": {},
     "output_type": "execute_result"
    }
   ],
   "source": [
    "numeros_match = resultado.apply(lambda x: x[0])\n",
    "numeros_match"
   ]
  },
  {
   "cell_type": "code",
   "execution_count": 13,
   "metadata": {},
   "outputs": [
    {
     "data": {
      "text/plain": [
       "0        85\n",
       "1        25\n",
       "2         5\n",
       "3        40\n",
       "4        55\n",
       "         ..\n",
       "13575    12\n",
       "13576    77\n",
       "13577    83\n",
       "13578    96\n",
       "13579     6\n",
       "Name: Address, Length: 13580, dtype: object"
      ]
     },
     "execution_count": 13,
     "metadata": {},
     "output_type": "execute_result"
    }
   ],
   "source": [
    "numeros_match = resultado.apply(lambda x: x.group(0))\n",
    "numeros_match"
   ]
  },
  {
   "cell_type": "markdown",
   "metadata": {},
   "source": [
    "Ahora busquemos el nombre de la calle sin el sufijo. Los sufijos pueden ser St, La, Cr, Dr.\n",
    "\n",
    "Vamos a construir un patrón que identifique \n",
    "\n",
    "1)  el número de calle `(?P<numero_calle>\\d+[a-z]*)` como uno o más dígitos (\\d+) seguidos opcionalemnet (*) por un caracter en minúscula. Definimos el nombre del grupo con (?P<nombre_del_gripo> ...)\n",
    "  \n",
    "2)  seguido por un espacio (\\s)\n",
    "\n",
    "3) seguido por el nombre de la calle `(?P<nombre_calle>.+)` cualquier cadena de caracteres de longitud al menos 1\n",
    "\n",
    "4) seguido por un sufijo `(?P<sufijo>\\sSt|La|Cr|Dr)` que es un espacio seguido por la cadena de caracteres \"St\" ó \"La\" ó \"Cr\" ó \"Dr\""
   ]
  },
  {
   "cell_type": "code",
   "execution_count": 14,
   "metadata": {},
   "outputs": [
    {
     "name": "stdout",
     "output_type": "stream",
     "text": [
      "0        <re.Match object; span=(0, 12), match='85 Turn...\n",
      "1        <re.Match object; span=(0, 15), match='25 Bloo...\n",
      "2        <re.Match object; span=(0, 12), match='5 Charl...\n",
      "3        <re.Match object; span=(0, 16), match='40 Fede...\n",
      "4        <re.Match object; span=(0, 11), match='55a Par...\n",
      "                               ...                        \n",
      "13575    <re.Match object; span=(0, 12), match='12 Stra...\n",
      "13576    <re.Match object; span=(0, 13), match='77 Merr...\n",
      "13577    <re.Match object; span=(0, 11), match='83 Powe...\n",
      "13578    <re.Match object; span=(0, 12), match='96 Verd...\n",
      "13579    <re.Match object; span=(0, 10), match='6 Agnes...\n",
      "Name: Address, Length: 13580, dtype: object\n"
     ]
    }
   ],
   "source": [
    "\n",
    "pattern_nombre = \"(?P<numero_calle>\\d+[a-z]*)\\s(?P<nombre_calle>.+)(?P<sufijo>\\sSt|La|Cr|Dr)\"\n",
    "\n",
    "pattern_nombre_regex = re.compile(pattern_nombre)\n",
    "address_series = data.Address\n",
    "resultado_nombres = address_series.apply(lambda x: pattern_nombre_regex.search(x))\n",
    "#print(type(resultado))\n",
    "print(resultado_nombres)\n"
   ]
  },
  {
   "cell_type": "markdown",
   "metadata": {},
   "source": [
    "Para extraer el nombre de la calle a partir del objeto Match podemos usar `group` sabiendo que el nombre del grupo es 'nombre_calle':"
   ]
  },
  {
   "cell_type": "code",
   "execution_count": 15,
   "metadata": {},
   "outputs": [
    {
     "data": {
      "text/plain": [
       "0             Turner\n",
       "1          Bloomburg\n",
       "2            Charles\n",
       "3        Federation \n",
       "4               Park\n",
       "            ...     \n",
       "13575        Strada \n",
       "13576       Merrett \n",
       "13577          Power\n",
       "13578         Verdon\n",
       "13579          Agnes\n",
       "Name: Address, Length: 13580, dtype: object"
      ]
     },
     "execution_count": 15,
     "metadata": {},
     "output_type": "execute_result"
    }
   ],
   "source": [
    "calles_match = resultado_nombres.apply(lambda x: x if x is None else x.group('nombre_calle'))\n",
    "calles_match"
   ]
  },
  {
   "cell_type": "markdown",
   "metadata": {},
   "source": [
    "Ahora queremos dividir cada el campo Address de cada registro en tres partes: número, nombre y sufijo.\n",
    "    \n",
    "Para eso vamos a usar la misma expresión regular del punto anterior y el método `split`"
   ]
  },
  {
   "cell_type": "code",
   "execution_count": 16,
   "metadata": {},
   "outputs": [
    {
     "name": "stdout",
     "output_type": "stream",
     "text": [
      "0            [, 85, Turner,  St, ]\n",
      "1         [, 25, Bloomburg,  St, ]\n",
      "2            [, 5, Charles,  St, ]\n",
      "3        [, 40, Federation , La, ]\n",
      "4             [, 55a, Park,  St, ]\n",
      "                   ...            \n",
      "13575        [, 12, Strada , Cr, ]\n",
      "13576       [, 77, Merrett , Dr, ]\n",
      "13577         [, 83, Power,  St, ]\n",
      "13578        [, 96, Verdon,  St, ]\n",
      "13579          [, 6, Agnes,  St, ]\n",
      "Name: Address, Length: 13580, dtype: object\n"
     ]
    }
   ],
   "source": [
    "pattern_address = \"(?P<numero_calle>\\d+[a-z]*)\\s(?P<nombre_calle>.+)(?P<sufijo>\\sSt|La|Cr|Dr)\"\n",
    "\n",
    "pattern_address_regex = re.compile(pattern_address)\n",
    "address_series = data.Address\n",
    "resultado_nombres = address_series.apply(lambda x: pattern_address_regex.split(x))\n",
    "#print(type(resultado))\n",
    "print(resultado_nombres)\n"
   ]
  },
  {
   "cell_type": "markdown",
   "metadata": {},
   "source": [
    "Para terminar vamos a reemplazar el sufijo de cada registro por un string vacío\n"
   ]
  },
  {
   "cell_type": "code",
   "execution_count": 17,
   "metadata": {},
   "outputs": [
    {
     "name": "stdout",
     "output_type": "stream",
     "text": [
      "0             85 Turner\n",
      "1          25 Bloomburg\n",
      "2             5 Charles\n",
      "3        40 Federation \n",
      "4              55a Park\n",
      "              ...      \n",
      "13575           12rada \n",
      "13576       77 Merrett \n",
      "13577          83 Power\n",
      "13578         96 Verdon\n",
      "13579           6 Agnes\n",
      "Name: Address, Length: 13580, dtype: object\n"
     ]
    }
   ],
   "source": [
    "pattern_suffix = \"\\sSt|La|Cr|Dr\"\n",
    "\n",
    "cadena_reemplazo = \"\"\n",
    "\n",
    "pattern_suffix_regex = re.compile(pattern_suffix)\n",
    "address_series = data.Address\n",
    "resultado_reemplazo = address_series.apply(lambda x: pattern_suffix_regex.sub(cadena_reemplazo, x))\n",
    "print(resultado_reemplazo)\n"
   ]
  },
  {
   "cell_type": "markdown",
   "metadata": {},
   "source": [
    "<a id=\"section_referencias\"></a> \n",
    "\n",
    "## Referencias\n",
    "\n",
    "[volver a TOC](#section_toc)\n",
    "\n",
    "Python for Data Analysis. Wes McKinney. Cap 7.3\n",
    "\n",
    "Documentación Python `re`\n",
    "\n",
    "https://docs.python.org/3/library/re.html\n",
    "\n",
    "Regex tutorial a simple cheatsheet by examples\n",
    "\n",
    "https://medium.com/factory-mind/regex-tutorial-a-simple-cheatsheet-by-examples-649dc1c3f285\n",
    "\n",
    "Sintaxis expresiones regulares\n",
    "\n",
    "https://docs.python.org/3/library/re.html#re-syntax\n",
    "\n",
    "\n",
    "https://www.w3schools.com/python/python_regex.asp\n",
    "\n",
    "\n",
    "https://docs.python.org/3/howto/regex.html\n",
    "\n",
    "\n",
    "Sitios web para practicar:\n",
    "\n",
    "https://regexr.com/\n",
    "\n",
    "https://regex101.com/\n",
    "\n"
   ]
  }
 ],
 "metadata": {
  "kernelspec": {
   "display_name": "dhdsblend2021",
   "language": "python",
   "name": "python3"
  },
  "language_info": {
   "codemirror_mode": {
    "name": "ipython",
    "version": 3
   },
   "file_extension": ".py",
   "mimetype": "text/x-python",
   "name": "python",
   "nbconvert_exporter": "python",
   "pygments_lexer": "ipython3",
   "version": "3.8.16"
  },
  "vscode": {
   "interpreter": {
    "hash": "de22a6b93463c192227e418448a2028fa3d1082ec71dbf04efd1cbc3553d81af"
   }
  }
 },
 "nbformat": 4,
 "nbformat_minor": 4
}
