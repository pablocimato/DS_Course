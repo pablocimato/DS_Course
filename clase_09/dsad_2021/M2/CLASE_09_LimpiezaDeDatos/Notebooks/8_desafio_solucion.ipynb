{
 "cells": [
  {
   "cell_type": "code",
   "execution_count": 1,
   "metadata": {},
   "outputs": [
    {
     "name": "stdout",
     "output_type": "stream",
     "text": [
      "/home/pablo/Documents/MyGitHub/DSDH2023/clase_09/dsad_2021/common\n",
      "default checking\n",
      "Running command `conda list`... ok\n",
      "jupyterlab=2.2.6 already installed\n",
      "pandas=1.1.5 already installed\n",
      "bokeh=2.2.3 already installed\n",
      "seaborn=0.11.0 already installed\n",
      "matplotlib=3.3.2 already installed\n",
      "ipywidgets=7.5.1 already installed\n",
      "pytest=6.2.1 already installed\n",
      "chardet=4.0.0 already installed\n",
      "psutil=5.7.2 already installed\n",
      "scipy=1.5.2 already installed\n",
      "statsmodels=0.12.1 already installed\n",
      "scikit-learn=0.23.2 already installed\n",
      "xlrd=2.0.1 already installed\n",
      "Running command `conda install --yes nltk=3.5.0`... ok\n",
      "Collecting package metadata (current_repodata.json): ...working... done\n",
      "Solving environment: ...working... done\n",
      "\n",
      "# All requested packages already installed.\n",
      "\n",
      "\n",
      "unidecode=1.1.1 already installed\n",
      "pydotplus=2.0.2 already installed\n",
      "pandas-datareader=0.9.0 already installed\n",
      "flask=1.1.2 already installed\n"
     ]
    }
   ],
   "source": [
    "# initial setup\n",
    "%run \"../../../common/0_notebooks_base_setup.py\"\n"
   ]
  },
  {
   "cell_type": "markdown",
   "metadata": {},
   "source": [
    "---\n",
    "\n",
    "<img src='../../../common/logo_DH.png' align='left' width=35%/>\n"
   ]
  },
  {
   "cell_type": "markdown",
   "metadata": {},
   "source": [
    "# Limpieza de datos. Apply. Expresiones regulares."
   ]
  },
  {
   "cell_type": "markdown",
   "metadata": {},
   "source": [
    "La limpieza es un paso necesario en todo proyecto de datos. \n",
    "\n",
    "Podemos resumir el proceso de limpieza de datos en las siguientes cinco tareas:\n",
    "\n",
    "**1. Resolver problemas de formato y asignar tipos de datos correctos.**\n",
    "\n",
    "Por ejemplo, cuando al pasar de CSV a Pandas una fecha no se importa correctamente como puede ser el caso de un campo fecha donde se importa 20090609231247 en lugar de 2009-06-09 23:12:47.\n",
    "\n",
    "El formato en que se encuentran los datos determina qué operaciones pueden realizarse sobre ellos.\n",
    "\n",
    "**2. Estandarizar categorías.**\n",
    "\n",
    "Cuando los datos se recolectaron con un sisstema que no tiene valores tipificadaos, valores que representan la misma categoría pueden estar expresados de forma distinta. Por ejemplo: Arg, AR, Argentina\n",
    "\n",
    "**3. Corregir valores erróneos.**\n",
    "\n",
    "Por ejemplo: un valor numérico o inválido para describir el género; o una edad representada por un número negativo o mucho mayor que 100.\n",
    "\n",
    "**4. Completar datos faltantes.**\n",
    "\n",
    "Los datasets del mundo real suelen venir con datos faltantes que responden a información que se perdió o nunca se recolectó. Existen varias técnicas para completar datos faltantes. Al proceso de completar datos faltantes se lo llama \"imputación\".\n",
    "\n",
    "**5. Organizar el dataset.**\n",
    "\n",
    "Es importante estructurar las filas y columnas de la forma más conveniente. Para hacerlo se pueden aplicar las reglas del \"tidy data\".\n"
   ]
  },
  {
   "cell_type": "markdown",
   "metadata": {},
   "source": [
    "\n",
    "## Dataset\n",
    "\n",
    "El Met (Metropolitan Museum of Art) provee datasets de información de más de 420.000 piezas de arte en su colección.\n",
    "\n",
    "https://github.com/metmuseum/openaccess/\n",
    "\n",
    "Los problemas que presentan este dataset incluyen:\n",
    "* Valores faltantes\n",
    "* Posibles duplicaciones\n",
    "* Campos con mezcla de campos de tipo numérico con cadenas de caracteres\n",
    "\n",
    "En esta clase vamos a detectar algunos de los qué campos presentan problemas, y solucionarlos usando las herramientas que adquirimos en las prácticas guiadas.\n"
   ]
  },
  {
   "cell_type": "markdown",
   "metadata": {},
   "source": [
    "## Ejercicio 1:\n",
    "\n",
    "Vamos a leer en la variable `data` los datos del archivo /M2/CLASE_05_Limpieza_de_datos/Data/MetObjects_sample.csv en un `DataFrame` de pandas con el método `read_csv` \n",
    "\n",
    "Veamos cuántas filas y columnas tiene el DataFrame data"
   ]
  },
  {
   "cell_type": "code",
   "execution_count": 2,
   "metadata": {},
   "outputs": [
    {
     "name": "stdout",
     "output_type": "stream",
     "text": [
      "cantidad de filas: 4743\n",
      "cantidad de columnas: 52\n"
     ]
    }
   ],
   "source": [
    "import pandas as pd\n",
    "\n",
    "data_location = \"../Data/MetObjects_sample.csv\"\n",
    "\n",
    "data = pd.read_csv(data_location, low_memory=False)\n",
    "\n",
    "print(\"cantidad de filas: \" + str(data.shape[0]))\n",
    "print(\"cantidad de columnas: \" + str(data.shape[1]))\n"
   ]
  },
  {
   "cell_type": "markdown",
   "metadata": {},
   "source": [
    "## Ejercicio 2: Formato y tipos de datos\n",
    "\n",
    "Vamos a ver de qué tipo de datos es cada columna del DataFrame, y vamos a convertir o dar formato **a alguna de las columnas** que tienen tipo de datos incorrecto.\n",
    "\n",
    "### 2.a Detectar las columnas que tienen tipo de datos incorrecto"
   ]
  },
  {
   "cell_type": "code",
   "execution_count": 3,
   "metadata": {},
   "outputs": [
    {
     "data": {
      "text/plain": [
       "Unnamed: 0                   int64\n",
       "Object Number               object\n",
       "Is Highlight                  bool\n",
       "Is Public Domain              bool\n",
       "Is Timeline Work              bool\n",
       "Object ID                    int64\n",
       "Department                  object\n",
       "AccessionYear               object\n",
       "Object Name                 object\n",
       "Title                       object\n",
       "Culture                     object\n",
       "Period                      object\n",
       "Dynasty                     object\n",
       "Reign                       object\n",
       "Portfolio                   object\n",
       "Artist Role                 object\n",
       "Artist Prefix               object\n",
       "Artist Display Name         object\n",
       "Artist Display Bio          object\n",
       "Artist Suffix               object\n",
       "Artist Alpha Sort           object\n",
       "Artist Nationality          object\n",
       "Artist Begin Date           object\n",
       "Artist End Date             object\n",
       "Artist Gender               object\n",
       "Artist ULAN URL             object\n",
       "Artist Wikidata URL         object\n",
       "Object Date                 object\n",
       "Object Begin Date            int64\n",
       "Object End Date              int64\n",
       "Medium                      object\n",
       "Dimensions                  object\n",
       "Credit Line                 object\n",
       "Geography Type              object\n",
       "City                        object\n",
       "State                       object\n",
       "County                      object\n",
       "Country                     object\n",
       "Region                      object\n",
       "Subregion                   object\n",
       "Locale                      object\n",
       "Locus                       object\n",
       "Excavation                  object\n",
       "River                       object\n",
       "Classification              object\n",
       "Rights and Reproduction     object\n",
       "Link Resource               object\n",
       "Object Wikidata URL         object\n",
       "Metadata Date              float64\n",
       "Repository                  object\n",
       "Tags                        object\n",
       "Tags AAT URL                object\n",
       "dtype: object"
      ]
     },
     "execution_count": 3,
     "metadata": {},
     "output_type": "execute_result"
    }
   ],
   "source": [
    "## [BORRAR_PRESENCIAL]\n",
    "data.dtypes"
   ]
  },
  {
   "cell_type": "markdown",
   "metadata": {},
   "source": [
    "### 2.b AccessionYear\n",
    "\n",
    "Analizar la columna AccessionYear que fue leída como object, y debería ser int.\n",
    "\n",
    "¿Qué valores toma ese campo? ¿Cómo se distribuyen esos valores? ¿Hay valores nulos?\n",
    "\n",
    "Queremos extraer el dato año de los valores no numéricos, y crear una nueva columna en el DataFrame de tipo int que se llame AccessionYearClean y tenga estos valores.\n",
    "\n",
    "Para eso vamos a usar expresiones regulares, apply y lambda.\n",
    "\n",
    "Observación: si la columna tiene valores NaN no vamos a poder convertirla al tipo int. Una opción es reemplazar los valores NaN por algún entero antes de convertir (`fillna`). La otra opción es dejar la columna como tipo float (el tipo de NaN es float).\n"
   ]
  },
  {
   "cell_type": "code",
   "execution_count": 4,
   "metadata": {},
   "outputs": [
    {
     "data": {
      "text/plain": [
       "1963          220\n",
       "1917          140\n",
       "1874          126\n",
       "1929           99\n",
       "2011           98\n",
       "             ... \n",
       "1892            1\n",
       "1873            1\n",
       "2005-02-15      1\n",
       "2020-03-23      1\n",
       "1986-12-29      1\n",
       "Name: AccessionYear, Length: 142, dtype: int64"
      ]
     },
     "execution_count": 4,
     "metadata": {},
     "output_type": "execute_result"
    }
   ],
   "source": [
    "## [BORRAR_PRESENCIAL]\n",
    "#Con value_counts() vemos que algunos de los registros tienen una fecha en lugar de tener sólo el año.\n",
    "#Contamos los nulll\n",
    "\n",
    "data.AccessionYear.value_counts()"
   ]
  },
  {
   "cell_type": "code",
   "execution_count": 5,
   "metadata": {},
   "outputs": [
    {
     "data": {
      "text/plain": [
       "1000"
      ]
     },
     "execution_count": 5,
     "metadata": {},
     "output_type": "execute_result"
    }
   ],
   "source": [
    "## [BORRAR_PRESENCIAL]\n",
    "data.AccessionYear.isnull().sum()"
   ]
  },
  {
   "cell_type": "code",
   "execution_count": 6,
   "metadata": {},
   "outputs": [
    {
     "name": "stdout",
     "output_type": "stream",
     "text": [
      "object\n"
     ]
    },
    {
     "data": {
      "text/plain": [
       "Unnamed: 0                   int64\n",
       "Object Number               object\n",
       "Is Highlight                  bool\n",
       "Is Public Domain              bool\n",
       "Is Timeline Work              bool\n",
       "Object ID                    int64\n",
       "Department                  object\n",
       "AccessionYear               object\n",
       "Object Name                 object\n",
       "Title                       object\n",
       "Culture                     object\n",
       "Period                      object\n",
       "Dynasty                     object\n",
       "Reign                       object\n",
       "Portfolio                   object\n",
       "Artist Role                 object\n",
       "Artist Prefix               object\n",
       "Artist Display Name         object\n",
       "Artist Display Bio          object\n",
       "Artist Suffix               object\n",
       "Artist Alpha Sort           object\n",
       "Artist Nationality          object\n",
       "Artist Begin Date           object\n",
       "Artist End Date             object\n",
       "Artist Gender               object\n",
       "Artist ULAN URL             object\n",
       "Artist Wikidata URL         object\n",
       "Object Date                 object\n",
       "Object Begin Date            int64\n",
       "Object End Date              int64\n",
       "Medium                      object\n",
       "Dimensions                  object\n",
       "Credit Line                 object\n",
       "Geography Type              object\n",
       "City                        object\n",
       "State                       object\n",
       "County                      object\n",
       "Country                     object\n",
       "Region                      object\n",
       "Subregion                   object\n",
       "Locale                      object\n",
       "Locus                       object\n",
       "Excavation                  object\n",
       "River                       object\n",
       "Classification              object\n",
       "Rights and Reproduction     object\n",
       "Link Resource               object\n",
       "Object Wikidata URL         object\n",
       "Metadata Date              float64\n",
       "Repository                  object\n",
       "Tags                        object\n",
       "Tags AAT URL                object\n",
       "AccessionYearClean           int64\n",
       "dtype: object"
      ]
     },
     "execution_count": 6,
     "metadata": {},
     "output_type": "execute_result"
    }
   ],
   "source": [
    "## [BORRAR_PRESENCIAL]\n",
    "import re\n",
    "import numpy as np \n",
    "\n",
    "pattern_fecha = \"(?P<year>\\d\\d\\d\\d)(?P<month_day>\\-\\d\\d\\-\\d\\d)*\"\n",
    "pattern_fecha_regex =  re.compile(pattern_fecha)\n",
    "#resultado_fechas = data.AccessionYear.apply(lambda x: x if (x is np.NaN) | (x is None) else pattern_fecha_regex.match(x))\n",
    "resultado_fechas = data.AccessionYear.apply(lambda x: x if x is np.NaN else pattern_fecha_regex.match(x))\n",
    "\n",
    "year_match = resultado_fechas.apply(lambda x: x if x is np.NaN else x.group(\"year\"))\n",
    "print(year_match.dtype)\n",
    "\n",
    "\n",
    "#opcion 1\n",
    "year_match_fill = year_match.fillna(0)\n",
    "year_match_fill_numeric = year_match_fill.astype(int)\n",
    "\n",
    "# opcion 2\n",
    "year_match_numeric = year_match.astype(float)\n",
    "\n",
    "#data[\"AccessionYearClean\"] = year_match_numeric\n",
    "data[\"AccessionYearClean\"] = year_match_fill_numeric\n",
    "data.dtypes"
   ]
  },
  {
   "cell_type": "markdown",
   "metadata": {},
   "source": [
    "## Ejercicio 3: Categorias - Valores erróneos\n",
    "\n",
    "Miremos ahora el campo \"Artist Gender\"\n",
    "\n",
    "¿Qué valores toma ese campo? ¿Cómo se distribuyen esos valores? ¿Hay valores nulos?\n",
    "\n",
    "Queremos definir como categorías válidas Male, Female y Unknown\n",
    "\n",
    "Y crear una nueva columna en el DataFrame que se llame ArtistGenderClean y tenga estos valores.\n",
    "\n",
    "Para eso vamos a usar expresiones regulares, apply y lambda.\n",
    "\n",
    "¿Podemos deducir cómo está representada la categoría Male en el dataset original?\n",
    "\n",
    "Nota: La propuesta que hacemos para limpiar este campo no es del todo correcta, y vamos a ver por qué más adelante. Pero sirve como ejercicio.\n"
   ]
  },
  {
   "cell_type": "code",
   "execution_count": 7,
   "metadata": {},
   "outputs": [
    {
     "data": {
      "text/plain": [
       "|                           583\n",
       "||                          170\n",
       "Female                       81\n",
       "Female|                      43\n",
       "|||                          41\n",
       "|Female                      23\n",
       "||||                         20\n",
       "||||||                        7\n",
       "Female||                      3\n",
       "|||||||                       3\n",
       "|||||                         3\n",
       "|||||||||||                   2\n",
       "|Female|                      2\n",
       "Female||Female                2\n",
       "|||||||||||||||Female|||      1\n",
       "|Female|Female|||Female       1\n",
       "||Female|                     1\n",
       "|||Female|||||                1\n",
       "||||||||                      1\n",
       "|Female||                     1\n",
       "||Female                      1\n",
       "|||||||||||||||||             1\n",
       "Female|Female                 1\n",
       "Name: Artist Gender, dtype: int64"
      ]
     },
     "execution_count": 7,
     "metadata": {},
     "output_type": "execute_result"
    }
   ],
   "source": [
    "## [BORRAR_PRESENCIAL]\n",
    "\n",
    "data[\"Artist Gender\"].value_counts()                     "
   ]
  },
  {
   "cell_type": "code",
   "execution_count": 8,
   "metadata": {},
   "outputs": [
    {
     "data": {
      "text/plain": [
       "3751"
      ]
     },
     "execution_count": 8,
     "metadata": {},
     "output_type": "execute_result"
    }
   ],
   "source": [
    "## [BORRAR_PRESENCIAL]\n",
    "\n",
    "data[\"Artist Gender\"].isnull().sum()"
   ]
  },
  {
   "cell_type": "code",
   "execution_count": 9,
   "metadata": {},
   "outputs": [
    {
     "data": {
      "text/plain": [
       "Unknown                     3751\n",
       "|                            583\n",
       "||                           170\n",
       "Female                        81\n",
       "Female|                       43\n",
       "|||                           41\n",
       "|Female                       23\n",
       "||||                          20\n",
       "||||||                         7\n",
       "Female||                       3\n",
       "|||||                          3\n",
       "|||||||                        3\n",
       "|||||||||||                    2\n",
       "|Female|                       2\n",
       "Female||Female                 2\n",
       "|||||||||||||||Female|||       1\n",
       "||Female|                      1\n",
       "|||Female|||||                 1\n",
       "|Female|Female|||Female        1\n",
       "|Female||                      1\n",
       "||Female                       1\n",
       "||||||||                       1\n",
       "Female|Female                  1\n",
       "|||||||||||||||||              1\n",
       "Name: ArtistGenderClean, dtype: int64"
      ]
     },
     "execution_count": 9,
     "metadata": {},
     "output_type": "execute_result"
    }
   ],
   "source": [
    "## [BORRAR_PRESENCIAL]\n",
    "#Comenzamos asignando unknown a todos los nulos\n",
    "data[\"ArtistGenderClean\"] = data[\"Artist Gender\"].fillna('Unknown')\n",
    "data[\"ArtistGenderClean\"].value_counts()"
   ]
  },
  {
   "cell_type": "code",
   "execution_count": 10,
   "metadata": {},
   "outputs": [
    {
     "data": {
      "text/plain": [
       "Unknown               3751\n",
       "                       831\n",
       "Female                 157\n",
       "FemaleFemale             3\n",
       "FemaleFemaleFemale       1\n",
       "Name: ArtistGenderClean, dtype: int64"
      ]
     },
     "execution_count": 10,
     "metadata": {},
     "output_type": "execute_result"
    }
   ],
   "source": [
    "## [BORRAR_PRESENCIAL]\n",
    "# Vamos a reemplazar las sucesiones de pipe por un string vacío\n",
    "pattern_pipes = \"\\|+\"\n",
    "pattern_pipes_regex = re.compile(pattern_pipes)\n",
    "cadena_reemplazo = \"\"\n",
    "data[\"ArtistGenderClean\"] = data[\"ArtistGenderClean\"].apply(lambda x: pattern_pipes_regex.sub(cadena_reemplazo, x))\n",
    "data[\"ArtistGenderClean\"].value_counts()\n"
   ]
  },
  {
   "cell_type": "code",
   "execution_count": 11,
   "metadata": {},
   "outputs": [
    {
     "data": {
      "text/plain": [
       "Unknown    3751\n",
       "            831\n",
       "Female      161\n",
       "Name: ArtistGenderClean, dtype: int64"
      ]
     },
     "execution_count": 11,
     "metadata": {},
     "output_type": "execute_result"
    }
   ],
   "source": [
    "## [BORRAR_PRESENCIAL]\n",
    "# Vamos a reemplazar las sucesiones de Female por un Female\n",
    "pattern_female = \"(Female)+\"\n",
    "pattern_female_regex = re.compile(pattern_female)\n",
    "cadena_reemplazo = \"Female\"\n",
    "data[\"ArtistGenderClean\"] = data[\"ArtistGenderClean\"].apply(lambda x: pattern_female_regex.sub(cadena_reemplazo, x))\n",
    "data[\"ArtistGenderClean\"].value_counts()"
   ]
  },
  {
   "cell_type": "code",
   "execution_count": 12,
   "metadata": {},
   "outputs": [
    {
     "data": {
      "text/plain": [
       "Unknown    3751\n",
       "Male        831\n",
       "Female      161\n",
       "Name: ArtistGenderClean, dtype: int64"
      ]
     },
     "execution_count": 12,
     "metadata": {},
     "output_type": "execute_result"
    }
   ],
   "source": [
    "## [BORRAR_PRESENCIAL]\n",
    "# Vamos a reemplazar ahora \"\" por Male usando una máscara booleana\n",
    "empty_mask = data[\"ArtistGenderClean\"] == \"\"\n",
    "data.loc[empty_mask, \"ArtistGenderClean\"] = \"Male\"\n",
    "data[\"ArtistGenderClean\"].value_counts()"
   ]
  },
  {
   "cell_type": "markdown",
   "metadata": {},
   "source": [
    "## Ejercicio 4: Imputación\n",
    "\n",
    "Vamos a analizar ahora los campos \"Object Date\", \"Object Begin Date\", \"Object End Date\"\n",
    "\n",
    "**4.a ¿Cuántos valores nulos hay en \"Object Date\"? ¿Cuántos en \"Object Begin Date\"? ¿Cuántos en \"Object End Date\"?**\n"
   ]
  },
  {
   "cell_type": "code",
   "execution_count": 13,
   "metadata": {},
   "outputs": [
    {
     "data": {
      "text/plain": [
       "False    3173\n",
       "True     1570\n",
       "Name: Object Date, dtype: int64"
      ]
     },
     "execution_count": 13,
     "metadata": {},
     "output_type": "execute_result"
    }
   ],
   "source": [
    "## [BORRAR_PRESENCIAL]\n",
    "data[\"Object Date\"].isnull().value_counts()"
   ]
  },
  {
   "cell_type": "code",
   "execution_count": 14,
   "metadata": {},
   "outputs": [
    {
     "data": {
      "text/plain": [
       "False    4743\n",
       "Name: Object Begin Date, dtype: int64"
      ]
     },
     "execution_count": 14,
     "metadata": {},
     "output_type": "execute_result"
    }
   ],
   "source": [
    "## [BORRAR_PRESENCIAL]\n",
    "data[\"Object Begin Date\"].isnull().value_counts()"
   ]
  },
  {
   "cell_type": "code",
   "execution_count": 15,
   "metadata": {},
   "outputs": [
    {
     "data": {
      "text/plain": [
       "False    4743\n",
       "Name: Object End Date, dtype: int64"
      ]
     },
     "execution_count": 15,
     "metadata": {},
     "output_type": "execute_result"
    }
   ],
   "source": [
    "## [BORRAR_PRESENCIAL]\n",
    "data[\"Object End Date\"].isnull().value_counts()"
   ]
  },
  {
   "cell_type": "markdown",
   "metadata": {},
   "source": [
    "**4.b Usaremos los valores de \"Object Begin Date\" o \"Object End Date\" para imputar los valores de \"Object Date\" con alguno de esos dos campos.**\n",
    "\n",
    "1) Vamos a crear una columna nueva (\"Object Date 4b\") donde copiamos todos los datos de Object Date (para no cambiar los valores originales y nos sirvan para el próximo ejercicio)\n",
    "\n",
    "2) Vamos a rellenar la columna \"Object Date 4b\" con la estrategia que planteamos."
   ]
  },
  {
   "cell_type": "code",
   "execution_count": 16,
   "metadata": {},
   "outputs": [
    {
     "data": {
      "text/html": [
       "<div>\n",
       "<style scoped>\n",
       "    .dataframe tbody tr th:only-of-type {\n",
       "        vertical-align: middle;\n",
       "    }\n",
       "\n",
       "    .dataframe tbody tr th {\n",
       "        vertical-align: top;\n",
       "    }\n",
       "\n",
       "    .dataframe thead th {\n",
       "        text-align: right;\n",
       "    }\n",
       "</style>\n",
       "<table border=\"1\" class=\"dataframe\">\n",
       "  <thead>\n",
       "    <tr style=\"text-align: right;\">\n",
       "      <th></th>\n",
       "      <th>Object Date 4b</th>\n",
       "      <th>Object Begin Date</th>\n",
       "      <th>Object End Date</th>\n",
       "    </tr>\n",
       "  </thead>\n",
       "  <tbody>\n",
       "    <tr>\n",
       "      <th>51</th>\n",
       "      <td>0</td>\n",
       "      <td>0</td>\n",
       "      <td>0</td>\n",
       "    </tr>\n",
       "    <tr>\n",
       "      <th>103</th>\n",
       "      <td>330</td>\n",
       "      <td>-7000</td>\n",
       "      <td>330</td>\n",
       "    </tr>\n",
       "    <tr>\n",
       "      <th>122</th>\n",
       "      <td>0</td>\n",
       "      <td>0</td>\n",
       "      <td>0</td>\n",
       "    </tr>\n",
       "    <tr>\n",
       "      <th>136</th>\n",
       "      <td>0</td>\n",
       "      <td>0</td>\n",
       "      <td>0</td>\n",
       "    </tr>\n",
       "    <tr>\n",
       "      <th>159</th>\n",
       "      <td>0</td>\n",
       "      <td>0</td>\n",
       "      <td>0</td>\n",
       "    </tr>\n",
       "    <tr>\n",
       "      <th>...</th>\n",
       "      <td>...</td>\n",
       "      <td>...</td>\n",
       "      <td>...</td>\n",
       "    </tr>\n",
       "    <tr>\n",
       "      <th>2498</th>\n",
       "      <td>1450</td>\n",
       "      <td>1440</td>\n",
       "      <td>1450</td>\n",
       "    </tr>\n",
       "    <tr>\n",
       "      <th>2499</th>\n",
       "      <td>-30</td>\n",
       "      <td>-7000</td>\n",
       "      <td>-30</td>\n",
       "    </tr>\n",
       "    <tr>\n",
       "      <th>2500</th>\n",
       "      <td>1911</td>\n",
       "      <td>1644</td>\n",
       "      <td>1911</td>\n",
       "    </tr>\n",
       "    <tr>\n",
       "      <th>2501</th>\n",
       "      <td>1536</td>\n",
       "      <td>1526</td>\n",
       "      <td>1536</td>\n",
       "    </tr>\n",
       "    <tr>\n",
       "      <th>2502</th>\n",
       "      <td>907</td>\n",
       "      <td>618</td>\n",
       "      <td>907</td>\n",
       "    </tr>\n",
       "  </tbody>\n",
       "</table>\n",
       "<p>1570 rows × 3 columns</p>\n",
       "</div>"
      ],
      "text/plain": [
       "     Object Date 4b  Object Begin Date  Object End Date\n",
       "51                0                  0                0\n",
       "103             330              -7000              330\n",
       "122               0                  0                0\n",
       "136               0                  0                0\n",
       "159               0                  0                0\n",
       "...             ...                ...              ...\n",
       "2498           1450               1440             1450\n",
       "2499            -30              -7000              -30\n",
       "2500           1911               1644             1911\n",
       "2501           1536               1526             1536\n",
       "2502            907                618              907\n",
       "\n",
       "[1570 rows x 3 columns]"
      ]
     },
     "execution_count": 16,
     "metadata": {},
     "output_type": "execute_result"
    }
   ],
   "source": [
    "## [BORRAR_PRESENCIAL]\n",
    "\n",
    "data[\"Object Date 4b\"] = data[\"Object Date\"]\n",
    "\n",
    "# para crear la máscara pueda usar cualquiera de las dos columnas, la original o la copia\n",
    "mask_object_date_null = data[\"Object Date\"].isnull()\n",
    "\n",
    "mask_object_date_null.sum()\n",
    "\n",
    "# ahora modifico los valores de la columna \"Object Date 4b\"\n",
    "data.loc[mask_object_date_null, \"Object Date 4b\"] = data.loc[mask_object_date_null, \"Object End Date\"]\n",
    "\n",
    "# veo cómo se completaron los valores de \"Object Date 4b\"\n",
    "data.loc[mask_object_date_null, [\"Object Date 4b\", \"Object Begin Date\", \"Object End Date\"]]"
   ]
  },
  {
   "cell_type": "markdown",
   "metadata": {},
   "source": [
    "**4.c Usaremos aleatoriamente los valores de \"Object Begin Date\" o \"Object End Date\" para imputar los valores de \"Object Date\" con alguno de esos dos campos.**\n",
    "\n",
    "Para eso definimos una función get_fill_value que recibe como parámetro una fila da data, y si el valor del campo \"Object Date\" es nulo devuelve aleatoriamente el valor del campo \"Object Begin Date\" u \"Object End Date\" de ese registro.\n",
    "\n",
    "(En este ejercicio practicamos todo!)"
   ]
  },
  {
   "cell_type": "code",
   "execution_count": 17,
   "metadata": {},
   "outputs": [
    {
     "name": "stdout",
     "output_type": "stream",
     "text": [
      "1570\n",
      "     Object Date Object Date Fill  Object Begin Date  Object End Date\n",
      "51           NaN                0                  0                0\n",
      "103          NaN            -7000              -7000              330\n",
      "122          NaN                0                  0                0\n",
      "136          NaN                0                  0                0\n",
      "159          NaN                0                  0                0\n",
      "...          ...              ...                ...              ...\n",
      "2498         NaN             1440               1440             1450\n",
      "2499         NaN            -7000              -7000              -30\n",
      "2500         NaN             1911               1644             1911\n",
      "2501         NaN             1526               1526             1536\n",
      "2502         NaN              618                618              907\n",
      "\n",
      "[1570 rows x 4 columns]\n"
     ]
    }
   ],
   "source": [
    "## [BORRAR_PRESENCIAL]\n",
    "\n",
    "def get_fill_value(row):    \n",
    "    if row[\"Object Date\"] is np.NaN:\n",
    "        random_generator = np.random.default_rng()\n",
    "        rnd = random_generator.uniform()\n",
    "        if rnd < 0.5:\n",
    "            result = row[\"Object Begin Date\"]\n",
    "        else:\n",
    "            result = row[\"Object End Date\"]\n",
    "    else:\n",
    "        result = row[\"Object Date\"]\n",
    "    return result    \n",
    "\n",
    "data[\"Object Date Fill\"] = data.apply(get_fill_value, axis = 1)\n",
    "\n",
    "#defino una máscara que me muestre los registros que completé:\n",
    "mask_fill = data[\"Object Date\"] != data[\"Object Date Fill\"]\n",
    "# cantidad de registros que completé:\n",
    "print(mask_fill.sum())\n",
    "# miro qué hizo en los que completé:\n",
    "print(data.loc[mask_fill, [\"Object Date\", \"Object Date Fill\", \"Object Begin Date\", \"Object End Date\"]])\n"
   ]
  },
  {
   "cell_type": "markdown",
   "metadata": {},
   "source": [
    "Vamos a contar ahora cuántos registros rellenó con los valores de Object Begin Date y cuántos con Object End Date"
   ]
  },
  {
   "cell_type": "code",
   "execution_count": 18,
   "metadata": {},
   "outputs": [
    {
     "name": "stdout",
     "output_type": "stream",
     "text": [
      "847\n",
      "880\n"
     ]
    }
   ],
   "source": [
    "## [BORRAR_PRESENCIAL]\n",
    "\n",
    "# máscara que define qué registros fueron completados:\n",
    "mask_fill = data[\"Object Date\"] != data[\"Object Date Fill\"]\n",
    "\n",
    "# máscara que define qué registros fueron completados, y usamos Object Begin Date:\n",
    "object_begin_date_fill_mask = np.logical_and(mask_fill, data[\"Object Date Fill\"] == data[\"Object Begin Date\"])\n",
    "\n",
    "# máscara que define qué registros fueron completados, y usamos Object End Date:\n",
    "object_end_date_fill_mask = np.logical_and(mask_fill, data[\"Object Date Fill\"] == data[\"Object End Date\"])\n",
    "\n",
    "print(object_begin_date_fill_mask.sum())\n",
    "\n",
    "print(object_end_date_fill_mask.sum())\n",
    "\n",
    "# bien! rellenó 50% con cada columna. \n",
    "# ojo con esto que si Object Begin Date es igual a Object End Date los cuento dos veces! (por eso suman más que 15002)"
   ]
  },
  {
   "cell_type": "markdown",
   "metadata": {},
   "source": [
    "## Nota: Organizar el dataset\n",
    "\n",
    "Para llevar a cabo esta tarea necesitamos algunas herramientas que veremos en la segunda parte de Pandas.\n",
    "\n",
    "En esa clase vamos a volver a este ejercicio y resolver este punto.\n",
    "\n",
    "Los campos que vamos a analizar son \"Artist Nationality\" y \"Artist Display Name\""
   ]
  },
  {
   "cell_type": "code",
   "execution_count": 19,
   "metadata": {},
   "outputs": [
    {
     "data": {
      "text/plain": [
       "American                       329\n",
       "Austrian                       153\n",
       "French                         146\n",
       "Japanese                        96\n",
       "Italian                         93\n",
       "                              ... \n",
       "Belgian|Netherlandish            1\n",
       "American, born Greece            1\n",
       "American |American               1\n",
       "Netherlandish|Dutch|Flemish      1\n",
       "Belgian|British, Scottish        1\n",
       "Name: Artist Nationality, Length: 167, dtype: int64"
      ]
     },
     "execution_count": 19,
     "metadata": {},
     "output_type": "execute_result"
    }
   ],
   "source": [
    "data[\"Artist Nationality\"].value_counts()"
   ]
  },
  {
   "cell_type": "code",
   "execution_count": 20,
   "metadata": {},
   "outputs": [
    {
     "data": {
      "text/plain": [
       "Walker Evans                                   35\n",
       "Unknown                                        32\n",
       "W. Duke, Sons & Co.                            21\n",
       "Kinney Brothers Tobacco Company                20\n",
       "Unidentified Artist                            19\n",
       "                                               ..\n",
       "Paul Gavarni [Chevalier]|Aubert et Cie          1\n",
       "Paul Vincent Woodroffe|Joseph Samuel Moorat     1\n",
       "Monika Correa                                   1\n",
       "Thomas Wagstaffe                                1\n",
       "Etienne Delaune|Sebald Beham                    1\n",
       "Name: Artist Display Name, Length: 1595, dtype: int64"
      ]
     },
     "execution_count": 20,
     "metadata": {},
     "output_type": "execute_result"
    }
   ],
   "source": [
    "data[\"Artist Display Name\"].value_counts() "
   ]
  }
 ],
 "metadata": {
  "kernelspec": {
   "display_name": "dhdsblend2021",
   "language": "python",
   "name": "python3"
  },
  "language_info": {
   "codemirror_mode": {
    "name": "ipython",
    "version": 3
   },
   "file_extension": ".py",
   "mimetype": "text/x-python",
   "name": "python",
   "nbconvert_exporter": "python",
   "pygments_lexer": "ipython3",
   "version": "3.8.16"
  },
  "vscode": {
   "interpreter": {
    "hash": "de22a6b93463c192227e418448a2028fa3d1082ec71dbf04efd1cbc3553d81af"
   }
  }
 },
 "nbformat": 4,
 "nbformat_minor": 4
}
