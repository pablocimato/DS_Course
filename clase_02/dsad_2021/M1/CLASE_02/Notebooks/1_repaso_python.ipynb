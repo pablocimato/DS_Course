{
 "cells": [
  {
   "cell_type": "code",
   "execution_count": null,
   "metadata": {},
   "outputs": [],
   "source": [
    "# initial setup\n",
    "%run \"../../../common/0_notebooks_base_setup.py\""
   ]
  },
  {
   "cell_type": "markdown",
   "metadata": {},
   "source": [
    "---\n",
    "\n",
    "<img src='../../../common/logo_DH.png' align='left' width=35%/>\n"
   ]
  },
  {
   "cell_type": "markdown",
   "metadata": {},
   "source": [
    "# Repaso de programación en Python "
   ]
  },
  {
   "cell_type": "markdown",
   "metadata": {},
   "source": [
    "## Funciones\n",
    "\n",
    "En esta sección veremos cómo escribir funciones, que son bloques de código con nombre, diseñados para hacer un trabajo específico.\n",
    "\n",
    "Cuando queremos realizar una tarea en particular que hemos definido en una función, llamamos a la función responsable de ello. \n",
    "\n",
    "Si necesitamos realizar esa tarea varias veces a lo largo de un programa, no necesitamos escribir todo el código para la misma tarea una y otra vez; solo llamamos a la función dedicada a manejar esa tarea, y la llamada le dice a Python que ejecute el código dentro de la función. \n",
    "\n",
    "El uso de funciones hace que nuestros  programas sean más fáciles de escribir, leer, probar y corregir.\n",
    "\n",
    "Las funciones nos permiten escribir código una vez y luego reutilizar ese código tantas veces como queramos. \n",
    "\n",
    "Cuando necesitamos ejecutar el código en una función, basta con escribir una llamada de una línea y la función hace su trabajo.\n",
    "\n",
    "Cuando necesitamos modificar el comportamiento de una función, solo tenemos que modificar el bloque de código de su definición, y ese cambio se refleja en todos los lugares donde llamemos a esa función.\n",
    "\n",
    "El uso de funciones hace que nuestros programas sean más fáciles de leer, los buenos nombres de funciones resumen qué hace cada parte de un programa. \n",
    "\n",
    "Leyendo una serie de llamadas a funciones tenemos idea mucho más clara de qué hace un programa que leyendo una serie de bloques de código.\n",
    "\n",
    "Ejemplo de función:\n"
   ]
  },
  {
   "cell_type": "code",
   "execution_count": null,
   "metadata": {},
   "outputs": [],
   "source": [
    "def greet_user(username):\n",
    "    \"\"\"Display a simple greeting.\"\"\"\n",
    "    print(f\"Hello, {username.title()}!\")\n",
    "\n",
    "greet_user('jesse')\n",
    "greet_user('paul')"
   ]
  },
  {
   "cell_type": "markdown",
   "metadata": {},
   "source": [
    "### Argumentos Posicionales\n",
    "\n",
    "Cuando llamamos a una función, Python debe asociar cada argumento en la llamada con un parámetro en la definición de la función. \n",
    "\n",
    "La forma más simple de hacer esto es basado en el orden de los argumentos proporcionados. \n",
    "\n",
    "Los valores asociados de este modo a cada parámetro se llaman argumentos posicionales.\n"
   ]
  },
  {
   "cell_type": "code",
   "execution_count": null,
   "metadata": {},
   "outputs": [],
   "source": [
    "def describe_pet(animal_type, pet_name):\n",
    "    \"\"\"Display information about a pet.\"\"\"\n",
    "    print(f\"\\nI have a {animal_type}.\")\n",
    "    print(f\"My {animal_type}'s name is {pet_name.title()}.\")\n",
    "\n",
    "describe_pet('hamster', 'harry')\n",
    "describe_pet('dog', 'willie')"
   ]
  },
  {
   "cell_type": "markdown",
   "metadata": {},
   "source": [
    "### Argumentos de palabras clave (argumentos keyword)\n",
    "Un argumento keyword es un par nombre y valor que se pasa a una función. \n",
    "\n",
    "Asociamos el nombre y el valor dentro del argumento.\n",
    "\n",
    "Los argumentos keyword nos liberan de tener que ordenar correctamente los argumentos en la llamada a la función, y especifican el papel de cada valor en la llamada a la función.\n"
   ]
  },
  {
   "cell_type": "code",
   "execution_count": null,
   "metadata": {},
   "outputs": [],
   "source": [
    "describe_pet(animal_type='hamster', pet_name='harry')\n",
    "describe_pet(pet_name='harry', animal_type='hamster')"
   ]
  },
  {
   "cell_type": "markdown",
   "metadata": {},
   "source": [
    "### Valores predeterminados (valores default)\n",
    "\n",
    "Al escribir una función, podemos definir un valor predeterminado para cada parámetro.\n",
    "\n",
    "Si se proporciona un argumento para un parámetro en la llamada a la función, Python usa ese valor del argumento. \n",
    "\n",
    "De lo contrario, utiliza el valor predeterminado del parámetro. \n",
    "\n",
    "Entonces cuando definimos un valor predeterminado para un parámetro, podemos excluir el correspondiente argumento en la llamada a la función. \n",
    "\n",
    "Usar valores predeterminados puede simplificar las llamadas a funciones y aclarar las formas en que estas funciones\n",
    "se usan típicamente.\n"
   ]
  },
  {
   "cell_type": "code",
   "execution_count": null,
   "metadata": {},
   "outputs": [],
   "source": [
    "def describe_pet(pet_name, animal_type='dog'):\n",
    "    \"\"\"Display information about a pet.\"\"\"\n",
    "    print(f\"\\nI have a {animal_type}.\")\n",
    "    print(f\"My {animal_type}'s name is {pet_name.title()}.\")\n",
    "\n",
    "describe_pet(pet_name='willie')\n",
    "describe_pet('willie')\n"
   ]
  },
  {
   "cell_type": "markdown",
   "metadata": {},
   "source": [
    "### Formas equivalentes de llamadas a función"
   ]
  },
  {
   "cell_type": "code",
   "execution_count": null,
   "metadata": {},
   "outputs": [],
   "source": [
    "# A dog named Willie.\n",
    "describe_pet('willie')\n",
    "describe_pet(pet_name='willie')\n",
    "\n",
    "# A hamster named Harry.\n",
    "describe_pet('harry', 'hamster')\n",
    "describe_pet(pet_name='harry', animal_type='hamster')\n",
    "describe_pet(animal_type='hamster', pet_name='harry')\n"
   ]
  },
  {
   "cell_type": "markdown",
   "metadata": {},
   "source": [
    "### Argumento opcional\n",
    "\n",
    "A veces tiene sentido hacer un argumento opcional para que podamos elegir proporcionar información adicional solo si tiene sentido. \n",
    "\n",
    "Usamos los valores predeterminados para hacer que un argumento sea opcional.\n",
    "\n",
    "En la primera función ningún argumento es opcional. \n",
    "\n",
    "En la segunda, middle_name es opcional.\n"
   ]
  },
  {
   "cell_type": "code",
   "execution_count": null,
   "metadata": {},
   "outputs": [],
   "source": [
    "def get_formatted_name(first_name, middle_name, last_name):\n",
    "    \"\"\"Return a full name, neatly formatted.\"\"\"\n",
    "    full_name = f\"{first_name} {middle_name} {last_name}\"\n",
    "    return full_name.title()\n",
    "\n",
    "musician = get_formatted_name('john', 'lee', 'hooker')\n",
    "print(musician)\n",
    "\n",
    "def get_formatted_name(first_name, last_name, middle_name=''):\n",
    "    \"\"\"Return a full name, neatly formatted.\"\"\"\n",
    "    if middle_name:\n",
    "        full_name = f\"{first_name} {middle_name} {last_name}\"\n",
    "    else:\n",
    "        full_name = f\"{first_name} {last_name}\"\n",
    "    return full_name.title()\n",
    "\n",
    "musician = get_formatted_name('jimi', 'hendrix')\n",
    "print(musician)\n",
    "\n",
    "musician = get_formatted_name('john', 'hooker', 'lee')\n",
    "print(musician)\n"
   ]
  },
  {
   "cell_type": "markdown",
   "metadata": {},
   "source": [
    "### Número arbitrario de argumentos\n",
    "\n",
    "A veces no sabremos de antemano cuántos argumentos debe aceptar una función. \n",
    "\n",
    "Python permite que una función reciba un número arbitrario de argumentos en la llamada.\n",
    "\n",
    "Por ejemplo, consideremos una función que construye una pizza. Debe aceptar una cantidad de ingredientes, pero no podemos saber de antemano cuántos ingredientes querrá una persona. \n",
    "\n",
    "La función en el siguiente ejemplo tiene un parámetro, * toppings, pero este parámetro acepta tantos argumentos como pasemos:\n"
   ]
  },
  {
   "cell_type": "code",
   "execution_count": null,
   "metadata": {},
   "outputs": [],
   "source": [
    "def make_pizza(*toppings):\n",
    "    \"\"\"Print the list of toppings that have been requested.\"\"\"\n",
    "    print(toppings)\n",
    "\n",
    "make_pizza('pepperoni')\n",
    "make_pizza('mushrooms', 'green peppers', 'extra cheese')\n"
   ]
  },
  {
   "cell_type": "markdown",
   "metadata": {},
   "source": [
    "El asterisco en el nombre del parámetro *toppings le dice a Python que construya una tupla vacía llamada toppings y asigne los valores que recibe como argumentos en los elementos de la tupla.\n",
    "\n",
    "Python asigna los argumentos a los elementos de una tupla, aún cuando la función reciba sólo un valor."
   ]
  },
  {
   "cell_type": "markdown",
   "metadata": {},
   "source": [
    "### Uso de argumentos keyword arbitrarios\n",
    "Podemos escribir funciones que acepten tantos pares clave-valor como pasemos en la llamada.\n"
   ]
  },
  {
   "cell_type": "code",
   "execution_count": null,
   "metadata": {},
   "outputs": [],
   "source": [
    "def build_profile(first, last, **user_info):\n",
    "    \"\"\"Build a dictionary containing everything we know about a user.\"\"\"\n",
    "\n",
    "    user_info['first_name'] = first\n",
    "    user_info['last_name'] = last\n",
    "    return user_info\n",
    "\n",
    "user_profile = build_profile('albert', 'einstein',\n",
    "location='princeton',\n",
    "field='physics')\n",
    "print(user_profile)"
   ]
  },
  {
   "cell_type": "markdown",
   "metadata": {},
   "source": [
    "El doble asterisco antes del parámetro `**user_info` hace que Python cree un diccionario vacío llamado user_info y asigne como elementos del diccionario cada uno de los elementos que recibe como argumentos keyword.\n"
   ]
  },
  {
   "cell_type": "markdown",
   "metadata": {},
   "source": [
    "### Ejercicio - Automóviles: \n",
    "\n",
    "Escribamos una función que almacene información sobre un automóvil en un diccionario. \n",
    "\n",
    "La función siempre debe recibir un fabricante y un nombre de modelo. \n",
    "\n",
    "Debería aceptar también un número arbitrario de argumentos keyword. \n",
    "\n",
    "Llamemos a la función con la información requerida y otros dos pares de nombre-valor, como un color o una característica opcional. \n",
    "\n",
    "Nuestra función debería funcionar para una llamada como esta:\n",
    "\n",
    "<code>car = make_car ('subaru', 'outback', color = 'blue', tow_package = True)\n",
    "</code>\n",
    "\n",
    "Imprimamos el diccionario que devuelve para asegurarnos de que toda la información esté almacenado correctamente.\n"
   ]
  },
  {
   "cell_type": "code",
   "execution_count": null,
   "metadata": {},
   "outputs": [],
   "source": []
  },
  {
   "cell_type": "code",
   "execution_count": null,
   "metadata": {},
   "outputs": [],
   "source": [
    "\n"
   ]
  },
  {
   "cell_type": "markdown",
   "metadata": {},
   "source": [
    "### Ejercicio - Variables globales y locales\n",
    "\n",
    "A partir de las funciones calculo_a y calculo_b:\n",
    "\n",
    "1. Verificar qué valores devuelven con los parámetros de entrada: x=3, y=4.\n",
    "\n",
    "2. Ejecutar el siguiente código. Da error? Por qué? \n",
    "\n",
    "<code>calculo_a(10,20)\n",
    " r\n",
    "</code>\n",
    "\n",
    "3. Ejecutar el siguiente código. Da error? Por qué? la variable r cambia su valor cuando se llama a la función? Por qué?\n",
    "\n",
    "<code>r = 100\n",
    "a = calculo_a(10,20)\n",
    "a, r\n",
    "</code>\n",
    "\n",
    "4. Volver a ejecutar el siguiente código. Da error? Por qué?\n",
    "\n",
    "<code>calculo_a(10,20)\n",
    "r\n",
    "</code>\n",
    "\n",
    "5. Ejecutar el siguiente código. Da error? Porque? Las variables x, y son globales o locales?\n",
    "\n",
    "<code>x = calculo_a(3,4)\n",
    "y = calculo_a(2,5)\n",
    "z = calculo_b(x, y)\n",
    "x , y, z\n",
    "</code>"
   ]
  },
  {
   "cell_type": "code",
   "execution_count": null,
   "metadata": {},
   "outputs": [],
   "source": [
    "def calculo_a(x, y):\n",
    "    z = x * y\n",
    "    if z > 10:\n",
    "        r = z * (x + y)\n",
    "    else:\n",
    "        r = z + (x + y)\n",
    "        \n",
    "    return r"
   ]
  },
  {
   "cell_type": "code",
   "execution_count": null,
   "metadata": {},
   "outputs": [],
   "source": [
    "def calculo_b(x, y):\n",
    "    z = x * y\n",
    "    if z > 10:\n",
    "        s = z * (x + y)\n",
    "    else:\n",
    "        s = z + (x + y)\n",
    "        \n",
    "    return s"
   ]
  },
  {
   "cell_type": "code",
   "execution_count": null,
   "metadata": {},
   "outputs": [],
   "source": []
  },
  {
   "cell_type": "code",
   "execution_count": null,
   "metadata": {},
   "outputs": [],
   "source": []
  },
  {
   "cell_type": "code",
   "execution_count": null,
   "metadata": {},
   "outputs": [],
   "source": []
  },
  {
   "cell_type": "code",
   "execution_count": null,
   "metadata": {},
   "outputs": [],
   "source": []
  },
  {
   "cell_type": "code",
   "execution_count": null,
   "metadata": {},
   "outputs": [],
   "source": []
  },
  {
   "cell_type": "markdown",
   "metadata": {},
   "source": [
    "## Módulos\n",
    "\n",
    "Una ventaja de las funciones es la forma en que separan los bloques de código en nuestro programa principal. \n",
    "\n",
    "Al usar nombres descriptivos para las funciones, el programa principal será mucho más fácil de seguir. \n",
    "\n",
    "Podemos ir un paso más allá almacenando nuestras funciones en un archivo separado llamado módulo y luego importando ese módulo a nuestro programa principal. \n",
    "\n",
    "La instrucción import dice a Python que nos permita disponer del código en un módulo en el archivo de programa actualmente en ejecución.\n",
    "\n",
    "Almacenar nuestras funciones en un archivo separado nos permite ocultar los detalles del código de nuestro programa y centrarnos en su lógica. También nos permite reutilizar funciones en programas diferentes. Cuando almacenamos las funciones en archivos separados, podemos compartir esos archivos con otros programadores sin tener que compartir todo nuestro programa. \n",
    "\n",
    "Saber cómo importar funciones también nos permite usar bibliotecas de funciones desarrolladas por otros programadores.\n",
    "\n",
    "\n",
    "### Importar un módulo completo\n",
    "\n",
    "Para comenzar a importar funciones, primero necesitamos crear un módulo. \n",
    "\n",
    "Un módulo es un archivo que termina en .py que contiene el código que desea importar en su programa. \n",
    "\n",
    "<code>import pizza\n",
    "</code>\n",
    "\n",
    "Importa todas las funciones definidas en el archivo pizza.py\n",
    "\n",
    "Para llamar a una función desde un módulo importado, ingresamos el nombre del módulo que importamos, pizza, seguido del nombre de la función, make_pizza(), separados por un punto: `pizza.make_pizza()`\n",
    "\n",
    "Esta forma de import disponibiliza en nuestro programa todas las funciones del módulo. \n",
    "\n",
    "Si usamos esta forma de importar un módulo completo llamado module_name.py, cada función en el módulo estará disponible a través de la siguiente sintaxis:\n",
    "\n",
    "`module_name.function_name()`\n",
    "\n",
    "### Importar funciones específicas\n",
    "\n",
    "También podemos importar una función específica desde un módulo. La sintaxis para esto es:\n",
    "\n",
    "`from module_name import function_name`\n",
    "\n",
    "Podemos importar tantas funciones como queramos de un módulo, separando cada nombre de función por coma:\n",
    "\n",
    "`from module_name import function_0, function_1, function_2`"
   ]
  },
  {
   "cell_type": "markdown",
   "metadata": {},
   "source": [
    "### Ejercicio - Imports:\n",
    "Utilizando un programa que hayamos escrito (puede ser automóviles) que tenga una función, almacenemos esa función en un archivo separado. \n",
    "\n",
    "Importemos la función en nuestro archivo de programa principal y llamemos a la función utilizando cada uno de estos enfoques:\n",
    "\n",
    "<code>import module_name\n",
    "from module_name import function_name\n",
    "from module_name import function_name as fn\n",
    "import module_name as mn\n",
    "from module_name import *\n",
    "</code>    "
   ]
  },
  {
   "cell_type": "code",
   "execution_count": null,
   "metadata": {},
   "outputs": [],
   "source": []
  },
  {
   "cell_type": "code",
   "execution_count": null,
   "metadata": {},
   "outputs": [],
   "source": []
  },
  {
   "cell_type": "code",
   "execution_count": null,
   "metadata": {},
   "outputs": [],
   "source": []
  },
  {
   "cell_type": "code",
   "execution_count": null,
   "metadata": {},
   "outputs": [],
   "source": []
  },
  {
   "cell_type": "code",
   "execution_count": null,
   "metadata": {},
   "outputs": [],
   "source": []
  },
  {
   "cell_type": "markdown",
   "metadata": {},
   "source": [
    "## Excepciones\n",
    "\n",
    "El manejo de excepciones es una técnica de programación que permite al programador controlar los errores ocasionados durante la ejecución de un programa. Cuando ocurre cierto tipo de error, el sistema reacciona ejecutando un fragmento de código que resuelve la situación, por ejemplo retornando un mensaje de error o devolviendo un valor por defecto.\n",
    "\n",
    "Una excepción es la indicación de un problema que ocurre durante la ejecución de un programa. \n",
    "El manejo de excepciones permite al desarrollador crear aplicaciones tolerantes a fallas y robustas (resistentes a errores) para controlar estas excepciones y que pueda seguir ejecutándose el programa sin verse afectado por el problema. \n",
    "\n",
    "<code>try:\n",
    "    #your code\n",
    "except Exception as ex:\n",
    "    print(ex)\n",
    "</code>\n",
    "\n",
    "\n",
    "Capturar varias excepciones en el mismo bloque:\n",
    "\n",
    "<code>except (Exception1, Exception2) as e:\n",
    "    pass\n",
    "</code>\n",
    "\n",
    "Capturar cada excepción en un bloque específico:\n",
    "\n",
    "<code>try:\n",
    "    file = open('input-file', 'open mode')\n",
    "except EOFError as ex:\n",
    "    print(\"Caught the EOF error.\")\n",
    "    raise ex\n",
    "except IOError as e:\n",
    "    print(\"Caught the I/O error.\")\n",
    "    raise ex\n",
    "</code>\n",
    "\n",
    "Else se ejecuta sólo si no se ejecutó el bloque except, es decir si no hubo excepción:\n",
    "\n",
    "<code>try:\n",
    "    result = 1 / x\n",
    "except:\n",
    "    print(\"Error case\")\n",
    "    exit(0)\n",
    "else:\n",
    "    print(\"Pass case\")\n",
    "    exit(1)\n",
    "</code>\n",
    "\n",
    "Finally se ejecuta siempre, tanto si se produce una excepción como si no:\n",
    "\n",
    "<code>try:\n",
    "    # Intentionally raise an error.\n",
    "    x = 1 / 0\n",
    "except:\n",
    "    # Except clause:\n",
    "    print(\"Error occurred\")\n",
    "finally:\n",
    "    # Finally clause:\n",
    "    print(\"The [finally clause] is hit\")\n",
    "</code>\n"
   ]
  },
  {
   "cell_type": "code",
   "execution_count": null,
   "metadata": {},
   "outputs": [],
   "source": [
    "try:\n",
    "    # Intentionally raise an error.\n",
    "    x = 1 / 0\n",
    "except:\n",
    "    # Except clause:\n",
    "    print(\"Error occurred\")\n",
    "finally:\n",
    "    # Finally clause:\n",
    "    print(\"The [finally clause] is hit\")"
   ]
  },
  {
   "cell_type": "markdown",
   "metadata": {},
   "source": [
    "### Ejercicio - Exceptions\n",
    "\n",
    "Ejecutemos este código para distintos valore de x (0, 1 y 20) para entender el flujo normal y de excepciones"
   ]
  },
  {
   "cell_type": "code",
   "execution_count": null,
   "metadata": {},
   "outputs": [],
   "source": [
    "x = 10\n",
    "# x = 0\n",
    "# x = 1\n",
    "# x = 20\n",
    "try:\n",
    "    print(\"Before division\")\n",
    "    result = 1 / x\n",
    "    print(\"After division\")\n",
    "except:\n",
    "    print(\"Error case\")\n",
    "else:\n",
    "    print(\"Pass case\")\n",
    "finally:\n",
    "    # Finally clause:\n",
    "    print(\"The [finally clause] is hit\")    "
   ]
  },
  {
   "cell_type": "markdown",
   "metadata": {},
   "source": [
    "## Expresiones booleanas\n",
    "\n",
    "\n",
    "### Prueba condicional\n",
    "\n",
    "`var1 = 10`\n",
    "\n",
    "`var2 = 12`\n",
    "\n",
    "`list1 = [1, 2, 3, 4, 5, 6, 7, 8, 9, 10]`\n",
    "\n",
    "Pruebas:\n",
    "\n",
    "`var1 == var2`\n",
    "\n",
    "`var1 != var2`\n",
    "\n",
    "`var1 < var2`\n",
    "\n",
    "`var1 <= var2`\n",
    "\n",
    "`var1 > var2`\n",
    "\n",
    "`var1 >= var2`\n",
    "\n",
    "`var1 in list1`\n",
    "\n",
    "`var1 is var2`\n",
    "\n",
    "Una expresión booleana es sólo otro nombre para una prueba condicional. \n",
    "\n",
    "Un valor booleano es verdadero o falso, al igual que el valor de una expresión condicional después de haber sido evaluada.\n",
    "\n",
    "Por ejemplo si un juego se está ejecutando o si un usuario puede editar cierto contenido en un sitio web:\n",
    "\n",
    "`game_active = True`\n",
    "\n",
    "`can_edit = False`\n",
    "\n",
    "\n",
    "### Operadores booleanos\n",
    "\n",
    "\n",
    "|Operador|Sintaxis|Test|\n",
    "|---|:---:|:---|\n",
    "|and|`cond1 and cond2`|¿Son cond1 y cond2 (ambas) True?|\n",
    "|or|`cond1 or cond2`|¿Al menos una de cond1 cond2 es True?|\n",
    "|not|`not cond1`|¿Es cond1 False?|\n",
    "|any|`any([cond1, cond2])`|¿Alguna de las condiciones de la lista es True?|\n",
    "|all|`all([cond1, cond2])`|¿Todas las condiciones de la lista son True?|\n"
   ]
  },
  {
   "cell_type": "markdown",
   "metadata": {},
   "source": [
    "## Referencias\n",
    "\n",
    "Eric Matthes - Python Crash Course A Hands-On, Project-Based Introduction to Programming (2019) Capítulos 8 y 9\n",
    "https://www.amazon.com/Python-Crash-Course-Hands-Project-Based/dp/1593276036\n",
    "\n",
    "Python Cheat Sheets\n",
    "https://github.com/ehmatthes/pcc_2e/tree/master/cheat_sheets\n"
   ]
  }
 ],
 "metadata": {
  "kernelspec": {
   "display_name": "Python 3",
   "language": "python",
   "name": "python3"
  },
  "language_info": {
   "codemirror_mode": {
    "name": "ipython",
    "version": 3
   },
   "file_extension": ".py",
   "mimetype": "text/x-python",
   "name": "python",
   "nbconvert_exporter": "python",
   "pygments_lexer": "ipython3",
   "version": "3.8.5"
  }
 },
 "nbformat": 4,
 "nbformat_minor": 4
}
