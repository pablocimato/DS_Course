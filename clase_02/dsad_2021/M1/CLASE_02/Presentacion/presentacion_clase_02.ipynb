{
 "cells": [
  {
   "cell_type": "code",
   "execution_count": 1,
   "metadata": {
    "slideshow": {
     "slide_type": "skip"
    }
   },
   "outputs": [
    {
     "name": "stdout",
     "output_type": "stream",
     "text": [
      "/media/paulati/Nuevo vol/paula/dh/2021/dsad_2021/common\n",
      "default checking\n",
      "Running command `conda list`... ok\n",
      "jupyterlab=2.2.6 already installed\n",
      "pandas=1.1.5 already installed\n",
      "bokeh=2.2.3 already installed\n",
      "seaborn=0.11.0 already installed\n",
      "matplotlib=3.3.2 already installed\n",
      "ipywidgets=7.5.1 already installed\n",
      "pytest=6.2.1 already installed\n",
      "chardet=4.0.0 already installed\n",
      "psutil=5.7.2 already installed\n",
      "scipy=1.5.2 already installed\n",
      "statsmodels=0.12.1 already installed\n",
      "scikit-learn=0.23.2 already installed\n",
      "xlrd=2.0.1 already installed\n",
      "Running command `conda install --yes nltk=3.5.0`... ok\n",
      "Collecting package metadata (current_repodata.json): ...working... done\n",
      "Solving environment: ...working... done\n",
      "\n",
      "# All requested packages already installed.\n",
      "\n",
      "\n",
      "unidecode=1.1.1 already installed\n",
      "pydotplus=2.0.2 already installed\n",
      "pandas-datareader=0.9.0 already installed\n",
      "flask=1.1.2 already installed\n"
     ]
    }
   ],
   "source": [
    "# initial setup\n",
    "%run \"../../../common/0_notebooks_base_setup.py\"\n"
   ]
  },
  {
   "cell_type": "code",
   "execution_count": 2,
   "metadata": {
    "slideshow": {
     "slide_type": "skip"
    }
   },
   "outputs": [],
   "source": [
    "# NOTA: Esta es la forma de armar html con algun contenido dinamico. No borrar porque sirve como ejemplo\n",
    "\n",
    "# cargo los estilos y la portada:\n",
    "\n",
    "#css_path = '../../../common/dhds.css'\n",
    "\n",
    "#raw_html = '<div class=\"Table\">' \\\n",
    "#    '<div class=\"Row\">' \\\n",
    "#        '<div class=\"Cell grey left\"> <img src=\"' + gs.images_base_url + 'M1/CLASE_02_Python1/Presentacion/img/M1_CLASE_02_portada.png\" align=\"center\" /></div>' \\\n",
    "#        '<div class=\"Cell right\">' \\\n",
    "#            '<div class=\"div-logo\"><img src=\"' + gs.images_base_url + 'common/logo_DH.png\" align=\"center\" width=70% /></div>' \\\n",
    "#            '<div class=\"div-curso\">DATA SCIENCE</div>' \\\n",
    "#            '<div class=\"div-modulo\">MÓDULO 1</div>' \\\n",
    "#            '<div class=\"div-contenido\">Entornos (Conda y Jupyter Notebooks) <br/> Repaso de Python</div>' \\\n",
    "#        '</div>' \\\n",
    "#    '</div>' \\\n",
    "#'</div>'        \n"
   ]
  },
  {
   "cell_type": "code",
   "execution_count": 3,
   "metadata": {
    "slideshow": {
     "slide_type": "skip"
    },
    "tags": [
     "to_remove"
    ]
   },
   "outputs": [],
   "source": [
    "# importante: tagear como slide to remove y generar por linea de comandos \n",
    "#from IPython.display import HTML as html\n",
    "#html(\"<link rel='stylesheet' href='\" + css_path + \"'>\" + raw_html)"
   ]
  },
  {
   "cell_type": "markdown",
   "metadata": {
    "slideshow": {
     "slide_type": "slide"
    }
   },
   "source": [
    "<link rel=\"stylesheet\" href='../../../common/dhds.css'>\n",
    "<div class=\"Table\">\n",
    "    <div class=\"Row\">\n",
    "        <div class=\"Cell grey left\"> <img src=\"https://raw.githubusercontent.com/Digital-House-DATA/ds_blend_2021_img/master/M1/CLASE_02_Python1/Presentacion/img/M1_CLASE_02_portada.png\" align=\"center\" /></div>                \n",
    "        <div class=\"Cell right\">            \n",
    "            <div class=\"div-logo\"><img src=\"https://raw.githubusercontent.com/Digital-House-DATA/ds_blend_2021_img/master/common/logo_DH.png\" align=\"center\" width=70% /></div> \n",
    "            <div class=\"div-curso\">DATA SCIENCE</div>\n",
    "            <div class=\"div-modulo\">MÓDULO 1</div>            \n",
    "            <div class=\"div-contenido\">Entornos (Conda y Jupyter Notebooks) <br/> Repaso de Python</div>        \n",
    "        </div>\n",
    "    </div>    \n",
    "</div>        \n"
   ]
  },
  {
   "cell_type": "markdown",
   "metadata": {
    "slideshow": {
     "slide_type": "slide"
    }
   },
   "source": [
    "## Objetivos de la clase\n",
    "\n",
    "- Incorporar nociones básicas de Conda\n",
    "- Familiarizarse con el entorno de Jupyter Notebook\n",
    "- Repasar los conceptos Python aprendidos durante el prework\n",
    "- Incorporar nociones básicas de POO"
   ]
  },
  {
   "cell_type": "markdown",
   "metadata": {
    "slideshow": {
     "slide_type": "slide"
    }
   },
   "source": [
    "<div class=\"div-dhds-fondo-1\"> PYTHON \n",
    "<img src=\"https://raw.githubusercontent.com/Digital-House-DATA/ds_blend_2021_img/master/M1/CLASE_02_Python1/Presentacion/img/M1_CLASE_02_separador.png\" align=\"center\"></img>    \n",
    "</div>\n",
    "<!--<img src='../../../common/M1_CLASE_02_Pyth_Titulo.png' align='left' width=80%/>-->"
   ]
  },
  {
   "cell_type": "markdown",
   "metadata": {
    "slideshow": {
     "slide_type": "slide"
    }
   },
   "source": [
    "## Por qué aprender Python?\n",
    "\n",
    "- Es un lenguaje de programación interpretado cuya filosofía hace hincapié en una sintaxis muy limpia y un código legible.\n",
    "- Es un lenguaje muy sencillo y fácil de aprender.\n",
    "- Su sintaxis es fácil de entender puesto que es cercana al lenguaje natural.\n",
    "- Es de código abierto, nos permite crear nuestras aplicaciones e involucrarnos en su desarrollo.\n",
    "- Tiene una gran comunidad dispuesta a ayudarnos con nuestro código."
   ]
  },
  {
   "cell_type": "markdown",
   "metadata": {
    "slideshow": {
     "slide_type": "slide"
    }
   },
   "source": [
    "### En términos de popularidad\n",
    "\n",
    "<img src='https://raw.githubusercontent.com/Digital-House-DATA/ds_blend_2021_img/master/M1/CLASE_02_Python1/Presentacion/img/M1_CLASE_02_Pyth_001.png' align='left' width=70%/>\n"
   ]
  },
  {
   "cell_type": "code",
   "execution_count": 4,
   "metadata": {
    "slideshow": {
     "slide_type": "skip"
    }
   },
   "outputs": [],
   "source": [
    "#img_url = gs.images_base_url + '/M1/CLASE_02_Python1/Presentacion/img/M1_CLASE_02_Pyth_001.png'\n",
    "#raw_html = \"<img src='\" + img_url + \"' align='left' width=70%/>\""
   ]
  },
  {
   "cell_type": "code",
   "execution_count": 5,
   "metadata": {
    "slideshow": {
     "slide_type": "skip"
    },
    "tags": [
     "to_remove"
    ]
   },
   "outputs": [],
   "source": [
    "# recordar setear el tag to_remove\n",
    "#md(raw_html)"
   ]
  },
  {
   "cell_type": "markdown",
   "metadata": {
    "slideshow": {
     "slide_type": "slide"
    }
   },
   "source": [
    "### Bibliotecas\n",
    "\n",
    "Son implementaciones de recursos que se incorporan en un entorno para aprovechar su funcionalidad.\n",
    "\n",
    "Por ahora, podemos dividirlas en aquellas que nos sirven para:\n",
    "\n",
    "- Realizar operaciones matemáticas complejas.\n",
    "- Realizar representaciones de resultados (gráficas). \n",
    "- Manipular otros recursos del sistema."
   ]
  },
  {
   "cell_type": "markdown",
   "metadata": {
    "slideshow": {
     "slide_type": "slide"
    }
   },
   "source": [
    "### Bibliotecas\n",
    "\n",
    "Algunas de las bibliotecas que vamos a usar en este curso:\n",
    "\n",
    "- NumPy: Permite trabajar de manera eficiente con operaciones matemáticas sobre arrays.\n",
    "- Pandas: Se usa para análisis y manipulación de datos como tablas (dataframes).\n",
    "- Matplotlib: Es una librería de visualización, para gráficos y tableros.\n",
    "- Seaborn: Otra librería de visualización, basada en matplotlib.\n",
    "\n",
    "<img src='https://raw.githubusercontent.com/Digital-House-DATA/ds_blend_2021_img/master/M1/CLASE_02_Python1/Presentacion/img/M1_CLASE_02_Pyth_002.png' align='center' width=50%/>"
   ]
  },
  {
   "cell_type": "markdown",
   "metadata": {
    "slideshow": {
     "slide_type": "slide"
    }
   },
   "source": [
    "### Conda y Anaconda\n",
    "<img src='https://raw.githubusercontent.com/Digital-House-DATA/ds_blend_2021_img/master/M1/CLASE_02_Python1/Presentacion/img/M1_CLASE_02_Cond_001.PNG' align='center' width=30%/>\n",
    "\n",
    "\n",
    "Conda es un gestor de paquetes, dependencias y entornos para cualquier lenguaje: Python, R, Ruby,, Scala, Java, JavaScript, C / C ++, FORTRAN y más\n",
    "\n",
    "Conda es además un administrador de entornos que se ejecuta en Windows, macOS y Linux\n",
    "\n",
    "Anaconda es un conjunto de paquetes que incluyen conda, numpy, scipy, ipython notebook, etc."
   ]
  },
  {
   "cell_type": "markdown",
   "metadata": {
    "slideshow": {
     "slide_type": "slide"
    }
   },
   "source": [
    "### Ambientes\n",
    "\n",
    "El ambiente es un conjunto de paquetes instalados y listos para usar.\n",
    "\n",
    "Cada ambiente puede tener distintas versiones de los paquetes. Por ejemplo, un ambiente contiene el paquete Numpy 1.7 y sus dependencias, y otro puede contener Numpy 1.6, entre otros paquetes.\n",
    "\n",
    "Cada uno de ellos se registran en la pestaña Environment de Anaconda. Al seleccionar uno, tenemos disponibles todos los paquetes que contiene, con las versiones seleccionadas.\n"
   ]
  },
  {
   "cell_type": "markdown",
   "metadata": {
    "slideshow": {
     "slide_type": "slide"
    }
   },
   "source": [
    "### Sentencias\n",
    "\n",
    "Desde Anaconda Prompt:\n",
    "\n",
    "\n",
    "- Creamos un ambiente de nombre dhdsblend2021 que use Python 3.8\n",
    "<code>\n",
    "conda create --name dhdsblend2021 python=3.8\n",
    "</code>\n",
    " \n",
    " \n",
    "- Activamos el nuevo ambiente creado\n",
    "<code>\n",
    "conda activate dhdsblend2021 \n",
    "</code>\n",
    "\n",
    "\n",
    "- Vamos a ver en el prompt\n",
    "<code>\n",
    "(dhdsblend2021) C:\\[working_dir]\n",
    "</code>\n",
    "\n",
    "\n",
    "- Listamos los paquetes que tenemos instalados en nuestro ambiente:\n",
    "<code>\n",
    "conda list\n",
    "</code>\n",
    "\n",
    "\n",
    "- Volvemos al ambiente base: \n",
    "<code>\n",
    "conda deactivate\n",
    "</code>"
   ]
  },
  {
   "cell_type": "markdown",
   "metadata": {
    "slideshow": {
     "slide_type": "slide"
    }
   },
   "source": [
    "<div class=\"div-dhds-fondo-1\"> JUPYTER NOTEBOOKS \n",
    "<img src=\"https://raw.githubusercontent.com/Digital-House-DATA/ds_blend_2021_img/master/M1/CLASE_02_Python1/Presentacion/img/M1_CLASE_02_separador.png\" align=\"center\"></img>    \n",
    "</div>\n",
    "<!--<img src='../../../common/M1_CLASE_02_Jupy_Titulo.png' align='left' width=80%/>-->"
   ]
  },
  {
   "cell_type": "markdown",
   "metadata": {
    "slideshow": {
     "slide_type": "slide"
    }
   },
   "source": [
    "### Jupyter Notebooks\n",
    "\n",
    "Es un entorno de trabajo interactivo que permite:\n",
    "\n",
    "- Desarrollar código (Python, R, Java, etc) de manera dinámica.\n",
    "\n",
    "- Integrar en un mismo documento tanto bloques de código como texto, gráficas o imágenes.\n",
    "\n",
    "- Utilizado ampliamente en análisis numérico, estadística y machine learning, entre otros campos de la informática y las matemáticas\n",
    "\n",
    "<img src='https://raw.githubusercontent.com/Digital-House-DATA/ds_blend_2021_img/master/M1/CLASE_02_Python1/Presentacion/img/M1_CLASE_02_Jupy_001.PNG' align='left' width=30%/>"
   ]
  },
  {
   "cell_type": "markdown",
   "metadata": {
    "slideshow": {
     "slide_type": "slide"
    }
   },
   "source": [
    "### Jupyter Lab\n",
    "\n",
    "JupyterLab es una interfaz de usuario para Jupyter, y es la que vamos a usar en este curso.\n",
    "\n",
    "<img src='https://raw.githubusercontent.com/Digital-House-DATA/ds_blend_2021_img/master/M1/CLASE_02_Python1/Presentacion/img/M1_CLASE_02_Jupy_002.PNG' align='left' />"
   ]
  },
  {
   "cell_type": "markdown",
   "metadata": {
    "slideshow": {
     "slide_type": "slide"
    }
   },
   "source": [
    "<div class=\"div-dhds-fondo-1\"> REPASO DE PYTHON - Funciones \n",
    "<img src=\"https://raw.githubusercontent.com/Digital-House-DATA/ds_blend_2021_img/master/M1/CLASE_02_Python1/Presentacion/img/M1_CLASE_02_separador.png\" align=\"center\"></img>    \n",
    "</div>\n",
    "<!--<img src='../../../common/M1_CLASE_02_Func_Titulo.png' align='left' width=80%/>-->"
   ]
  },
  {
   "cell_type": "markdown",
   "metadata": {
    "slideshow": {
     "slide_type": "slide"
    }
   },
   "source": [
    "## Conceptos incorporados en el Prework\n",
    "##### Lección 1: Fundamentos Python \n",
    "Líneas y espacios. La consola. Comando print(). Strings. Concatenar strings. Manejo de errores. Variables. Números. Operaciones. Operaciones con variables. Tipos de división. Comentarios. Booleanos \n",
    "##### Lección 2: Listas, diccionarios, tuplas\n",
    "Listas. Acceder a los elementos de una lista. Operaciones con listas. Método append(). Método remove(). Diccionarios. Accediendo a los valores de un diccionario. Actualizando diccionarios. Tuplas\n",
    "##### Lección 3:  for  \n",
    "Método range(). Contador. Acumulador. Integrando\n",
    "##### Lección 4: Condicionales \n",
    "if. else. Encadenar condiciones. Expresión condiciona. Operadores lógicos. Indentación y condicionales anidados \n",
    "##### Lección 5: Funciones  \n",
    "Definiendo funciones. Argumentos. Funciones y listas. Integrando estructuras. Combinando funciones\n",
    "##### Lección 6: Listas por comprensión \n",
    "##### Lección 7: Diccionarios por comprensión"
   ]
  },
  {
   "cell_type": "markdown",
   "metadata": {
    "slideshow": {
     "slide_type": "slide"
    }
   },
   "source": [
    "## Funciones\n",
    "\n",
    "<img src='https://raw.githubusercontent.com/Digital-House-DATA/ds_blend_2021_img/master/M1/CLASE_02_Python1/Presentacion/img/M1_CLASE_02_Func_000.PNG' align='left' width=60%/>"
   ]
  },
  {
   "cell_type": "markdown",
   "metadata": {
    "slideshow": {
     "slide_type": "slide"
    }
   },
   "source": [
    "## Funciones\n",
    "\n",
    "Las **funciones** son *bloques de código con nombre, diseñados para hacer un trabajo específico*.\n",
    "\n",
    "Así, para ejecutar una tarea repetidas veces, lo mejor es definir una función y luego llamarla las veces que necesitemos. \n",
    "\n",
    "##### Ejemplo de una función que saluda:"
   ]
  },
  {
   "cell_type": "code",
   "execution_count": 6,
   "metadata": {
    "slideshow": {
     "slide_type": "fragment"
    }
   },
   "outputs": [],
   "source": [
    "def greet_user():\n",
    "    \"\"\"Display a simple greeting.\"\"\"\n",
    "    print(\"Hello!\")    "
   ]
  },
  {
   "cell_type": "markdown",
   "metadata": {
    "slideshow": {
     "slide_type": "slide"
    }
   },
   "source": [
    "### Declaración de una función\n",
    "Las funciones se crean con la palabra clave **def**, seguida del *nombre* y finaliza con *\":\"*, el cual indica que comienza un bloque de instrucciones.\n",
    "<code>\n",
    "def greet_user():\n",
    "</code>\n",
    "\n",
    "El cuerpo de la función debe comenzar usando una identación recomendada de *4 espacios*.\n",
    "<code>\n",
    "def greet_user():    \n",
    "    \"\"\"Display a simple greeting.\"\"\"\n",
    "    print(\"Hello!\")  \n",
    "</code>\n",
    "\n",
    "Se recomienda que la primera instrucción sea un comentario que indique lo que realiza la función (se llama *docstring*). Se representa entre tres comillas dobles."
   ]
  },
  {
   "cell_type": "markdown",
   "metadata": {
    "slideshow": {
     "slide_type": "fragment"
    }
   },
   "source": [
    "### Ejecución de una función\n",
    "Recién después de ser declarada, y que no tenga ningún error, se puede ejecutar la función."
   ]
  },
  {
   "cell_type": "code",
   "execution_count": 7,
   "metadata": {
    "slideshow": {
     "slide_type": "fragment"
    }
   },
   "outputs": [
    {
     "name": "stdout",
     "output_type": "stream",
     "text": [
      "Hello!\n"
     ]
    }
   ],
   "source": [
    "greet_user()"
   ]
  },
  {
   "cell_type": "markdown",
   "metadata": {
    "slideshow": {
     "slide_type": "slide"
    }
   },
   "source": [
    "---\n",
    "\n",
    "<img src='https://raw.githubusercontent.com/Digital-House-DATA/ds_blend_2021_img/master/M1/CLASE_02_Python1/Presentacion/img/M1_CLASE_02_Func_001.PNG' align='left'/>"
   ]
  },
  {
   "cell_type": "markdown",
   "metadata": {
    "slideshow": {
     "slide_type": "slide"
    }
   },
   "source": [
    "### Argumentos y Parámetros\n",
    "Python debe asociar cada **argumento** en la llamada con un **parámetro** en la definición de la función. \n",
    "\n",
    "<img src='https://raw.githubusercontent.com/Digital-House-DATA/ds_blend_2021_img/master/M1/CLASE_02_Python1/Presentacion/img/M1_CLASE_02_Func_002.PNG' align='left'/>"
   ]
  },
  {
   "cell_type": "code",
   "execution_count": 8,
   "metadata": {
    "slideshow": {
     "slide_type": "skip"
    }
   },
   "outputs": [],
   "source": [
    "def greet_user(username):\n",
    "    \"\"\"Display a simple greeting.\"\"\"\n",
    "    print(f\"Hello, {username.title()}!\")"
   ]
  },
  {
   "cell_type": "code",
   "execution_count": 9,
   "metadata": {
    "slideshow": {
     "slide_type": "skip"
    }
   },
   "outputs": [
    {
     "name": "stdout",
     "output_type": "stream",
     "text": [
      "Hello, Jesse!\n"
     ]
    }
   ],
   "source": [
    "greet_user('jesse')"
   ]
  },
  {
   "cell_type": "markdown",
   "metadata": {
    "slideshow": {
     "slide_type": "slide"
    }
   },
   "source": [
    "### Argumentos Posicionales\n",
    "\n",
    "La forma más simple de llamar a una función. \n",
    "\n",
    "Los valores asociados de este modo a cada parámetro se llaman *argumentos posicionales*.\n",
    "\n",
    "<img src='https://raw.githubusercontent.com/Digital-House-DATA/ds_blend_2021_img/master/M1/CLASE_02_Python1/Presentacion/img/M1_CLASE_02_Func_003.PNG' align='left'/>"
   ]
  },
  {
   "cell_type": "code",
   "execution_count": 10,
   "metadata": {
    "slideshow": {
     "slide_type": "skip"
    }
   },
   "outputs": [],
   "source": [
    "def describe_pet(animal_type, pet_name):\n",
    "    \"\"\"Display information about a pet.\"\"\"\n",
    "    print(f\"\\nI have a {animal_type}.\")\n",
    "    print(f\"My {animal_type}'s name is {pet_name.title()}.\")"
   ]
  },
  {
   "cell_type": "code",
   "execution_count": 11,
   "metadata": {
    "slideshow": {
     "slide_type": "skip"
    }
   },
   "outputs": [
    {
     "name": "stdout",
     "output_type": "stream",
     "text": [
      "\n",
      "I have a hamster.\n",
      "My hamster's name is Harry.\n",
      "\n",
      "I have a dog.\n",
      "My dog's name is Willie.\n"
     ]
    }
   ],
   "source": [
    "describe_pet('hamster', 'harry')\n",
    "describe_pet('dog', 'willie')"
   ]
  },
  {
   "cell_type": "markdown",
   "metadata": {
    "slideshow": {
     "slide_type": "slide"
    }
   },
   "source": [
    "### Argumentos de palabras clave (argumentos keyword)\n",
    "Un argumento **keyword** es un *par nombre y valor* que se pasa a una función. \n",
    "\n",
    "Asociamos el nombre y el valor dentro del argumento.\n",
    "\n",
    "<img src='https://raw.githubusercontent.com/Digital-House-DATA/ds_blend_2021_img/master/M1/CLASE_02_Python1/Presentacion/img/M1_CLASE_02_Func_004.PNG' align='left'/>"
   ]
  },
  {
   "cell_type": "code",
   "execution_count": 12,
   "metadata": {
    "slideshow": {
     "slide_type": "skip"
    }
   },
   "outputs": [
    {
     "name": "stdout",
     "output_type": "stream",
     "text": [
      "\n",
      "I have a hamster.\n",
      "My hamster's name is Harry.\n",
      "\n",
      "I have a hamster.\n",
      "My hamster's name is Harry.\n"
     ]
    }
   ],
   "source": [
    "describe_pet(animal_type='hamster', pet_name='harry')\n",
    "describe_pet(pet_name='harry', animal_type='hamster')"
   ]
  },
  {
   "cell_type": "markdown",
   "metadata": {
    "slideshow": {
     "slide_type": "slide"
    }
   },
   "source": [
    "### Valores predeterminados (valores default)\n",
    "\n",
    "Al escribir una función, podemos definir un valor predeterminado para cada parámetro. \n",
    "\n",
    "Usar valores predeterminados puede simplificar las llamadas a funciones y aclarar las formas en que estas funciones\n",
    "se usan típicamente.\n",
    "\n",
    "<img src='https://raw.githubusercontent.com/Digital-House-DATA/ds_blend_2021_img/master/M1/CLASE_02_Python1/Presentacion/img/M1_CLASE_02_Func_005.PNG' align='left'/>"
   ]
  },
  {
   "cell_type": "code",
   "execution_count": 13,
   "metadata": {
    "slideshow": {
     "slide_type": "skip"
    }
   },
   "outputs": [],
   "source": [
    "def describe_pet(pet_name, animal_type='dog'):\n",
    "    \"\"\"Display information about a pet.\"\"\"\n",
    "    print(f\"\\nI have a {animal_type}.\")\n",
    "    print(f\"My {animal_type}'s name is {pet_name.title()}.\")"
   ]
  },
  {
   "cell_type": "code",
   "execution_count": 14,
   "metadata": {
    "slideshow": {
     "slide_type": "skip"
    }
   },
   "outputs": [
    {
     "name": "stdout",
     "output_type": "stream",
     "text": [
      "\n",
      "I have a dog.\n",
      "My dog's name is Willie.\n"
     ]
    }
   ],
   "source": [
    "describe_pet('willie')"
   ]
  },
  {
   "cell_type": "code",
   "execution_count": 15,
   "metadata": {
    "slideshow": {
     "slide_type": "skip"
    }
   },
   "outputs": [
    {
     "name": "stdout",
     "output_type": "stream",
     "text": [
      "\n",
      "I have a cat.\n",
      "My cat's name is Francis.\n"
     ]
    }
   ],
   "source": [
    "describe_pet(pet_name='francis', animal_type='cat')"
   ]
  },
  {
   "cell_type": "markdown",
   "metadata": {
    "slideshow": {
     "slide_type": "slide"
    }
   },
   "source": [
    "### Argumento opcional\n",
    "\n",
    "A veces se puede usar un **argumento opcional** para proporcionar información adicional *solo si tiene sentido*. \n",
    "\n",
    "Usamos los valores predeterminados para hacer que un argumento sea opcional.\n",
    "\n",
    "<img src='https://raw.githubusercontent.com/Digital-House-DATA/ds_blend_2021_img/master/M1/CLASE_02_Python1/Presentacion/img/M1_CLASE_02_Func_006.PNG' align='left'/>"
   ]
  },
  {
   "cell_type": "code",
   "execution_count": 16,
   "metadata": {
    "slideshow": {
     "slide_type": "skip"
    }
   },
   "outputs": [],
   "source": [
    "def get_formatted_name(first_name, middle_name, last_name):\n",
    "    \"\"\"Return a full name, neatly formatted.\"\"\"\n",
    "    full_name = f\"{first_name} {middle_name} {last_name}\"\n",
    "    return full_name.title()"
   ]
  },
  {
   "cell_type": "code",
   "execution_count": 17,
   "metadata": {
    "slideshow": {
     "slide_type": "skip"
    }
   },
   "outputs": [
    {
     "name": "stdout",
     "output_type": "stream",
     "text": [
      "John Lee Hooker\n"
     ]
    }
   ],
   "source": [
    "musician = get_formatted_name('john', 'lee', 'hooker')\n",
    "print(musician)"
   ]
  },
  {
   "cell_type": "code",
   "execution_count": 18,
   "metadata": {
    "slideshow": {
     "slide_type": "skip"
    }
   },
   "outputs": [],
   "source": [
    "def get_formatted_name(first_name, last_name, middle_name=''):\n",
    "    \"\"\"Return a full name, neatly formatted.\"\"\"\n",
    "    if middle_name:\n",
    "        full_name = f\"{first_name} {middle_name} {last_name}\"\n",
    "    else:\n",
    "        full_name = f\"{first_name} {last_name}\"\n",
    "    return full_name.title()"
   ]
  },
  {
   "cell_type": "code",
   "execution_count": 19,
   "metadata": {
    "slideshow": {
     "slide_type": "skip"
    }
   },
   "outputs": [
    {
     "name": "stdout",
     "output_type": "stream",
     "text": [
      "Jimi Hendrix\n",
      "John Lee Hooker\n"
     ]
    }
   ],
   "source": [
    "musician = get_formatted_name('jimi', 'hendrix')\n",
    "print(musician)\n",
    "\n",
    "musician = get_formatted_name('john', 'hooker', 'lee')\n",
    "print(musician)"
   ]
  },
  {
   "cell_type": "markdown",
   "metadata": {
    "slideshow": {
     "slide_type": "slide"
    }
   },
   "source": [
    "### Número arbitrario de argumentos\n",
    "\n",
    "A veces no sabremos de antemano cuántos argumentos debe aceptar una función. \n",
    "\n",
    "Python permite que una función reciba un número arbitrario de argumentos en la llamada.\n",
    "\n",
    "<img src='https://raw.githubusercontent.com/Digital-House-DATA/ds_blend_2021_img/master/M1/CLASE_02_Python1/Presentacion/img/M1_CLASE_02_Func_007.PNG' align='left'/>"
   ]
  },
  {
   "cell_type": "code",
   "execution_count": 20,
   "metadata": {
    "slideshow": {
     "slide_type": "skip"
    }
   },
   "outputs": [],
   "source": [
    "def make_pizza(*toppings):\n",
    "    \"\"\"Print the list of toppings that have been requested.\"\"\"\n",
    "    print(toppings)"
   ]
  },
  {
   "cell_type": "code",
   "execution_count": 21,
   "metadata": {
    "slideshow": {
     "slide_type": "skip"
    }
   },
   "outputs": [
    {
     "name": "stdout",
     "output_type": "stream",
     "text": [
      "('pepperoni',)\n"
     ]
    }
   ],
   "source": [
    "make_pizza('pepperoni')"
   ]
  },
  {
   "cell_type": "code",
   "execution_count": 22,
   "metadata": {
    "slideshow": {
     "slide_type": "skip"
    }
   },
   "outputs": [
    {
     "name": "stdout",
     "output_type": "stream",
     "text": [
      "('mushrooms', 'green peppers', 'extra cheese')\n"
     ]
    }
   ],
   "source": [
    "make_pizza('mushrooms', 'green peppers', 'extra cheese')"
   ]
  },
  {
   "cell_type": "markdown",
   "metadata": {
    "slideshow": {
     "slide_type": "slide"
    }
   },
   "source": [
    "### Uso de argumentos keyword arbitrarios\n",
    "Podemos escribir funciones que acepten tantos **pares clave-valor** como pasemos en la llamada.\n",
    "\n",
    "<img src='https://raw.githubusercontent.com/Digital-House-DATA/ds_blend_2021_img/master/M1/CLASE_02_Python1/Presentacion/img/M1_CLASE_02_Func_008.PNG' align='left'/>"
   ]
  },
  {
   "cell_type": "code",
   "execution_count": 23,
   "metadata": {
    "slideshow": {
     "slide_type": "skip"
    }
   },
   "outputs": [],
   "source": [
    "def build_profile(first, last, **user_info):\n",
    "    \"\"\"Build a dictionary containing everything we know about a user.\"\"\"\n",
    "\n",
    "    user_info['first_name'] = first\n",
    "    user_info['last_name'] = last\n",
    "    return user_info"
   ]
  },
  {
   "cell_type": "code",
   "execution_count": 24,
   "metadata": {
    "slideshow": {
     "slide_type": "skip"
    }
   },
   "outputs": [
    {
     "name": "stdout",
     "output_type": "stream",
     "text": [
      "{'location': 'princeton', 'field': 'physics', 'first_name': 'albert', 'last_name': 'einstein'}\n"
     ]
    }
   ],
   "source": [
    "user_profile = build_profile('albert', 'einstein',\n",
    "location='princeton',\n",
    "field='physics')\n",
    "print(user_profile)"
   ]
  },
  {
   "cell_type": "markdown",
   "metadata": {
    "slideshow": {
     "slide_type": "slide"
    }
   },
   "source": [
    "### Uso de la sentencia <code>return</code>\n",
    "En general, las funciones realizan cálculos y devuelven un resultado. \n",
    "\n",
    "El valor de la variable o del cálculo, que sigue a continuación de la palabra clave <code>return</code> es el valor que devuelve la función."
   ]
  },
  {
   "cell_type": "code",
   "execution_count": 25,
   "metadata": {
    "slideshow": {
     "slide_type": "fragment"
    }
   },
   "outputs": [],
   "source": [
    "def calculo_xyz(x, y, z=1.5):\n",
    "    if z > 1:\n",
    "        return z * (x + y)\n",
    "    else:\n",
    "        return z / (x + y)"
   ]
  },
  {
   "cell_type": "code",
   "execution_count": 26,
   "metadata": {
    "slideshow": {
     "slide_type": "fragment"
    }
   },
   "outputs": [
    {
     "data": {
      "text/plain": [
       "100"
      ]
     },
     "execution_count": 26,
     "metadata": {},
     "output_type": "execute_result"
    }
   ],
   "source": [
    "calculo_xyz(20,30,2)"
   ]
  },
  {
   "cell_type": "code",
   "execution_count": 27,
   "metadata": {
    "slideshow": {
     "slide_type": "fragment"
    }
   },
   "outputs": [
    {
     "data": {
      "text/plain": [
       "75.0"
      ]
     },
     "execution_count": 27,
     "metadata": {},
     "output_type": "execute_result"
    }
   ],
   "source": [
    "calculo_xyz(20,30)"
   ]
  },
  {
   "cell_type": "code",
   "execution_count": 28,
   "metadata": {
    "slideshow": {
     "slide_type": "fragment"
    }
   },
   "outputs": [
    {
     "data": {
      "text/plain": [
       "0.02"
      ]
     },
     "execution_count": 28,
     "metadata": {},
     "output_type": "execute_result"
    }
   ],
   "source": [
    "calculo_xyz(20,30,1)"
   ]
  },
  {
   "cell_type": "markdown",
   "metadata": {
    "slideshow": {
     "slide_type": "slide"
    }
   },
   "source": [
    "A diferencia de otros lenguajes, Python permite que una función devuelva varios resultados"
   ]
  },
  {
   "cell_type": "code",
   "execution_count": 29,
   "metadata": {
    "slideshow": {
     "slide_type": "fragment"
    }
   },
   "outputs": [],
   "source": [
    "def varios_resultados():\n",
    " a = 5\n",
    " b = 6\n",
    " c = 7\n",
    " return a, b, c"
   ]
  },
  {
   "cell_type": "code",
   "execution_count": 30,
   "metadata": {
    "slideshow": {
     "slide_type": "fragment"
    }
   },
   "outputs": [],
   "source": [
    "x, y, z = varios_resultados()"
   ]
  },
  {
   "cell_type": "code",
   "execution_count": 31,
   "metadata": {
    "slideshow": {
     "slide_type": "fragment"
    }
   },
   "outputs": [
    {
     "name": "stdout",
     "output_type": "stream",
     "text": [
      "5 6 7\n"
     ]
    }
   ],
   "source": [
    "print(x, y, z)"
   ]
  },
  {
   "cell_type": "markdown",
   "metadata": {
    "slideshow": {
     "slide_type": "slide"
    }
   },
   "source": [
    "### Variables globales y locales\n",
    "Todos los parámetros y variables definidas dentro de una función se llaman **variables locales**. O bien se dice que pertenecen al *entorno local* de la función.\n",
    "\n",
    "Las variables que no están definidas en ninguna función, es decir que pertenecen al programa principal, se llaman **variables globales**. O bien se dice que pertenecen al *entorno global*.\n",
    "\n",
    "A los entornos también se los llaman *scope* o *namespace*.\n",
    "\n",
    "En este ejemplo, las variables x,y,z,r son *variables locales* a la función calculo_xyz.\n",
    "Y las variables a,b,c,d son *variables globales*"
   ]
  },
  {
   "cell_type": "code",
   "execution_count": 32,
   "metadata": {
    "slideshow": {
     "slide_type": "fragment"
    }
   },
   "outputs": [],
   "source": [
    "def calculo_xyz(x, y, z=1.5):\n",
    "    if z > 1:\n",
    "        r = z * (x + y)\n",
    "    else:\n",
    "        r = z / (x + y)\n",
    "        \n",
    "    return r"
   ]
  },
  {
   "cell_type": "code",
   "execution_count": 33,
   "metadata": {
    "slideshow": {
     "slide_type": "fragment"
    }
   },
   "outputs": [
    {
     "name": "stdout",
     "output_type": "stream",
     "text": [
      "50\n"
     ]
    }
   ],
   "source": [
    "a = 3\n",
    "b = 7\n",
    "c = 5\n",
    "d = calculo_xyz(a,b,c)\n",
    "print(d)"
   ]
  },
  {
   "cell_type": "markdown",
   "metadata": {
    "slideshow": {
     "slide_type": "slide"
    }
   },
   "source": [
    "### Variables globales y locales - Entorno\n",
    "\n",
    "Los entornos se pueden pensar como contenedores de variables.\n",
    "Cuando se llama a una función, se crea el entorno local donde se encuentran los parámetros y variables de la función. Se ejecuta el código de la función, y cuando termina, el entorno se destruye.\n",
    "\n",
    "Al llamar de nuevo a la función, se vuelve a crear el entorno local.\n",
    "\n",
    "<img src='https://raw.githubusercontent.com/Digital-House-DATA/ds_blend_2021_img/master/M1/CLASE_02_Python1/Presentacion/img/M1_CLASE_02_Func_009.PNG' align='left'/>"
   ]
  },
  {
   "cell_type": "markdown",
   "metadata": {
    "slideshow": {
     "slide_type": "slide"
    }
   },
   "source": [
    "### Variables globales y locales - Tips\n",
    "\n",
    "- Las funciones interactúan con el programa principal a través de sus parámetros y el valor que retorna. Pensarla como una **caja negra**.\n",
    "- Las variables locales *no se pueden usar* en el entorno global.\n",
    "- Las variables locales de una función *no se pueden usar* en el entorno local de otra función.\n",
    "- Las variables globales se pueden leer desde el entorno local. **NO RECOMENDADO**.\n",
    "- Las variables globales y locales pueden tener el mismo nombre. *No recomendado*."
   ]
  },
  {
   "cell_type": "markdown",
   "metadata": {
    "slideshow": {
     "slide_type": "slide"
    }
   },
   "source": [
    "<div class=\"div-dhds-fondo-1\"> \n",
    "    \n",
    "REPASO DE PYTHON - Módulos \n",
    "\n",
    "<img src=\"https://raw.githubusercontent.com/Digital-House-DATA/ds_blend_2021_img/master/M1/CLASE_02_Python1/Presentacion/img/M1_CLASE_02_separador.png\" align=\"center\"></img>\n",
    "    \n",
    "</div>\n",
    "\n",
    "\n",
    "<!--<img src='../../../common/M1_CLASE_02_Modu_Titulo.png' align='left' width=80%/>-->"
   ]
  },
  {
   "cell_type": "markdown",
   "metadata": {
    "slideshow": {
     "slide_type": "slide"
    }
   },
   "source": [
    "## Módulos\n",
    "\n",
    "Se pueden guardar las funciones en un archivo separado llamado **módulo**, el cual se puede *importar* a nuestro programa principal. \n",
    "\n",
    "La instrucción **import** indica que el programa actualmente en ejecución, puede disponer del código del módulo.\n",
    "\n",
    "Almacenar nuestras funciones en un archivo separado nos permite ocultar los detalles del código de nuestro programa y centrarnos en su lógica. También nos permite reutilizar funciones en programas diferentes. Cuando almacenamos las funciones en archivos separados, podemos compartir esos archivos con otros programadores sin tener que compartir todo nuestro programa. \n",
    "\n",
    "Saber cómo importar funciones también nos permite usar bibliotecas de funciones desarrolladas por otros programadores."
   ]
  },
  {
   "cell_type": "markdown",
   "metadata": {
    "slideshow": {
     "slide_type": "slide"
    }
   },
   "source": [
    "### Importar un módulo completo\n",
    "\n",
    "Para comenzar a importar funciones, primero necesitamos crear un módulo. \n",
    "\n",
    "Un **módulo** es un archivo que termina en .py que contiene el código que deseamos importar en el programa.\n",
    "\n",
    "Por ejemplo, el archivo letras.py:\n",
    "\n",
    "`    \n",
    "-- Crea una lista de letras a partir de una palabra\n",
    "def crea_lista(string):\n",
    "    result = list(string)\n",
    "    return result\n",
    "-- Crea una tupla de letras a partir de una palabra\n",
    "def crea_tupla(string):\n",
    "    result = tuple(string)\n",
    "    return result\n",
    "`"
   ]
  },
  {
   "cell_type": "markdown",
   "metadata": {
    "slideshow": {
     "slide_type": "slide"
    }
   },
   "source": [
    "### Importar un módulo completo\n",
    "\n",
    "Luego se importan todas las funciones del módulo con la palabra clave **import**\n",
    "\n",
    "Para llamar a una función desde un módulo importado, ingresamos el nombre del módulo seguido del nombre de la función: `module_name.function_name()`\n",
    "\n",
    "Esta forma de import disponibiliza en nuestro programa todas las funciones del módulo. "
   ]
  },
  {
   "cell_type": "code",
   "execution_count": 34,
   "metadata": {
    "slideshow": {
     "slide_type": "fragment"
    }
   },
   "outputs": [
    {
     "data": {
      "text/plain": [
       "['a', 'b', 'e', 'c', 'e', 'd', 'a', 'r', 'i', 'o']"
      ]
     },
     "execution_count": 34,
     "metadata": {},
     "output_type": "execute_result"
    }
   ],
   "source": [
    "import letras\n",
    "palabra = 'abecedario'\n",
    "a_lista = letras.crea_lista(palabra)\n",
    "a_lista"
   ]
  },
  {
   "cell_type": "code",
   "execution_count": 35,
   "metadata": {
    "slideshow": {
     "slide_type": "fragment"
    }
   },
   "outputs": [
    {
     "data": {
      "text/plain": [
       "('a', 'b', 'e', 'c', 'e', 'd', 'a', 'r', 'i', 'o')"
      ]
     },
     "execution_count": 35,
     "metadata": {},
     "output_type": "execute_result"
    }
   ],
   "source": [
    "import letras\n",
    "palabra = 'abecedario'\n",
    "a_tupla = letras.crea_tupla(palabra)\n",
    "a_tupla"
   ]
  },
  {
   "cell_type": "markdown",
   "metadata": {
    "slideshow": {
     "slide_type": "slide"
    }
   },
   "source": [
    "### Importar funciones específicas\n",
    "\n",
    "También podemos importar una función específica desde un módulo. La sintaxis para esto es:\n",
    "\n",
    "`from module_name import function_name`\n",
    "\n",
    "Podemos importar tantas funciones como queramos de un módulo, separando cada nombre de función por coma:\n",
    "\n",
    "`from module_name import function_0, function_1, function_2`"
   ]
  },
  {
   "cell_type": "code",
   "execution_count": 36,
   "metadata": {
    "slideshow": {
     "slide_type": "fragment"
    }
   },
   "outputs": [
    {
     "data": {
      "text/plain": [
       "['a', 'b', 'e', 'c', 'e', 'd', 'a', 'r', 'i', 'o']"
      ]
     },
     "execution_count": 36,
     "metadata": {},
     "output_type": "execute_result"
    }
   ],
   "source": [
    "from letras import crea_lista, crea_tupla\n",
    "palabra = 'abecedario'\n",
    "a_lista = crea_lista(palabra)\n",
    "a_lista"
   ]
  },
  {
   "cell_type": "markdown",
   "metadata": {
    "slideshow": {
     "slide_type": "slide"
    }
   },
   "source": [
    "<div class=\"div-dhds-fondo-1\"> REPASO DE PYTHON - Excepciones \n",
    "<img src=\"https://raw.githubusercontent.com/Digital-House-DATA/ds_blend_2021_img/master/M1/CLASE_02_Python1/Presentacion/img/M1_CLASE_02_separador.png\" align=\"center\"></img>    \n",
    "</div>\n",
    "\n",
    "<!--<img src='../../../common/M1_CLASE_02_Exce_Titulo.png' align='left' width=80%/>-->"
   ]
  },
  {
   "cell_type": "markdown",
   "metadata": {
    "slideshow": {
     "slide_type": "slide"
    }
   },
   "source": [
    "## Excepciones\n",
    "\n",
    "El manejo de excepciones es una técnica de programación que permite al programador controlar los errores ocasionados durante la ejecución de un programa. Cuando ocurre cierto tipo de error, el sistema reacciona ejecutando un fragmento de código que resuelve la situación, por ejemplo retornando un mensaje de error o devolviendo un valor por defecto.\n",
    "\n",
    "Una excepción es la indicación de un problema que ocurre durante la ejecución de un programa. \n",
    "El manejo de excepciones permite al desarrollador crear aplicaciones tolerantes a fallas y robustas (resistentes a errores) para controlar estas excepciones y que pueda seguir ejecutándose el programa sin verse afectado por el problema. "
   ]
  },
  {
   "cell_type": "markdown",
   "metadata": {
    "slideshow": {
     "slide_type": "slide"
    }
   },
   "source": [
    "### Excepciones (cont.)\n",
    "\n",
    "Sintaxis\n",
    "\n",
    "<code>try:\n",
    "    your code\n",
    "except Exception as ex:\n",
    "    print(ex)\n",
    "</code>\n",
    "\n",
    "Capturar *varias excepciones* en el mismo bloque:\n",
    "\n",
    "<code>except (Exception1, Exception2) as e:\n",
    "    pass\n",
    "</code>\n",
    "\n",
    "Capturar cada excepción en un *bloque específico*:\n",
    "\n",
    "<code>try:\n",
    "    file = open('input-file', 'open mode')\n",
    "except EOFError as ex:\n",
    "    print(\"Caught the EOF error.\")\n",
    "    raise ex\n",
    "except IOError as ex:\n",
    "    print(\"Caught the I/O error.\")\n",
    "    raise ex\n",
    "</code>"
   ]
  },
  {
   "cell_type": "code",
   "execution_count": 37,
   "metadata": {
    "slideshow": {
     "slide_type": "slide"
    }
   },
   "outputs": [],
   "source": [
    "def calculo_xyz(x, y, z=1.5):\n",
    "    try:\n",
    "        r = z * (x / y)     \n",
    "        return r\n",
    "    except:\n",
    "        print('Error')"
   ]
  },
  {
   "cell_type": "code",
   "execution_count": 38,
   "metadata": {
    "slideshow": {
     "slide_type": "fragment"
    }
   },
   "outputs": [
    {
     "name": "stdout",
     "output_type": "stream",
     "text": [
      "Error\n"
     ]
    }
   ],
   "source": [
    "a = calculo_xyz(3,0,10)"
   ]
  },
  {
   "cell_type": "code",
   "execution_count": 39,
   "metadata": {
    "slideshow": {
     "slide_type": "fragment"
    }
   },
   "outputs": [
    {
     "name": "stdout",
     "output_type": "stream",
     "text": [
      "Error\n"
     ]
    }
   ],
   "source": [
    "a = calculo_xyz(3,2,'z')"
   ]
  },
  {
   "cell_type": "code",
   "execution_count": 40,
   "metadata": {
    "slideshow": {
     "slide_type": "fragment"
    }
   },
   "outputs": [],
   "source": [
    "def calculo_xyz(x, y, z=1.5):\n",
    "    try:\n",
    "        r = z * (x / y)     \n",
    "        return r\n",
    "    except ZeroDivisionError as ex:\n",
    "        print('Error division por cero')\n",
    "    except TypeError as ex:\n",
    "        print('Datos no numericos')      "
   ]
  },
  {
   "cell_type": "code",
   "execution_count": 41,
   "metadata": {
    "slideshow": {
     "slide_type": "fragment"
    }
   },
   "outputs": [
    {
     "name": "stdout",
     "output_type": "stream",
     "text": [
      "Error division por cero\n",
      "Datos no numericos\n"
     ]
    }
   ],
   "source": [
    "a = calculo_xyz(3,0,10)\n",
    "a = calculo_xyz(3,2,'z')"
   ]
  },
  {
   "cell_type": "markdown",
   "metadata": {
    "slideshow": {
     "slide_type": "slide"
    }
   },
   "source": [
    "### Excepciones (cont.)\n",
    "\n",
    "**Else** se ejecuta sólo si no se ejecutó el bloque except, es decir si no hubo excepción:\n",
    "\n",
    "<code>try:\n",
    "    result = 1 / x\n",
    "except:\n",
    "    print(\"Error case\")\n",
    "    exit(0)\n",
    "else:\n",
    "    print(\"Pass case\")\n",
    "    exit(1)\n",
    "</code>\n",
    "\n",
    "**Finally** se ejecuta siempre, tanto si se produce una excepción como si no:\n",
    "\n",
    "<code>try:\n",
    "    -- Intentionally raise an error.\n",
    "    x = 1 / 0\n",
    "except:\n",
    "    -- Except clause:\n",
    "    print(\"Error occurred\")\n",
    "finally:\n",
    "    -- Finally clause:\n",
    "    print(\"The [finally clause] is hit\")\n",
    "</code>"
   ]
  },
  {
   "cell_type": "code",
   "execution_count": 42,
   "metadata": {
    "slideshow": {
     "slide_type": "slide"
    }
   },
   "outputs": [],
   "source": [
    "def calculo_xyz(x, y, z=1.5):\n",
    "    try:\n",
    "        r = z * (x / y)     \n",
    "        print(r)\n",
    "    except ZeroDivisionError as ex:\n",
    "        print('Error division por cero')\n",
    "        print('Mensaje de error original: ',ex)\n",
    "        \n",
    "    except TypeError as ex:\n",
    "        print('Datos no numericos') \n",
    "        print('Mensaje de error original: ',ex)\n",
    "    else:\n",
    "        print('Caso exitoso')\n",
    "    finally:\n",
    "        print('Siempre sale')"
   ]
  },
  {
   "cell_type": "code",
   "execution_count": 43,
   "metadata": {
    "slideshow": {
     "slide_type": "fragment"
    }
   },
   "outputs": [
    {
     "name": "stdout",
     "output_type": "stream",
     "text": [
      "3.0\n",
      "Caso exitoso\n",
      "Siempre sale\n"
     ]
    }
   ],
   "source": [
    "a = calculo_xyz(3,10,10)"
   ]
  },
  {
   "cell_type": "code",
   "execution_count": 44,
   "metadata": {
    "slideshow": {
     "slide_type": "fragment"
    }
   },
   "outputs": [
    {
     "name": "stdout",
     "output_type": "stream",
     "text": [
      "Datos no numericos\n",
      "Mensaje de error original:  can't multiply sequence by non-int of type 'float'\n",
      "Siempre sale\n"
     ]
    }
   ],
   "source": [
    "a = calculo_xyz(3,10,'a')"
   ]
  },
  {
   "cell_type": "markdown",
   "metadata": {
    "slideshow": {
     "slide_type": "slide"
    }
   },
   "source": [
    "<div class=\"div-dhds-fondo-1\"> REPASO DE PYTHON - Expresiones Booleanas \n",
    "<img src=\"https://raw.githubusercontent.com/Digital-House-DATA/ds_blend_2021_img/master/M1/CLASE_02_Python1/Presentacion/img/M1_CLASE_02_separador.png\" align=\"center\"></img>    \n",
    "\n",
    "</div>\n",
    "\n",
    "<!--<img src='../../../common/M1_CLASE_02_Bool_Titulo.png' align='left' width=80%/>-->"
   ]
  },
  {
   "cell_type": "markdown",
   "metadata": {
    "slideshow": {
     "slide_type": "slide"
    }
   },
   "source": [
    "## Expresiones booleanas - Prueba condicional"
   ]
  },
  {
   "cell_type": "code",
   "execution_count": 45,
   "metadata": {
    "slideshow": {
     "slide_type": "fragment"
    }
   },
   "outputs": [],
   "source": [
    "var1 = 10 ; var2 = 12 ; list1 = [1, 2, 3, 4, 5, 6, 7, 8, 9, 10]"
   ]
  },
  {
   "cell_type": "code",
   "execution_count": 46,
   "metadata": {
    "slideshow": {
     "slide_type": "fragment"
    }
   },
   "outputs": [
    {
     "data": {
      "text/plain": [
       "False"
      ]
     },
     "execution_count": 46,
     "metadata": {},
     "output_type": "execute_result"
    }
   ],
   "source": [
    "var1 == var2"
   ]
  },
  {
   "cell_type": "code",
   "execution_count": 47,
   "metadata": {
    "slideshow": {
     "slide_type": "fragment"
    }
   },
   "outputs": [
    {
     "data": {
      "text/plain": [
       "True"
      ]
     },
     "execution_count": 47,
     "metadata": {},
     "output_type": "execute_result"
    }
   ],
   "source": [
    "var1 != var2"
   ]
  },
  {
   "cell_type": "code",
   "execution_count": 48,
   "metadata": {
    "slideshow": {
     "slide_type": "fragment"
    }
   },
   "outputs": [
    {
     "data": {
      "text/plain": [
       "False"
      ]
     },
     "execution_count": 48,
     "metadata": {},
     "output_type": "execute_result"
    }
   ],
   "source": [
    "var1 > var2"
   ]
  },
  {
   "cell_type": "code",
   "execution_count": 49,
   "metadata": {
    "slideshow": {
     "slide_type": "fragment"
    }
   },
   "outputs": [
    {
     "data": {
      "text/plain": [
       "True"
      ]
     },
     "execution_count": 49,
     "metadata": {},
     "output_type": "execute_result"
    }
   ],
   "source": [
    "var1 in list1"
   ]
  },
  {
   "cell_type": "code",
   "execution_count": 50,
   "metadata": {
    "slideshow": {
     "slide_type": "fragment"
    }
   },
   "outputs": [
    {
     "data": {
      "text/plain": [
       "False"
      ]
     },
     "execution_count": 50,
     "metadata": {},
     "output_type": "execute_result"
    }
   ],
   "source": [
    "var1 is var2"
   ]
  },
  {
   "cell_type": "markdown",
   "metadata": {
    "slideshow": {
     "slide_type": "slide"
    }
   },
   "source": [
    "### Expresiones booleanas\n",
    "\n",
    "Una expresión booleana es sólo otro nombre para una prueba condicional. \n",
    "\n",
    "Un valor booleano es verdadero o falso, al igual que el valor de una expresión condicional después de haber sido evaluada.\n",
    "\n",
    "Por ejemplo si un juego se está ejecutando o si un usuario puede editar cierto contenido en un sitio web:\n",
    "\n",
    "`game_active = True`\n",
    "\n",
    "`can_edit = False`\n",
    "\n",
    "\n",
    "### Operadores booleanos\n",
    "\n",
    "\n",
    "|Operador|Sintaxis|Test|\n",
    "|---|:---:|:---|\n",
    "|and|`cond1 and cond2`|¿Son cond1 y cond2 (ambas) True?|\n",
    "|or|`cond1 or cond2`|¿Al menos una de cond1 cond2 es True?|\n",
    "|not|`not cond1`|¿Es cond1 False?|\n",
    "|any|`any([cond1, cond2])`|¿Alguna de las condiciones de la lista es True?|\n",
    "|all|`all([cond1, cond2])`|¿Todas las condiciones de la lista son True?|\n"
   ]
  },
  {
   "cell_type": "markdown",
   "metadata": {
    "slideshow": {
     "slide_type": "slide"
    }
   },
   "source": [
    "### Operadores booleanos - Ejemplos"
   ]
  },
  {
   "cell_type": "code",
   "execution_count": 51,
   "metadata": {
    "slideshow": {
     "slide_type": "fragment"
    }
   },
   "outputs": [],
   "source": [
    "var1 = 10 ; var2 = 12 ; list1 = [1, 2, 3, 4, 5, 6, 7, 8, 9, 10]"
   ]
  },
  {
   "cell_type": "code",
   "execution_count": 52,
   "metadata": {
    "slideshow": {
     "slide_type": "fragment"
    }
   },
   "outputs": [
    {
     "data": {
      "text/plain": [
       "True"
      ]
     },
     "execution_count": 52,
     "metadata": {},
     "output_type": "execute_result"
    }
   ],
   "source": [
    "var1 != var2 and var1 in list1"
   ]
  },
  {
   "cell_type": "code",
   "execution_count": 53,
   "metadata": {
    "slideshow": {
     "slide_type": "fragment"
    }
   },
   "outputs": [
    {
     "data": {
      "text/plain": [
       "True"
      ]
     },
     "execution_count": 53,
     "metadata": {},
     "output_type": "execute_result"
    }
   ],
   "source": [
    "(var1 == var2) or (var1 in list1)"
   ]
  },
  {
   "cell_type": "code",
   "execution_count": 54,
   "metadata": {
    "slideshow": {
     "slide_type": "fragment"
    }
   },
   "outputs": [
    {
     "data": {
      "text/plain": [
       "True"
      ]
     },
     "execution_count": 54,
     "metadata": {},
     "output_type": "execute_result"
    }
   ],
   "source": [
    "not (var1 == var2)"
   ]
  },
  {
   "cell_type": "code",
   "execution_count": 55,
   "metadata": {
    "slideshow": {
     "slide_type": "fragment"
    }
   },
   "outputs": [
    {
     "data": {
      "text/plain": [
       "True"
      ]
     },
     "execution_count": 55,
     "metadata": {},
     "output_type": "execute_result"
    }
   ],
   "source": [
    "any([var1 == var2,var1 in list1])"
   ]
  },
  {
   "cell_type": "code",
   "execution_count": 56,
   "metadata": {
    "slideshow": {
     "slide_type": "fragment"
    }
   },
   "outputs": [
    {
     "data": {
      "text/plain": [
       "False"
      ]
     },
     "execution_count": 56,
     "metadata": {},
     "output_type": "execute_result"
    }
   ],
   "source": [
    "all([var1 == var2,var1 in list1])"
   ]
  },
  {
   "cell_type": "markdown",
   "metadata": {
    "slideshow": {
     "slide_type": "slide"
    }
   },
   "source": [
    "<div class=\"div-dhds-fondo-1\"> Programación Orientada a Objetos (POO) \n",
    "<img src=\"https://raw.githubusercontent.com/Digital-House-DATA/ds_blend_2021_img/master/M1/CLASE_02_Python1/Presentacion/img/M1_CLASE_02_separador.png\" align=\"center\"></img>    \n",
    "\n",
    "</div>\n",
    "<!--<img src='../../../common/M1_CLASE_02_POO_Titulo.png' align='left' width=80%/>-->"
   ]
  },
  {
   "cell_type": "markdown",
   "metadata": {
    "slideshow": {
     "slide_type": "slide"
    }
   },
   "source": [
    "### Clases\n",
    "La programación orientada a objetos es uno de los enfoques más efectivos para escribir software. \n",
    "\n",
    "En programación orientada a objetos, escribimos **clases que representan cosas y situaciones del mundo real**, y creamos objetos basados ​​en estas clases. \n",
    "\n",
    "Cuando escribimos una clase, definimos el **comportamiento general** que puede tener una categoría completa de objetos."
   ]
  },
  {
   "cell_type": "markdown",
   "metadata": {
    "slideshow": {
     "slide_type": "slide"
    }
   },
   "source": [
    "### Clases (cont.)\n",
    "Cuando creamos objetos individuales de la clase, cada objeto automáticamente tiene el comportamiento general, y podemos darle a cada objeto los rasgos únicos que deseemos.\n",
    "\n",
    "Construir un objeto a partir de una clase se llama instanciación, y decimos entonces que **los objetos son instancias de una clase**.\n",
    "\n",
    "En esta parte nos vamos a enfocar en cómo utilizar clases y objetos. Más adelante en este curso veremos cómo crear nuestras propias clases.\n",
    "\n",
    "Ejemplo:"
   ]
  },
  {
   "cell_type": "code",
   "execution_count": 57,
   "metadata": {
    "slideshow": {
     "slide_type": "fragment"
    }
   },
   "outputs": [],
   "source": [
    "class Dog:\n",
    "    \"\"\"A simple attempt to model a dog.\"\"\"\n",
    "    def __init__(self, name, age):\n",
    "        \"\"\"Initialize name and age attributes.\"\"\"\n",
    "        self.name = name\n",
    "        self.age = age\n",
    "\n",
    "    def sit(self): # metodo sit\n",
    "        \"\"\"Simulate a dog sitting in response to a command.\"\"\"\n",
    "        print(f\"{self.name} is now sitting.\")\n",
    "\n",
    "    def roll_over(self): # metodo roll_over\n",
    "        \"\"\"Simulate rolling over in response to a command.\"\"\"\n",
    "        print(f\"{self.name} rolled over!\")"
   ]
  },
  {
   "cell_type": "markdown",
   "metadata": {
    "slideshow": {
     "slide_type": "slide"
    }
   },
   "source": [
    "### Atributos\n",
    "Las dos variables definidas en el cuerpo de **__init__** (name y age) tienen el prefijo self.\n",
    "\n",
    "Cualquier variable con el prefijo *self* está disponible para todos los métodos de la clase, y también podremos acceder a estas variables a través de cualquier instancia creada de esta clase.\n",
    "\n",
    "La línea self.name = name toma el valor asociado con el nombre del parámetro y lo asigna al nombre de la variable, que luego se asocia a la instancia que se está creando. El mismo proceso ocurre con self.age = age. \n",
    "\n",
    "Las variables que se pueden acceder a través de instancias se denominan **atributos**."
   ]
  },
  {
   "cell_type": "markdown",
   "metadata": {
    "slideshow": {
     "slide_type": "slide"
    }
   },
   "source": [
    "### Instancia de una clase\n",
    "Pensemos en una clase como un conjunto de instrucciones para construir una instancia. \n",
    "\n",
    "La clase Dog es un conjunto de instrucciones que le dice a Python cómo construir instancias individuales que representen determinados perros."
   ]
  },
  {
   "cell_type": "code",
   "execution_count": 58,
   "metadata": {
    "slideshow": {
     "slide_type": "fragment"
    }
   },
   "outputs": [
    {
     "name": "stdout",
     "output_type": "stream",
     "text": [
      "My dog's name is Willie.\n",
      "My dog is 6 years old.\n"
     ]
    }
   ],
   "source": [
    "my_dog = Dog('Willie', 6)\n",
    "print(f\"My dog's name is {my_dog.name}.\")\n",
    "print(f\"My dog is {my_dog.age} years old.\")"
   ]
  },
  {
   "cell_type": "markdown",
   "metadata": {
    "slideshow": {
     "slide_type": "fragment"
    }
   },
   "source": [
    "Después de crear una instancia de la clase Dog, la podemos usar para invocar cualquier método definido en la clase."
   ]
  },
  {
   "cell_type": "code",
   "execution_count": 59,
   "metadata": {
    "slideshow": {
     "slide_type": "fragment"
    }
   },
   "outputs": [
    {
     "name": "stdout",
     "output_type": "stream",
     "text": [
      "Willie is now sitting.\n",
      "Willie rolled over!\n"
     ]
    }
   ],
   "source": [
    "my_dog.sit()\n",
    "my_dog.roll_over()"
   ]
  },
  {
   "cell_type": "markdown",
   "metadata": {
    "slideshow": {
     "slide_type": "slide"
    }
   },
   "source": [
    "Se pueden crear multiples instancias de una clase."
   ]
  },
  {
   "cell_type": "code",
   "execution_count": 60,
   "metadata": {
    "slideshow": {
     "slide_type": "fragment"
    }
   },
   "outputs": [
    {
     "name": "stdout",
     "output_type": "stream",
     "text": [
      "My dog's name is Oscar.\n",
      "My dog is 15 years old.\n",
      "Oscar is now sitting.\n",
      "\n",
      "Your dog's name is Lucy.\n",
      "Your dog is 3 years old.\n",
      "Lucy is now sitting.\n"
     ]
    }
   ],
   "source": [
    "my_dog = Dog('Oscar', 15)\n",
    "your_dog = Dog('Lucy', 3)\n",
    "\n",
    "print(f\"My dog's name is {my_dog.name}.\")\n",
    "print(f\"My dog is {my_dog.age} years old.\")\n",
    "my_dog.sit()\n",
    "\n",
    "print(f\"\\nYour dog's name is {your_dog.name}.\")\n",
    "print(f\"Your dog is {your_dog.age} years old.\")\n",
    "your_dog.sit()"
   ]
  },
  {
   "cell_type": "markdown",
   "metadata": {
    "slideshow": {
     "slide_type": "slide"
    }
   },
   "source": [
    "<div class=\"div-dhds-fondo-1\"> REFERENCIAS y MATERIAL ADICIONAL \n",
    "<img src=\"https://raw.githubusercontent.com/Digital-House-DATA/ds_blend_2021_img/master/M1/CLASE_02_Python1/Presentacion/img/M1_CLASE_02_separador.png\" align=\"center\"></img>    \n",
    "</div>\n",
    "\n",
    "<!--<img src='../../../common/M1_CLASE_02_Ref_Titulo.png' align='left' width=80%/>-->"
   ]
  },
  {
   "cell_type": "markdown",
   "metadata": {
    "slideshow": {
     "slide_type": "slide"
    }
   },
   "source": [
    "## Referencias\n",
    "\n",
    "\n",
    "<a href=\"https://www.youtube.com/watch?v=Og847HVwRSI\" target=\"_blank\"> Most Popular Programming Languages 1965 - 2019</a>\n",
    "\n",
    "<a href=\"https://towardsdatascience.com/the-most-in-demand-tech-skills-for-data-scientists-d716d10c191d\" target=\"_blank\">The Most In Demand Tech Skills for Data Scientists</a>\n",
    "\n",
    "<a href=\"https://conda.io/projects/conda/en/latest/user-guide/cheatsheet.html\" target=\"_blank\">Conda Cheat sheet</a>\n",
    "\n",
    "<a href=\"https://jupyter.org/documentation\" target=\"_blank\">Jupyter</a>\n",
    "\n",
    "<a href=\"https://jupyterlab.readthedocs.io/en/stable/\" target=\"_blank\">JupyterLab</a>\n",
    "\n",
    "<a href=\"https://www.python.org/about/\" target=\"_blank\">Python</a>\n",
    "\n",
    "<a href=\"https://becominghuman.ai/the-role-of-python-for-data-science-in-2020-763bc3e16976\" target=\"_blank\">The Role of Python for Data Science in 2020</a>\n",
    "\n",
    "<a href=\"https://www.amazon.com/Python-Crash-Course-Hands-Project-Based/dp/1593276036\" target=\"_blank\">Eric Matthes - Python Crash Course A Hands-On, Project-Based Introduction to Programming (2019) Capítulos 8 y 9</a>\n",
    "\n",
    "<a href=\"https://github.com/ehmatthes/pcc_2e/tree/master/cheat_sheets\" target=\"_blank\">Python Cheat Sheets</a>"
   ]
  }
 ],
 "metadata": {
  "kernelspec": {
   "display_name": "Python 3",
   "language": "python",
   "name": "python3"
  },
  "language_info": {
   "codemirror_mode": {
    "name": "ipython",
    "version": 3
   },
   "file_extension": ".py",
   "mimetype": "text/x-python",
   "name": "python",
   "nbconvert_exporter": "python",
   "pygments_lexer": "ipython3",
   "version": "3.8.5"
  }
 },
 "nbformat": 4,
 "nbformat_minor": 4
}
