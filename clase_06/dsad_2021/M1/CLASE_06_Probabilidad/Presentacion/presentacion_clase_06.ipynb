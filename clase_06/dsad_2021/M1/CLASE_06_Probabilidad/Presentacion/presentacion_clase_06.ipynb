{
 "cells": [
  {
   "cell_type": "code",
   "execution_count": 1,
   "metadata": {
    "slideshow": {
     "slide_type": "skip"
    }
   },
   "outputs": [
    {
     "name": "stdout",
     "output_type": "stream",
     "text": [
      "/media/paulati/Nuevo vol/paula/dh/2021/dsad_2021_paula/common\n",
      "default checking\n",
      "Running command `conda list`... ok\n",
      "jupyterlab=2.2.6 already installed\n",
      "pandas=1.1.5 already installed\n",
      "bokeh=2.2.3 already installed\n",
      "seaborn=0.11.0 already installed\n",
      "matplotlib=3.3.2 already installed\n",
      "ipywidgets=7.5.1 already installed\n",
      "pytest=6.2.1 already installed\n",
      "chardet=4.0.0 already installed\n",
      "psutil=5.7.2 already installed\n",
      "scipy=1.5.2 already installed\n",
      "statsmodels=0.12.1 already installed\n",
      "scikit-learn=0.23.2 already installed\n",
      "xlrd=2.0.1 already installed\n",
      "Running command `conda install --yes nltk=3.5.0`... ok\n",
      "Collecting package metadata (current_repodata.json): ...working... done\n",
      "Solving environment: ...working... done\n",
      "\n",
      "# All requested packages already installed.\n",
      "\n",
      "\n",
      "unidecode=1.1.1 already installed\n",
      "pydotplus=2.0.2 already installed\n",
      "pandas-datareader=0.9.0 already installed\n",
      "flask=1.1.2 already installed\n"
     ]
    }
   ],
   "source": [
    "# initial setup\n",
    "%run \"../../../common/0_notebooks_base_setup.py\"\n"
   ]
  },
  {
   "cell_type": "markdown",
   "metadata": {
    "slideshow": {
     "slide_type": "slide"
    }
   },
   "source": [
    "<link rel=\"stylesheet\" href=\"../../../common/dhds.css\">\n",
    "<div class=\"Table\">\n",
    "    <div class=\"Row\">\n",
    "        <div class=\"Cell grey left\"> <img src=\"https://raw.githubusercontent.com/Digital-House-DATA/ds_blend_2021_img/master/M1/CLASE_06_Probabilidad/Presentacion/img/M1_CLASE_06_portada.png\" align=\"center\" /></div>\n",
    "        <div class=\"Cell right\">\n",
    "            <div class=\"div-logo\"><img src=\"https://raw.githubusercontent.com/Digital-House-DATA/ds_blend_2021_img/master/common/logo_DH.png\" align=\"center\" width=70% /></div>\n",
    "            <div class=\"div-curso\">DATA SCIENCE</div>\n",
    "            <div class=\"div-modulo\">MÓDULO 1</div>\n",
    "            <div class=\"div-contenido\">Conceptos de  Probabilidad</div>\n",
    "        </div>\n",
    "    </div>\n",
    "</div>"
   ]
  },
  {
   "cell_type": "markdown",
   "metadata": {
    "slideshow": {
     "slide_type": "slide"
    }
   },
   "source": [
    "### Agenda\n",
    "\n",
    "- Experimento Aleatorio\n",
    "\n",
    "- Variables Aleatorias \n",
    "\n",
    "- Funciones de Distribución"
   ]
  },
  {
   "cell_type": "markdown",
   "metadata": {
    "slideshow": {
     "slide_type": "slide"
    }
   },
   "source": [
    "<div class=\"div-dhds-fondo-1\"> Variables Aleatorias\n",
    "<img src=\"https://raw.githubusercontent.com/Digital-House-DATA/ds_blend_2021_img/master/M1/CLASE_06_Probabilidad/Presentacion/img/M1_CLASE_06_separador.png\" align=\"center\"></img>    \n",
    "</div>\n"
   ]
  },
  {
   "cell_type": "markdown",
   "metadata": {
    "slideshow": {
     "slide_type": "slide"
    }
   },
   "source": [
    "### Experimento Aleatorio\n",
    "\n",
    "---\n",
    "\n",
    "* Definimos como **experimento** a cualquier proceso que produce una **observación** o resultado.\n",
    "\n",
    "* Un **experimento determinístico**: cada vez que se realiza bajo condiciones similares, arroja el mismo resultado.  \n",
    "\n",
    "Ejemplo: conociendo la altura desde la que se arroja un objeto es posible saber exactamente el tiempo que tardará en llegar al suelo en condiciones de vacío.\n",
    "\n",
    "* Un **experimento aleatorio** es un experimento tal que no se tiene certeza de su resultado hasta que no se lo ejecuta.\n",
    "Es posible conocer a priori el conjunto de todos los posibles resultados del experimento pero no puede predecirse con exactitud el resultado de un experimento en particular.\n",
    "\n",
    "Ejemplo: lanzamiento de dados, lanzamiento de una moneda, extracción de una carta de una baraja.\n"
   ]
  },
  {
   "cell_type": "markdown",
   "metadata": {
    "slideshow": {
     "slide_type": "slide"
    }
   },
   "source": [
    "### Espacio Muestral\n",
    "\n",
    "---\n",
    "\n",
    "* Conjunto de todos los resultados posibles de un experimento aleatorio.\n",
    "\n",
    "* Se lo denota con la letra griega $\\Omega$\n",
    "\n",
    "* A un resultado particular del experimento se lo denota con $\\omega$\n",
    "\n",
    "¿Cuál es el espacio muestral de $\\Omega$ del experimento aleatorio que consite en lanzar un dado y observar qué número sale?\n"
   ]
  },
  {
   "cell_type": "markdown",
   "metadata": {
    "slideshow": {
     "slide_type": "fragment"
    }
   },
   "source": [
    "$\\Omega$ = {1, 2, 3, 4, 5, 6}\n"
   ]
  },
  {
   "cell_type": "markdown",
   "metadata": {
    "slideshow": {
     "slide_type": "slide"
    }
   },
   "source": [
    "### Evento\n",
    "\n",
    "---\n",
    "\n",
    "Como ejemplo de evento, podríamos definir el conjunto A = {1, 3, 5}, que corresponde al suceso de obtener como resultado un número impar. \n",
    "\n",
    "Si al lanzar el dado se obtiene un 3, entonces decimos que se observó la ocurrencia del evento A.\n",
    "\n",
    "Pero si lanzo el dado y sale 2, entonces no se observa la ocurrencia del evento A\n"
   ]
  },
  {
   "cell_type": "markdown",
   "metadata": {
    "slideshow": {
     "slide_type": "slide"
    }
   },
   "source": [
    "### Variables Aleatorias\n",
    "\n",
    "---\n",
    "\n",
    "Una variable aleatoria es una **transformación $X$** del espacio de resultados $\\Omega$ al conjunto de números reales, esto es,\n",
    "\n",
    "$$ X: \\Omega \\to \\mathbb{R} $$\n",
    "\n",
    "<img src=\"https://raw.githubusercontent.com/Digital-House-DATA/ds_blend_2021_img/master/M1/CLASE_06_Probabilidad/Presentacion/img/M1_CLASE_06_variableAleatoria.png\" align=\"center\" width=50% />\n",
    "\n",
    "\n",
    "El valor que toma una variable aleatoria está asociado al resultado de un experimento aleatorio es un \"número\" cuyo valor está determinado por la realización del experimento. \n"
   ]
  },
  {
   "cell_type": "markdown",
   "metadata": {
    "slideshow": {
     "slide_type": "slide"
    }
   },
   "source": [
    "<div class=\"div-dhds-fondo-1\"> Función de Distribución de Probabilidad\n",
    "<img src=\"https://raw.githubusercontent.com/Digital-House-DATA/ds_blend_2021_img/master/M1/CLASE_06_Probabilidad/Presentacion/img/M1_CLASE_06_separador.png\" align=\"center\"></img>    \n",
    "</div>\n"
   ]
  },
  {
   "cell_type": "markdown",
   "metadata": {
    "slideshow": {
     "slide_type": "slide"
    }
   },
   "source": [
    "### Función de Distribución\n",
    "\n",
    "---\n",
    "\n",
    "La **distribución de probabilidad de una variable aleatoria $X$**, también llamada **función de distribución** de $X$ es la función $F_X(x)$, que asigna a cada evento definido sobre la variable aleatoria $X$ una probabilidad dada por la siguiente expresión:\n",
    "\n",
    "\\begin{equation}\n",
    "  F_X(x) = P(X \\le x)\n",
    "\\end{equation}\n",
    "\n",
    "Entonces la distribución de probabilidad está completamente especificada por la **función de distribución**, cuyo valor en cada $x$ real es la probabilidad de que la variable aleatoria sea menor o igual que $x$.\n",
    "\n",
    "(Más adelante mostramos ejemplos de funciones de distribución para variables aleatorias discretas y continuas)\n"
   ]
  },
  {
   "cell_type": "markdown",
   "metadata": {
    "slideshow": {
     "slide_type": "slide"
    }
   },
   "source": [
    "### Variables Aleatorias Discretas\n",
    "\n",
    "---\n",
    "\n",
    "Cuando los valores que toma una variable aleatoria son finitos o infinitos numerable se dice que es **discreta**\n",
    "\n",
    "Ejemplos:\n",
    "\n",
    "* Resultados obtenido al lanzar un dado\n",
    "\n",
    "* Número de veces que hay que lanzar una moneda hasta obtener una cara\n",
    "\n"
   ]
  },
  {
   "cell_type": "markdown",
   "metadata": {
    "slideshow": {
     "slide_type": "subslide"
    }
   },
   "source": [
    "### Distribución Puntual de Probabilidad (v.a. discretas)\n",
    "\n",
    "---\n",
    "\n",
    "Sea $\\{x_1, x_2, ..., x_n\\}$ el conjunto de valores que puede tomar la variable aleatori $X$\n",
    "\n",
    "Se denomina distribución puntual de probabilidad de la variable aleatoria $X$ a $P(X = x_i)$ que cumple:\n",
    "\n",
    "$$ P(X = x_i) \\ge 0$$\n",
    "\n",
    "$$ \\sum_i{ P(X = x_i) } = 1 $$\n",
    "\n"
   ]
  },
  {
   "cell_type": "markdown",
   "metadata": {
    "slideshow": {
     "slide_type": "subslide"
    }
   },
   "source": [
    "### Ejemplo de Distribución Puntual de Probabilidad (v.a. discretas)\n",
    "\n",
    "---\n",
    "\n",
    "**$X$ = Número de caras al lanzar dos monedas**\n",
    "\n",
    "<table>\n",
    "    <tr>\n",
    "      <td><table>\n",
    "    <tr>\n",
    "      <td>$$x$$</td>\n",
    "      <td>$$P(X=x)$$</td>        \n",
    "    </tr>        \n",
    "    <tr>\n",
    "      <td>0</td>\n",
    "      <td>1/4</td>        \n",
    "    </tr>        \n",
    "    <tr>\n",
    "      <td>1</td>\n",
    "      <td>1/2</td>        \n",
    "    </tr>        \n",
    "    <tr>\n",
    "      <td>2</td>\n",
    "      <td>1/4</td>        \n",
    "    </tr>            \n",
    "</table></td>\n",
    "      <td><img src=\"https://raw.githubusercontent.com/Digital-House-DATA/ds_blend_2021_img/master/M1/CLASE_06_Probabilidad/Presentacion/img/M1_CLASE_06_distribucion-probabilidad-puntual-monedas.png\" align=\"center\" width=70% /></td>        \n",
    "    </tr>        \n",
    "</table>\n"
   ]
  },
  {
   "cell_type": "markdown",
   "metadata": {
    "slideshow": {
     "slide_type": "subslide"
    }
   },
   "source": [
    "### Ejemplo de Distribución Puntual de Probabilidad (v.a. discretas)\n",
    "\n",
    "---\n",
    "\n",
    "**Lanzamiento de un dado**\n",
    "\n",
    "<table>\n",
    "    <tr>\n",
    "      <td><table>\n",
    "    <tr>\n",
    "      <td>$$x$$</td>\n",
    "      <td>$$P(X = x)$$</td>        \n",
    "    </tr>        \n",
    "    <tr>\n",
    "      <td>1</td>\n",
    "      <td>1/6</td>        \n",
    "    </tr>        \n",
    "    <tr>\n",
    "      <td>2</td>\n",
    "      <td>1/6</td>        \n",
    "    </tr>        \n",
    "    <tr>\n",
    "      <td>3</td>\n",
    "      <td>1/6</td>        \n",
    "    </tr>    \n",
    "    <tr>\n",
    "      <td>4</td>\n",
    "      <td>1/6</td>        \n",
    "    </tr>            \n",
    "    <tr>\n",
    "      <td>5</td>\n",
    "      <td>1/6</td>        \n",
    "    </tr>            \n",
    "    <tr>\n",
    "      <td>6</td>\n",
    "      <td>1/6</td>        \n",
    "    </tr>                      \n",
    "</table></td>\n",
    "      <td><img src=\"https://raw.githubusercontent.com/Digital-House-DATA/ds_blend_2021_img/master/M1/CLASE_06_Probabilidad/Presentacion/img/M1_CLASE_06_distribucion-probabilidad-puntual-dado.png\" align=\"center\" width=100% /></td>        \n",
    "    </tr>        \n",
    "</table>"
   ]
  },
  {
   "cell_type": "markdown",
   "metadata": {
    "slideshow": {
     "slide_type": "subslide"
    }
   },
   "source": [
    "### Ejemplo de Función de Distribución (v.a. discretas)\n",
    "\n",
    "---\n",
    "\n",
    "**$X$ = Número de caras al lanzar dos monedas**\n",
    "\n",
    "\\begin{equation}\n",
    "  F_X(x) = P(X \\le x)\n",
    "\\end{equation}\n",
    "\n",
    "\n",
    "<table>\n",
    "    <tr>\n",
    "      <td><table>\n",
    "    <tr>\n",
    "      <td>$$x$$</td>\n",
    "      <td>$$F_X(x)$$</td>        \n",
    "    </tr>        \n",
    "    <tr>\n",
    "      <td>$$(-\\infty, 0)$$</td>\n",
    "      <td>0</td>        \n",
    "    </tr>        \n",
    "    <tr>\n",
    "      <td>$$[0, 1)$$</td>\n",
    "      <td>1/4</td>        \n",
    "    </tr>        \n",
    "    <tr>\n",
    "      <td>$$[1, 2)$$</td>\n",
    "      <td>3/4</td>        \n",
    "    </tr>            \n",
    "    <tr>\n",
    "      <td>$$[2, \\infty)$$</td>\n",
    "      <td>1</td>        \n",
    "    </tr>                      \n",
    "</table></td>\n",
    "      <td><img src=\"https://raw.githubusercontent.com/Digital-House-DATA/ds_blend_2021_img/master/M1/CLASE_06_Probabilidad/Presentacion/img/M1_CLASE_06_funcion-distribucion-monedas.png\" align=\"center\" width=120% /></td>        \n",
    "    </tr>        \n",
    "</table>"
   ]
  },
  {
   "cell_type": "markdown",
   "metadata": {
    "slideshow": {
     "slide_type": "subslide"
    }
   },
   "source": [
    "### Ejemplo de Funcion de Distribución (v.a. discretas)\n",
    "\n",
    "---\n",
    "\n",
    "**Lanzamiento de un dado**\n",
    "\n",
    "\\begin{equation}\n",
    "  F_X(x) = P(X \\le x)\n",
    "\\end{equation}\n",
    "\n",
    "\n",
    "<table>\n",
    "    <tr>\n",
    "      <td><table>\n",
    "    <tr>\n",
    "      <td>$$x$$</td>\n",
    "      <td>$$F_X(x)$$</td>        \n",
    "    </tr>        \n",
    "    <tr>\n",
    "      <td>$$(-\\infty, 1)$$</td>\n",
    "      <td>0</td>        \n",
    "    </tr>        \n",
    "    <tr>\n",
    "      <td>$$[1, 2)$$</td>\n",
    "      <td>1/6</td>        \n",
    "    </tr>        \n",
    "    <tr>\n",
    "      <td>$$[2, 3)$$</td>\n",
    "      <td>1/3</td>        \n",
    "    </tr>            \n",
    "    <tr>\n",
    "      <td>$$[3, 4)$$</td>\n",
    "      <td>1/2</td>        \n",
    "    </tr>            \n",
    "    <tr>\n",
    "      <td>$$[4, 5)$$</td>\n",
    "      <td>2/3</td>        \n",
    "    </tr>            \n",
    "    <tr>\n",
    "      <td>$$[5, 6)$$</td>\n",
    "      <td>5/6</td>        \n",
    "    </tr>                      \n",
    "    <tr>\n",
    "      <td>$$[6, \\infty)$$</td>\n",
    "      <td>1</td>        \n",
    "    </tr>                      \n",
    "</table></td>\n",
    "      <td><img src=\"https://raw.githubusercontent.com/Digital-House-DATA/ds_blend_2021_img/master/M1/CLASE_06_Probabilidad/Presentacion/img/M1_CLASE_06_funcion-distribucion-dados.png\" align=\"center\" width=350px /></td>        \n",
    "    </tr>        \n",
    "</table>"
   ]
  },
  {
   "cell_type": "markdown",
   "metadata": {
    "slideshow": {
     "slide_type": "slide"
    }
   },
   "source": [
    "### Variables Aleatorias Continuas\n",
    "\n",
    "---\n",
    "\n",
    "Cuando los valores que toma una variable aleatoria pueden ser **cualquier valor en un intervalo continuo dado**, se dice que es **continua**\n",
    "\n",
    "Ejemplo:\n",
    "\n",
    "X es la altura (sin redondear) de un alumno del curso de Data Science\n",
    "\n",
    "**Una variable aleatoria $X$ es continua si su función de distribución $F_X(x)$ es continua**\n",
    "\n"
   ]
  },
  {
   "cell_type": "markdown",
   "metadata": {
    "slideshow": {
     "slide_type": "slide"
    }
   },
   "source": [
    "### Función de densidad de probabilidad (v.a. continuas)\n",
    "\n",
    "---\n",
    "\n",
    "La **función de densidad de probabilidad de una variable aleatoria continua**, función de densidad, o, simplemente, densidad describe la probabilidad relativa, representada comúnmente como $f(x)$, nos permite conocer cómo se distribuyen las probabilidades de un suceso o evento en relación al resultado.\n",
    "La función de distribución de probabilidad $F(x)$ es la integral de la función de densidad $f(x)$\n",
    "\n",
    "\\begin{equation}\n",
    "  F_X(x) =  \\int^x_{-\\infty}f(t)dt\n",
    "\\end{equation}\n",
    "\n",
    "La probabilidad de que la variable aleatoria caiga en una región específica del espacio de posibilidades estará dada por la integral de la densidad de esta variable entre uno y otro límite de dicha región.\n",
    "La función de densidad de probabilidad es positiva en todo su dominio y su integral sobre todo el espacio es de valor 1.\n",
    "\n",
    "**¿Tiene sentido hablar de probabilidad puntual de variables aleatorias continuas?**"
   ]
  },
  {
   "cell_type": "markdown",
   "metadata": {
    "slideshow": {
     "slide_type": "slide"
    }
   },
   "source": [
    "<div class=\"div-dhds-fondo-1\"> Distribuciones de Probabilidad\n",
    "<img src=\"https://raw.githubusercontent.com/Digital-House-DATA/ds_blend_2021_img/master/M1/CLASE_06_Probabilidad/Presentacion/img/M1_CLASE_06_separador.png\" align=\"center\"></img>    \n",
    "</div>\n"
   ]
  },
  {
   "cell_type": "markdown",
   "metadata": {
    "slideshow": {
     "slide_type": "slide"
    }
   },
   "source": [
    "### Distribuciones de Probabilidad\n",
    "\n",
    "---\n",
    "\n",
    "<img src=\"https://raw.githubusercontent.com/Digital-House-DATA/ds_blend_2021_img/master/M1/CLASE_06_Probabilidad/Presentacion/img/M1_CLASE_06_prob_distributions.png\" align=\"center\"></img>    \n"
   ]
  },
  {
   "cell_type": "markdown",
   "metadata": {
    "slideshow": {
     "slide_type": "subslide"
    }
   },
   "source": [
    "### Distribuciones de Probabilidad\n",
    "\n",
    "---\n",
    "\n",
    "Estudiaremos algunas distribuciones de probabilidad particulares. \n",
    "\n",
    "Empezaremos con las **distribuciones de tipo discreto** y continuaremos con las de **tipo continuo**. \n",
    "\n",
    "Observaremos además que las distribuciones pueden depender de uno o más **parámetros**, es decir, para cada valor de estos parámetros se tiene una distribución de probabilidad. A veces se usa el término **“familias de distribuciones paramétricas”** para referirse a estas distribuciones.\n"
   ]
  },
  {
   "cell_type": "markdown",
   "metadata": {
    "slideshow": {
     "slide_type": "slide"
    }
   },
   "source": [
    "### Distribución Uniforme Discreta\n",
    "\n",
    "---\n",
    "\n",
    "Decimos que una variable aleatoria X tiene una distribución uniforme discreta sobre el conjunto de n números $\\{x_1, x_2, ..., x_n\\}$ si **la probabilidad de que X tome cualquiera de estos valores es constante 1/n**. \n",
    "\n",
    "Esta distribución surge en espacios de probabilidad **equiprobables**, esto es, en situaciones en donde tenemos n resultados diferentes y todos ellos tienen la misma probabilidad de ocurrir.\n",
    "\n",
    "Se escribe \n",
    "\n",
    "$X \\sim \\text{unif}\\{x_1, x_2, ..., x_n\\} $\n",
    "\n",
    "en donde el símbolo \"$\\sim$\" se lee \"se distribuye como\" o \"tiene una distribución\".\n",
    "\n",
    "\n"
   ]
  },
  {
   "cell_type": "markdown",
   "metadata": {
    "slideshow": {
     "slide_type": "subslide"
    }
   },
   "source": [
    "La distribución de probabilidad de esa variable aleatoria es:\n",
    "\n",
    "\\begin{equation}\n",
    "  f(x)=\\begin{cases}\n",
    "    1/n, & \\text{si x = $x_1, x_2, ..., x_n$}\\\\\n",
    "    0, & \\text{en otro caso}.\n",
    "  \\end{cases}\n",
    "\\end{equation}\n",
    "\n",
    "\n",
    "<!--![Image](img/prob_uniforme_discreta.png)-->\n",
    "<img src=\"https://raw.githubusercontent.com/Digital-House-DATA/ds_blend_2021_img/master/M1/CLASE_06_Probabilidad/Presentacion/img/M1_CLASE_06_prob_uniforme_discreta.png\" width=\"500\"/>\n",
    "\n",
    "\\begin{equation}\n",
    "n = 5  \\text{    donde    } n = b − a + 1\n",
    "\\end{equation}\n"
   ]
  },
  {
   "cell_type": "markdown",
   "metadata": {
    "slideshow": {
     "slide_type": "subslide"
    }
   },
   "source": [
    "**Ejemplos**:\n",
    "\n",
    "* X: puntuación en el lanzamiento de un dado regular\n",
    "\n",
    "* X: resultado del lanzamiento de una moneda\n",
    "\n",
    "* X: resultado de un juego de lotería"
   ]
  },
  {
   "cell_type": "markdown",
   "metadata": {
    "slideshow": {
     "slide_type": "slide"
    }
   },
   "source": [
    "\n",
    "### Distribución Uniforme Continua\n",
    "\n",
    "---\n",
    "\n",
    "Decimos que una variable aleatoria X tiene una distribución uniforme continua en el intervalo (a,b), donde a y b son números reales, si su función de densidad es \n",
    "\n",
    "\\begin{equation}\n",
    "  f_X(x)=\\begin{cases}\n",
    "    \\frac{1}{b-a}, & \\text{si $a \\lt x \\lt b$} \\\\\n",
    "    0, & \\text{en otro caso}.\n",
    "  \\end{cases}\n",
    "\\end{equation}\n",
    "\n",
    "a y b son los parámetros de la distribución uniforme continua.\n"
   ]
  },
  {
   "cell_type": "markdown",
   "metadata": {
    "slideshow": {
     "slide_type": "subslide"
    }
   },
   "source": [
    "La distribución uniforme asigna probabilidad positiva constante y mayor a cero sólo a valores de la variable aleatoria en determinado rango.\n",
    "\n",
    "\\begin{equation}\n",
    "  F_X(x)=\\begin{cases}\n",
    "    0, & \\text{si $x \\lt a$} \\\\\n",
    "    \\frac{x - a}{b - a}, & \\text{si $a \\le x \\lt b$} \\\\\n",
    "    1, & \\text{si $x \\ge b$}\n",
    "  \\end{cases}\n",
    "\\end{equation}\n",
    "\n",
    "\n",
    "<img src=\"https://raw.githubusercontent.com/Digital-House-DATA/ds_blend_2021_img/master/M1/CLASE_06_Probabilidad/Presentacion/img/M1_CLASE_06_prob_uniforme_continua.png\" width=\"500\"/>"
   ]
  },
  {
   "cell_type": "markdown",
   "metadata": {
    "slideshow": {
     "slide_type": "subslide"
    }
   },
   "source": [
    "**Ejemplos**:\n",
    "\n",
    "* Una llamada telefónica llegó a in conmutador en un tiempo, al azar, dentro de un período de 1 minuto. El conmutador estuvo ocupado durante 15 segundos en ese minuto. ¿Cuál es la probabilidad de que la llamada haya llegado mientras el conmutador no estuvo ocupado?\n",
    "\n",
    "* Dos amigos deben encontrarse en una parada de colectivo entre las 9:00 y las 10:00. Cada uno esperará un máximo de 10 minutos. ¿Cuál es la probabilidad de que no se encuentren si el amigo1 llegará a las 9:30?\n"
   ]
  },
  {
   "cell_type": "markdown",
   "metadata": {
    "slideshow": {
     "slide_type": "slide"
    }
   },
   "source": [
    "### Distribución Bernoulli\n",
    "\n",
    "---\n",
    "\n",
    "La distribución Bernoulli es una **distribución de probabilidad discreta**.\n",
    "\n",
    "Un ensayo Bernoulli se define como un experimento aleatorio con sólo dos resultados posibles: éxito o fracaso.\n",
    "\n",
    "La probabilidad de éxito es $p$ y la probabilidad de fracaso es $1-p$\n",
    "\n",
    "Definimos la variable aleatoria X como la función de mapea el resultado éxito al número 1, y fracaso al número 0. Entonces X tiene distribución Bernoulli con parámetro $p \\in (0,1) \\hspace{0.5cm} X \\sim Be(p)$\n",
    "\n",
    "La función de probabilidad es\n",
    "\n",
    "\\begin{equation}\n",
    "  f_X(x)=\\begin{cases}\n",
    "    1-p, & \\text{si $x = 0$} \\\\\n",
    "    p, & \\text{si $x = 1$} \\\\\n",
    "    0, & \\text{en otro caso}\n",
    "  \\end{cases}\n",
    "\\end{equation}\n",
    "\n",
    "Que también puede escribirse como\n",
    "\n",
    "\\begin{equation}\n",
    "  f_X(x)=\\begin{cases}\n",
    "    p^{x}(1-p)^{1-x}, & \\text{si $x \\in \\{0, 1\\}$} \\\\    \n",
    "    0, & \\text{en otro caso}\n",
    "  \\end{cases}\n",
    "\\end{equation}"
   ]
  },
  {
   "cell_type": "markdown",
   "metadata": {
    "slideshow": {
     "slide_type": "subslide"
    }
   },
   "source": [
    "**Ejemplos**:\n",
    "\n",
    "* X: un tratamiento médico es efectivo\n",
    "\n",
    "* X: al lanzar una moneda sale cara\n",
    "\n",
    "* X: al lanzar un dado sale 3\n"
   ]
  },
  {
   "cell_type": "markdown",
   "metadata": {
    "slideshow": {
     "slide_type": "slide"
    }
   },
   "source": [
    "### Distribución Binomial\n",
    "\n",
    "---\n",
    "\n",
    "La distribución Binomial es una **distribución de probabilidad discreta**.\n",
    "\n",
    "Mide el número de éxitos en una secuencia de n ensayos independientes entre sí, con una probabilidad fija p de ocurrencia del éxito entre los ensayos.\n",
    "\n",
    "Sea n los intentos, x la cantidad de éxitos que buscamos y p la probabilidad de éxito en cada prueba (independientes entre sí).\n",
    "\n",
    "\\begin{equation}\n",
    "  P(X = x) = {n \\choose x} p^x (1-p)^{n-x}\n",
    "\\end{equation}\n",
    "\n",
    "\n",
    "**Una variable aleatoria con distribución Bernoulli es una Binomial con n= 1**"
   ]
  },
  {
   "cell_type": "markdown",
   "metadata": {
    "slideshow": {
     "slide_type": "subslide"
    }
   },
   "source": [
    "**Ejemplos**:\n",
    "\n",
    "* X: cantidad de pacientes en un grupo de 10 para los que fue efectivo un tratamiento médico\n",
    "\n",
    "* X: cantidad de caras al lanzar una moneda 5 veces\n",
    "\n",
    "* X: cantidad de 3 al lanzar un dado 10 veces\n"
   ]
  },
  {
   "cell_type": "markdown",
   "metadata": {
    "slideshow": {
     "slide_type": "slide"
    }
   },
   "source": [
    "### Distribución Poisson\n",
    "\n",
    "---\n",
    "\n",
    "La distribución Poisson cuenta **cantidad de eventos en un período de tiempo dado**.\n",
    "\n",
    "Podemos pensar esta distribución como la probabilidad de que ocurra un determinado número de eventos durante cierto período de tiempo.\n"
   ]
  },
  {
   "cell_type": "markdown",
   "metadata": {
    "slideshow": {
     "slide_type": "subslide"
    }
   },
   "source": [
    "Sea la variable aleatoria discreta X el número de veces que determinado evento ocurre en un intervalo de tiempo o espacio.\n",
    "\n",
    "Entonces X puede ser una variable Poisson que toma valores $x=0,1,2,…$ si cumple con las siguientes condiciones: \n",
    "\n",
    "1. El número de eventos que ocurren en períodos de tiempo, sin superposición entre períodos, es independiente.\n",
    "\n",
    "2. La probabilidad de exactamente un evento en un intervalo de tiempo corto de duración h=1/n es aproximadamente h*λ donde n es la cantidad de intervalos dentro del período considerado.  \n",
    "\n",
    "3. La probabilidad de exactamente dos o más eventos en un intervalo de tiempo corto es esencialmente cero.\n",
    "\n",
    "Si se cumplen esas condiciones X es una variable aleatoria que sigue un proceso de Poisson aproximado con parámetro $\\lambda > 0$ por lo que  su función de probabilidad puntual es \n",
    "\n",
    "\\begin{equation}\n",
    "    P(X = k) = \\frac{\\lambda^k . e^{-\\lambda}}{k!} \\\\\n",
    "    \\lambda > 0, \\hspace{0.2cm} k = 0, 1, 2, ...\n",
    "\\end{equation}\n",
    "\n",
    "Se puede mostrar que $\\lambda$ es la media y la varianza de una variable Poisson. "
   ]
  },
  {
   "cell_type": "markdown",
   "metadata": {
    "slideshow": {
     "slide_type": "subslide"
    }
   },
   "source": [
    " <div>\n",
    "<div>Función de densidad de probabilidad:</div><div>\n",
    "<img src=\"https://raw.githubusercontent.com/Digital-House-DATA/ds_blend_2021_img/master/M1/CLASE_06_Probabilidad/Presentacion/img/M1_CLASE_06_prob_poisson.png\" width=\"500\"/></div>\n",
    "</div>\n"
   ]
  },
  {
   "cell_type": "markdown",
   "metadata": {
    "slideshow": {
     "slide_type": "subslide"
    }
   },
   "source": [
    "**Ejemplos**:\n",
    "\n",
    "* X: Cantidad de pacientes que ingresan en la guardia de un hospital en una hora\n",
    "\n",
    "* X: Cantidad de autos que pasan por una cabina de peaje\n",
    "\n",
    "* X: Cantidad de llamados que llegan a un operador en un call center en la mañana."
   ]
  },
  {
   "cell_type": "markdown",
   "metadata": {
    "slideshow": {
     "slide_type": "slide"
    }
   },
   "source": [
    "### Distribución Exponencial\n",
    "\n",
    "---\n",
    "\n",
    "La distribución exponencial es una **distribución de probabilidad continua** que describe el tiempo entre eventos en un proceso de Poisson.\n",
    "\n",
    "Su función de densidad de probabilidad\n",
    "\n",
    "\\begin{equation}\n",
    "    f_X(x) = P(x) = \\begin{cases}\n",
    "    \\lambda e^{-\\lambda x} & \\text{si $x \\ge 0$} \\\\    \n",
    "    0 & \\text{en otro caso}\n",
    "  \\end{cases}        \n",
    "\\end{equation}\n",
    "\n",
    "Su función de distribución acumulada es \n",
    "\\begin{equation}\n",
    "F_X(x) = P(X <= x) = \\begin{cases}\n",
    "    0 & \\text{si $x \\lt 0$} \\\\    \n",
    "    1 - e^{-\\lambda x} & \\text{si $x \\ge 0$} \n",
    "  \\end{cases}        \n",
    "\\end{equation}\n",
    "\n"
   ]
  },
  {
   "cell_type": "markdown",
   "metadata": {
    "slideshow": {
     "slide_type": "subslide"
    }
   },
   "source": [
    "<div>\n",
    "<div>Función de densidad de probabilidad:</div><div>\n",
    "<img src=\"https://raw.githubusercontent.com/Digital-House-DATA/ds_blend_2021_img/master/M1/CLASE_06_Probabilidad/Presentacion/img/M1_CLASE_06_prob_exponential.png\" width=\"500\"/></div>\n",
    "</div>"
   ]
  },
  {
   "cell_type": "markdown",
   "metadata": {
    "slideshow": {
     "slide_type": "subslide"
    }
   },
   "source": [
    "<div>\n",
    "<div>Función de distribución de probabilidad:</div><div>\n",
    "<img src=\"https://raw.githubusercontent.com/Digital-House-DATA/ds_blend_2021_img/master/M1/CLASE_06_Probabilidad/Presentacion/img/M1_CLASE_06_prob_exponential_cdf.png\" width=\"500\"/></div>\n",
    "</div>"
   ]
  },
  {
   "cell_type": "markdown",
   "metadata": {
    "slideshow": {
     "slide_type": "subslide"
    }
   },
   "source": [
    "#### Ejemplos\n",
    "\n",
    "* X: Tiempo entre el ingreso de pacientes consecutivos en la guardia de un hospital en una hora\n",
    "\n",
    "* X: Tiempo entre la llegada de autos consecutivos a una cabina de peaje\n",
    "\n",
    "* X: Tiempo entre llamados consecutivos que llegan a un operador en un call center en la mañana."
   ]
  },
  {
   "cell_type": "markdown",
   "metadata": {
    "slideshow": {
     "slide_type": "slide"
    }
   },
   "source": [
    "### Distribución Normal\n",
    "\n",
    "---\n",
    "\n",
    "¿Por qué es tan popular esta distribución?\n",
    "\n",
    "La importancia de la distribución normal proviene principalmente del hecho de que las distribuciones de muchos fenómenos naturales están al menos aproximadamente distribuidos normalmente.\n",
    "\n",
    "Una de las primeras aplicaciones de la distribución normal fue el análisis de errores de medición realizados en observaciones astronómicas, errores debidos a instrumentos imperfectos y observadores imperfectos.\n",
    "\n",
    "Galileo en el siglo XVII observó que estos errores eran simétricos y que los errores pequeños ocurrían con mayor frecuencia que los errores grandes.\n",
    "\n",
    "Esto condujo a varias distribuciones hipotéticas de errores, pero no fue hasta principios del siglo XIX que se descubrió que estos errores seguian una distribución normal.\n",
    "\n",
    "Independientemente, los matemáticos Adrain en 1808 y Gauss en 1809 desarrollaron la fórmula para la distribución normal y mostraron que los errores se ajustaban bien a esta distribución."
   ]
  },
  {
   "cell_type": "markdown",
   "metadata": {
    "slideshow": {
     "slide_type": "subslide"
    }
   },
   "source": [
    "La distribución normal tiene dos parámetros: su media $\\mu$ y su varianza $\\sigma^2$\n",
    "\n",
    "Su función de densidad de probabilidad es\n",
    "\n",
    "\\begin{equation}\n",
    "    f(x) = \\frac{1}{\\sigma \\sqrt{2\\pi}}exp^{-\\frac{(x-\\mu)^2}{2\\sigma^2}}\n",
    "\\end{equation}\n",
    "\n",
    "Los valores posibles de X son los reales entre menos y más infinito.  \n",
    "\n",
    "El gráfico de la densidad para una variable normal tiene forma de campana. \n",
    "\n",
    "La probabilidad de que una variable aleatoria X con distribución normal y parámetros  $\\mu$, $\\sigma^2$ sea menor o igual que un valor $a$ fijo es \n",
    "\n",
    "\\begin{equation}\n",
    "  P(X \\le a) = \\int^a_{-\\infty}\\frac{1}{\\sigma \\sqrt{2\\pi}}exp^{-\\frac{(x-\\mu)^2}{2\\sigma^2}}dx   \n",
    "\\end{equation}\n",
    "\n",
    "\n",
    "La distribución normal es simétrica respecto a su media. \n",
    "\n",
    "En particular cuando la media es cero y el desvío estándar es igual a 1 decimos se se trata de una **normal estándar**.  \n"
   ]
  },
  {
   "cell_type": "markdown",
   "metadata": {
    "slideshow": {
     "slide_type": "subslide"
    }
   },
   "source": [
    "#### Algunas propiedades de la distribución normal\n",
    "\n",
    "* Cualquier función lineal de una variable aleatoria normal también es normal. \n",
    "Si X es una variable aleatoria normal con parámetros $\\mu$, $\\sigma^2$ podemos definir Y=a+bX  con b distinto de cero (¿Por qué?). \n",
    "Entonces Y también tendrá distribución normal (¿Con qué parámetros?)\n",
    "\n",
    "* La variable aleatoria generada por una suma finita de variables aleatorias normales independientes es normal. \n",
    "\n",
    "* En el caso de que se sumen infinitas variables aleatorias, independientes y tales que tanto la suma de las medias como de las varianzas sean finitas también vale la propiedad.\n"
   ]
  },
  {
   "cell_type": "markdown",
   "metadata": {
    "slideshow": {
     "slide_type": "subslide"
    }
   },
   "source": [
    "<table>\n",
    "    <tr><td>\n",
    "            <div><h3>Función de densidad de probabilidad:</h3></div><div>\n",
    "<img src=\"https://raw.githubusercontent.com/Digital-House-DATA/ds_blend_2021_img/master/M1/CLASE_06_Probabilidad/Presentacion/img/M1_CLASE_06_prob_normal_distribution.png\" width=\"400\"/></div>\n",
    "        </td><td></td><td>\n",
    "<div><h3>Función de distribución de probabilidad:</h3></div><div>\n",
    "<img src=\"https://raw.githubusercontent.com/Digital-House-DATA/ds_blend_2021_img/master/M1/CLASE_06_Probabilidad/Presentacion/img/M1_CLASE_06_prob_normal_cdf.png\" width=\"400\"/></div></td></tr>\n",
    "</table>"
   ]
  },
  {
   "cell_type": "markdown",
   "metadata": {
    "slideshow": {
     "slide_type": "subslide"
    }
   },
   "source": [
    "<div>\n",
    "<h3>Datos con distribución normal:</h3></div><div>\n",
    "<img src=\"https://raw.githubusercontent.com/Digital-House-DATA/ds_blend_2021_img/master/M1/CLASE_06_Probabilidad/Presentacion/img/M1_CLASE_06_prob_normal.png\" width=\"600\"/></div>"
   ]
  },
  {
   "cell_type": "markdown",
   "metadata": {
    "slideshow": {
     "slide_type": "subslide"
    }
   },
   "source": [
    "**Ejemplos**:\n",
    "\n",
    "* X: longitud de los clavos producidos en una fábrica\n",
    "\n",
    "* X: altura de los alumnos de DH\n",
    "\n",
    "* X: tiempo vida de un modelo de lámpara\n",
    "\n",
    "* X: tiempo que utiliza un empleado en realizar determinada tarea en una empresa."
   ]
  },
  {
   "cell_type": "markdown",
   "metadata": {
    "slideshow": {
     "slide_type": "slide"
    }
   },
   "source": [
    "<div class=\"div-dhds-fondo-1\"> Relación entre Distribuciones\n",
    "<img src=\"https://raw.githubusercontent.com/Digital-House-DATA/ds_blend_2021_img/master/M1/CLASE_06_Probabilidad/Presentacion/img/M1_CLASE_06_separador.png\" align=\"center\"></img>    \n",
    "</div>\n"
   ]
  },
  {
   "cell_type": "markdown",
   "metadata": {
    "slideshow": {
     "slide_type": "slide"
    }
   },
   "source": [
    "### Relación entre Bernoulli y Binomial\n",
    "\n",
    "---\n",
    "\n",
    "La distribución de Bernoulli es un caso particular de la distribucón Binomial con una única repetición.\n",
    "\n",
    "Si cada evento Bernoulli es **independiente**, entonces el número de éxitos en una serie de observaciones de una variable aleatoria con distribución Bernoulli tiene distribución Binomial. \n",
    "\n",
    "La distribución Bernoulli puede definirse entonces como una Binomial con n = 1.\n"
   ]
  },
  {
   "cell_type": "markdown",
   "metadata": {
    "slideshow": {
     "slide_type": "slide"
    }
   },
   "source": [
    "### Relación entre Poisson y Binomial\n",
    "\n",
    "---\n",
    "\n",
    "La distribución de Poisson es una distribución Binomial con las siguientes condiciones:\n",
    "\n",
    "* El número de repeticiones es infinitamente grande $n \\rightarrow \\infty$\n",
    "\n",
    "* La probabilidad de éxito de cada repetición es la misma e infinitamente pequeña $p \\rightarrow 0$\n",
    "\n",
    "* $np = \\lambda$, es finito.\n"
   ]
  },
  {
   "cell_type": "markdown",
   "metadata": {
    "slideshow": {
     "slide_type": "slide"
    }
   },
   "source": [
    "### Relación entre Normal y Binomial\n",
    "\n",
    "---\n",
    "\n",
    "La distribución normal es el límite de una distribución Binomial con las siguientes condiciones:\n",
    "\n",
    "* El número de repeticiones en infinitamente grande $n \\rightarrow \\infty$\n",
    "\n",
    "* p (probabilidad de éxito) y q (probabilidad de fracaso) no son infinitamente pequeñas simultaneamente\n",
    "\n",
    "La distribución normal a la que tiende tiene parámetros $\\mu = n . p$ y $\\sigma^2 = n . p . (1-p)$"
   ]
  },
  {
   "cell_type": "markdown",
   "metadata": {
    "slideshow": {
     "slide_type": "slide"
    }
   },
   "source": [
    "### Relación entre Normal y Poisson\n",
    "\n",
    "---\n",
    "\n",
    "La distribución normal es el límite de una distribución Poisson con el parámetro $\\lambda \\rightarrow \\infty$\n"
   ]
  },
  {
   "cell_type": "markdown",
   "metadata": {
    "slideshow": {
     "slide_type": "slide"
    }
   },
   "source": [
    "### Relación entre Exponencial y Poisson\n",
    "\n",
    "---\n",
    "\n",
    "Si el tiempo entre eventos sigue una distribución exponencial de parámetro $\\lambda$, entonces el número total de eventos en un período de tiempo t sigue una distribución Poisson con parámetro $\\lambda{t}$\n"
   ]
  },
  {
   "cell_type": "markdown",
   "metadata": {
    "slideshow": {
     "slide_type": "slide"
    }
   },
   "source": [
    "<div class=\"div-dhds-fondo-1\"> Conclusiones\n",
    "<img src=\"https://raw.githubusercontent.com/Digital-House-DATA/ds_blend_2021_img/master/M1/CLASE_06_Probabilidad/Presentacion/img/M1_CLASE_06_separador.png\" align=\"center\"></img>    \n",
    "</div>"
   ]
  },
  {
   "cell_type": "markdown",
   "metadata": {
    "slideshow": {
     "slide_type": "slide"
    }
   },
   "source": [
    "### Conclusiones\n",
    "\n",
    "---\n",
    "\n",
    "Hay muchas distribuciones de probabilidad, cada una de ellas fue diseñada para analizar datos de diversos orígenes y que tienen ciertas características. En la práctica, estas distribuciones se utilizan para analizar datos reales de un tipo similar. \n",
    "\n",
    "Las distribuciones de probabilidad son modelos estadísticos probabilísticos cuyas propiedades se utilizan para analizar datos empíricos: Los datos se recopilan y comparan con cualquier distribución teórica conocida. Si son similares, las propiedades del modelo teórico se transfieren a datos empíricos con las conclusiones correspondientes. \n",
    "\n",
    "Este es el enfoque subyacente a los métodos clásicos asociados con la prueba de hipótesis estadísticas (cálculo de intervalos de confianza, comparación de valores promedio, verificación de la importancia de los parámetros, etc.).\n",
    "\n",
    "Si los datos disponibles no corresponden a ninguna distribución conocida (que muchas veces ocurre en la práctica), no se recomienda utilizar estos modelos estadísticos.\n",
    "\n",
    "Para resolver este problema, existen otros enfoques asociados con el uso de estadística no paramétrica."
   ]
  },
  {
   "cell_type": "markdown",
   "metadata": {
    "slideshow": {
     "slide_type": "slide"
    }
   },
   "source": [
    "<div class=\"div-dhds-fondo-1\"> Ejemplo Python\n",
    "<img src=\"https://raw.githubusercontent.com/Digital-House-DATA/ds_blend_2021_img/master/M1/CLASE_06_Probabilidad/Presentacion/img/M1_CLASE_06_separador.png\" align=\"center\"></img>    \n",
    "</div>"
   ]
  },
  {
   "cell_type": "markdown",
   "metadata": {
    "slideshow": {
     "slide_type": "slide"
    }
   },
   "source": [
    "Ejemplo Python \n",
    "\n",
    "---\n",
    "\n",
    "Vamos a utilizar un generador de números aleatorios\n",
    "\n",
    "https://numpy.org/doc/stable/reference/random/generator.html#numpy.random.default_rng\n",
    "\n",
    "para construir conjuntos de números con determinadas distribuciones\n",
    "\n",
    "https://numpy.org/doc/stable/reference/random/generator.html#distributions"
   ]
  },
  {
   "cell_type": "code",
   "execution_count": 2,
   "metadata": {
    "slideshow": {
     "slide_type": "fragment"
    }
   },
   "outputs": [],
   "source": [
    "import numpy as np\n",
    "\n",
    "random_generator = np.random.default_rng()"
   ]
  },
  {
   "cell_type": "markdown",
   "metadata": {
    "slideshow": {
     "slide_type": "slide"
    }
   },
   "source": [
    "El método <code>default_rng()</code> construye un generador de números aleatorios\n",
    "\n",
    "Usando distintos métodos sobre ese objeto podemos generar datos aleatorios con la distribución requerida.\n",
    "\n",
    "Los métodos disponibles son\n",
    "\n",
    "<img src=\"https://raw.githubusercontent.com/Digital-House-DATA/ds_blend_2021_img/master/M1/CLASE_06_Probabilidad/Presentacion/img/M1_CLASE_06_numpy_distribuciones.png\"/>\n",
    "\n",
    "\n"
   ]
  },
  {
   "cell_type": "markdown",
   "metadata": {
    "slideshow": {
     "slide_type": "slide"
    }
   },
   "source": [
    "Comencemos generando datos con distribución poisson de $\\lambda$ = 10"
   ]
  },
  {
   "cell_type": "code",
   "execution_count": 3,
   "metadata": {
    "slideshow": {
     "slide_type": "fragment"
    }
   },
   "outputs": [],
   "source": [
    "import numpy as np\n",
    "random_generator = np.random.default_rng()\n",
    "lambda_value = 10\n",
    "sample_size = 10000\n",
    "random_poisson_data_10 = random_generator.poisson(lam=lambda_value, size = sample_size)\n"
   ]
  },
  {
   "cell_type": "markdown",
   "metadata": {
    "slideshow": {
     "slide_type": "subslide"
    }
   },
   "source": [
    "Y grafiquemos estos datos generados usando la función <code>distribution_plotter</code>"
   ]
  },
  {
   "cell_type": "code",
   "execution_count": 4,
   "metadata": {
    "slideshow": {
     "slide_type": "fragment"
    }
   },
   "outputs": [
    {
     "data": {
      "image/png": "[encoded data removed]",
      "text/plain": [
       "<Figure size 504x360 with 1 Axes>"
      ]
     },
     "metadata": {},
     "output_type": "display_data"
    }
   ],
   "source": [
    "import seaborn as sns\n",
    "\n",
    "def distribution_plotter(data, label, bins='auto'):    \n",
    "    sns.set(rc={\"figure.figsize\": (7, 5)})\n",
    "    sns.set_style(\"white\")    \n",
    "    dist = sns.histplot(data, bins= bins, stat = 'density', kde = False, line_kws={'linewidth':5}, thresh = None)    \n",
    "    dist.set_title('Distribucion ' + label + '\\n', fontsize=16)\n",
    "    \n",
    "distribution_plotter(random_poisson_data_10, \"Poisson\")"
   ]
  },
  {
   "cell_type": "markdown",
   "metadata": {
    "slideshow": {
     "slide_type": "subslide"
    }
   },
   "source": [
    "Observemos qué pasa a medida que aumenta el valor de $\\lambda$"
   ]
  },
  {
   "cell_type": "code",
   "execution_count": 5,
   "metadata": {
    "slideshow": {
     "slide_type": "fragment"
    }
   },
   "outputs": [
    {
     "data": {
      "image/png": "[encoded data removed]",
      "text/plain": [
       "<Figure size 504x360 with 1 Axes>"
      ]
     },
     "metadata": {},
     "output_type": "display_data"
    }
   ],
   "source": [
    "lambda_value = 100\n",
    "random_poisson_data_100 = random_generator.poisson(lam=lambda_value, size = sample_size)\n",
    "distribution_plotter(random_poisson_data_100, \"Poisson\")"
   ]
  },
  {
   "cell_type": "code",
   "execution_count": 6,
   "metadata": {
    "slideshow": {
     "slide_type": "subslide"
    }
   },
   "outputs": [
    {
     "data": {
      "image/png": "[encoded data removed]",
      "text/plain": [
       "<Figure size 504x360 with 1 Axes>"
      ]
     },
     "metadata": {},
     "output_type": "display_data"
    }
   ],
   "source": [
    "lambda_value = 1000\n",
    "random_poisson_data_1000 = random_generator.poisson(lam=lambda_value, size = sample_size)\n",
    "distribution_plotter(random_poisson_data_1000, \"Poisson\")"
   ]
  },
  {
   "cell_type": "code",
   "execution_count": 7,
   "metadata": {
    "slideshow": {
     "slide_type": "subslide"
    }
   },
   "outputs": [
    {
     "data": {
      "image/png": "[encoded data removed]",
      "text/plain": [
       "<Figure size 504x360 with 1 Axes>"
      ]
     },
     "metadata": {},
     "output_type": "display_data"
    }
   ],
   "source": [
    "lambda_value = 10000\n",
    "random_poisson_data_10000 = random_generator.poisson(lam=lambda_value, size = sample_size)\n",
    "distribution_plotter(random_poisson_data_10000, \"Poisson\")"
   ]
  },
  {
   "cell_type": "markdown",
   "metadata": {
    "slideshow": {
     "slide_type": "subslide"
    }
   },
   "source": [
    "**¿A qué otra distribución se aproximan los datos generados con una poisson a medida que aumenta el valor de $\\lambda$?**"
   ]
  },
  {
   "cell_type": "markdown",
   "metadata": {
    "slideshow": {
     "slide_type": "slide"
    }
   },
   "source": [
    "<div class=\"div-dhds-fondo-1\"> Hands-on\n",
    "<img src=\"https://raw.githubusercontent.com/Digital-House-DATA/ds_blend_2021_img/master/M1/CLASE_06_Probabilidad/Presentacion/img/M1_CLASE_06_separador.png\" align=\"center\"></img>    \n",
    "</div>"
   ]
  },
  {
   "cell_type": "markdown",
   "metadata": {
    "slideshow": {
     "slide_type": "slide"
    }
   },
   "source": [
    "### Ejercicio 1\n",
    "\n",
    "Sabiendo que la cantidad de colectivos que pasan por una parada determinada en 10 minutos sigue una distribución poisson con $\\lambda$ = 3, queremos simular el tiempo que pasa entre la llegada de dos colectivos. \n",
    "\n",
    "¿Qué distribución tienen estos datos? \n",
    "\n",
    "¿Qué parámetros tiene esa distribución? \n",
    "\n",
    "¿Cuáles son los valores de esos parámetros?\n",
    "\n",
    "\n",
    "### Ejercicio 2\n",
    "\n",
    "Usando un generador de números aleatorios de NumPy, generar 10000 datos que sigan la distribución resultado del Ejercicio 1\n",
    "\n",
    "\n",
    "### Ejercicio 3\n",
    "\n",
    "Usando la función <code>distribution_plotter</code> que figura en esta presentación, graficar los datos generados en el Ejercicio 2\n",
    "\n"
   ]
  },
  {
   "cell_type": "markdown",
   "metadata": {
    "slideshow": {
     "slide_type": "slide"
    }
   },
   "source": [
    "### Solución\n",
    "\n",
    "Si el tiempo entre eventos sigue una distribución exponencial de parámetro $\\lambda$, entonces el número total de eventos en un período de tiempo t sigue una distribución Poisson con parámetro $\\lambda{t}$\n"
   ]
  },
  {
   "cell_type": "code",
   "execution_count": 8,
   "metadata": {
    "slideshow": {
     "slide_type": "slide"
    }
   },
   "outputs": [
    {
     "data": {
      "image/png": "[encoded data removed]",
      "text/plain": [
       "<Figure size 504x360 with 1 Axes>"
      ]
     },
     "metadata": {},
     "output_type": "display_data"
    }
   ],
   "source": [
    "import numpy as np\n",
    "\n",
    "lambda_poisson = 3\n",
    "# lamda_exponencial * 10 = lambda_poisson, entonces\n",
    "lamda_exponencial = 0.3\n",
    "\n",
    "sample_size = 100000\n",
    "\n",
    "random_generator = np.random.default_rng()\n",
    "data_poisson = random_generator.poisson(lam=lambda_poisson, size = sample_size)\n",
    "distribution_plotter(data_poisson, \"Poisson\")"
   ]
  },
  {
   "cell_type": "markdown",
   "metadata": {
    "slideshow": {
     "slide_type": "slide"
    }
   },
   "source": [
    "Observemos que el argumento de este método es $\\beta$ en lugar de $\\lambda$, y veamos cómo se relacionan estos valores\n",
    "\n",
    "https://numpy.org/doc/stable/reference/random/generated/numpy.random.Generator.exponential.html#numpy.random.Generator.exponential"
   ]
  },
  {
   "cell_type": "code",
   "execution_count": 9,
   "metadata": {
    "slideshow": {
     "slide_type": "fragment"
    }
   },
   "outputs": [
    {
     "data": {
      "image/png": "[encoded data removed]",
      "text/plain": [
       "<Figure size 504x360 with 1 Axes>"
      ]
     },
     "metadata": {},
     "output_type": "display_data"
    }
   ],
   "source": [
    "beta_exponencial = 1/lamda_exponencial\n",
    "data_exponencial = random_generator.exponential(scale = beta_exponencial, size = sample_size)\n",
    "distribution_plotter(data_exponencial, \"Exponencial\")"
   ]
  },
  {
   "cell_type": "markdown",
   "metadata": {
    "slideshow": {
     "slide_type": "slide"
    }
   },
   "source": [
    "<div class=\"div-dhds-fondo-1\"> Material Adicional\n",
    "<img src=\"https://raw.githubusercontent.com/Digital-House-DATA/ds_blend_2021_img/master/M1/CLASE_06_Probabilidad/Presentacion/img/M1_CLASE_06_separador.png\" align=\"center\"></img>    \n",
    "</div>"
   ]
  },
  {
   "cell_type": "markdown",
   "metadata": {
    "slideshow": {
     "slide_type": "slide"
    }
   },
   "source": [
    "### Material Adicional\n",
    "\n",
    "---\n",
    "\n",
    "<a href=\"https://seeing-theory.brown.edu/basic-probability/es.html\">Seeing Theory</a>\n",
    "\n",
    "<a href=\"https://numpy.org/doc/stable/reference/random/index.html\">Random Sampling</a>\n",
    "    "
   ]
  }
 ],
 "metadata": {
  "kernelspec": {
   "display_name": "Python 3",
   "language": "python",
   "name": "python3"
  },
  "language_info": {
   "codemirror_mode": {
    "name": "ipython",
    "version": 3
   },
   "file_extension": ".py",
   "mimetype": "text/x-python",
   "name": "python",
   "nbconvert_exporter": "python",
   "pygments_lexer": "ipython3",
   "version": "3.8.5"
  }
 },
 "nbformat": 4,
 "nbformat_minor": 4
}
