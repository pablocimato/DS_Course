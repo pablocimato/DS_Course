{
 "cells": [
  {
   "cell_type": "code",
   "execution_count": 1,
   "metadata": {
    "slideshow": {
     "slide_type": "skip"
    }
   },
   "outputs": [
    {
     "name": "stdout",
     "output_type": "stream",
     "text": [
      "/media/paulati/Nuevo vol/paula/dh/2021/dsad_2021/common\n",
      "default checking\n",
      "Running command `conda list`... ok\n",
      "jupyterlab=2.2.6 already installed\n",
      "pandas=1.1.5 already installed\n",
      "bokeh=2.2.3 already installed\n",
      "seaborn=0.11.0 already installed\n",
      "matplotlib=3.3.2 already installed\n",
      "ipywidgets=7.5.1 already installed\n",
      "pytest=6.2.1 already installed\n",
      "chardet=4.0.0 already installed\n",
      "psutil=5.7.2 already installed\n",
      "scipy=1.5.2 already installed\n",
      "statsmodels=0.12.1 already installed\n",
      "scikit-learn=0.23.2 already installed\n",
      "xlrd=2.0.1 already installed\n",
      "Running command `conda install --yes nltk=3.5.0`... ok\n",
      "Collecting package metadata (current_repodata.json): ...working... done\n",
      "Solving environment: ...working... done\n",
      "\n",
      "# All requested packages already installed.\n",
      "\n",
      "\n",
      "unidecode=1.1.1 already installed\n",
      "pydotplus=2.0.2 already installed\n",
      "pandas-datareader=0.9.0 already installed\n",
      "flask=1.1.2 already installed\n"
     ]
    }
   ],
   "source": [
    "# initial setup\n",
    "%run \"../../../common/0_notebooks_base_setup.py\"\n"
   ]
  },
  {
   "cell_type": "markdown",
   "metadata": {
    "slideshow": {
     "slide_type": "slide"
    }
   },
   "source": [
    "<link rel=\"stylesheet\" href=\"../../../common/dhds.css\">\n",
    "<div class=\"Table\">\n",
    "    <div class=\"Row\">\n",
    "        <div class=\"Cell grey left\"> <img src=\"https://raw.githubusercontent.com/Digital-House-DATA/ds_blend_2021_img/master/M1/CLASE_03_Numpy/Presentacion/img/M1_CLASE_03_portada.png\" align=\"center\" /></div>\n",
    "        <div class=\"Cell right\">\n",
    "            <div class=\"div-logo\"><img src=\"https://raw.githubusercontent.com/Digital-House-DATA/ds_blend_2021_img/master/common/logo_DH.png\" align=\"center\" width=70% /></div>\n",
    "            <div class=\"div-curso\">DATA SCIENCE</div>\n",
    "            <div class=\"div-modulo\">MÓDULO 1</div>\n",
    "            <div class=\"div-contenido\">Numpy</div>\n",
    "        </div>\n",
    "    </div>\n",
    "</div>"
   ]
  },
  {
   "cell_type": "markdown",
   "metadata": {
    "slideshow": {
     "slide_type": "slide"
    }
   },
   "source": [
    "### Objetivos de la clase\n",
    "\n",
    "- Manipulación de datos con Arrays de NumPy\n",
    "\n",
    "- Vectorización de operaciones y optimización\n",
    "\n",
    "- Acceso eficiente a los datos"
   ]
  },
  {
   "cell_type": "markdown",
   "metadata": {
    "slideshow": {
     "slide_type": "slide"
    }
   },
   "source": [
    "<div class=\"div-dhds-fondo-1\"> NumPy\n",
    "<img src=\"https://raw.githubusercontent.com/Digital-House-DATA/ds_blend_2021_img/master/M1/CLASE_03_Numpy/Presentacion/img/M1_CLASE_03_separador.png\" align=\"center\"></img>    \n",
    "</div>\n"
   ]
  },
  {
   "cell_type": "markdown",
   "metadata": {
    "slideshow": {
     "slide_type": "slide"
    }
   },
   "source": [
    "### ¿Qué es NumPy? \n",
    "\n",
    "---\n",
    "\n",
    "<img src=\"https://raw.githubusercontent.com/Digital-House-DATA/ds_blend_2021_img/master/M1/CLASE_03_Numpy/Presentacion/img/M1_CLASE_03_logo_numpy.png\" align=\"center\" width=15% />\n",
    "\n",
    "\n",
    "NumPy es el paquete fundamental para la computación científica con Python. \n",
    "\n",
    "Contiene, entre otras cosas:\n",
    "\n",
    "* Un poderoso elemento: los arrays de N-dimensiones (ND arrays)\n",
    "\n",
    "* Funciones para realizar cálculos y operaciones matemáticas con arrays de forma muy eficiente (vectorización)\n",
    "\n",
    "* Operaciones de álgebra lineal, generación de números aleatorios, entre otras funcionalidades de computación científica \n",
    "\n",
    "Esto permite que NumPy se integre de manera rápida y sin problemas con una amplia variedad de bases de datos.\n"
   ]
  },
  {
   "cell_type": "markdown",
   "metadata": {
    "slideshow": {
     "slide_type": "slide"
    }
   },
   "source": [
    "### ¿Por qué utilizar arrays?\n",
    "\n",
    "---\n",
    "\n",
    "Un array es una **colección de items de datos**, llamados elementos, asociados a un único nombre de variable. \n",
    "\n",
    "Diseñados para:\n",
    "\n",
    "* Facilitar la programación y proveer **buena performance**\n",
    "\n",
    "* Almacenar y manipular **grandes colecciones de datos**\n",
    "\n",
    "* Simplificar la tarea de nombrar y referenciar items individuales en una colección de datos\n",
    "\n",
    "* Permitir la manipulación de una colección entera de datos con una simple sentencia\n"
   ]
  },
  {
   "cell_type": "markdown",
   "metadata": {
    "slideshow": {
     "slide_type": "slide"
    }
   },
   "source": [
    "### ¿Qué es un array?\n",
    "\n",
    "---\n",
    "\n",
    "Un **array** es una estructura de datos que permite agrupar varios valores bajo un único nombre. \n",
    "\n",
    "**Los elementos de un array son todos del mismo tipo** (a diferencia de las listas de Python).\n",
    "\n",
    "<div class=\"Table\">\n",
    "    <div class=\"Row Clase03\">\n",
    "        <div class=\"Cell\"><img src=\"https://raw.githubusercontent.com/Digital-House-DATA/ds_blend_2021_img/master/M1/CLASE_03_Numpy/Presentacion/img/M1_CLASE_03_numpy_ndim.jpg\" align=\"center\" width=90% /></div>\n",
    "        <div class=\"Cell Clase03 right\">\n",
    "            <ul>\n",
    "                <li class =\"li Clase03\">Un vector es un arreglo unidimensional</li>                \n",
    "                <li class =\"li Clase03\">Una tabla o matriz es un arreglo bidimensional</li>                \n",
    "                <li class =\"li Clase03\">Por último un arreglo puede tener N dimensiones</li>\n",
    "             <ul>\n",
    "        </div>\n",
    "    </div>\n",
    "</div>"
   ]
  },
  {
   "cell_type": "markdown",
   "metadata": {
    "slideshow": {
     "slide_type": "slide"
    }
   },
   "source": [
    "### Creación\n",
    "\n",
    "---\n",
    "\n",
    "La forma más sencilla de construir un array es usando el constructor con un único parámetro:\n",
    "\n",
    "`numpy.array(object)`\n",
    "\n",
    "donde object es una colección de elementos\n"
   ]
  },
  {
   "cell_type": "code",
   "execution_count": 2,
   "metadata": {
    "slideshow": {
     "slide_type": "fragment"
    }
   },
   "outputs": [
    {
     "name": "stdout",
     "output_type": "stream",
     "text": [
      "[1 4 2 5 3]\n"
     ]
    }
   ],
   "source": [
    "import numpy as np\n",
    "\n",
    "# Lista de python\n",
    "python_list = [1, 4, 2, 5, 3]\n",
    "\n",
    "# Arreglo (array) de enteros instanciado a partir de una lista:\n",
    "my_numpy_array = np.array(python_list)\n",
    "\n",
    "# Imprimo el numpy array creado\n",
    "print(my_numpy_array)"
   ]
  },
  {
   "cell_type": "markdown",
   "metadata": {
    "slideshow": {
     "slide_type": "slide"
    }
   },
   "source": [
    "### Acceso\n",
    "\n",
    "---\n",
    "\n",
    "Los arreglos se indexan desde 0 hasta len(a) - 1\n",
    "\n",
    "<code>a[0]</code> devuelve el valor de la primera posición del arreglo\n",
    "\n",
    "<code>a[len(a)-1]</code> devuelve el valor de la última posición del arreglo\n"
   ]
  },
  {
   "cell_type": "code",
   "execution_count": 3,
   "metadata": {},
   "outputs": [
    {
     "data": {
      "text/plain": [
       "array([1, 4, 2, 5, 3])"
      ]
     },
     "execution_count": 3,
     "metadata": {},
     "output_type": "execute_result"
    }
   ],
   "source": [
    "my_numpy_array"
   ]
  },
  {
   "cell_type": "code",
   "execution_count": 4,
   "metadata": {
    "slideshow": {
     "slide_type": "fragment"
    }
   },
   "outputs": [
    {
     "data": {
      "text/plain": [
       "1"
      ]
     },
     "execution_count": 4,
     "metadata": {},
     "output_type": "execute_result"
    }
   ],
   "source": [
    "# primer elemento\n",
    "my_numpy_array[0]"
   ]
  },
  {
   "cell_type": "code",
   "execution_count": 5,
   "metadata": {
    "slideshow": {
     "slide_type": "fragment"
    }
   },
   "outputs": [
    {
     "data": {
      "text/plain": [
       "5"
      ]
     },
     "execution_count": 5,
     "metadata": {},
     "output_type": "execute_result"
    }
   ],
   "source": [
    "# cuarto elemento\n",
    "my_numpy_array[3]"
   ]
  },
  {
   "cell_type": "code",
   "execution_count": 6,
   "metadata": {
    "slideshow": {
     "slide_type": "fragment"
    }
   },
   "outputs": [
    {
     "data": {
      "text/plain": [
       "3"
      ]
     },
     "execution_count": 6,
     "metadata": {},
     "output_type": "execute_result"
    }
   ],
   "source": [
    "# último elemento\n",
    "my_numpy_array[len(my_numpy_array)-1]"
   ]
  },
  {
   "cell_type": "markdown",
   "metadata": {
    "slideshow": {
     "slide_type": "slide"
    }
   },
   "source": [
    "### Selección de elementos: indexing & slicing\n",
    "\n",
    "---\n",
    "\n",
    "<img src=\"https://raw.githubusercontent.com/Digital-House-DATA/ds_blend_2021_img/master/M1/CLASE_03_Numpy/Presentacion/img/M1_CLASE_03_numpy_indexing.jpg\" align=\"center\" width=40% />"
   ]
  },
  {
   "cell_type": "markdown",
   "metadata": {
    "slideshow": {
     "slide_type": "slide"
    }
   },
   "source": [
    "### Tipos de indexing\n",
    "\n",
    "---\n",
    "\n",
    "Llamamos “indexing” al proceso de acceder a los elementos de un array con algún criterio. \n",
    "\n",
    "Existen tres tipos de indexing en Numpy:\n",
    "\n",
    "* **Slicing**: cuando accedemos a los elementos con los parámetros start,stop,step: <code>my_array[0:5:-1]</code>\n",
    "\n",
    "* **Fancy Indexing**: Cuando creamos una lista de índices y la usamos para acceder a ciertos elementos del array: <code>my_array[[3,5,7,8]]</code>\n",
    "\n",
    "* **Boolean Indexing**: Cuando creamos una “máscara booleana” (un array o lista de True y False) para acceder a ciertos elementos: <code>my_array[my_array > 4]</code>\n"
   ]
  },
  {
   "cell_type": "markdown",
   "metadata": {
    "slideshow": {
     "slide_type": "slide"
    }
   },
   "source": [
    "#### Tipos de indexing - Slicing\n",
    "---\n",
    "\n",
    "https://docs.scipy.org/doc/numpy/reference/generated/numpy.arange.html\n"
   ]
  },
  {
   "cell_type": "code",
   "execution_count": 7,
   "metadata": {
    "slideshow": {
     "slide_type": "fragment"
    }
   },
   "outputs": [
    {
     "data": {
      "text/plain": [
       "array([0, 1, 2, 3, 4, 5, 6, 7, 8, 9])"
      ]
     },
     "execution_count": 7,
     "metadata": {},
     "output_type": "execute_result"
    }
   ],
   "source": [
    "one_d_array = np.arange(10)\n",
    "one_d_array"
   ]
  },
  {
   "cell_type": "code",
   "execution_count": 8,
   "metadata": {
    "slideshow": {
     "slide_type": "fragment"
    }
   },
   "outputs": [
    {
     "data": {
      "text/plain": [
       "array([1, 3, 5, 7, 9])"
      ]
     },
     "execution_count": 8,
     "metadata": {},
     "output_type": "execute_result"
    }
   ],
   "source": [
    "# Start = 1:  empezamos por el segundo elemento\n",
    "# Stop: No está definido, entonces llegamos hasta el final.\n",
    "# Step: El paso o distancia entre los elementos es 2.\n",
    "one_d_array[1::2]  "
   ]
  },
  {
   "cell_type": "code",
   "execution_count": 9,
   "metadata": {
    "slideshow": {
     "slide_type": "fragment"
    }
   },
   "outputs": [
    {
     "data": {
      "text/plain": [
       "array([9, 8, 7, 6, 5, 4, 3, 2, 1, 0])"
      ]
     },
     "execution_count": 9,
     "metadata": {},
     "output_type": "execute_result"
    }
   ],
   "source": [
    "# Start: No está definido, entonces comenzamos desde el primero.\n",
    "# Stop: No está definido, entonces llegamos hasta el final.\n",
    "# Step = -1, para invertir el orden del array\n",
    "one_d_array[::-1]"
   ]
  },
  {
   "cell_type": "markdown",
   "metadata": {
    "slideshow": {
     "slide_type": "slide"
    }
   },
   "source": [
    "#### Tipos de indexing - Fancy Indexing\n",
    "---\n"
   ]
  },
  {
   "cell_type": "code",
   "execution_count": 10,
   "metadata": {
    "slideshow": {
     "slide_type": "fragment"
    }
   },
   "outputs": [
    {
     "data": {
      "text/plain": [
       "array([[1.67190734, 0.93429072, 6.7251717 , 3.91512176],\n",
       "       [0.12807806, 6.62692054, 5.76450967, 1.39303695],\n",
       "       [0.42202522, 3.04658696, 7.9725107 , 6.69451886]])"
      ]
     },
     "execution_count": 10,
     "metadata": {},
     "output_type": "execute_result"
    }
   ],
   "source": [
    "low = 0 #incluye el limite inferior\n",
    "high = 10 # no incluye el límite superior\n",
    "size = (3, 4) # 3 filas y 4 columnas\n",
    "random_generator_seed = np.random.default_rng()\n",
    "two_d_array = random_generator_seed.uniform(low, high, size)\n",
    "two_d_array"
   ]
  },
  {
   "cell_type": "code",
   "execution_count": 11,
   "metadata": {
    "slideshow": {
     "slide_type": "fragment"
    }
   },
   "outputs": [
    {
     "data": {
      "text/plain": [
       "array([[1.67190734, 0.93429072, 6.7251717 , 3.91512176],\n",
       "       [0.42202522, 3.04658696, 7.9725107 , 6.69451886],\n",
       "       [0.12807806, 6.62692054, 5.76450967, 1.39303695],\n",
       "       [1.67190734, 0.93429072, 6.7251717 , 3.91512176]])"
      ]
     },
     "execution_count": 11,
     "metadata": {},
     "output_type": "execute_result"
    }
   ],
   "source": [
    "# nos quedamos con todas las columnas y las filas 1, 3, 2 y repetimos la 1 (índices 0,2,1,0)\n",
    "lista_indices_filas = [0, 2, 1, 0]\n",
    "two_d_array[lista_indices_filas]"
   ]
  },
  {
   "cell_type": "code",
   "execution_count": 12,
   "metadata": {
    "slideshow": {
     "slide_type": "fragment"
    }
   },
   "outputs": [
    {
     "data": {
      "text/plain": [
       "array([[6.7251717 , 3.91512176, 0.93429072, 6.7251717 ],\n",
       "       [5.76450967, 1.39303695, 6.62692054, 5.76450967],\n",
       "       [7.9725107 , 6.69451886, 3.04658696, 7.9725107 ]])"
      ]
     },
     "execution_count": 12,
     "metadata": {},
     "output_type": "execute_result"
    }
   ],
   "source": [
    "# nos quedamos con todas las filas y las columnas 3, 4, 2, y reptimos la 3 (índices 2,3,1,2)\n",
    "lista_indices_columnas = [2, 3, 1, 2]\n",
    "two_d_array[:, lista_indices_columnas]"
   ]
  },
  {
   "cell_type": "markdown",
   "metadata": {
    "slideshow": {
     "slide_type": "slide"
    }
   },
   "source": [
    "#### Tipos de indexing - Boolean Indexing\n",
    "---\n"
   ]
  },
  {
   "cell_type": "code",
   "execution_count": 13,
   "metadata": {},
   "outputs": [
    {
     "data": {
      "text/plain": [
       "array([0, 1, 2, 3, 4, 5, 6, 7, 8, 9])"
      ]
     },
     "execution_count": 13,
     "metadata": {},
     "output_type": "execute_result"
    }
   ],
   "source": [
    "one_d_array"
   ]
  },
  {
   "cell_type": "code",
   "execution_count": 14,
   "metadata": {
    "slideshow": {
     "slide_type": "fragment"
    }
   },
   "outputs": [
    {
     "data": {
      "text/plain": [
       "array([ True, False,  True, False,  True, False,  True, False,  True,\n",
       "       False])"
      ]
     },
     "execution_count": 14,
     "metadata": {},
     "output_type": "execute_result"
    }
   ],
   "source": [
    "mask_pair_number = one_d_array % 2 == 0\n",
    "mask_pair_number"
   ]
  },
  {
   "cell_type": "code",
   "execution_count": 15,
   "metadata": {
    "slideshow": {
     "slide_type": "fragment"
    }
   },
   "outputs": [
    {
     "data": {
      "text/plain": [
       "array([0, 2, 4, 6, 8])"
      ]
     },
     "execution_count": 15,
     "metadata": {},
     "output_type": "execute_result"
    }
   ],
   "source": [
    "one_d_array[mask_pair_number]"
   ]
  },
  {
   "cell_type": "markdown",
   "metadata": {
    "slideshow": {
     "slide_type": "slide"
    }
   },
   "source": [
    "#### Tipos de indexing - Boolean Indexing (cont.)\n",
    "---\n"
   ]
  },
  {
   "cell_type": "code",
   "execution_count": 16,
   "metadata": {
    "slideshow": {
     "slide_type": "fragment"
    }
   },
   "outputs": [
    {
     "data": {
      "text/plain": [
       "array([[False, False,  True, False],\n",
       "       [False,  True,  True, False],\n",
       "       [False, False,  True,  True]])"
      ]
     },
     "execution_count": 16,
     "metadata": {},
     "output_type": "execute_result"
    }
   ],
   "source": [
    "mask_great_5 = two_d_array > 5\n",
    "mask_great_5"
   ]
  },
  {
   "cell_type": "code",
   "execution_count": 17,
   "metadata": {
    "slideshow": {
     "slide_type": "fragment"
    }
   },
   "outputs": [
    {
     "data": {
      "text/plain": [
       "array([[1.67190734, 0.93429072, 6.7251717 , 3.91512176],\n",
       "       [0.12807806, 6.62692054, 5.76450967, 1.39303695],\n",
       "       [0.42202522, 3.04658696, 7.9725107 , 6.69451886]])"
      ]
     },
     "execution_count": 17,
     "metadata": {},
     "output_type": "execute_result"
    }
   ],
   "source": [
    "two_d_array"
   ]
  },
  {
   "cell_type": "code",
   "execution_count": 18,
   "metadata": {
    "slideshow": {
     "slide_type": "fragment"
    }
   },
   "outputs": [
    {
     "data": {
      "text/plain": [
       "array([6.7251717 , 6.62692054, 5.76450967, 7.9725107 , 6.69451886])"
      ]
     },
     "execution_count": 18,
     "metadata": {},
     "output_type": "execute_result"
    }
   ],
   "source": [
    "two_d_array[mask_great_5]"
   ]
  },
  {
   "cell_type": "markdown",
   "metadata": {
    "slideshow": {
     "slide_type": "slide"
    }
   },
   "source": [
    "### Vectorización\n",
    "\n",
    "---\n",
    "\n",
    "Los Arrays de NumPy son estructuras mucho más eficientes para operar sobre los datos que las listas de Python. \n",
    "\n",
    "Esto en parte se debe a que en un NumPy Array el tipo de datos es fijo.\n",
    "\n",
    "<img src=\"https://raw.githubusercontent.com/Digital-House-DATA/ds_blend_2021_img/master/M1/CLASE_03_Numpy/Presentacion/img/M1_CLASE_03_numpyArray_vs_pythonList.png\" align=\"center\" width=80% />\n"
   ]
  },
  {
   "cell_type": "markdown",
   "metadata": {
    "slideshow": {
     "slide_type": "slide"
    }
   },
   "source": [
    "### Vectorización (cont.)\n",
    "\n",
    "---\n",
    "\n",
    "Las operaciones vectorizadas trabajan sobre los **datos como un bloque**.  \n",
    "\n",
    "Es necesario que los tipos sean **homogéneos** entre todos los elementos. \n",
    "\n",
    "En una operación vectorizada, no recorremos los elementos en orden. \n",
    "\n",
    "<img src=\"https://raw.githubusercontent.com/Digital-House-DATA/ds_blend_2021_img/master/M1/CLASE_03_Numpy/Presentacion/img/M1_CLASE_03_computacion_vectorial.jpg\" align=\"center\" width=80% />\n"
   ]
  },
  {
   "cell_type": "markdown",
   "metadata": {
    "slideshow": {
     "slide_type": "slide"
    }
   },
   "source": [
    "### Broadcasting\n",
    "\n",
    "---\n",
    "\n",
    "Numpy tiene un conjunto de reglas para aplicar operaciones miembro a miembro en Arrays de diferente tamaño. \n",
    "\n",
    "Se **proyectan** los valores de los arrays para poder operar sobre los mismos.\n",
    "\n",
    "<img src=\"https://raw.githubusercontent.com/Digital-House-DATA/ds_blend_2021_img/master/M1/CLASE_03_Numpy/Presentacion/img/M1_CLASE_03_broadcasting.jpg\" align=\"center\" width=70% />"
   ]
  },
  {
   "cell_type": "markdown",
   "metadata": {
    "slideshow": {
     "slide_type": "slide"
    }
   },
   "source": [
    "### Broadcasting (cont.)\n",
    "\n",
    "---\n",
    "\n",
    "El broadcasting en NumPy sigue un conjunto estricto de reglas para determinar la interacción entre las dos arrays:\n",
    "\n",
    "**Regla 1:**\n",
    "\n",
    "Si los dos arrays difieren en su número de dimensiones, la forma de la que tiene menos dimensiones se rellena con unos en su lado delantero (izquierdo).\n",
    "\n",
    "**Regla 2:**\n",
    "\n",
    "Si la forma de los dos arrays no coincide en alguna dimensión, el array  con forma igual a 1 en esa dimensión se estira para que coincida con la otra.\n",
    "\n",
    "**Regla 3:**\n",
    "\n",
    "Si en alguna dimensión los tamaños son diferentes y ninguno es igual a 1, se genera un error.\n",
    "\n"
   ]
  },
  {
   "cell_type": "markdown",
   "metadata": {
    "slideshow": {
     "slide_type": "slide"
    }
   },
   "source": [
    "<img src=\"https://raw.githubusercontent.com/Digital-House-DATA/ds_blend_2021_img/master/M1/CLASE_03_Numpy/Presentacion/img/M1_CLASE_03_broadcasting_linea1.png\" align=\"center\" width=60% />\n",
    "---"
   ]
  },
  {
   "cell_type": "code",
   "execution_count": 19,
   "metadata": {
    "slideshow": {
     "slide_type": "fragment"
    }
   },
   "outputs": [
    {
     "data": {
      "text/plain": [
       "array([5, 6, 7])"
      ]
     },
     "execution_count": 19,
     "metadata": {},
     "output_type": "execute_result"
    }
   ],
   "source": [
    "# linea 1 de la imagen:\n",
    "\n",
    "a = np.array([0, 1, 2])\n",
    "b = 5\n",
    "a + b"
   ]
  },
  {
   "cell_type": "markdown",
   "metadata": {
    "slideshow": {
     "slide_type": "slide"
    }
   },
   "source": [
    "<img src=\"https://raw.githubusercontent.com/Digital-House-DATA/ds_blend_2021_img/master/M1/CLASE_03_Numpy/Presentacion/img/M1_CLASE_03_broadcasting_linea2.png\" align=\"center\" width=60% />\n",
    "---"
   ]
  },
  {
   "cell_type": "code",
   "execution_count": 20,
   "metadata": {
    "slideshow": {
     "slide_type": "fragment"
    }
   },
   "outputs": [
    {
     "data": {
      "text/plain": [
       "array([[1., 2., 3.],\n",
       "       [1., 2., 3.],\n",
       "       [1., 2., 3.]])"
      ]
     },
     "execution_count": 20,
     "metadata": {},
     "output_type": "execute_result"
    }
   ],
   "source": [
    "# linea 2 de la imagen:\n",
    "a = np.ones((3, 3))\n",
    "b = np.array([0, 1, 2])\n",
    "a + b"
   ]
  },
  {
   "cell_type": "markdown",
   "metadata": {
    "slideshow": {
     "slide_type": "slide"
    }
   },
   "source": [
    "<img src=\"https://raw.githubusercontent.com/Digital-House-DATA/ds_blend_2021_img/master/M1/CLASE_03_Numpy/Presentacion/img/M1_CLASE_03_broadcasting_linea3.png\" align=\"center\" width=60% />\n",
    "---"
   ]
  },
  {
   "cell_type": "code",
   "execution_count": 21,
   "metadata": {
    "slideshow": {
     "slide_type": "fragment"
    }
   },
   "outputs": [
    {
     "name": "stdout",
     "output_type": "stream",
     "text": [
      "\n",
      "a.shape: (3, 1)\n",
      "a:\n",
      "[[0]\n",
      " [1]\n",
      " [2]]\n",
      "\n",
      "b.shape: (3,)\n",
      "b:\n",
      "[0 1 2]\n",
      "\n",
      "a+b:\n"
     ]
    },
    {
     "data": {
      "text/plain": [
       "array([[0, 1, 2],\n",
       "       [1, 2, 3],\n",
       "       [2, 3, 4]])"
      ]
     },
     "execution_count": 21,
     "metadata": {},
     "output_type": "execute_result"
    }
   ],
   "source": [
    "# linea 3 de la imagen:\n",
    "\n",
    "a = np.array([[0], [1], [2]])\n",
    "print('\\na.shape:', a.shape)\n",
    "print('a:')\n",
    "print(a)\n",
    "\n",
    "b = np.array([0, 1, 2])\n",
    "print('\\nb.shape:', b.shape)\n",
    "print('b:')\n",
    "print(b)\n",
    "\n",
    "print('\\na+b:')\n",
    "a+b\n"
   ]
  },
  {
   "cell_type": "markdown",
   "metadata": {
    "slideshow": {
     "slide_type": "slide"
    }
   },
   "source": [
    "<div class=\"div-dhds-fondo-1\"> Hands-on\n",
    "<img src=\"https://raw.githubusercontent.com/Digital-House-DATA/ds_blend_2021_img/master/M1/CLASE_03_Numpy/Presentacion/img/M1_CLASE_03_separador.png\" align=\"center\"></img>    \n",
    "</div>\n"
   ]
  },
  {
   "cell_type": "markdown",
   "metadata": {
    "slideshow": {
     "slide_type": "slide"
    }
   },
   "source": [
    "### Ejercicio 1\n",
    "\n",
    "Dada la instancia de NumPy array\n",
    "\n",
    "<code>data = np.array([[0, 1, 2, 3, 4], \n",
    "              [2, 3, 5, 6, 7], \n",
    "              [5, 6, 7, 8, 9], \n",
    "              [10, 11, 12, 13, 14], \n",
    "              [15, 16, 17, 18, 19], \n",
    "              [1, 2, 3, 4, 5]\n",
    "             ])</code>\n",
    "\n",
    "Obtener un array que tenga sólo las filas impares de 'data' usando:\n",
    "\n",
    "* Slicing: \n",
    "\n",
    "* Fancy indexing\n",
    "\n",
    "El resultado debe ser \n",
    "\n",
    "<code>np.array([[0, 1, 2, 3, 4], \n",
    "    [5, 6, 7, 8, 9], \n",
    "    [15, 16, 17, 18, 19]])</code>\n",
    "                         \n"
   ]
  },
  {
   "cell_type": "markdown",
   "metadata": {
    "slideshow": {
     "slide_type": "slide"
    }
   },
   "source": [
    "### Ejercicio 2\n",
    "\n",
    "Seleccionar los elementos de valor par de 'data' usando boolean indexing\n"
   ]
  },
  {
   "cell_type": "markdown",
   "metadata": {
    "slideshow": {
     "slide_type": "slide"
    }
   },
   "source": [
    "### Solución\n",
    "\n",
    "---"
   ]
  },
  {
   "cell_type": "code",
   "execution_count": 22,
   "metadata": {
    "slideshow": {
     "slide_type": "subslide"
    }
   },
   "outputs": [
    {
     "data": {
      "text/plain": [
       "array([[ 0,  1,  2,  3,  4],\n",
       "       [ 2,  3,  5,  6,  7],\n",
       "       [ 5,  6,  7,  8,  9],\n",
       "       [10, 11, 12, 13, 14],\n",
       "       [15, 16, 17, 18, 19],\n",
       "       [ 1,  2,  3,  4,  5]])"
      ]
     },
     "execution_count": 22,
     "metadata": {},
     "output_type": "execute_result"
    }
   ],
   "source": [
    "import numpy as np\n",
    "data = np.array([[0, 1, 2, 3, 4], \n",
    "              [2, 3, 5, 6, 7], \n",
    "              [5, 6, 7, 8, 9], \n",
    "              [10, 11, 12, 13, 14], \n",
    "              [15, 16, 17, 18, 19], \n",
    "              [1, 2, 3, 4, 5]\n",
    "             ])\n",
    "data"
   ]
  },
  {
   "cell_type": "code",
   "execution_count": 23,
   "metadata": {
    "slideshow": {
     "slide_type": "subslide"
    }
   },
   "outputs": [
    {
     "data": {
      "text/plain": [
       "array([[ 0,  1,  2,  3,  4],\n",
       "       [ 5,  6,  7,  8,  9],\n",
       "       [15, 16, 17, 18, 19]])"
      ]
     },
     "execution_count": 23,
     "metadata": {},
     "output_type": "execute_result"
    }
   ],
   "source": [
    "# Slicing\n",
    "\n",
    "start = 0\n",
    "stop = data.shape[1]\n",
    "step = 2\n",
    "data[start:stop:step, :]\n"
   ]
  },
  {
   "cell_type": "code",
   "execution_count": 24,
   "metadata": {
    "slideshow": {
     "slide_type": "subslide"
    }
   },
   "outputs": [
    {
     "data": {
      "text/plain": [
       "array([[ 0,  1,  2,  3,  4],\n",
       "       [ 5,  6,  7,  8,  9],\n",
       "       [15, 16, 17, 18, 19]])"
      ]
     },
     "execution_count": 24,
     "metadata": {},
     "output_type": "execute_result"
    }
   ],
   "source": [
    "# Fancy indexing\n",
    "\n",
    "lista_indices = [i for i in range(data.shape[1]) if i%2 == 0]\n",
    "data[lista_indices, :]\n"
   ]
  },
  {
   "cell_type": "code",
   "execution_count": 25,
   "metadata": {
    "slideshow": {
     "slide_type": "subslide"
    }
   },
   "outputs": [
    {
     "data": {
      "text/plain": [
       "array([ 0,  2,  4,  2,  6,  6,  8, 10, 12, 14, 16, 18,  2,  4])"
      ]
     },
     "execution_count": 25,
     "metadata": {},
     "output_type": "execute_result"
    }
   ],
   "source": [
    "# Boolean indexing\n",
    "\n",
    "mask = data % 2 == 0\n",
    "data[mask]"
   ]
  },
  {
   "cell_type": "markdown",
   "metadata": {
    "slideshow": {
     "slide_type": "slide"
    }
   },
   "source": [
    "<div class=\"div-dhds-fondo-1\"> Referencias\n",
    "<img src=\"https://raw.githubusercontent.com/Digital-House-DATA/ds_blend_2021_img/master/M1/CLASE_03_Numpy/Presentacion/img/M1_CLASE_03_separador.png\" align=\"center\"></img>    \n",
    "</div>\n"
   ]
  },
  {
   "cell_type": "markdown",
   "metadata": {
    "slideshow": {
     "slide_type": "slide"
    }
   },
   "source": [
    "### Referencias\n",
    "\n",
    "---\n",
    "\n",
    "<a href=\"https://numpy.org/\" target=\"_blank\">NumPy</a>\n",
    "\n",
    "<a href=\"https://numpy.org/doc/stable/\" target=\"_blank\">Documentación</a>\n",
    "\n",
    "<a href=\"https://numpy.org/learn/\" target=\"_blank\">Recursos para aprender NumPy</a>\n",
    "\n"
   ]
  }
 ],
 "metadata": {
  "kernelspec": {
   "display_name": "Python 3",
   "language": "python",
   "name": "python3"
  },
  "language_info": {
   "codemirror_mode": {
    "name": "ipython",
    "version": 3
   },
   "file_extension": ".py",
   "mimetype": "text/x-python",
   "name": "python",
   "nbconvert_exporter": "python",
   "pygments_lexer": "ipython3",
   "version": "3.8.5"
  }
 },
 "nbformat": 4,
 "nbformat_minor": 4
}
