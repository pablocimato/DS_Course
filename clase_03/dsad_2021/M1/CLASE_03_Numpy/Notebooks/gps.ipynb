{
 "cells": [
  {
   "cell_type": "code",
   "execution_count": 1,
   "metadata": {},
   "outputs": [
    {
     "data": {
      "text/plain": [
       "array([['10107', '2871', '2', '2003', 'Motorcycles', 'USA'],\n",
       "       ['10121', '2765.9', '5', '2003', 'Motorcycles', 'France'],\n",
       "       ['10134', '3884.34', '7', '2003', 'Motorcycles', 'France'],\n",
       "       ...,\n",
       "       ['10386', '5417.57', '3', '2005', 'Ships', 'Spain'],\n",
       "       ['10397', '2116.16', '3', '2005', 'Ships', 'France'],\n",
       "       ['10414', '3079.44', '5', '2005', 'Ships', 'USA']], dtype='<U16')"
      ]
     },
     "execution_count": 1,
     "metadata": {},
     "output_type": "execute_result"
    }
   ],
   "source": [
    "import numpy as np\n",
    "\n",
    "# local:\n",
    "data_location = '../Data/sales_data_sample_excercise.csv'\n",
    "\n",
    "data = np.genfromtxt(data_location, skip_header=1, delimiter='\\t', dtype= str)\n",
    "data"
   ]
  },
  {
   "cell_type": "code",
   "execution_count": 30,
   "metadata": {},
   "outputs": [
    {
     "name": "stdout",
     "output_type": "stream",
     "text": [
      "[{'2003', 1860.7718844747073}, {'2004', 1837.8438485766644}, {'2005', 2241.7723043613423}]\n"
     ]
    }
   ],
   "source": [
    "country_vector = data[:,5]\n",
    "mask = country_vector == \"France\"\n",
    "vector_france = data[mask]\n",
    "years_unique = np.unique(vector_france[:, 3])\n",
    "years_unique\n",
    "desvios = []\n",
    "for year in years_unique:\n",
    "    mask = vector_france[:, 3] == year\n",
    "    vector_france_year = vector_france[mask]\n",
    "    # print(f\"{year} {vector_france_year}\")\n",
    "    desvio = np.std(vector_france_year[:, 1].astype(np.float))\n",
    "    desvios.append({year, desvio})\n",
    "\n",
    "print(desvios)"
   ]
  }
 ],
 "metadata": {
  "kernelspec": {
   "display_name": "dhdsblend2021",
   "language": "python",
   "name": "python3"
  },
  "language_info": {
   "codemirror_mode": {
    "name": "ipython",
    "version": 3
   },
   "file_extension": ".py",
   "mimetype": "text/x-python",
   "name": "python",
   "nbconvert_exporter": "python",
   "pygments_lexer": "ipython3",
   "version": "3.8.16"
  },
  "orig_nbformat": 4,
  "vscode": {
   "interpreter": {
    "hash": "de22a6b93463c192227e418448a2028fa3d1082ec71dbf04efd1cbc3553d81af"
   }
  }
 },
 "nbformat": 4,
 "nbformat_minor": 2
}
