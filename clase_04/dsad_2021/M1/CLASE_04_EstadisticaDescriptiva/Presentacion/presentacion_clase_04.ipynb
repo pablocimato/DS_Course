{
 "cells": [
  {
   "cell_type": "code",
   "execution_count": 100,
   "metadata": {
    "slideshow": {
     "slide_type": "skip"
    }
   },
   "outputs": [
    {
     "name": "stdout",
     "output_type": "stream",
     "text": [
      "/media/paulati/Nuevo vol/paula/dh/2021/dsad_2021_paula/common\n",
      "default checking\n",
      "Running command `conda list`... ok\n",
      "jupyterlab=2.2.6 already installed\n",
      "pandas=1.1.5 already installed\n",
      "bokeh=2.2.3 already installed\n",
      "seaborn=0.11.0 already installed\n",
      "matplotlib=3.3.2 already installed\n",
      "ipywidgets=7.5.1 already installed\n",
      "pytest=6.2.1 already installed\n",
      "chardet=4.0.0 already installed\n",
      "psutil=5.7.2 already installed\n",
      "scipy=1.5.2 already installed\n",
      "statsmodels=0.12.1 already installed\n",
      "scikit-learn=0.23.2 already installed\n",
      "xlrd=2.0.1 already installed\n",
      "Running command `conda install --yes nltk=3.5.0`... ok\n",
      "Collecting package metadata (current_repodata.json): ...working... done\n",
      "Solving environment: ...working... done\n",
      "\n",
      "# All requested packages already installed.\n",
      "\n",
      "\n",
      "unidecode=1.1.1 already installed\n",
      "pydotplus=2.0.2 already installed\n",
      "pandas-datareader=0.9.0 already installed\n",
      "flask=1.1.2 already installed\n"
     ]
    }
   ],
   "source": [
    "# initial setup\n",
    "%run \"../../../common/0_notebooks_base_setup.py\"\n"
   ]
  },
  {
   "cell_type": "markdown",
   "metadata": {
    "slideshow": {
     "slide_type": "slide"
    }
   },
   "source": [
    "<link rel=\"stylesheet\" href=\"../../../common/dhds.css\">\n",
    "<div class=\"Table\">\n",
    "    <div class=\"Row\">\n",
    "        <div class=\"Cell grey left\"> <img src=\"https://raw.githubusercontent.com/Digital-House-DATA/ds_blend_2021_img/master/M1/CLASE_04_EstadisticaDescriptiva/img/M1_CLASE_04_portada.png\" align=\"center\" /></div>\n",
    "        <div class=\"Cell right\">\n",
    "            <div class=\"div-logo\"><img src=\"https://raw.githubusercontent.com/Digital-House-DATA/ds_blend_2021_img/master/common/logo_DH.png\" align=\"center\" width=70% /></div>\n",
    "            <div class=\"div-curso\">DATA SCIENCE</div>\n",
    "            <div class=\"div-modulo\">MÓDULO 1</div>\n",
    "            <div class=\"div-contenido\">Estadística Descriptiva</div>\n",
    "        </div>\n",
    "    </div>\n",
    "</div>"
   ]
  },
  {
   "cell_type": "markdown",
   "metadata": {
    "slideshow": {
     "slide_type": "slide"
    }
   },
   "source": [
    "### Objetivos de la Clase\n",
    "\n",
    "---\n",
    "\n",
    "- Repasar las medidas de tendencia central (media, mediana y moda)\n",
    "\n",
    "- Repasar cómo la media, mediana y moda son afectadas por la asimetría\n",
    "\n",
    "- Estudiar las medidas de correlación y covarianza. \n"
   ]
  },
  {
   "cell_type": "markdown",
   "metadata": {
    "slideshow": {
     "slide_type": "slide"
    }
   },
   "source": [
    "<div class=\"div-dhds-fondo-1\"> Introducción\n",
    "<img src=\"https://raw.githubusercontent.com/Digital-House-DATA/ds_blend_2021_img/master/M1/CLASE_04_EstadisticaDescriptiva/img/M1_CLASE_04_separador.png\" align=\"center\"></img>    \n",
    "</div>\n"
   ]
  },
  {
   "cell_type": "markdown",
   "metadata": {
    "slideshow": {
     "slide_type": "slide"
    }
   },
   "source": [
    "### Introducción: Revisión de Estadística\n",
    "\n",
    "---\n",
    "\n",
    "Estadística descriptiva: describir, sumarizar y comprender los datos.\n",
    "\n",
    "Medidas de Tendencia Central: proveer información descriptiva sobre el valor numérico que es considerado el más usual para una variable cuantitativa:\n",
    "* Media\n",
    "* Mediana\n",
    "* Moda\n",
    "\n",
    "Asimetría en la distribución de datos: efecto en la media, mediana y moda.\n",
    "\n",
    "Medidas de Variabilidad:\n",
    "\n",
    "* Rango\n",
    "* Varianza    \n",
    "* Desvío Estándar    \n",
    "* Coeficiente de Variación\n"
   ]
  },
  {
   "cell_type": "markdown",
   "metadata": {
    "slideshow": {
     "slide_type": "slide"
    }
   },
   "source": [
    "<div class=\"div-dhds-fondo-1\"> Medidas de Tendencia Central\n",
    "<img src=\"https://raw.githubusercontent.com/Digital-House-DATA/ds_blend_2021_img/master/M1/CLASE_04_EstadisticaDescriptiva/img/M1_CLASE_04_separador.png\" align=\"center\"></img>    \n",
    "</div>\n"
   ]
  },
  {
   "cell_type": "markdown",
   "metadata": {
    "slideshow": {
     "slide_type": "slide"
    }
   },
   "source": [
    "### Media\n",
    "\n",
    "----\n",
    "\n",
    "Dados los n números ${\\{x_{1},x_{2},\\ldots ,x_{n}\\}}$ la media aritmética se define como: \n",
    "\n",
    "\\begin{equation}\n",
    "    \\bar {x} = {\\frac {1}{n}} \\sum _{i=1}^{n}x_{i} ={\\frac {x_{1}+x_{2}+\\cdots +x_{n}}{n}}\n",
    "\\end{equation}\n",
    "\n",
    "\n",
    "Por ejemplo, para la muestra 8, 5 y -1, su media es:\n",
    "\n",
    "\\begin{equation}\n",
    "    \\bar {x} ={\\frac {8+5+(-1)}{3} = 4}\n",
    "\\end{equation}\n",
    "\n"
   ]
  },
  {
   "cell_type": "code",
   "execution_count": 101,
   "metadata": {
    "slideshow": {
     "slide_type": "subslide"
    }
   },
   "outputs": [
    {
     "data": {
      "text/plain": [
       "4.0"
      ]
     },
     "execution_count": 101,
     "metadata": {},
     "output_type": "execute_result"
    }
   ],
   "source": [
    "import numpy as np\n",
    "xs = np.array([8, 5, -1])\n",
    "np.mean(xs)"
   ]
  },
  {
   "cell_type": "markdown",
   "metadata": {
    "slideshow": {
     "slide_type": "slide"
    }
   },
   "source": [
    "### Mediana\n",
    "\n",
    "---\n",
    "\n",
    "La mediana es el valor del \"medio\" de una lista  **ordenada** de datos (o el valor que separa la primera mitad y la segunda mitad de una distribución).\n",
    "\n",
    "Para una lista ordenada la mediana es calculada de diferente manera dependiendo de la cantidad de elementos de la misma:\n"
   ]
  },
  {
   "cell_type": "markdown",
   "metadata": {
    "slideshow": {
     "slide_type": "fragment"
    }
   },
   "source": [
    "**Impar**: \n",
    "\n",
    "[1, 2, 3, 5, <b style=\"color:red\">7</b>, 8, 9, 10, 15]\n",
    "\n",
    "9 elementos\n",
    "\n",
    "La mediana es el valor de la posición 5 (la posición del “medio”)\n",
    "\n",
    "Mediana =  7"
   ]
  },
  {
   "cell_type": "markdown",
   "metadata": {
    "slideshow": {
     "slide_type": "fragment"
    }
   },
   "source": [
    "**Par**: \n",
    "\n",
    "[-5, -1, 0, <b style=\"color:red\">1</b>, <b style=\"color:red\">2</b>, 3, 8, 20]\n",
    "\n",
    "8 elementos\n",
    "\n",
    "La mediana es la **media de los valores en las dos posiciones centrales**\n",
    "\n",
    "Mediana =  (1+2)/2 = 1.5"
   ]
  },
  {
   "cell_type": "code",
   "execution_count": 102,
   "metadata": {
    "slideshow": {
     "slide_type": "subslide"
    }
   },
   "outputs": [
    {
     "data": {
      "text/plain": [
       "5.0"
      ]
     },
     "execution_count": 102,
     "metadata": {},
     "output_type": "execute_result"
    }
   ],
   "source": [
    "import numpy as np\n",
    "xs = np.array([8, 5, -1])\n",
    "np.median(xs)"
   ]
  },
  {
   "cell_type": "markdown",
   "metadata": {
    "slideshow": {
     "slide_type": "slide"
    }
   },
   "source": [
    "### Moda\n",
    "\n",
    "---\n",
    "\n",
    "La moda es el **valor que aparece con mayor frecuencia** o más veces en la distribución. \n",
    "\n",
    "Por ejemplo, la moda de [0,1,1,2,2,2,2,3,3,4,4,4,5] es 2.\n",
    "\n",
    "La moda no es necesariamente única. Puede ocurrir que haya dos valores diferentes que sean los más frecuentes. \n",
    "\n",
    "Por ejemplo, para [10, 13, 13, 20, 20], tanto 13 como 20 son la moda.\n"
   ]
  },
  {
   "cell_type": "markdown",
   "metadata": {
    "slideshow": {
     "slide_type": "slide"
    }
   },
   "source": [
    "<div class=\"div-dhds-fondo-1\"> Asimetría\n",
    "<img src=\"https://raw.githubusercontent.com/Digital-House-DATA/ds_blend_2021_img/master/M1/CLASE_04_EstadisticaDescriptiva/img/M1_CLASE_04_separador.png\" align=\"center\"></img>    \n",
    "</div>\n"
   ]
  },
  {
   "cell_type": "markdown",
   "metadata": {
    "slideshow": {
     "slide_type": "slide"
    }
   },
   "source": [
    "### Asimetría\n",
    "\n",
    "---\n",
    "\n",
    "\n",
    "<img src=\"https://raw.githubusercontent.com/Digital-House-DATA/ds_blend_2021_img/master/M1/CLASE_04_EstadisticaDescriptiva/img/M1_CLASE_04_asimetria.png\" align=\"center\" width=70% />\n",
    "\n",
    "* Una distribución con asimetría a izquierda, significa que la cola de la izquierda es más larga que la de la derecha (gráfico de la izquierda).\n",
    "\n",
    "* Una distribución simétrica no presenta este fenómeno dado que sus colas son de igual longitud (gráfico del centro).\n",
    "\n",
    "* Una distribución con asimetría a derecha significa que la cola del lado derecho es más larga que la del lado izquierdo (gráfico de la derecha)\n"
   ]
  },
  {
   "cell_type": "markdown",
   "metadata": {
    "slideshow": {
     "slide_type": "slide"
    }
   },
   "source": [
    "### Asimetría y las medidas de Tendencia Central\n",
    "\n",
    "---\n",
    "\n",
    "La media, mediana y moda son afectadas por la asimetría\n",
    "\n",
    "\n",
    "<table>\n",
    "    <tr>\n",
    "    <td><img src=\"https://raw.githubusercontent.com/Digital-House-DATA/ds_blend_2021_img/master/M1/CLASE_04_EstadisticaDescriptiva/img/M1_CLASE_04_asimetria_izquierda.png\" align=\"center\" /></td>    \n",
    "    <td><img src=\"https://raw.githubusercontent.com/Digital-House-DATA/ds_blend_2021_img/master/M1/CLASE_04_EstadisticaDescriptiva/img/M1_CLASE_04_asimetria_simetria.png\" align=\"center\" /></td>            \n",
    "    <td><img src=\"https://raw.githubusercontent.com/Digital-House-DATA/ds_blend_2021_img/master/M1/CLASE_04_EstadisticaDescriptiva/img/M1_CLASE_04_asimetria_derecha.png\" align=\"center\" /></td>            \n",
    "    </tr>\n",
    "    <tr>\n",
    "    <td align=\"center\"><h3 style=\"color:red\">Asimetría a izquierda</h3></td>    \n",
    "    <td align=\"center\"><h3 style=\"color:red\">Simetría</h3></td>            \n",
    "    <td align=\"center\"><h3 style=\"color:red\">Asimetría a derecha</h3></td>            \n",
    "    </tr>\n",
    "    <tr>\n",
    "    <td align=\"center\"><h3>Media < Mediana < Moda</h3></td>    \n",
    "    <td align=\"center\"><h3>Media = Mediana = Moda</h3></td>            \n",
    "    <td align=\"center\"><h3>Moda < Mediana < Media</h3></td>            \n",
    "    </tr>    \n",
    "</table>    "
   ]
  },
  {
   "cell_type": "markdown",
   "metadata": {
    "slideshow": {
     "slide_type": "slide"
    }
   },
   "source": [
    "<div class=\"div-dhds-fondo-1\"> Medidas de Dispersión\n",
    "<img src=\"https://raw.githubusercontent.com/Digital-House-DATA/ds_blend_2021_img/master/M1/CLASE_04_EstadisticaDescriptiva/img/M1_CLASE_04_separador.png\" align=\"center\"></img>    \n",
    "</div>\n"
   ]
  },
  {
   "cell_type": "markdown",
   "metadata": {
    "slideshow": {
     "slide_type": "slide"
    }
   },
   "source": [
    "### Medidas de Dispersión o Variabilidad\n",
    "\n",
    "---\n",
    "\n",
    "Las medidas de variabilidad indican cómo están esparcidos los datos. \n",
    "\n",
    "Vamos a presentar:\n",
    "\n",
    "* Rango\n",
    "\n",
    "* Varianza\n",
    "\n",
    "* Desvío estándar\n",
    "\n",
    "* Coeficiente de variación\n",
    "\n",
    "Estas medidas proveen información complementaria a las medidas de tendencia central (media, mediana y moda).\n"
   ]
  },
  {
   "cell_type": "markdown",
   "metadata": {
    "slideshow": {
     "slide_type": "slide"
    }
   },
   "source": [
    "### Rango y Rango Intercuartil\n",
    "\n",
    "---\n",
    "\n",
    "Sean ${ x_{1},x_{2},x_{3},\\ldots ,x_{n} }$ los datos de una muestra ordenada en orden creciente, el rango es $x_{n} - x_{1}$\n",
    "\n",
    "\n",
    "El rango intecuartil es la diferencia entre el tercer y el primer cuartil de la distribución. \n",
    "\n",
    "Acumula el 50% de la distribución y, a diferencia del rango, es un estadístico robusto, es decir que se ve poco afectado por valores extremos.\n",
    "\n"
   ]
  },
  {
   "cell_type": "code",
   "execution_count": 103,
   "metadata": {
    "slideshow": {
     "slide_type": "subslide"
    }
   },
   "outputs": [
    {
     "name": "stdout",
     "output_type": "stream",
     "text": [
      "9\n",
      "4.5\n"
     ]
    }
   ],
   "source": [
    "import numpy as np\n",
    "\n",
    "xs = np.array([8, 5, -1])\n",
    "\n",
    "rango = np.max(xs) - np.min(xs)\n",
    "\n",
    "print(rango)\n",
    "\n",
    "q3, q1 = np.percentile(xs, [75 ,25])\n",
    "\n",
    "rango_intercuartil = q3 - q1\n",
    "\n",
    "print(rango_intercuartil)\n"
   ]
  },
  {
   "cell_type": "markdown",
   "metadata": {
    "slideshow": {
     "slide_type": "slide"
    }
   },
   "source": [
    "### Varianza\n",
    "\n",
    "---\n",
    "\n",
    "La varianza es un valor numérico utilizado para describir cuánto varían los números de una distribución respecto a su media.\n",
    "\n",
    "Si tenemos un conjunto de valores de una variable, la varianza se calcula de la siguiente forma:\n",
    "\n",
    "\\begin{equation}\n",
    "\\sigma_{n}^{2} = \\frac{1}{n} \\sum _{i=1}^{n} (x_i - \\bar{x})^{2}\n",
    "\\end{equation}\n",
    "\n",
    "Siendo:\n",
    "\n",
    "$x_{i}$: cada dato\n",
    "\n",
    "$\\bar{x}$: media de los datos\n",
    "\n",
    "$n$: número de datos\n",
    "\n",
    "Esto es el promedio de **la diferencia elevada al cuadrado entre cada valor y la media**"
   ]
  },
  {
   "cell_type": "code",
   "execution_count": 104,
   "metadata": {
    "slideshow": {
     "slide_type": "subslide"
    }
   },
   "outputs": [
    {
     "data": {
      "text/plain": [
       "14.0"
      ]
     },
     "execution_count": 104,
     "metadata": {},
     "output_type": "execute_result"
    }
   ],
   "source": [
    "import numpy as np\n",
    "\n",
    "xs = np.array([8, 5, -1])\n",
    "\n",
    "np.var(xs)"
   ]
  },
  {
   "cell_type": "markdown",
   "metadata": {
    "slideshow": {
     "slide_type": "slide"
    }
   },
   "source": [
    "### Desvío Estándar\n",
    "\n",
    "---\n",
    "\n",
    "Es la raíz cuadrada de la varianza\n",
    "\n",
    "\\begin{equation}\n",
    "s_{n} = \\sqrt{\\frac{1}{n} \\sum _{i=1}^{n} (x_i - \\bar{x})^{2}}\n",
    "\\end{equation}\n",
    "\n",
    "El desvío estándar es la raíz cuadrada de la varianza\n",
    "\n",
    "El desvío es una medida de la dispersión de los datos\n",
    "\n",
    "**NO** es la desviación promedio con respecto de la media. Como los desvíos están elevados al cuadrado los desvíos muy grandes cuentan más que proporcionalmente.\n"
   ]
  },
  {
   "cell_type": "code",
   "execution_count": 105,
   "metadata": {
    "slideshow": {
     "slide_type": "subslide"
    }
   },
   "outputs": [
    {
     "data": {
      "text/plain": [
       "3.7416573867739413"
      ]
     },
     "execution_count": 105,
     "metadata": {},
     "output_type": "execute_result"
    }
   ],
   "source": [
    "import numpy as np\n",
    "\n",
    "xs = np.array([8, 5, -1])\n",
    "\n",
    "np.std(xs)"
   ]
  },
  {
   "cell_type": "code",
   "execution_count": 106,
   "metadata": {
    "slideshow": {
     "slide_type": "fragment"
    }
   },
   "outputs": [
    {
     "data": {
      "text/plain": [
       "True"
      ]
     },
     "execution_count": 106,
     "metadata": {},
     "output_type": "execute_result"
    }
   ],
   "source": [
    "np.var(xs) == np.std(xs)**2"
   ]
  },
  {
   "cell_type": "markdown",
   "metadata": {
    "slideshow": {
     "slide_type": "slide"
    }
   },
   "source": [
    "### Varianza y desvío Estándar\n",
    "\n",
    "---\n",
    "\n",
    "Una ventaja del desvío estándar es que **está expresada en las mismas unidades** que se usaron para medir los datos. \n",
    "\n",
    "(En cambio, la varianza tiene otras unidades ya que está elevada al cuadrado. )\n",
    "\n",
    "<img src=\"https://raw.githubusercontent.com/Digital-House-DATA/ds_blend_2021_img/master/M1/CLASE_06_Probabilidad/Presentacion/img/M1_CLASE_06_prob_normal.png\" width=\"600\"/>\n"
   ]
  },
  {
   "cell_type": "markdown",
   "metadata": {
    "slideshow": {
     "slide_type": "slide"
    }
   },
   "source": [
    "### Coeficiente de Variación\n",
    "\n",
    "---\n",
    "\n",
    "Es el desvío estándar dividido por la media\n",
    "\n",
    "\\begin{equation}\n",
    "CV = \\frac{s_{n}}{\\bar{x}} . 100 \n",
    "\\end{equation}\n",
    "\n",
    "El coeficiente de variación permite **comparar la dispersión de variables diferentes**. \n",
    "\n",
    "Sirve si las variables tienen medias distintas. \n",
    "\n",
    "También si las variables están expresadas en unidades distintas.  \n",
    "\n",
    "El coeficiente de variación **no tiene unidades**. \n"
   ]
  },
  {
   "cell_type": "markdown",
   "metadata": {
    "slideshow": {
     "slide_type": "slide"
    }
   },
   "source": [
    "<div class=\"div-dhds-fondo-1\"> Medidas de asociación entre variables\n",
    "<img src=\"https://raw.githubusercontent.com/Digital-House-DATA/ds_blend_2021_img/master/M1/CLASE_04_EstadisticaDescriptiva/img/M1_CLASE_04_separador.png\" align=\"center\"></img>    \n",
    "</div>\n"
   ]
  },
  {
   "cell_type": "markdown",
   "metadata": {
    "slideshow": {
     "slide_type": "slide"
    }
   },
   "source": [
    "### Medidas de asociación lineal entre variables\n",
    "\n",
    "* Covarianza\n",
    "\n",
    "* Correlación"
   ]
  },
  {
   "cell_type": "markdown",
   "metadata": {
    "slideshow": {
     "slide_type": "slide"
    }
   },
   "source": [
    "### Covarianza\n",
    "\n",
    "---\n",
    "\n",
    "Decimos que dos variables X e Y, tienen covarianza positiva cuando tienden a encontrarse por encima de su media al mismo tiempo y tienen covarianza negativa cuando al mismo tiempo, tienden a encontrarse una por debajo y otra por encima.\n",
    "\n",
    "En cambio X e Y tienen **covarianza cercana a cero** cuando las variables pueden encontrarse por encima o por debajo de su media **independientemente** de lo que haga la otra.\n",
    "\n",
    "**La covarianza mide la asociación lineal entre ambas variables**, es decir, qué tanto se asemeja la relación con una función lineal.\n",
    "\n",
    "<img src=\"https://raw.githubusercontent.com/Digital-House-DATA/ds_blend_2021_img/master/M1/CLASE_04_EstadisticaDescriptiva/img/M1_CLASE_04_covarianza_01.png\"/>\n",
    "\n",
    "\n",
    "\n"
   ]
  },
  {
   "cell_type": "markdown",
   "metadata": {
    "slideshow": {
     "slide_type": "slide"
    }
   },
   "source": [
    "### Matriz de Covarianzas\n",
    "\n",
    "---\n",
    "\n",
    "La covarianza se mide como\n",
    "\n",
    "\\begin{equation}\n",
    "cov_{XY} = \\frac{1}{n} \\sum_{i=1}^{n} {(x_i - \\bar{x})(y_i - \\bar{y})}\n",
    "\\end{equation}\n",
    "\n",
    "\n",
    "La covarianza de un conjunto de datos con $p$ variables se puede representar con una matriz de $p$ x $p$ llamada **matriz de varianzas y covarianzas**:\n",
    "\n",
    "* En la diagonal se encuentra la varianza de cada acción\n",
    "\n",
    "* En el resto de la matriz se encuentran las covarianzas\n",
    "\n",
    "<img src=\"https://raw.githubusercontent.com/Digital-House-DATA/ds_blend_2021_img/master/M1/CLASE_04_EstadisticaDescriptiva/img/M1_CLASE_04_covarianza_02.png\"/>\n",
    "\n"
   ]
  },
  {
   "cell_type": "code",
   "execution_count": 107,
   "metadata": {
    "slideshow": {
     "slide_type": "subslide"
    }
   },
   "outputs": [
    {
     "name": "stdout",
     "output_type": "stream",
     "text": [
      "X: \n",
      "[[-2.1, -1, 4.3], [3, 1.1, 0.12]]\n",
      "-----\n",
      "Covarianzas: \n"
     ]
    },
    {
     "data": {
      "text/plain": [
       "array([[11.71      , -4.286     ],\n",
       "       [-4.286     ,  2.14413333]])"
      ]
     },
     "execution_count": 107,
     "metadata": {},
     "output_type": "execute_result"
    }
   ],
   "source": [
    "import numpy as np \n",
    "\n",
    "x = [-2.1, -1,  4.3]\n",
    "\n",
    "y = [3,  1.1,  0.12]\n",
    "\n",
    "X = [x, y]\n",
    "\n",
    "print('X: ')\n",
    "print(X)\n",
    "\n",
    "print('-----')\n",
    "print('Covarianzas: ')\n",
    "np.cov(X)\n",
    "\n"
   ]
  },
  {
   "cell_type": "markdown",
   "metadata": {
    "slideshow": {
     "slide_type": "slide"
    }
   },
   "source": [
    "### Correlación\n",
    "\n",
    "---\n",
    "\n",
    "La correlación es una **versión estandarizada** (dividida por los desvíos estándar) de la covarianza\n",
    "\n",
    "\\begin{equation}\n",
    "r_{XY} = \\frac{1}{n} \\sum_{i=1}^{n} {\\frac{(x_i - \\bar{x})}{s_x}\\frac{(y_i - \\bar{y})}{s_y}}\n",
    "\\end{equation}\n",
    "\n",
    "\n",
    "* La correlación está acotada entre 1 y -1.\n",
    "\n",
    "* Siempre que la covarianza es positiva, la correlación es positiva y viceversa.\n",
    "\n",
    "* La correlación no tiene unidades físicas, y la covarianza sí. \n",
    "\n",
    "<img src=\"https://raw.githubusercontent.com/Digital-House-DATA/ds_blend_2021_img/master/M1/CLASE_04_EstadisticaDescriptiva/img/M1_CLASE_04_correlacion.png\" width=\"300px\" align=\"center\" />\n",
    "\n",
    "\n"
   ]
  },
  {
   "cell_type": "code",
   "execution_count": 108,
   "metadata": {
    "slideshow": {
     "slide_type": "subslide"
    }
   },
   "outputs": [
    {
     "name": "stdout",
     "output_type": "stream",
     "text": [
      "X: \n",
      "[[-2.1, -1, 4.3], [3, 1.1, 0.12]]\n",
      "-----\n",
      "Correlación: \n"
     ]
    },
    {
     "data": {
      "text/plain": [
       "array([[ 1.        , -0.85535781],\n",
       "       [-0.85535781,  1.        ]])"
      ]
     },
     "execution_count": 108,
     "metadata": {},
     "output_type": "execute_result"
    }
   ],
   "source": [
    "import numpy as np \n",
    "\n",
    "x = [-2.1, -1,  4.3]\n",
    "\n",
    "y = [3,  1.1,  0.12]\n",
    "\n",
    "X = [x, y]\n",
    "\n",
    "print('X: ')\n",
    "print(X)\n",
    "\n",
    "print('-----')\n",
    "print('Correlación: ')\n",
    "np.corrcoef(X)\n",
    "\n"
   ]
  },
  {
   "cell_type": "markdown",
   "metadata": {
    "slideshow": {
     "slide_type": "slide"
    }
   },
   "source": [
    "<div class=\"div-dhds-fondo-1\"> Hands-on\n",
    "<img src=\"https://raw.githubusercontent.com/Digital-House-DATA/ds_blend_2021_img/master/M1/CLASE_04_EstadisticaDescriptiva/img/M1_CLASE_04_separador.png\" align=\"center\"></img>    \n",
    "</div>"
   ]
  },
  {
   "cell_type": "markdown",
   "metadata": {
    "slideshow": {
     "slide_type": "slide"
    }
   },
   "source": [
    "### Ejercicio 1\n",
    "\n",
    "Leer en un NumPy array los datos del archivo sales_data_sample_excercise.csv que encuentran en la carpeta Data de esta clase.\n",
    "\n",
    "Este archivo tiene algunos datos numéricos y otros de tipo cadena de caracteres. \n",
    "\n",
    "Las columnas son:\n",
    "\n",
    "* ORDERNUMBER: int, id de la orden\n",
    "\n",
    "* SALES: float, monto abonado\n",
    "\n",
    "* MONTH_ID: int, mes\n",
    "\n",
    "* YEAR_ID: int, año\n",
    "\n",
    "* PRODUCTLINE: str, producto\n",
    "\n",
    "* COUNTRY: str, país de venta\n"
   ]
  },
  {
   "cell_type": "markdown",
   "metadata": {
    "slideshow": {
     "slide_type": "subslide"
    }
   },
   "source": [
    "### Ejercicio 2\n",
    "\n",
    "Calcular la media y mediana de la columna SALES. ¿Qué podemos decir sobre la simetría en la distribución de estos valores?\n"
   ]
  },
  {
   "cell_type": "markdown",
   "metadata": {
    "slideshow": {
     "slide_type": "subslide"
    }
   },
   "source": [
    "### Ejercicio 3\n",
    "\n",
    "Usando esta función \n",
    "\n",
    "<code>    \n",
    "import seaborn as sns\n",
    "\n",
    "def distribution_plotter(data, label):    \n",
    "    sns.set(rc={\"figure.figsize\": (7, 5)})\n",
    "    sns.set_style(\"white\")    \n",
    "    dist = sns.histplot(data, stat = 'count', kde = False, \n",
    "                        line_kws = {'linewidth':5}, \n",
    "                        binwidth = 500)    \n",
    "    dist.set_title('Distribucion ' + label + '\\n', fontsize = 16)\n",
    "</code>\n",
    "\n",
    "Graficar los valores de la columna SALES para USA y Japan por separado para el año 2004.\n",
    "\n",
    "¿Qué podemos decir sobre la distribución de ventas en esos dos países durante ese año?\n",
    "\n"
   ]
  },
  {
   "cell_type": "markdown",
   "metadata": {
    "slideshow": {
     "slide_type": "subslide"
    }
   },
   "source": [
    "### Ejercicio 4\n",
    "\n",
    "Teniendo en cuenta la distribución de datos en la columna SALES en USA y en Japan durante el 2004 ¿qué medidas de dispersión calcularía? ¿Por qué? \n",
    "\n",
    "Calcular las medidas elegidas. ¿Qué podemos decir sobre la dispersión en las ventas en esos dos países durante ese año?\n"
   ]
  },
  {
   "cell_type": "markdown",
   "metadata": {
    "slideshow": {
     "slide_type": "slide"
    }
   },
   "source": [
    "### Solucion\n",
    "---\n"
   ]
  },
  {
   "cell_type": "markdown",
   "metadata": {
    "slideshow": {
     "slide_type": "slide"
    }
   },
   "source": [
    "### Ejercicio 1"
   ]
  },
  {
   "cell_type": "code",
   "execution_count": 109,
   "metadata": {
    "slideshow": {
     "slide_type": "subslide"
    }
   },
   "outputs": [],
   "source": [
    "import numpy as np"
   ]
  },
  {
   "cell_type": "code",
   "execution_count": 110,
   "metadata": {
    "slideshow": {
     "slide_type": "fragment"
    }
   },
   "outputs": [
    {
     "data": {
      "text/plain": [
       "array([['10107', '2871', '2', '2003', 'Motorcycles', 'USA'],\n",
       "       ['10121', '2765.9', '5', '2003', 'Motorcycles', 'France'],\n",
       "       ['10134', '3884.34', '7', '2003', 'Motorcycles', 'France'],\n",
       "       ...,\n",
       "       ['10386', '5417.57', '3', '2005', 'Ships', 'Spain'],\n",
       "       ['10397', '2116.16', '3', '2005', 'Ships', 'France'],\n",
       "       ['10414', '3079.44', '5', '2005', 'Ships', 'USA']], dtype='<U16')"
      ]
     },
     "execution_count": 110,
     "metadata": {},
     "output_type": "execute_result"
    }
   ],
   "source": [
    "data_location = '../Data/sales_data_sample_excercise.csv'\n",
    "data = np.genfromtxt(data_location, skip_header=1, delimiter='\\t', dtype= str)\n",
    "data"
   ]
  },
  {
   "cell_type": "code",
   "execution_count": 111,
   "metadata": {
    "slideshow": {
     "slide_type": "subslide"
    }
   },
   "outputs": [
    {
     "data": {
      "text/plain": [
       "array(['2871', '2765.9', '3884.34', ..., '5417.57', '2116.16', '3079.44'],\n",
       "      dtype='<U16')"
      ]
     },
     "execution_count": 111,
     "metadata": {},
     "output_type": "execute_result"
    }
   ],
   "source": [
    "sales = data[:, 1]\n",
    "sales"
   ]
  },
  {
   "cell_type": "code",
   "execution_count": 112,
   "metadata": {
    "slideshow": {
     "slide_type": "fragment"
    }
   },
   "outputs": [
    {
     "data": {
      "text/plain": [
       "array([2871.  , 2765.9 , 3884.34, ..., 5417.57, 2116.16, 3079.44])"
      ]
     },
     "execution_count": 112,
     "metadata": {},
     "output_type": "execute_result"
    }
   ],
   "source": [
    "sales_numeric = sales.astype(np.float)\n",
    "sales_numeric"
   ]
  },
  {
   "cell_type": "markdown",
   "metadata": {
    "slideshow": {
     "slide_type": "slide"
    }
   },
   "source": [
    "### Ejercicio 2"
   ]
  },
  {
   "cell_type": "code",
   "execution_count": 113,
   "metadata": {
    "slideshow": {
     "slide_type": "subslide"
    }
   },
   "outputs": [
    {
     "data": {
      "text/plain": [
       "3553.889071909316"
      ]
     },
     "execution_count": 113,
     "metadata": {},
     "output_type": "execute_result"
    }
   ],
   "source": [
    "media = np.mean(sales_numeric)\n",
    "media"
   ]
  },
  {
   "cell_type": "code",
   "execution_count": 114,
   "metadata": {
    "slideshow": {
     "slide_type": "fragment"
    }
   },
   "outputs": [
    {
     "data": {
      "text/plain": [
       "3184.8"
      ]
     },
     "execution_count": 114,
     "metadata": {},
     "output_type": "execute_result"
    }
   ],
   "source": [
    "mediana = np.median(sales_numeric)\n",
    "mediana"
   ]
  },
  {
   "cell_type": "markdown",
   "metadata": {
    "slideshow": {
     "slide_type": "fragment"
    }
   },
   "source": [
    "La mediana es menor que la media, entonces la distribución es asimétrica a derecha"
   ]
  },
  {
   "cell_type": "markdown",
   "metadata": {
    "slideshow": {
     "slide_type": "slide"
    }
   },
   "source": [
    "### Ejercicio 3"
   ]
  },
  {
   "cell_type": "code",
   "execution_count": 115,
   "metadata": {
    "slideshow": {
     "slide_type": "subslide"
    }
   },
   "outputs": [],
   "source": [
    "import seaborn as sns\n",
    "\n",
    "def distribution_plotter(data, label):    \n",
    "    sns.set(rc={\"figure.figsize\": (7, 5)})\n",
    "    sns.set_style(\"white\")    \n",
    "    dist = sns.histplot(data, stat = 'count', kde = False, \n",
    "                        line_kws = {'linewidth':5}, \n",
    "                        binwidth = 500)    \n",
    "    dist.set_title('Distribucion ' + label + '\\n', fontsize = 16)\n",
    "    "
   ]
  },
  {
   "cell_type": "code",
   "execution_count": 116,
   "metadata": {
    "slideshow": {
     "slide_type": "subslide"
    }
   },
   "outputs": [
    {
     "data": {
      "text/plain": [
       "array(['2003', '2003', '2003', ..., '2005', '2005', '2005'], dtype='<U16')"
      ]
     },
     "execution_count": 116,
     "metadata": {},
     "output_type": "execute_result"
    }
   ],
   "source": [
    "data_anno = data[:, 3]\n",
    "data_anno"
   ]
  },
  {
   "cell_type": "code",
   "execution_count": 117,
   "metadata": {
    "slideshow": {
     "slide_type": "fragment"
    }
   },
   "outputs": [
    {
     "data": {
      "text/plain": [
       "array(['USA', 'France', 'France', ..., 'Spain', 'France', 'USA'],\n",
       "      dtype='<U16')"
      ]
     },
     "execution_count": 117,
     "metadata": {},
     "output_type": "execute_result"
    }
   ],
   "source": [
    "data_pais = data[:, 5]\n",
    "data_pais"
   ]
  },
  {
   "cell_type": "code",
   "execution_count": 118,
   "metadata": {
    "slideshow": {
     "slide_type": "subslide"
    }
   },
   "outputs": [],
   "source": [
    "mask_2004 = data_anno == '2004'\n",
    "mask_japan = data_pais == 'Japan'\n",
    "mask_usa = data_pais == 'USA'\n",
    "\n",
    "mask_2004_japan = np.logical_and(mask_2004, mask_japan)\n",
    "mask_2004_usa = np.logical_and(mask_2004, mask_usa)\n",
    "\n",
    "sales_2004_japan = sales[mask_2004_japan]\n",
    "sales_2004_japan_numeric = sales_2004_japan.astype(np.float)\n",
    "\n",
    "sales_2004_usa = sales[mask_2004_usa]\n",
    "sales_2004_usa_numeric = sales_2004_usa.astype(np.float)"
   ]
  },
  {
   "cell_type": "code",
   "execution_count": 119,
   "metadata": {
    "slideshow": {
     "slide_type": "subslide"
    }
   },
   "outputs": [
    {
     "data": {
      "text/plain": [
       "(42,)"
      ]
     },
     "execution_count": 119,
     "metadata": {},
     "output_type": "execute_result"
    }
   ],
   "source": [
    "sales_2004_japan_numeric.shape"
   ]
  },
  {
   "cell_type": "code",
   "execution_count": 120,
   "metadata": {
    "slideshow": {
     "slide_type": "fragment"
    }
   },
   "outputs": [
    {
     "data": {
      "text/plain": [
       "(474,)"
      ]
     },
     "execution_count": 120,
     "metadata": {},
     "output_type": "execute_result"
    }
   ],
   "source": [
    "sales_2004_usa_numeric.shape"
   ]
  },
  {
   "cell_type": "code",
   "execution_count": 121,
   "metadata": {
    "slideshow": {
     "slide_type": "subslide"
    }
   },
   "outputs": [
    {
     "data": {
      "image/png": "[encoded data removed]",
      "text/plain": [
       "<Figure size 504x360 with 1 Axes>"
      ]
     },
     "metadata": {},
     "output_type": "display_data"
    }
   ],
   "source": [
    "distribution_plotter(sales_2004_japan_numeric, 'Japan 2004')    "
   ]
  },
  {
   "cell_type": "code",
   "execution_count": 122,
   "metadata": {
    "slideshow": {
     "slide_type": "subslide"
    }
   },
   "outputs": [
    {
     "data": {
      "text/plain": [
       "3557.6778571428563"
      ]
     },
     "execution_count": 122,
     "metadata": {},
     "output_type": "execute_result"
    }
   ],
   "source": [
    "np.mean(sales_2004_japan_numeric)"
   ]
  },
  {
   "cell_type": "code",
   "execution_count": 123,
   "metadata": {
    "slideshow": {
     "slide_type": "fragment"
    }
   },
   "outputs": [
    {
     "data": {
      "text/plain": [
       "2865.505"
      ]
     },
     "execution_count": 123,
     "metadata": {},
     "output_type": "execute_result"
    }
   ],
   "source": [
    "np.median(sales_2004_japan_numeric)"
   ]
  },
  {
   "cell_type": "code",
   "execution_count": 124,
   "metadata": {
    "slideshow": {
     "slide_type": "subslide"
    }
   },
   "outputs": [
    {
     "data": {
      "image/png": "[encoded data removed]",
      "text/plain": [
       "<Figure size 504x360 with 1 Axes>"
      ]
     },
     "metadata": {},
     "output_type": "display_data"
    }
   ],
   "source": [
    "distribution_plotter(sales_2004_usa_numeric, 'USA 2004')"
   ]
  },
  {
   "cell_type": "code",
   "execution_count": 125,
   "metadata": {
    "slideshow": {
     "slide_type": "subslide"
    }
   },
   "outputs": [
    {
     "data": {
      "text/plain": [
       "3555.8453375527424"
      ]
     },
     "execution_count": 125,
     "metadata": {},
     "output_type": "execute_result"
    }
   ],
   "source": [
    "np.mean(sales_2004_usa_numeric)"
   ]
  },
  {
   "cell_type": "code",
   "execution_count": 126,
   "metadata": {
    "slideshow": {
     "slide_type": "fragment"
    }
   },
   "outputs": [
    {
     "data": {
      "text/plain": [
       "3182.25"
      ]
     },
     "execution_count": 126,
     "metadata": {},
     "output_type": "execute_result"
    }
   ],
   "source": [
    "np.median(sales_2004_usa_numeric)"
   ]
  },
  {
   "cell_type": "markdown",
   "metadata": {
    "slideshow": {
     "slide_type": "slide"
    }
   },
   "source": [
    "### Ejercicio 4\n"
   ]
  },
  {
   "cell_type": "markdown",
   "metadata": {
    "slideshow": {
     "slide_type": "subslide"
    }
   },
   "source": [
    "Podemos usar el desvío estándar o la distancia intercuartil para comprarar la dispersión en las ventas de USA y Japan durante el 2004"
   ]
  },
  {
   "cell_type": "code",
   "execution_count": 127,
   "metadata": {
    "slideshow": {
     "slide_type": "fragment"
    }
   },
   "outputs": [
    {
     "data": {
      "text/plain": [
       "(3555.8453375527424, 1792.1729633074253)"
      ]
     },
     "execution_count": 127,
     "metadata": {},
     "output_type": "execute_result"
    }
   ],
   "source": [
    "std_usa = np.std(sales_2004_usa_numeric)\n",
    "mean_usa = np.mean(sales_2004_usa_numeric)\n",
    "mean_usa, std_usa"
   ]
  },
  {
   "cell_type": "code",
   "execution_count": 128,
   "metadata": {
    "slideshow": {
     "slide_type": "fragment"
    }
   },
   "outputs": [
    {
     "data": {
      "text/plain": [
       "2121.1949999999997"
      ]
     },
     "execution_count": 128,
     "metadata": {},
     "output_type": "execute_result"
    }
   ],
   "source": [
    "q75_usa, q25_usa = np.percentile(sales_2004_usa_numeric, [75 ,25])\n",
    "iqr_usa = q75_usa - q25_usa\n",
    "iqr_usa\n"
   ]
  },
  {
   "cell_type": "code",
   "execution_count": 129,
   "metadata": {
    "slideshow": {
     "slide_type": "subslide"
    }
   },
   "outputs": [
    {
     "data": {
      "text/plain": [
       "(3557.6778571428563, 1972.7224632333377)"
      ]
     },
     "execution_count": 129,
     "metadata": {},
     "output_type": "execute_result"
    }
   ],
   "source": [
    "std_japan = np.std(sales_2004_japan_numeric)\n",
    "mean_japan = np.mean(sales_2004_japan_numeric)\n",
    "mean_japan, std_japan"
   ]
  },
  {
   "cell_type": "code",
   "execution_count": 130,
   "metadata": {
    "slideshow": {
     "slide_type": "fragment"
    }
   },
   "outputs": [
    {
     "data": {
      "text/plain": [
       "1965.0299999999993"
      ]
     },
     "execution_count": 130,
     "metadata": {},
     "output_type": "execute_result"
    }
   ],
   "source": [
    "q75_japan, q25_japan = np.percentile(sales_2004_japan_numeric, [75 ,25])\n",
    "iqr_japan = q75_japan - q25_japan\n",
    "iqr_japan\n"
   ]
  },
  {
   "cell_type": "code",
   "execution_count": 131,
   "metadata": {
    "slideshow": {
     "slide_type": "subslide"
    }
   },
   "outputs": [
    {
     "data": {
      "text/plain": [
       "0.5040075687152529"
      ]
     },
     "execution_count": 131,
     "metadata": {},
     "output_type": "execute_result"
    }
   ],
   "source": [
    "cv_usa = std_usa / mean_usa\n",
    "cv_usa"
   ]
  },
  {
   "cell_type": "code",
   "execution_count": 132,
   "metadata": {
    "slideshow": {
     "slide_type": "fragment"
    }
   },
   "outputs": [
    {
     "data": {
      "text/plain": [
       "0.5544972148820737"
      ]
     },
     "execution_count": 132,
     "metadata": {},
     "output_type": "execute_result"
    }
   ],
   "source": [
    "cv_japan = std_japan / mean_japan \n",
    "cv_japan"
   ]
  },
  {
   "cell_type": "markdown",
   "metadata": {
    "slideshow": {
     "slide_type": "fragment"
    }
   },
   "source": [
    "Las tres medidas calculadas indican que la dispersión en los valores de ventas para Japan es mayor que para USA en el 2004.\n",
    "\n",
    "* La distancia intercuartil para Japan es mayor que para USA en el 2004, mostrando una mayor dispersión en los precios de venta.\n",
    "\n",
    "* Lo mismo sucede con el desvío estándar.\n",
    "\n",
    "* El coeficiente de variación también es mayor en Japan que en USA en el 2004."
   ]
  }
 ],
 "metadata": {
  "kernelspec": {
   "display_name": "Python 3",
   "language": "python",
   "name": "python3"
  },
  "language_info": {
   "codemirror_mode": {
    "name": "ipython",
    "version": 3
   },
   "file_extension": ".py",
   "mimetype": "text/x-python",
   "name": "python",
   "nbconvert_exporter": "python",
   "pygments_lexer": "ipython3",
   "version": "3.8.5"
  }
 },
 "nbformat": 4,
 "nbformat_minor": 4
}
