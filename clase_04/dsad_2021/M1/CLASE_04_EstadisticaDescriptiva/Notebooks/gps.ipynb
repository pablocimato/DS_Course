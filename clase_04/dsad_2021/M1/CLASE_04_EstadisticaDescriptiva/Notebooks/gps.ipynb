{
 "cells": [
  {
   "cell_type": "code",
   "execution_count": 7,
   "metadata": {},
   "outputs": [
    {
     "data": {
      "text/plain": [
       "array([[   0.   ,    6.   ,   10.   , ..., 1100.   , 1200.   , 1247.   ],\n",
       "       [  10.3  ,   18.46 ,   10.29 , ...,    3.51 ,    3.29 ,    3.18 ],\n",
       "       [  92.8  ,  111.8  ,   95.   , ...,    6.4  ,    7.3  ,    7.6  ],\n",
       "       [  33.03 ,   32.92 ,   32.951, ...,   34.44 ,   34.481,   34.5  ]])"
      ]
     },
     "execution_count": 7,
     "metadata": {},
     "output_type": "execute_result"
    }
   ],
   "source": [
    "import numpy as np\n",
    "\n",
    "# local:\n",
    "data_location = '../Data/bottle_reducido.csv'\n",
    "data_type_str = np.genfromtxt(data_location, skip_header=1, delimiter='\\t', dtype=\"str\")\n",
    "matriz = data_type_str[:, 2:].astype(np.float).T\n",
    "cov = np.cov(matriz)\n",
    "corr = np.corrcoef(matriz)"
   ]
  },
  {
   "attachments": {},
   "cell_type": "markdown",
   "metadata": {},
   "source": [
    "**Sta_ID**: cadena de caracteres, representa el id de la estación\n",
    "\n",
    "* **Depth_ID**: cadena de caracteres, representa el id de la medición\n",
    "\n",
    "* **Depthm**: numérico, representa la profundidad en metros \n",
    "\n",
    "* **T_degC**: numérico, representa la temperatura en grados centigrados\n",
    "\n",
    "* **O2Sat**: numérico, representa la saturación de oxígeno\n",
    "\n",
    "* **Salnty**: numérico, representa el nivel de salinidad"
   ]
  },
  {
   "cell_type": "code",
   "execution_count": null,
   "metadata": {},
   "outputs": [],
   "source": []
  }
 ],
 "metadata": {
  "kernelspec": {
   "display_name": "dhdsblend2021",
   "language": "python",
   "name": "python3"
  },
  "language_info": {
   "codemirror_mode": {
    "name": "ipython",
    "version": 3
   },
   "file_extension": ".py",
   "mimetype": "text/x-python",
   "name": "python",
   "nbconvert_exporter": "python",
   "pygments_lexer": "ipython3",
   "version": "3.8.16"
  },
  "orig_nbformat": 4,
  "vscode": {
   "interpreter": {
    "hash": "de22a6b93463c192227e418448a2028fa3d1082ec71dbf04efd1cbc3553d81af"
   }
  }
 },
 "nbformat": 4,
 "nbformat_minor": 2
}
